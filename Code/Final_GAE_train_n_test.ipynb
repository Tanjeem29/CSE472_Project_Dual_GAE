{
  "cells": [
    {
      "cell_type": "code",
      "execution_count": 1,
      "metadata": {},
      "outputs": [
        {
          "name": "stderr",
          "output_type": "stream",
          "text": [
            "c:\\Users\\Lenovo\\anaconda3\\envs\\thesis\\Lib\\site-packages\\torch_geometric\\typing.py:63: UserWarning: An issue occurred while importing 'torch-scatter'. Disabling its usage. Stacktrace: [WinError 127] The specified procedure could not be found\n",
            "  warnings.warn(f\"An issue occurred while importing 'torch-scatter'. \"\n",
            "c:\\Users\\Lenovo\\anaconda3\\envs\\thesis\\Lib\\site-packages\\torch_geometric\\typing.py:90: UserWarning: An issue occurred while importing 'torch-spline-conv'. Disabling its usage. Stacktrace: [WinError 127] The specified procedure could not be found\n",
            "  warnings.warn(\n",
            "c:\\Users\\Lenovo\\anaconda3\\envs\\thesis\\Lib\\site-packages\\torch_geometric\\typing.py:101: UserWarning: An issue occurred while importing 'torch-sparse'. Disabling its usage. Stacktrace: [WinError 127] The specified procedure could not be found\n",
            "  warnings.warn(f\"An issue occurred while importing 'torch-sparse'. \"\n"
          ]
        }
      ],
      "source": [
        "from typing import Callable, Optional\n",
        "import torch\n",
        "from torch import nn\n",
        "import torch.nn.functional as F\n",
        "from torch_geometric.data import DataLoader, Dataset\n",
        "from torch_geometric.nn import VGAE, GATConv, GCNConv, GAE\n",
        "from torch_geometric.utils import train_test_split_edges\n",
        "from typing import Any, List\n",
        "import os\n",
        "import os.path as osp\n",
        "from copy import copy\n",
        "from tqdm import tqdm\n",
        "import warnings\n",
        "warnings.filterwarnings(\"ignore\")\n",
        "import pickle\n",
        "\n",
        "#empty cuda cache\n",
        "torch.cuda.empty_cache()\n"
      ]
    },
    {
      "cell_type": "markdown",
      "metadata": {},
      "source": [
        "# Defining The baseline graph autoencoder"
      ]
    },
    {
      "cell_type": "code",
      "execution_count": 2,
      "metadata": {},
      "outputs": [],
      "source": [
        "class GraphEncoder(torch.nn.Module):\n",
        "    def __init__(self, input_dim, hidden_dim, encoding_dim):\n",
        "        super(GraphEncoder, self).__init__()\n",
        "        self.conv1 = GCNConv(input_dim, hidden_dim)\n",
        "        self.conv2 = GCNConv(hidden_dim, encoding_dim)\n",
        "\n",
        "    def forward(self, x, edge_index):\n",
        "        x = F.relu(self.conv1(x, edge_index))\n",
        "        x=F.dropout(x,p=0.2)\n",
        "        z = self.conv2(x, edge_index)\n",
        "        z=F.dropout(z,p=0.2)\n",
        "        return z\n",
        "\n",
        "# Define the graph decoder model\n",
        "class GraphDecoder(torch.nn.Module):\n",
        "    def __init__(self, encoding_dim, hidden_dim, output_dim):\n",
        "        super(GraphDecoder, self).__init__()\n",
        "        self.conv1 = GCNConv(encoding_dim, hidden_dim)\n",
        "        self.conv2 = GCNConv(hidden_dim, output_dim)\n",
        "\n",
        "    def forward(self, z, edge_index):\n",
        "        x = F.relu(self.conv1(z, edge_index))\n",
        "        x=F.dropout(x,p=0.2)\n",
        "        x = self.conv2(x, edge_index)\n",
        "        x=F.dropout(x,p=0.2)\n",
        "\n",
        "        return x"
      ]
    },
    {
      "cell_type": "markdown",
      "metadata": {},
      "source": [
        "# Importing the datasets \n",
        " --> All datas: In graph format"
      ]
    },
    {
      "cell_type": "code",
      "execution_count": 3,
      "metadata": {},
      "outputs": [
        {
          "name": "stdout",
          "output_type": "stream",
          "text": [
            "1900\n",
            "760\n",
            "606\n",
            "720\n",
            "1874\n",
            "892\n",
            "444\n",
            "2196\n",
            "676\n",
            "856\n",
            "2284\n",
            "1074\n"
          ]
        }
      ],
      "source": [
        "import glob\n",
        "\n",
        "files=glob.glob(\"./Seperated_dataset/*\")\n",
        "all_graphs=[]\n",
        "\n",
        "for dataset_folder in files:\n",
        "    graph_path=f\"{dataset_folder}/train_feature.pt\"\n",
        "    graphs=torch.load(graph_path)\n",
        "    print(len(graphs))\n",
        "    all_graphs+=graphs\n",
        "    \n",
        "    "
      ]
    },
    {
      "cell_type": "code",
      "execution_count": 8,
      "metadata": {},
      "outputs": [],
      "source": [
        "# all_graphs_labels=[]\n",
        "# files=glob.glob(\"./Seperated_dataset/*\")\n",
        "\n",
        "# for dataset_folder in files:\n",
        "#     graph_path=f\"{dataset_folder}/train_labels.pt\"\n",
        "#     graphs=torch.load(graph_path)\n",
        "#     print(len(graphs))\n",
        "#     all_graphs_labels+=graphs"
      ]
    },
    {
      "cell_type": "code",
      "execution_count": 68,
      "metadata": {},
      "outputs": [
        {
          "data": {
            "text/plain": [
              "Data(x=[51, 20], edge_index=[2, 52], edge_attr=[52, 19])"
            ]
          },
          "execution_count": 68,
          "metadata": {},
          "output_type": "execute_result"
        }
      ],
      "source": [
        "all_graphs[0]"
      ]
    },
    {
      "cell_type": "markdown",
      "metadata": {},
      "source": [
        "# Creation of Dual graph"
      ]
    },
    {
      "cell_type": "code",
      "execution_count": 9,
      "metadata": {},
      "outputs": [],
      "source": [
        "import torch\n",
        "from torch_geometric.data import Data\n",
        "\n",
        "def remove_bidirectional_duplicates(edge_index, edge_attr):\n",
        "    # Initialize containers for unique edges and their attributes\n",
        "    unique_edge_list = []\n",
        "    unique_edge_attr_list = []\n",
        "    \n",
        "    # Create a dictionary to track seen edges and their inverse\n",
        "    seen_edges = {}\n",
        "\n",
        "    for i, edge in enumerate(edge_index.t().tolist()):\n",
        "        edge_tuple = tuple(edge)\n",
        "        inverse_edge_tuple = tuple(edge[::-1])\n",
        "\n",
        "        # If the edge or its inverse hasn't been seen, add it to the unique lists\n",
        "        if edge_tuple not in seen_edges and inverse_edge_tuple not in seen_edges:\n",
        "            seen_edges[edge_tuple] = i  # Mark this edge as seen\n",
        "            unique_edge_list.append(edge)\n",
        "            unique_edge_attr_list.append(edge_attr[i])\n",
        "        elif inverse_edge_tuple in seen_edges:\n",
        "            # If the inverse edge was seen but this direction is needed (for genuinely bidirectional edges), keep it\n",
        "            # This part depends on whether we want to strictly remove inverse duplicates\n",
        "            # or allow one direction to be represented. Adjust according to our exact needs.\n",
        "            pass\n",
        "\n",
        "    # Convert the lists back to tensors\n",
        "    filtered_edge_index = torch.tensor(unique_edge_list).t().contiguous()\n",
        "    filtered_edge_attr = torch.stack(unique_edge_attr_list)\n",
        "\n",
        "    return filtered_edge_index, filtered_edge_attr\n",
        "\n",
        "def create_line_graph(data):\n",
        "    # Remove bidirectional duplicates while keeping the directed nature and adjusting edge attributes accordingly\n",
        "    edge_index_directed, edge_attr_directed = remove_bidirectional_duplicates(data.edge_index, data.edge_attr)\n",
        "    \n",
        "    # The rest of our line graph creation logic...\n",
        "    num_edges = edge_index_directed.size(1)\n",
        "    x_prime = edge_attr_directed  # Edge attributes of G become node features of G'\n",
        "\n",
        "    # add one extra node feature to x_prime\n",
        "    x_prime = torch.cat([x_prime, torch.randn((num_edges, 1))], dim=1)\n",
        "\n",
        "    \n",
        "\n",
        "    connections = []\n",
        "    for i in range(num_edges):\n",
        "        for j in range(i + 1, num_edges):\n",
        "            if len(set(edge_index_directed[:, i].tolist()) & set(edge_index_directed[:, j].tolist())) > 0:\n",
        "                connections.append([i, j])\n",
        "                connections.append([j, i])  # Assuming undirected connections in G'\n",
        "\n",
        "    edge_index_prime = torch.tensor(connections).t().contiguous()\n",
        "    \n",
        "    # Placeholder: Create edge attributes for G' (e.g., based on node features of G)\n",
        "    # edge_attr_prime = torch.randn((edge_index_prime.size(1), data.x.size(1)))  # Example feature transformation\n",
        "    \n",
        "    data_prime = Data(x=x_prime, edge_index=edge_index_prime)\n",
        "    \n",
        "    return data_prime\n",
        "\n",
        "\n"
      ]
    },
    {
      "cell_type": "code",
      "execution_count": 10,
      "metadata": {},
      "outputs": [
        {
          "name": "stderr",
          "output_type": "stream",
          "text": [
            "100%|██████████| 14282/14282 [00:24<00:00, 593.85it/s]\n"
          ]
        }
      ],
      "source": [
        "all_graph_final=[]\n",
        "all_dual_graphs=[]\n",
        "\n",
        "for graph in tqdm(all_graphs):\n",
        "\n",
        "    if(graph is None):\n",
        "        continue\n",
        "    if(graph.edge_index is None):\n",
        "        continue\n",
        "    if(graph.edge_index.shape[0]==0 or graph.edge_index.shape[1]==0):\n",
        "        continue\n",
        "\n",
        "    all_graph_final.append(graph)\n",
        "    dual_graph=create_line_graph(graph)\n",
        "\n",
        "    all_dual_graphs.append(dual_graph)"
      ]
    },
    {
      "cell_type": "code",
      "execution_count": 11,
      "metadata": {},
      "outputs": [
        {
          "data": {
            "text/plain": [
              "(98186, 98186)"
            ]
          },
          "execution_count": 11,
          "metadata": {},
          "output_type": "execute_result"
        }
      ],
      "source": [
        "len(all_graph_final),len(all_dual_graphs)"
      ]
    },
    {
      "cell_type": "code",
      "execution_count": 36,
      "metadata": {},
      "outputs": [
        {
          "data": {
            "text/plain": [
              "Data(x=[26, 20], edge_index=[2, 78])"
            ]
          },
          "execution_count": 36,
          "metadata": {},
          "output_type": "execute_result"
        }
      ],
      "source": [
        "all_dual_graphs[0]"
      ]
    },
    {
      "cell_type": "code",
      "execution_count": 37,
      "metadata": {},
      "outputs": [
        {
          "data": {
            "text/plain": [
              "Data(x=[51, 20], edge_index=[2, 52], edge_attr=[52, 19])"
            ]
          },
          "execution_count": 37,
          "metadata": {},
          "output_type": "execute_result"
        }
      ],
      "source": [
        "all_graph_final[0]"
      ]
    },
    {
      "cell_type": "code",
      "execution_count": 38,
      "metadata": {},
      "outputs": [
        {
          "data": {
            "application/vnd.jupyter.widget-view+json": {
              "model_id": "6276ece7fb8249d4bfc1b876e5cbef6f",
              "version_major": 2,
              "version_minor": 0
            },
            "text/plain": [
              "  0%|          | 0/98186 [00:00<?, ?it/s]"
            ]
          },
          "metadata": {},
          "output_type": "display_data"
        }
      ],
      "source": [
        "all_combined_graphs = []\n",
        "\n",
        "for graph, dual_graph in tqdm(zip(all_graph_final, all_dual_graphs), total=len(all_graph_final)):\n",
        "    # Concatenate the node features\n",
        "    combined_x = torch.cat([graph.x, dual_graph.x], dim=0)\n",
        "    \n",
        "    # Adjust the edge indices for the dual graph\n",
        "    num_nodes_graph = graph.x.size(0)  # Number of nodes in the original graph\n",
        "    adjusted_edge_index_dual = dual_graph.edge_index + num_nodes_graph\n",
        "    \n",
        "    # Concatenate the edge indices\n",
        "    combined_edge_index = torch.cat([graph.edge_index, adjusted_edge_index_dual], dim=1)\n",
        "    \n",
        "    # Assuming edge attributes are not being combined or do not exist; if they do, similar adjustments are needed\n",
        "    \n",
        "    # Create a new graph instance, here using Data from torch_geometric to represent the combined graph\n",
        "    combined_graph = Data(x=combined_x, edge_index=combined_edge_index)\n",
        "    \n",
        "    # If there are edge attributes or other graph components (e.g., edge_attr, y, etc.), ensure to handle them accordingly\n",
        "    \n",
        "    all_combined_graphs.append(combined_graph)\n"
      ]
    },
    {
      "cell_type": "code",
      "execution_count": 12,
      "metadata": {},
      "outputs": [],
      "source": [
        "all_combined_graphs=all_dual_graphs"
      ]
    },
    {
      "cell_type": "markdown",
      "metadata": {},
      "source": [
        "# Define model with dual loss"
      ]
    },
    {
      "cell_type": "markdown",
      "metadata": {},
      "source": []
    },
    {
      "cell_type": "code",
      "execution_count": 13,
      "metadata": {},
      "outputs": [
        {
          "name": "stdout",
          "output_type": "stream",
          "text": [
            "Epoch: 0\n"
          ]
        },
        {
          "data": {
            "application/vnd.jupyter.widget-view+json": {
              "model_id": "9f9e883a31234421871c975518f2e695",
              "version_major": 2,
              "version_minor": 0
            },
            "text/plain": [
              "  0%|          | 0/14249 [00:00<?, ?it/s]"
            ]
          },
          "metadata": {},
          "output_type": "display_data"
        },
        {
          "name": "stdout",
          "output_type": "stream",
          "text": [
            "Loss: 0.3494\n",
            "Epoch: 1\n"
          ]
        },
        {
          "data": {
            "application/vnd.jupyter.widget-view+json": {
              "model_id": "65306e87332f4d78a4a4c9ca54ebcbae",
              "version_major": 2,
              "version_minor": 0
            },
            "text/plain": [
              "  0%|          | 0/14249 [00:00<?, ?it/s]"
            ]
          },
          "metadata": {},
          "output_type": "display_data"
        },
        {
          "name": "stdout",
          "output_type": "stream",
          "text": [
            "Loss: 0.2779\n",
            "Epoch: 2\n"
          ]
        },
        {
          "data": {
            "application/vnd.jupyter.widget-view+json": {
              "model_id": "c3a1b3d184fe40729b1cbbca761ea1c5",
              "version_major": 2,
              "version_minor": 0
            },
            "text/plain": [
              "  0%|          | 0/14249 [00:00<?, ?it/s]"
            ]
          },
          "metadata": {},
          "output_type": "display_data"
        },
        {
          "name": "stdout",
          "output_type": "stream",
          "text": [
            "Loss: 0.2453\n",
            "Epoch: 3\n"
          ]
        },
        {
          "data": {
            "application/vnd.jupyter.widget-view+json": {
              "model_id": "7e69d64e730a4919a1f47bdab8a0cf7c",
              "version_major": 2,
              "version_minor": 0
            },
            "text/plain": [
              "  0%|          | 0/14249 [00:00<?, ?it/s]"
            ]
          },
          "metadata": {},
          "output_type": "display_data"
        },
        {
          "name": "stdout",
          "output_type": "stream",
          "text": [
            "Loss: 0.2247\n",
            "Epoch: 4\n"
          ]
        },
        {
          "data": {
            "application/vnd.jupyter.widget-view+json": {
              "model_id": "edfaf7749daf4606ba91667959147b7c",
              "version_major": 2,
              "version_minor": 0
            },
            "text/plain": [
              "  0%|          | 0/14249 [00:00<?, ?it/s]"
            ]
          },
          "metadata": {},
          "output_type": "display_data"
        },
        {
          "name": "stdout",
          "output_type": "stream",
          "text": [
            "Loss: 0.2119\n",
            "Epoch: 5\n"
          ]
        },
        {
          "data": {
            "application/vnd.jupyter.widget-view+json": {
              "model_id": "769610f768284a0a99750b10a28bdc4b",
              "version_major": 2,
              "version_minor": 0
            },
            "text/plain": [
              "  0%|          | 0/14249 [00:00<?, ?it/s]"
            ]
          },
          "metadata": {},
          "output_type": "display_data"
        },
        {
          "name": "stdout",
          "output_type": "stream",
          "text": [
            "Loss: 0.2061\n",
            "Epoch: 6\n"
          ]
        },
        {
          "data": {
            "application/vnd.jupyter.widget-view+json": {
              "model_id": "e3c9f90809fb47278c752c43e4e77cc0",
              "version_major": 2,
              "version_minor": 0
            },
            "text/plain": [
              "  0%|          | 0/14249 [00:00<?, ?it/s]"
            ]
          },
          "metadata": {},
          "output_type": "display_data"
        },
        {
          "name": "stdout",
          "output_type": "stream",
          "text": [
            "Loss: 0.1979\n",
            "Epoch: 7\n"
          ]
        },
        {
          "data": {
            "application/vnd.jupyter.widget-view+json": {
              "model_id": "ed5f2c2e4ad648c1a54f2fe1608d58f4",
              "version_major": 2,
              "version_minor": 0
            },
            "text/plain": [
              "  0%|          | 0/14249 [00:00<?, ?it/s]"
            ]
          },
          "metadata": {},
          "output_type": "display_data"
        },
        {
          "name": "stdout",
          "output_type": "stream",
          "text": [
            "Loss: 0.1894\n",
            "Epoch: 8\n"
          ]
        },
        {
          "data": {
            "application/vnd.jupyter.widget-view+json": {
              "model_id": "8d9ed7a8f844433d97c79dc0e76125b7",
              "version_major": 2,
              "version_minor": 0
            },
            "text/plain": [
              "  0%|          | 0/14249 [00:00<?, ?it/s]"
            ]
          },
          "metadata": {},
          "output_type": "display_data"
        },
        {
          "name": "stdout",
          "output_type": "stream",
          "text": [
            "Loss: 0.1834\n",
            "Epoch: 9\n"
          ]
        },
        {
          "data": {
            "application/vnd.jupyter.widget-view+json": {
              "model_id": "140b1aa5a3954a60a2146b5dfb081b0e",
              "version_major": 2,
              "version_minor": 0
            },
            "text/plain": [
              "  0%|          | 0/14249 [00:00<?, ?it/s]"
            ]
          },
          "metadata": {},
          "output_type": "display_data"
        },
        {
          "name": "stdout",
          "output_type": "stream",
          "text": [
            "Loss: 0.1795\n",
            "Epoch: 10\n"
          ]
        },
        {
          "data": {
            "application/vnd.jupyter.widget-view+json": {
              "model_id": "6a9a00c13a854901a0d99ead5b0b2284",
              "version_major": 2,
              "version_minor": 0
            },
            "text/plain": [
              "  0%|          | 0/14249 [00:00<?, ?it/s]"
            ]
          },
          "metadata": {},
          "output_type": "display_data"
        },
        {
          "name": "stdout",
          "output_type": "stream",
          "text": [
            "Loss: 0.1771\n",
            "Epoch: 11\n"
          ]
        },
        {
          "data": {
            "application/vnd.jupyter.widget-view+json": {
              "model_id": "b71091efae3c4f839884395e19aef7a1",
              "version_major": 2,
              "version_minor": 0
            },
            "text/plain": [
              "  0%|          | 0/14249 [00:00<?, ?it/s]"
            ]
          },
          "metadata": {},
          "output_type": "display_data"
        },
        {
          "ename": "KeyboardInterrupt",
          "evalue": "",
          "output_type": "error",
          "traceback": [
            "\u001b[1;31m---------------------------------------------------------------------------\u001b[0m",
            "\u001b[1;31mKeyboardInterrupt\u001b[0m                         Traceback (most recent call last)",
            "Cell \u001b[1;32mIn[13], line 103\u001b[0m\n\u001b[0;32m    100\u001b[0m \u001b[38;5;28;01mfor\u001b[39;00m epoch \u001b[38;5;129;01min\u001b[39;00m \u001b[38;5;28mrange\u001b[39m(\u001b[38;5;241m100\u001b[39m):\n\u001b[0;32m    102\u001b[0m     \u001b[38;5;28mprint\u001b[39m(\u001b[38;5;124mf\u001b[39m\u001b[38;5;124m'\u001b[39m\u001b[38;5;124mEpoch: \u001b[39m\u001b[38;5;132;01m{\u001b[39;00mepoch\u001b[38;5;132;01m}\u001b[39;00m\u001b[38;5;124m'\u001b[39m)\n\u001b[1;32m--> 103\u001b[0m     loss \u001b[38;5;241m=\u001b[39m train()\n\u001b[0;32m    104\u001b[0m     \u001b[38;5;28mprint\u001b[39m(\u001b[38;5;124mf\u001b[39m\u001b[38;5;124m'\u001b[39m\u001b[38;5;124mLoss: \u001b[39m\u001b[38;5;132;01m{\u001b[39;00mloss\u001b[38;5;132;01m:\u001b[39;00m\u001b[38;5;124m.4f\u001b[39m\u001b[38;5;132;01m}\u001b[39;00m\u001b[38;5;124m'\u001b[39m)\n\u001b[0;32m    105\u001b[0m     \u001b[38;5;28;01mif\u001b[39;00m(epoch\u001b[38;5;241m%\u001b[39m\u001b[38;5;241m10\u001b[39m\u001b[38;5;241m==\u001b[39m\u001b[38;5;241m0\u001b[39m):\n",
            "Cell \u001b[1;32mIn[13], line 62\u001b[0m, in \u001b[0;36mtrain\u001b[1;34m()\u001b[0m\n\u001b[0;32m     60\u001b[0m     loss \u001b[38;5;241m=\u001b[39m loss_fn(reconstructed_x, x)\n\u001b[0;32m     61\u001b[0m     total_loss \u001b[38;5;241m+\u001b[39m\u001b[38;5;241m=\u001b[39m loss\u001b[38;5;241m.\u001b[39mitem()\n\u001b[1;32m---> 62\u001b[0m     loss\u001b[38;5;241m.\u001b[39mbackward()\n\u001b[0;32m     63\u001b[0m optimizer\u001b[38;5;241m.\u001b[39mstep()\n\u001b[0;32m     64\u001b[0m \u001b[38;5;28;01mreturn\u001b[39;00m total_loss \u001b[38;5;241m/\u001b[39m\u001b[38;5;28mlen\u001b[39m(all_combined_graphs)\n",
            "File \u001b[1;32mc:\\Users\\Lenovo\\anaconda3\\envs\\thesis\\Lib\\site-packages\\torch\\_tensor.py:503\u001b[0m, in \u001b[0;36mTensor.backward\u001b[1;34m(self, gradient, retain_graph, create_graph, inputs)\u001b[0m\n\u001b[0;32m    493\u001b[0m \u001b[38;5;28;01mif\u001b[39;00m has_torch_function_unary(\u001b[38;5;28mself\u001b[39m):\n\u001b[0;32m    494\u001b[0m     \u001b[38;5;28;01mreturn\u001b[39;00m handle_torch_function(\n\u001b[0;32m    495\u001b[0m         Tensor\u001b[38;5;241m.\u001b[39mbackward,\n\u001b[0;32m    496\u001b[0m         (\u001b[38;5;28mself\u001b[39m,),\n\u001b[1;32m   (...)\u001b[0m\n\u001b[0;32m    501\u001b[0m         inputs\u001b[38;5;241m=\u001b[39minputs,\n\u001b[0;32m    502\u001b[0m     )\n\u001b[1;32m--> 503\u001b[0m torch\u001b[38;5;241m.\u001b[39mautograd\u001b[38;5;241m.\u001b[39mbackward(\n\u001b[0;32m    504\u001b[0m     \u001b[38;5;28mself\u001b[39m, gradient, retain_graph, create_graph, inputs\u001b[38;5;241m=\u001b[39minputs\n\u001b[0;32m    505\u001b[0m )\n",
            "File \u001b[1;32mc:\\Users\\Lenovo\\anaconda3\\envs\\thesis\\Lib\\site-packages\\torch\\autograd\\__init__.py:254\u001b[0m, in \u001b[0;36mbackward\u001b[1;34m(tensors, grad_tensors, retain_graph, create_graph, grad_variables, inputs)\u001b[0m\n\u001b[0;32m    249\u001b[0m     retain_graph \u001b[38;5;241m=\u001b[39m create_graph\n\u001b[0;32m    251\u001b[0m \u001b[38;5;66;03m# The reason we repeat the same comment below is that\u001b[39;00m\n\u001b[0;32m    252\u001b[0m \u001b[38;5;66;03m# some Python versions print out the first line of a multi-line function\u001b[39;00m\n\u001b[0;32m    253\u001b[0m \u001b[38;5;66;03m# calls in the traceback and some print out the last line\u001b[39;00m\n\u001b[1;32m--> 254\u001b[0m Variable\u001b[38;5;241m.\u001b[39m_execution_engine\u001b[38;5;241m.\u001b[39mrun_backward(  \u001b[38;5;66;03m# Calls into the C++ engine to run the backward pass\u001b[39;00m\n\u001b[0;32m    255\u001b[0m     tensors,\n\u001b[0;32m    256\u001b[0m     grad_tensors_,\n\u001b[0;32m    257\u001b[0m     retain_graph,\n\u001b[0;32m    258\u001b[0m     create_graph,\n\u001b[0;32m    259\u001b[0m     inputs,\n\u001b[0;32m    260\u001b[0m     allow_unreachable\u001b[38;5;241m=\u001b[39m\u001b[38;5;28;01mTrue\u001b[39;00m,\n\u001b[0;32m    261\u001b[0m     accumulate_grad\u001b[38;5;241m=\u001b[39m\u001b[38;5;28;01mTrue\u001b[39;00m,\n\u001b[0;32m    262\u001b[0m )\n",
            "\u001b[1;31mKeyboardInterrupt\u001b[0m: "
          ]
        }
      ],
      "source": [
        "from tqdm.notebook import tqdm  # Import tqdm for notebook\n",
        "DEVICE = torch.device('cuda' if torch.cuda.is_available() else 'cpu')\n",
        "\n",
        "\n",
        "# Create instances of the graph encoder and decoder models\n",
        "input_dim = 20\n",
        "hidden_dim = 16\n",
        "encoding_dim = 16\n",
        "output_dim = input_dim\n",
        "encoder = GraphEncoder(input_dim, hidden_dim, encoding_dim)\n",
        "decoder = GraphDecoder(encoding_dim, hidden_dim, output_dim)\n",
        "\n",
        "# Move the models to the GPU\n",
        "encoder = encoder.to(DEVICE)\n",
        "decoder = decoder.to(DEVICE)\n",
        "\n",
        "\n",
        "\n",
        "# Define the loss function\n",
        "# loss_fn = torch.nn.BCEWithLogitsLoss()\n",
        "loss_fn = torch.nn.MSELoss()  # If the features are continuous\n",
        "\n",
        "\n",
        "# TODO: Loss function may need to be changed. Not sure if BCE is the right one\n",
        "\n",
        "# Define the optimizer\n",
        "optimizer = torch.optim.Adam(list(encoder.parameters()) + list(decoder.parameters()), lr=0.01)\n",
        "\n",
        "# Training loop\n",
        "def train():\n",
        "\n",
        "    encoder.train()\n",
        "    decoder.train()\n",
        "    optimizer.zero_grad()\n",
        "    total_loss=0\n",
        "    \n",
        "    for graph in tqdm(all_combined_graphs):\n",
        "\n",
        "        # move the graph to the GPU\n",
        "\n",
        "\n",
        "        graph = graph.to(DEVICE)\n",
        "        # dual_graph = dual_graph.to(DEVICE)\n",
        "\n",
        "        graph.edge_index=graph.edge_index.long()\n",
        "\n",
        "        \n",
        "        # print(graph)\n",
        "        if graph is None:\n",
        "            continue\n",
        "        if graph.edge_index.shape[0] == 0 :\n",
        "            continue\n",
        "\n",
        "\n",
        "\n",
        "        x = graph.x\n",
        "        edge_index = graph.edge_index\n",
        "        z = encoder(x, edge_index)\n",
        "        reconstructed_x = decoder(z, edge_index)\n",
        "        loss = loss_fn(reconstructed_x, x)\n",
        "        total_loss += loss.item()\n",
        "        loss.backward()\n",
        "    optimizer.step()\n",
        "    return total_loss /len(all_combined_graphs)\n",
        "\n",
        "# Evaluation loop\n",
        "def test():\n",
        "    encoder.eval()\n",
        "    decoder.eval()\n",
        "    total_loss=0\n",
        "    with torch.no_grad():\n",
        "        for graph in tqdm(all_combined_graphs):\n",
        "\n",
        "\n",
        "            # move the graph to the GPU\n",
        "\n",
        "\n",
        "            graph = graph.to(DEVICE)\n",
        "            # dual_graph = dual_graph.to(DEVICE)\n",
        "\n",
        "            \n",
        "            # print(graph)\n",
        "            if graph is None:\n",
        "                continue\n",
        "            if graph.edge_index.shape[0] == 0 :\n",
        "                continue\n",
        "\n",
        "\n",
        "\n",
        "            x = graph.x\n",
        "            edge_index = graph.edge_index\n",
        "            z = encoder(x, edge_index)\n",
        "            reconstructed_x = decoder(z, edge_index)\n",
        "            loss = loss_fn(reconstructed_x, x)\n",
        "            total_loss += loss.item()\n",
        "            loss.backward()\n",
        "    return total_loss / len(all_combined_graphs)\n",
        "\n",
        "# Train and evaluate the model\n",
        "for epoch in range(100):\n",
        "\n",
        "    print(f'Epoch: {epoch}')\n",
        "    loss = train()\n",
        "    print(f'Loss: {loss:.4f}')\n",
        "    if(epoch%10==0):\n",
        "        torch.save(encoder.state_dict(), f'encoder_weights_dual_epoch_{epoch+1}.pth')\n",
        "        torch.save(decoder.state_dict(), f'decoder_weights_dual_epoch_{epoch+1}.pth')\n",
        "\n",
        "\n",
        "    #if epoch % 10 == 0:\n",
        "    # eval_loss= test()\n",
        "    # print(f'Epoch: {epoch}, Loss: {loss:.4f}, Eval Loss: {eval_loss:.4f}')"
      ]
    },
    {
      "cell_type": "code",
      "execution_count": null,
      "metadata": {},
      "outputs": [],
      "source": []
    },
    {
      "cell_type": "markdown",
      "metadata": {},
      "source": [
        "# Visualization"
      ]
    },
    {
      "cell_type": "code",
      "execution_count": 82,
      "metadata": {},
      "outputs": [
        {
          "data": {
            "application/vnd.jupyter.widget-view+json": {
              "model_id": "ae079c59899d452da5b2ea60ccf02972",
              "version_major": 2,
              "version_minor": 0
            },
            "text/plain": [
              "0it [00:00, ?it/s]"
            ]
          },
          "metadata": {},
          "output_type": "display_data"
        }
      ],
      "source": [
        "sampled_graphs=all_combined_graphs[:10000]\n",
        "sample_labels=all_graphs_labels[:10000]  \n",
        "\n",
        "encoded_graphs=[]\n",
        "\n",
        "encoded_graph_labels=[]\n",
        "\n",
        "for graph,label in tqdm(zip(sampled_graphs,sample_labels)):\n",
        "\n",
        "\n",
        "    # print(graph)\n",
        "    if graph is None:\n",
        "        continue\n",
        "    if graph.edge_index.shape[0] == 0 :\n",
        "        continue\n",
        "\n",
        "    graph = graph.to(DEVICE)\n",
        "    x = graph.x\n",
        "    edge_index = graph.edge_index\n",
        "    z = encoder(x, edge_index)\n",
        "    encoded_graphs.append(z.cpu().detach().numpy())\n",
        "    encoded_graph_labels.append(label)\n",
        "\n",
        "\n",
        "\n"
      ]
    },
    {
      "cell_type": "code",
      "execution_count": 83,
      "metadata": {},
      "outputs": [
        {
          "data": {
            "text/plain": [
              "10000"
            ]
          },
          "execution_count": 83,
          "metadata": {},
          "output_type": "execute_result"
        }
      ],
      "source": [
        "len(encoded_graphs)"
      ]
    },
    {
      "cell_type": "code",
      "execution_count": 84,
      "metadata": {},
      "outputs": [],
      "source": [
        "# mean of the encoded graphs\n",
        "import numpy as np\n",
        "\n",
        "for i in range(len(encoded_graphs)):\n",
        "    encoded_graphs[i]=np.mean(encoded_graphs[i],axis=0)"
      ]
    },
    {
      "cell_type": "code",
      "execution_count": 85,
      "metadata": {},
      "outputs": [
        {
          "data": {
            "text/plain": [
              "(16,)"
            ]
          },
          "execution_count": 85,
          "metadata": {},
          "output_type": "execute_result"
        }
      ],
      "source": [
        "encoded_graphs[0].shape"
      ]
    },
    {
      "cell_type": "code",
      "execution_count": 87,
      "metadata": {},
      "outputs": [
        {
          "data": {
            "text/plain": [
              "0.1123"
            ]
          },
          "execution_count": 87,
          "metadata": {},
          "output_type": "execute_result"
        }
      ],
      "source": [
        "np.array(encoded_graph_labels[:10000]).sum()/10000"
      ]
    },
    {
      "cell_type": "code",
      "execution_count": 88,
      "metadata": {},
      "outputs": [
        {
          "name": "stdout",
          "output_type": "stream",
          "text": [
            "[t-SNE] Computing 91 nearest neighbors...\n",
            "[t-SNE] Indexed 10000 samples in 0.000s...\n",
            "[t-SNE] Computed neighbors for 10000 samples in 0.109s...\n",
            "[t-SNE] Computed conditional probabilities for sample 1000 / 10000\n",
            "[t-SNE] Computed conditional probabilities for sample 2000 / 10000\n",
            "[t-SNE] Computed conditional probabilities for sample 3000 / 10000\n",
            "[t-SNE] Computed conditional probabilities for sample 4000 / 10000\n",
            "[t-SNE] Computed conditional probabilities for sample 5000 / 10000\n",
            "[t-SNE] Computed conditional probabilities for sample 6000 / 10000\n",
            "[t-SNE] Computed conditional probabilities for sample 7000 / 10000\n",
            "[t-SNE] Computed conditional probabilities for sample 8000 / 10000\n",
            "[t-SNE] Computed conditional probabilities for sample 9000 / 10000\n",
            "[t-SNE] Computed conditional probabilities for sample 10000 / 10000\n",
            "[t-SNE] Mean sigma: 0.183407\n",
            "[t-SNE] KL divergence after 250 iterations with early exaggeration: 87.518158\n",
            "[t-SNE] KL divergence after 1000 iterations: 2.502249\n"
          ]
        },
        {
          "data": {
            "image/png": "[encoded data removed]",
            "text/plain": [
              "<Figure size 640x480 with 1 Axes>"
            ]
          },
          "metadata": {},
          "output_type": "display_data"
        }
      ],
      "source": [
        "# perform t-sne on the encoded graphs\n",
        "\n",
        "from sklearn.manifold import TSNE\n",
        "import numpy as np\n",
        "import matplotlib.pyplot as plt\n",
        "\n",
        "encoded_graph_array=np.zeros((len(encoded_graphs),16))  \n",
        "\n",
        "\n",
        "for i in range(len(encoded_graphs)):\n",
        "    encoded_graph_array[i,:]=encoded_graphs[i]\n",
        "\n",
        "tsne = TSNE(n_components=2, random_state=42,verbose=1,perplexity=30,n_iter=1000,learning_rate=200,early_exaggeration=12,angle=0.2)\n",
        "\n",
        "tsne_obj=tsne.fit_transform(encoded_graph_array)\n",
        "\n",
        "tsne_obj.shape\n",
        "\n",
        "plt.scatter(tsne_obj[:,0],tsne_obj[:,1],c=encoded_graph_labels)\n",
        "\n",
        "plt.show()"
      ]
    },
    {
      "cell_type": "code",
      "execution_count": null,
      "metadata": {},
      "outputs": [],
      "source": []
    },
    {
      "cell_type": "markdown",
      "metadata": {},
      "source": [
        "# Training and Testing"
      ]
    },
    {
      "cell_type": "code",
      "execution_count": 14,
      "metadata": {},
      "outputs": [],
      "source": [
        "nr_ahr_data=torch.load(\"Seperated_dataset/nr-ahr/train_feature.pt\")\n",
        "nr_ahr_label=torch.load(\"Seperated_dataset/nr-ahr/train_labels.pt\")\n",
        "\n",
        "\n",
        "nr_ahr_test_data=torch.load(\"Seperated_dataset/nr-ahr/test_feature.pt\")\n",
        "nr_ahr_test_label=torch.load(\"Seperated_dataset/nr-ahr/test_labels.pt\")"
      ]
    },
    {
      "cell_type": "code",
      "execution_count": 16,
      "metadata": {},
      "outputs": [
        {
          "data": {
            "application/vnd.jupyter.widget-view+json": {
              "model_id": "cb6b8abd30474452bf3a48575def2416",
              "version_major": 2,
              "version_minor": 0
            },
            "text/plain": [
              "  0%|          | 0/1900 [00:00<?, ?it/s]"
            ]
          },
          "metadata": {},
          "output_type": "display_data"
        },
        {
          "data": {
            "application/vnd.jupyter.widget-view+json": {
              "model_id": "0215cf851b3e4db1b0bac5ad245c1863",
              "version_major": 2,
              "version_minor": 0
            },
            "text/plain": [
              "  0%|          | 0/608 [00:00<?, ?it/s]"
            ]
          },
          "metadata": {},
          "output_type": "display_data"
        },
        {
          "name": "stdout",
          "output_type": "stream",
          "text": [
            "608\n"
          ]
        },
        {
          "data": {
            "application/vnd.jupyter.widget-view+json": {
              "model_id": "3d46820aa9bd4b6c8074edff0d33708f",
              "version_major": 2,
              "version_minor": 0
            },
            "text/plain": [
              "  0%|          | 0/608 [00:00<?, ?it/s]"
            ]
          },
          "metadata": {},
          "output_type": "display_data"
        }
      ],
      "source": [
        "# CREATE DUAL GRAPHS FOR NR-AHR DATA    \n",
        "\n",
        "nr_ahr_dual_graphs=[]\n",
        "nr_ahr_combined_graphs=[]\n",
        "\n",
        "for graph in tqdm(nr_ahr_data):\n",
        "        \n",
        "        \n",
        "        graph = graph.to('cpu')\n",
        "    \n",
        "        if(graph is None):\n",
        "            continue\n",
        "        if(graph.edge_index is None):\n",
        "            continue\n",
        "        if(graph.edge_index.shape[0]==0 or graph.edge_index.shape[1]==0):\n",
        "            continue\n",
        "    \n",
        "        dual_graph=create_line_graph(graph)\n",
        "    \n",
        "        nr_ahr_dual_graphs.append(dual_graph)\n",
        "\n",
        "    \n",
        "\n",
        "nr_ahr_combined_graphs=nr_ahr_dual_graphs\n",
        "\n",
        "\n",
        "\n",
        "nr_ahr_dual_graphs_test=[]\n",
        "nr_ahr_combined_graphs_test=[]\n",
        "\n",
        "for graph in tqdm(nr_ahr_test_data):\n",
        "            \n",
        "            graph = graph.to('cpu')\n",
        "        \n",
        "            if(graph is None):\n",
        "                continue\n",
        "            if(graph.edge_index is None):\n",
        "                continue\n",
        "            if(graph.edge_index.shape[0]==0 or graph.edge_index.shape[1]==0):\n",
        "                continue\n",
        "        \n",
        "            dual_graph=create_line_graph(graph)\n",
        "        \n",
        "            nr_ahr_dual_graphs_test.append(dual_graph)\n",
        "\n",
        "print(len(nr_ahr_dual_graphs_test))\n",
        "\n",
        "for graph, dual_graph in tqdm(zip(nr_ahr_test_data, nr_ahr_dual_graphs_test), total=len(nr_ahr_test_data)):\n",
        "    # Concatenate the node features\n",
        "    combined_x = torch.cat([graph.x, dual_graph.x], dim=0)\n",
        "    \n",
        "    # Adjust the edge indices for the dual graph\n",
        "    num_nodes_graph = graph.x.size(0)  # Number of nodes in the original graph\n",
        "    adjusted_edge_index_dual = dual_graph.edge_index + num_nodes_graph\n",
        "    \n",
        "    # Concatenate the edge indices\n",
        "    combined_edge_index = torch.cat([graph.edge_index, adjusted_edge_index_dual], dim=1)\n",
        "    \n",
        "    # Assuming edge attributes are not being combined or do not exist; if they do, similar adjustments are needed\n",
        "    \n",
        "    # Create a new graph instance, here using Data from torch_geometric to represent the combined graph\n",
        "    combined_graph = Data(x=combined_x, edge_index=combined_edge_index)\n",
        "    \n",
        "    # If there are edge attributes or other graph components (e.g., edge_attr, y, etc.), ensure to handle them accordingly\n",
        "    \n",
        "    nr_ahr_combined_graphs_test.append(combined_graph)\n",
        "\n",
        "\n",
        "len(nr_ahr_combined_graphs_test)\n",
        "\n",
        "nr_ahr_combined_graphs_test=nr_ahr_dual_graphs_test\n",
        "\n",
        "\n",
        "\n",
        "\n"
      ]
    },
    {
      "cell_type": "code",
      "execution_count": 17,
      "metadata": {},
      "outputs": [
        {
          "data": {
            "text/plain": [
              "Data(x=[13, 20], edge_index=[2, 32])"
            ]
          },
          "execution_count": 17,
          "metadata": {},
          "output_type": "execute_result"
        }
      ],
      "source": [
        "nr_ahr_combined_graphs[0]"
      ]
    },
    {
      "cell_type": "code",
      "execution_count": 18,
      "metadata": {},
      "outputs": [
        {
          "data": {
            "application/vnd.jupyter.widget-view+json": {
              "model_id": "c5124680b3524e96a01bd51d16716d1c",
              "version_major": 2,
              "version_minor": 0
            },
            "text/plain": [
              "0it [00:00, ?it/s]"
            ]
          },
          "metadata": {},
          "output_type": "display_data"
        },
        {
          "data": {
            "application/vnd.jupyter.widget-view+json": {
              "model_id": "cb78206c0c7949a3af68e40fb2b202fc",
              "version_major": 2,
              "version_minor": 0
            },
            "text/plain": [
              "0it [00:00, ?it/s]"
            ]
          },
          "metadata": {},
          "output_type": "display_data"
        }
      ],
      "source": [
        "encoded_datas=[]\n",
        "actual_labels=[]\n",
        "\n",
        "encoded_datas_test=[]\n",
        "actual_labels_test=[]\n",
        "\n",
        "\n",
        "for data,label in tqdm(zip(nr_ahr_combined_graphs,nr_ahr_label)):\n",
        "    encoder.eval()\n",
        "    with torch.no_grad():\n",
        "        # print(data)\n",
        "        if(data.edge_index is None):\n",
        "            continue\n",
        "        if(data.edge_index.shape[0] == 0 or data.x.shape[1] == 0):\n",
        "            continue    \n",
        "        g_data=data.to(DEVICE)\n",
        "        g_data.edge_index=g_data.edge_index.long()\n",
        "\n",
        "        z = encoder(g_data.x, g_data.edge_index)\n",
        "        encoded_datas.append(z)\n",
        "        actual_labels.append(label)\n",
        "\n",
        "\n",
        "for data,label in tqdm(zip(nr_ahr_combined_graphs_test,nr_ahr_test_label)):\n",
        "    encoder.eval()\n",
        "    with torch.no_grad():\n",
        "        # print(data)\n",
        "        if(data.edge_index is None):\n",
        "            continue\n",
        "        if(data.edge_index.shape[0] == 0 or data.x.shape[1] == 0):\n",
        "            continue    \n",
        "        g_data=data.to(DEVICE)\n",
        "\n",
        "        g_data.edge_index=g_data.edge_index.long()\n",
        "\n",
        "\n",
        "        z = encoder(g_data.x, g_data.edge_index)\n",
        "        encoded_datas_test.append(z)\n",
        "        actual_labels_test.append(label)"
      ]
    },
    {
      "cell_type": "code",
      "execution_count": 119,
      "metadata": {},
      "outputs": [
        {
          "data": {
            "text/plain": [
              "torch.Size([26, 16])"
            ]
          },
          "execution_count": 119,
          "metadata": {},
          "output_type": "execute_result"
        }
      ],
      "source": [
        "encoded_datas[0].shape"
      ]
    },
    {
      "cell_type": "code",
      "execution_count": 19,
      "metadata": {},
      "outputs": [],
      "source": [
        "for i in range(len(encoded_datas)):\n",
        "    encoded_datas[i]=torch.mean(encoded_datas[i],dim=0)\n",
        "    # detach at cpu\n",
        "    encoded_datas[i]=encoded_datas[i].detach().cpu().numpy()\n",
        "    encoded_datas[i]=torch.tensor(encoded_datas[i])\n",
        "\n",
        "\n",
        "for i in range(len(encoded_datas_test)):\n",
        "    encoded_datas_test[i]=torch.mean(encoded_datas_test[i],dim=0)\n",
        "    # detach at cpu\n",
        "    encoded_datas_test[i]=encoded_datas_test[i].detach().cpu().numpy()\n",
        "    encoded_datas_test[i]=torch.tensor(encoded_datas_test[i])\n",
        "    "
      ]
    },
    {
      "cell_type": "code",
      "execution_count": 104,
      "metadata": {},
      "outputs": [],
      "source": [
        "# for i in range(len(encoded_datas)):\n",
        "#     # extend the dimension to 1, to make it 2D\n",
        "#     encoded_datas[i]=torch.unsqueeze(encoded_datas[i],0)\n",
        "    \n",
        "\n",
        "# for i in range(len(encoded_datas_test)):\n",
        "#     # extend the dimension to 1, to make it 2D\n",
        "#     encoded_datas_test[i]=torch.unsqueeze(encoded_datas_test[i],0)\n",
        "    "
      ]
    },
    {
      "cell_type": "code",
      "execution_count": 106,
      "metadata": {},
      "outputs": [
        {
          "data": {
            "text/plain": [
              "torch.Size([16])"
            ]
          },
          "execution_count": 106,
          "metadata": {},
          "output_type": "execute_result"
        }
      ],
      "source": [
        "encoded_datas[0].shape"
      ]
    },
    {
      "cell_type": "code",
      "execution_count": 20,
      "metadata": {},
      "outputs": [
        {
          "name": "stdout",
          "output_type": "stream",
          "text": [
            "Saving best model with AUC: 0.7764347277696027\n",
            "Saving best model with AUC: 0.79275278536893\n",
            "Saving best model with AUC: 0.8080197603531637\n",
            "Saving best model with AUC: 0.8088080723144839\n"
          ]
        },
        {
          "ename": "KeyboardInterrupt",
          "evalue": "",
          "output_type": "error",
          "traceback": [
            "\u001b[1;31m---------------------------------------------------------------------------\u001b[0m",
            "\u001b[1;31mKeyboardInterrupt\u001b[0m                         Traceback (most recent call last)",
            "Cell \u001b[1;32mIn[20], line 108\u001b[0m\n\u001b[0;32m    106\u001b[0m output \u001b[38;5;241m=\u001b[39m classifier(data)\n\u001b[0;32m    107\u001b[0m loss \u001b[38;5;241m=\u001b[39m criterion(output, target\u001b[38;5;241m.\u001b[39munsqueeze(\u001b[38;5;241m1\u001b[39m)\u001b[38;5;241m.\u001b[39mfloat())\n\u001b[1;32m--> 108\u001b[0m loss\u001b[38;5;241m.\u001b[39mbackward()\n\u001b[0;32m    109\u001b[0m optimizer\u001b[38;5;241m.\u001b[39mstep()\n\u001b[0;32m    111\u001b[0m train_loss \u001b[38;5;241m+\u001b[39m\u001b[38;5;241m=\u001b[39m loss\u001b[38;5;241m.\u001b[39mitem() \u001b[38;5;241m*\u001b[39m data\u001b[38;5;241m.\u001b[39msize(\u001b[38;5;241m0\u001b[39m)\n",
            "File \u001b[1;32mc:\\Users\\Lenovo\\anaconda3\\envs\\thesis\\Lib\\site-packages\\torch\\_tensor.py:503\u001b[0m, in \u001b[0;36mTensor.backward\u001b[1;34m(self, gradient, retain_graph, create_graph, inputs)\u001b[0m\n\u001b[0;32m    493\u001b[0m \u001b[38;5;28;01mif\u001b[39;00m has_torch_function_unary(\u001b[38;5;28mself\u001b[39m):\n\u001b[0;32m    494\u001b[0m     \u001b[38;5;28;01mreturn\u001b[39;00m handle_torch_function(\n\u001b[0;32m    495\u001b[0m         Tensor\u001b[38;5;241m.\u001b[39mbackward,\n\u001b[0;32m    496\u001b[0m         (\u001b[38;5;28mself\u001b[39m,),\n\u001b[1;32m   (...)\u001b[0m\n\u001b[0;32m    501\u001b[0m         inputs\u001b[38;5;241m=\u001b[39minputs,\n\u001b[0;32m    502\u001b[0m     )\n\u001b[1;32m--> 503\u001b[0m torch\u001b[38;5;241m.\u001b[39mautograd\u001b[38;5;241m.\u001b[39mbackward(\n\u001b[0;32m    504\u001b[0m     \u001b[38;5;28mself\u001b[39m, gradient, retain_graph, create_graph, inputs\u001b[38;5;241m=\u001b[39minputs\n\u001b[0;32m    505\u001b[0m )\n",
            "File \u001b[1;32mc:\\Users\\Lenovo\\anaconda3\\envs\\thesis\\Lib\\site-packages\\torch\\autograd\\__init__.py:254\u001b[0m, in \u001b[0;36mbackward\u001b[1;34m(tensors, grad_tensors, retain_graph, create_graph, grad_variables, inputs)\u001b[0m\n\u001b[0;32m    249\u001b[0m     retain_graph \u001b[38;5;241m=\u001b[39m create_graph\n\u001b[0;32m    251\u001b[0m \u001b[38;5;66;03m# The reason we repeat the same comment below is that\u001b[39;00m\n\u001b[0;32m    252\u001b[0m \u001b[38;5;66;03m# some Python versions print out the first line of a multi-line function\u001b[39;00m\n\u001b[0;32m    253\u001b[0m \u001b[38;5;66;03m# calls in the traceback and some print out the last line\u001b[39;00m\n\u001b[1;32m--> 254\u001b[0m Variable\u001b[38;5;241m.\u001b[39m_execution_engine\u001b[38;5;241m.\u001b[39mrun_backward(  \u001b[38;5;66;03m# Calls into the C++ engine to run the backward pass\u001b[39;00m\n\u001b[0;32m    255\u001b[0m     tensors,\n\u001b[0;32m    256\u001b[0m     grad_tensors_,\n\u001b[0;32m    257\u001b[0m     retain_graph,\n\u001b[0;32m    258\u001b[0m     create_graph,\n\u001b[0;32m    259\u001b[0m     inputs,\n\u001b[0;32m    260\u001b[0m     allow_unreachable\u001b[38;5;241m=\u001b[39m\u001b[38;5;28;01mTrue\u001b[39;00m,\n\u001b[0;32m    261\u001b[0m     accumulate_grad\u001b[38;5;241m=\u001b[39m\u001b[38;5;28;01mTrue\u001b[39;00m,\n\u001b[0;32m    262\u001b[0m )\n",
            "\u001b[1;31mKeyboardInterrupt\u001b[0m: "
          ]
        }
      ],
      "source": [
        "import numpy as np\n",
        "#create a dataloader for the encoded data\n",
        "class encoded_dataset(Dataset):\n",
        "    def __init__(self, \n",
        "                 data: List[torch.Tensor],\n",
        "                 labels: List[int],\n",
        "                 root: str | None = None, \n",
        "                 transform: Callable[..., Any] | None = None, \n",
        "                 pre_transform: Callable[..., Any] | None = None, \n",
        "                 pre_filter: Callable[..., Any] | None = None, \n",
        "                 log: bool = True):\n",
        "        super().__init__(root, transform, pre_transform, pre_filter, log)\n",
        "        self.data = data\n",
        "        self.labels = labels\n",
        "        \n",
        "    def len(self):\n",
        "        return len(self.data)\n",
        "\n",
        "    def get(self, idx):\n",
        "        # Ensure that data and labels are torch.Tensors\n",
        "        data_tensor = torch.Tensor(self.data[idx]) if isinstance(self.data[idx], np.ndarray) else self.data[idx]\n",
        "        label_tensor = torch.tensor(self.labels[idx], dtype=torch.long) \n",
        "        # print(data_tensor)\n",
        "        # print(label_tensor)\n",
        "        return data_tensor, label_tensor\n",
        "\n",
        "class EncodedClassifier(nn.Module):\n",
        "    def __init__(self, in_features, out_features):\n",
        "        super(EncodedClassifier, self).__init__()\n",
        "        \n",
        "        # Adjusting for input shape (batch_size, 1, 16)\n",
        "        self.conv1 = nn.Conv1d(1, 128, kernel_size=3, padding=1)  # input channel is 1\n",
        "        self.bn1 = nn.BatchNorm1d(128)\n",
        "        self.conv2 = nn.Conv1d(128, 256, kernel_size=3, padding=1)\n",
        "        self.bn2 = nn.BatchNorm1d(256)\n",
        "        self.pool = nn.MaxPool1d(2)  # Downsample, resulting in halving the sequence length\n",
        "        \n",
        "        # After two pooling operations on an input of length 16:\n",
        "        # First pooling -> 16 / 2 = 8\n",
        "        # Second pooling -> 8 / 2 = 4\n",
        "        # Therefore, the flattened size before the fully connected layer is 256 * 4\n",
        "        self.fc1 = nn.Linear(256 * 4, 512)  # Adjusted the size for the new flattened output\n",
        "        self.dropout = nn.Dropout(0.5)\n",
        "        self.fc2 = nn.Linear(512, 128)\n",
        "        self.fc3 = nn.Linear(128, out_features)\n",
        "        \n",
        "    def forward(self, x):\n",
        "        # x shape is (batch_size, 1, 16)\n",
        "        x = F.relu(self.bn1(self.conv1(x)))\n",
        "        x = self.pool(x)  # x shape becomes (batch_size, 128, 8)\n",
        "        x = F.relu(self.bn2(self.conv2(x)))\n",
        "        x = self.pool(x)  # x shape becomes (batch_size, 256, 4)\n",
        "        \n",
        "        # Flatten before passing to the dense layer\n",
        "        x = x.view(x.size(0), -1)  # Flatten to (batch_size, 256*4)\n",
        "        \n",
        "        x = F.relu(self.fc1(x))\n",
        "        x = self.dropout(x)\n",
        "        x = F.relu(self.fc2(x))\n",
        "        x = self.fc3(x)  # No activation, assuming we're using BCEWithLogitsLoss or similar\n",
        "        \n",
        "        return x\n",
        "\n",
        "\n",
        "\n",
        "#split the data into train and valid\n",
        "    \n",
        "from sklearn.model_selection import train_test_split\n",
        "X_train, X_test, y_train, y_test = train_test_split(encoded_datas, actual_labels, test_size=0.1, random_state=42)\n",
        "\n",
        "train_dataset=encoded_dataset(X_train,y_train)\n",
        "test_dataset=encoded_dataset(X_test,y_test)\n",
        "\n",
        "train_loader = DataLoader(train_dataset, batch_size=16, shuffle=True)\n",
        "\n",
        "test_loader = DataLoader(test_dataset, batch_size=16, shuffle=True)\n",
        "\n",
        "\n",
        "\n",
        "test_final_dataset=encoded_dataset(encoded_datas_test,actual_labels_test)\n",
        "test_final_loader = DataLoader(test_final_dataset, batch_size=32, shuffle = False)\n",
        "\n",
        "#train the classifier\n",
        "\n",
        "classifier = EncodedClassifier(16, 1).to(DEVICE)\n",
        "\n",
        "optimizer = torch.optim.Adam(classifier.parameters(), lr=1e-4)\n",
        "criterion = nn.BCEWithLogitsLoss()\n",
        "\n",
        "epochs = 1000\n",
        "\n",
        "#calculate the accuracy and roc_auc_score for each epoch. Save the best model based on the roc_auc_score\n",
        "\n",
        "from sklearn.metrics import accuracy_score, roc_auc_score\n",
        "\n",
        "best_auc = 0\n",
        "\n",
        "for epoch in range(epochs):\n",
        "    classifier.train()\n",
        "    train_loss = 0.0\n",
        "    for data, target in train_loader:\n",
        "        # Add a channel dimension to the data if necessary\n",
        "        data = data.unsqueeze(1)  # This adds the channel dimension, converting [batch_size, sequence_length] to [batch_size, 1, sequence_length]\n",
        "        data, target = data.to(DEVICE), target.to(DEVICE)\n",
        "        optimizer.zero_grad()\n",
        "        output = classifier(data)\n",
        "        loss = criterion(output, target.unsqueeze(1).float())\n",
        "        loss.backward()\n",
        "        optimizer.step()\n",
        "\n",
        "        train_loss += loss.item() * data.size(0)\n",
        "    train_loss = train_loss / len(train_loader.dataset)\n",
        "    # print(f\"Epoch {epoch} - Train Loss: {train_loss}\")\n",
        "    \n",
        "    classifier.eval()\n",
        "    test_loss = 0.0\n",
        "    y_true = []\n",
        "    y_pred = []\n",
        "    with torch.no_grad():\n",
        "        for data, target in test_final_loader:\n",
        "            data = data.unsqueeze(1)  # This adds the channel dimension, converting [batch_size, sequence_length] to [batch_size, 1, sequence_length]\n",
        " \n",
        "            data, target = data.to(DEVICE), target.to(DEVICE)\n",
        "            output = classifier(data)\n",
        "            loss = criterion(output, target.unsqueeze(1).float())\n",
        "            test_loss += loss.item() * data.size(0)\n",
        "            y_true += target.cpu().numpy().tolist()\n",
        "            y_pred += torch.sigmoid(output).cpu().numpy().tolist()\n",
        "    test_loss = test_loss / len(test_final_loader.dataset)\n",
        "    y_pred = [i[0] for i in y_pred]\n",
        "    auc = roc_auc_score(y_true, y_pred)\n",
        "    accuracy = accuracy_score(y_true, [1 if i > 0.5 else 0 for i in y_pred])\n",
        "    # print(f\"Epoch {epoch} - Test Loss: {test_loss} - AUC: {auc} - Accuracy: {accuracy}\")\n",
        "    if auc > best_auc:\n",
        "        print(f\"Saving best model with AUC: {auc}\")\n",
        "        torch.save(\n",
        "            classifier.state_dict(),\n",
        "            \"./Seperated_dataset/nr-ahr/best_classifier_gae_dual.pt\"\n",
        "        )\n",
        "        best_auc = auc\n",
        "\n",
        "#load the best classifier"
      ]
    },
    {
      "cell_type": "markdown",
      "metadata": {},
      "source": [
        "# Node feature encoder"
      ]
    },
    {
      "cell_type": "markdown",
      "metadata": {},
      "source": []
    },
    {
      "cell_type": "code",
      "execution_count": 27,
      "metadata": {},
      "outputs": [
        {
          "data": {
            "text/plain": [
              "<All keys matched successfully>"
            ]
          },
          "execution_count": 27,
          "metadata": {},
          "output_type": "execute_result"
        }
      ],
      "source": [
        "# import autoencoder model\n",
        "encoder = GraphEncoder(20, 16, 16).to(DEVICE)\n",
        "decoder = GraphDecoder(16, 16, 20).to(DEVICE)\n",
        "\n",
        "encoder.load_state_dict(torch.load(\"encoder_weights_epoch_151.pth\"))\n",
        "decoder.load_state_dict(torch.load(\"decoder_weights_epoch_151.pth\"))"
      ]
    },
    {
      "cell_type": "code",
      "execution_count": 28,
      "metadata": {},
      "outputs": [
        {
          "data": {
            "application/vnd.jupyter.widget-view+json": {
              "model_id": "12999ea2038a47b5a089d5f2ed3bcc1c",
              "version_major": 2,
              "version_minor": 0
            },
            "text/plain": [
              "0it [00:00, ?it/s]"
            ]
          },
          "metadata": {},
          "output_type": "display_data"
        },
        {
          "data": {
            "application/vnd.jupyter.widget-view+json": {
              "model_id": "d2b1a61a977448b193c7e85006e8a238",
              "version_major": 2,
              "version_minor": 0
            },
            "text/plain": [
              "0it [00:00, ?it/s]"
            ]
          },
          "metadata": {},
          "output_type": "display_data"
        }
      ],
      "source": [
        "encoded_datas_node=[]\n",
        "actual_labels=[]\n",
        "\n",
        "encoded_datas_test_node=[]\n",
        "actual_labels_test=[]\n",
        "\n",
        "\n",
        "for data,label in tqdm(zip(nr_ahr_data,nr_ahr_label)):\n",
        "    encoder.eval()\n",
        "    with torch.no_grad():\n",
        "        # print(data)\n",
        "        if(data.edge_index is None):\n",
        "            continue\n",
        "        if(data.edge_index.shape[0] == 0 or data.x.shape[1] == 0):\n",
        "            continue    \n",
        "        g_data=data.to(DEVICE)\n",
        "        g_data.edge_index=g_data.edge_index.long()\n",
        "\n",
        "        z = encoder(g_data.x, g_data.edge_index)\n",
        "        encoded_datas_node.append(z)\n",
        "        actual_labels.append(label)\n",
        "\n",
        "\n",
        "for data,label in tqdm(zip(nr_ahr_test_data,nr_ahr_test_label)):\n",
        "    encoder.eval()\n",
        "    with torch.no_grad():\n",
        "        # print(data)\n",
        "        if(data.edge_index is None):\n",
        "            continue\n",
        "        if(data.edge_index.shape[0] == 0 or data.x.shape[1] == 0):\n",
        "            continue    \n",
        "        g_data=data.to(DEVICE)\n",
        "\n",
        "        g_data.edge_index=g_data.edge_index.long()\n",
        "\n",
        "\n",
        "        z = encoder(g_data.x, g_data.edge_index)\n",
        "        encoded_datas_test_node.append(z)\n",
        "        actual_labels_test.append(label)"
      ]
    },
    {
      "cell_type": "code",
      "execution_count": 29,
      "metadata": {},
      "outputs": [],
      "source": [
        "for i in range(len(encoded_datas_node)):\n",
        "    encoded_datas_node[i]=torch.mean(encoded_datas_node[i],dim=0)\n",
        "    # detach at cp\n",
        "    encoded_datas_node[i]=encoded_datas_node[i].detach().cpu().numpy()\n",
        "    encoded_datas_node[i]=torch.tensor(encoded_datas_node[i])\n",
        "\n",
        "\n",
        "for i in range(len(encoded_datas_test_node)):\n",
        "    encoded_datas_test_node[i]=torch.mean(encoded_datas_test_node[i],dim=0)\n",
        "    # detach at cpu\n",
        "    encoded_datas_test_node[i]=encoded_datas_test_node[i].detach().cpu().numpy()\n",
        "    encoded_datas_test_node[i]=torch.tensor(encoded_datas_test_node[i])\n",
        "    "
      ]
    },
    {
      "cell_type": "code",
      "execution_count": 30,
      "metadata": {},
      "outputs": [
        {
          "name": "stdout",
          "output_type": "stream",
          "text": [
            "Saving best model with AUC: 0.8246387074776405\n",
            "Saving best model with AUC: 0.8352611010569938\n"
          ]
        },
        {
          "ename": "KeyboardInterrupt",
          "evalue": "",
          "output_type": "error",
          "traceback": [
            "\u001b[1;31m---------------------------------------------------------------------------\u001b[0m",
            "\u001b[1;31mKeyboardInterrupt\u001b[0m                         Traceback (most recent call last)",
            "Cell \u001b[1;32mIn[30], line 125\u001b[0m\n\u001b[0;32m    123\u001b[0m data, target \u001b[38;5;241m=\u001b[39m data\u001b[38;5;241m.\u001b[39mto(DEVICE), target\u001b[38;5;241m.\u001b[39mto(DEVICE)\n\u001b[0;32m    124\u001b[0m output \u001b[38;5;241m=\u001b[39m classifier(data)\n\u001b[1;32m--> 125\u001b[0m loss \u001b[38;5;241m=\u001b[39m criterion(output, target\u001b[38;5;241m.\u001b[39munsqueeze(\u001b[38;5;241m1\u001b[39m)\u001b[38;5;241m.\u001b[39mfloat())\n\u001b[0;32m    126\u001b[0m test_loss \u001b[38;5;241m+\u001b[39m\u001b[38;5;241m=\u001b[39m loss\u001b[38;5;241m.\u001b[39mitem() \u001b[38;5;241m*\u001b[39m data\u001b[38;5;241m.\u001b[39msize(\u001b[38;5;241m0\u001b[39m)\n\u001b[0;32m    127\u001b[0m y_true \u001b[38;5;241m+\u001b[39m\u001b[38;5;241m=\u001b[39m target\u001b[38;5;241m.\u001b[39mcpu()\u001b[38;5;241m.\u001b[39mnumpy()\u001b[38;5;241m.\u001b[39mtolist()\n",
            "File \u001b[1;32mc:\\Users\\Lenovo\\anaconda3\\envs\\thesis\\Lib\\site-packages\\torch\\nn\\modules\\module.py:1519\u001b[0m, in \u001b[0;36mModule._wrapped_call_impl\u001b[1;34m(self, *args, **kwargs)\u001b[0m\n\u001b[0;32m   1517\u001b[0m     \u001b[38;5;28;01mreturn\u001b[39;00m \u001b[38;5;28mself\u001b[39m\u001b[38;5;241m.\u001b[39m_compiled_call_impl(\u001b[38;5;241m*\u001b[39margs, \u001b[38;5;241m*\u001b[39m\u001b[38;5;241m*\u001b[39mkwargs)  \u001b[38;5;66;03m# type: ignore[misc]\u001b[39;00m\n\u001b[0;32m   1518\u001b[0m \u001b[38;5;28;01melse\u001b[39;00m:\n\u001b[1;32m-> 1519\u001b[0m     \u001b[38;5;28;01mreturn\u001b[39;00m \u001b[38;5;28mself\u001b[39m\u001b[38;5;241m.\u001b[39m_call_impl(\u001b[38;5;241m*\u001b[39margs, \u001b[38;5;241m*\u001b[39m\u001b[38;5;241m*\u001b[39mkwargs)\n",
            "File \u001b[1;32mc:\\Users\\Lenovo\\anaconda3\\envs\\thesis\\Lib\\site-packages\\torch\\nn\\modules\\module.py:1528\u001b[0m, in \u001b[0;36mModule._call_impl\u001b[1;34m(self, *args, **kwargs)\u001b[0m\n\u001b[0;32m   1523\u001b[0m \u001b[38;5;66;03m# If we don't have any hooks, we want to skip the rest of the logic in\u001b[39;00m\n\u001b[0;32m   1524\u001b[0m \u001b[38;5;66;03m# this function, and just call forward.\u001b[39;00m\n\u001b[0;32m   1525\u001b[0m \u001b[38;5;28;01mif\u001b[39;00m \u001b[38;5;129;01mnot\u001b[39;00m (\u001b[38;5;28mself\u001b[39m\u001b[38;5;241m.\u001b[39m_backward_hooks \u001b[38;5;129;01mor\u001b[39;00m \u001b[38;5;28mself\u001b[39m\u001b[38;5;241m.\u001b[39m_backward_pre_hooks \u001b[38;5;129;01mor\u001b[39;00m \u001b[38;5;28mself\u001b[39m\u001b[38;5;241m.\u001b[39m_forward_hooks \u001b[38;5;129;01mor\u001b[39;00m \u001b[38;5;28mself\u001b[39m\u001b[38;5;241m.\u001b[39m_forward_pre_hooks\n\u001b[0;32m   1526\u001b[0m         \u001b[38;5;129;01mor\u001b[39;00m _global_backward_pre_hooks \u001b[38;5;129;01mor\u001b[39;00m _global_backward_hooks\n\u001b[0;32m   1527\u001b[0m         \u001b[38;5;129;01mor\u001b[39;00m _global_forward_hooks \u001b[38;5;129;01mor\u001b[39;00m _global_forward_pre_hooks):\n\u001b[1;32m-> 1528\u001b[0m     \u001b[38;5;28;01mreturn\u001b[39;00m forward_call(\u001b[38;5;241m*\u001b[39margs, \u001b[38;5;241m*\u001b[39m\u001b[38;5;241m*\u001b[39mkwargs)\n\u001b[0;32m   1530\u001b[0m \u001b[38;5;28;01mtry\u001b[39;00m:\n\u001b[0;32m   1531\u001b[0m     result \u001b[38;5;241m=\u001b[39m \u001b[38;5;28;01mNone\u001b[39;00m\n",
            "File \u001b[1;32mc:\\Users\\Lenovo\\anaconda3\\envs\\thesis\\Lib\\site-packages\\torch\\nn\\modules\\loss.py:725\u001b[0m, in \u001b[0;36mBCEWithLogitsLoss.forward\u001b[1;34m(self, input, target)\u001b[0m\n\u001b[0;32m    724\u001b[0m \u001b[38;5;28;01mdef\u001b[39;00m \u001b[38;5;21mforward\u001b[39m(\u001b[38;5;28mself\u001b[39m, \u001b[38;5;28minput\u001b[39m: Tensor, target: Tensor) \u001b[38;5;241m-\u001b[39m\u001b[38;5;241m>\u001b[39m Tensor:\n\u001b[1;32m--> 725\u001b[0m     \u001b[38;5;28;01mreturn\u001b[39;00m F\u001b[38;5;241m.\u001b[39mbinary_cross_entropy_with_logits(\u001b[38;5;28minput\u001b[39m, target,\n\u001b[0;32m    726\u001b[0m                                               \u001b[38;5;28mself\u001b[39m\u001b[38;5;241m.\u001b[39mweight,\n\u001b[0;32m    727\u001b[0m                                               pos_weight\u001b[38;5;241m=\u001b[39m\u001b[38;5;28mself\u001b[39m\u001b[38;5;241m.\u001b[39mpos_weight,\n\u001b[0;32m    728\u001b[0m                                               reduction\u001b[38;5;241m=\u001b[39m\u001b[38;5;28mself\u001b[39m\u001b[38;5;241m.\u001b[39mreduction)\n",
            "File \u001b[1;32mc:\\Users\\Lenovo\\anaconda3\\envs\\thesis\\Lib\\site-packages\\torch\\nn\\functional.py:3200\u001b[0m, in \u001b[0;36mbinary_cross_entropy_with_logits\u001b[1;34m(input, target, weight, size_average, reduce, reduction, pos_weight)\u001b[0m\n\u001b[0;32m   3197\u001b[0m \u001b[38;5;28;01mif\u001b[39;00m \u001b[38;5;129;01mnot\u001b[39;00m (target\u001b[38;5;241m.\u001b[39msize() \u001b[38;5;241m==\u001b[39m \u001b[38;5;28minput\u001b[39m\u001b[38;5;241m.\u001b[39msize()):\n\u001b[0;32m   3198\u001b[0m     \u001b[38;5;28;01mraise\u001b[39;00m \u001b[38;5;167;01mValueError\u001b[39;00m(\u001b[38;5;124mf\u001b[39m\u001b[38;5;124m\"\u001b[39m\u001b[38;5;124mTarget size (\u001b[39m\u001b[38;5;132;01m{\u001b[39;00mtarget\u001b[38;5;241m.\u001b[39msize()\u001b[38;5;132;01m}\u001b[39;00m\u001b[38;5;124m) must be the same as input size (\u001b[39m\u001b[38;5;132;01m{\u001b[39;00m\u001b[38;5;28minput\u001b[39m\u001b[38;5;241m.\u001b[39msize()\u001b[38;5;132;01m}\u001b[39;00m\u001b[38;5;124m)\u001b[39m\u001b[38;5;124m\"\u001b[39m)\n\u001b[1;32m-> 3200\u001b[0m \u001b[38;5;28;01mreturn\u001b[39;00m torch\u001b[38;5;241m.\u001b[39mbinary_cross_entropy_with_logits(\u001b[38;5;28minput\u001b[39m, target, weight, pos_weight, reduction_enum)\n",
            "\u001b[1;31mKeyboardInterrupt\u001b[0m: "
          ]
        }
      ],
      "source": [
        "import numpy as np\n",
        "#create a dataloader for the encoded data\n",
        "class encoded_dataset(Dataset):\n",
        "    def __init__(self, \n",
        "                 data: List[torch.Tensor],\n",
        "                 labels: List[int],\n",
        "                 root: str | None = None, \n",
        "                 transform: Callable[..., Any] | None = None, \n",
        "                 pre_transform: Callable[..., Any] | None = None, \n",
        "                 pre_filter: Callable[..., Any] | None = None, \n",
        "                 log: bool = True):\n",
        "        super().__init__(root, transform, pre_transform, pre_filter, log)\n",
        "        self.data = data\n",
        "        self.labels = labels\n",
        "        \n",
        "    def len(self):\n",
        "        return len(self.data)\n",
        "\n",
        "    def get(self, idx):\n",
        "        # Ensure that data and labels are torch.Tensors\n",
        "        data_tensor = torch.Tensor(self.data[idx]) if isinstance(self.data[idx], np.ndarray) else self.data[idx]\n",
        "        label_tensor = torch.tensor(self.labels[idx], dtype=torch.long) \n",
        "        # print(data_tensor)\n",
        "        # print(label_tensor)\n",
        "        return data_tensor, label_tensor\n",
        "\n",
        "class EncodedClassifier(nn.Module):\n",
        "    def __init__(self, in_features, out_features):\n",
        "        super(EncodedClassifier, self).__init__()\n",
        "        \n",
        "        # Adjusting for input shape (batch_size, 1, 16)\n",
        "        self.conv1 = nn.Conv1d(1, 128, kernel_size=3, padding=1)  # input channel is 1\n",
        "        self.bn1 = nn.BatchNorm1d(128)\n",
        "        self.conv2 = nn.Conv1d(128, 256, kernel_size=3, padding=1)\n",
        "        self.bn2 = nn.BatchNorm1d(256)\n",
        "        self.pool = nn.MaxPool1d(2)  # Downsample, resulting in halving the sequence length\n",
        "        \n",
        "        # After two pooling operations on an input of length 16:\n",
        "        # First pooling -> 16 / 2 = 8\n",
        "        # Second pooling -> 8 / 2 = 4\n",
        "        # Therefore, the flattened size before the fully connected layer is 256 * 4\n",
        "        self.fc1 = nn.Linear(256 * 4, 512)  # Adjusted the size for the new flattened output\n",
        "        self.dropout = nn.Dropout(0.5)\n",
        "        self.fc2 = nn.Linear(512, 128)\n",
        "        self.fc3 = nn.Linear(128, out_features)\n",
        "        \n",
        "    def forward(self, x):\n",
        "        # x shape is (batch_size, 1, 16)\n",
        "        x = F.relu(self.bn1(self.conv1(x)))\n",
        "        x = self.pool(x)  # x shape becomes (batch_size, 128, 8)\n",
        "        x = F.relu(self.bn2(self.conv2(x)))\n",
        "        x = self.pool(x)  # x shape becomes (batch_size, 256, 4)\n",
        "        \n",
        "        # Flatten before passing to the dense layer\n",
        "        x = x.view(x.size(0), -1)  # Flatten to (batch_size, 256*4)\n",
        "        \n",
        "        x = F.relu(self.fc1(x))\n",
        "        x = self.dropout(x)\n",
        "        x = F.relu(self.fc2(x))\n",
        "        x = self.fc3(x)  # No activation, assuming we're using BCEWithLogitsLoss or similar\n",
        "        \n",
        "        return x\n",
        "\n",
        "\n",
        "\n",
        "#split the data into train and valid\n",
        "    \n",
        "from sklearn.model_selection import train_test_split\n",
        "X_train, X_test, y_train, y_test = train_test_split(encoded_datas_node, actual_labels, test_size=0.1, random_state=42)\n",
        "\n",
        "train_dataset=encoded_dataset(X_train,y_train)\n",
        "test_dataset=encoded_dataset(X_test,y_test)\n",
        "\n",
        "train_loader = DataLoader(train_dataset, batch_size=16, shuffle=True)\n",
        "\n",
        "test_loader = DataLoader(test_dataset, batch_size=16, shuffle=True)\n",
        "\n",
        "\n",
        "\n",
        "test_final_dataset=encoded_dataset(encoded_datas_test_node,actual_labels_test)\n",
        "test_final_loader = DataLoader(test_final_dataset, batch_size=32, shuffle = False)\n",
        "\n",
        "#train the classifier\n",
        "\n",
        "classifier = EncodedClassifier(16, 1).to(DEVICE)\n",
        "\n",
        "optimizer = torch.optim.Adam(classifier.parameters(), lr=1e-4)\n",
        "criterion = nn.BCEWithLogitsLoss()\n",
        "\n",
        "epochs = 1000\n",
        "\n",
        "#calculate the accuracy and roc_auc_score for each epoch. Save the best model based on the roc_auc_score\n",
        "\n",
        "from sklearn.metrics import accuracy_score, roc_auc_score\n",
        "\n",
        "best_auc = 0\n",
        "\n",
        "for epoch in range(epochs):\n",
        "    classifier.train()\n",
        "    train_loss = 0.0\n",
        "    for data, target in train_loader:\n",
        "        # Add a channel dimension to the data if necessary\n",
        "        data = data.unsqueeze(1)  # This adds the channel dimension, converting [batch_size, sequence_length] to [batch_size, 1, sequence_length]\n",
        "        data, target = data.to(DEVICE), target.to(DEVICE)\n",
        "        optimizer.zero_grad()\n",
        "        output = classifier(data)\n",
        "        loss = criterion(output, target.unsqueeze(1).float())\n",
        "        loss.backward()\n",
        "        optimizer.step()\n",
        "\n",
        "        train_loss += loss.item() * data.size(0)\n",
        "    train_loss = train_loss / len(train_loader.dataset)\n",
        "    # print(f\"Epoch {epoch} - Train Loss: {train_loss}\")\n",
        "    \n",
        "    classifier.eval()\n",
        "    test_loss = 0.0\n",
        "    y_true = []\n",
        "    y_pred = []\n",
        "    with torch.no_grad():\n",
        "        for data, target in test_final_loader:\n",
        "            data = data.unsqueeze(1)  # This adds the channel dimension, converting [batch_size, sequence_length] to [batch_size, 1, sequence_length]\n",
        " \n",
        "            data, target = data.to(DEVICE), target.to(DEVICE)\n",
        "            output = classifier(data)\n",
        "            loss = criterion(output, target.unsqueeze(1).float())\n",
        "            test_loss += loss.item() * data.size(0)\n",
        "            y_true += target.cpu().numpy().tolist()\n",
        "            y_pred += torch.sigmoid(output).cpu().numpy().tolist()\n",
        "    test_loss = test_loss / len(test_final_loader.dataset)\n",
        "    y_pred = [i[0] for i in y_pred]\n",
        "    auc = roc_auc_score(y_true, y_pred)\n",
        "    accuracy = accuracy_score(y_true, [1 if i > 0.5 else 0 for i in y_pred])\n",
        "    # print(f\"Epoch {epoch} - Test Loss: {test_loss} - AUC: {auc} - Accuracy: {accuracy}\")\n",
        "    if auc > best_auc:\n",
        "        print(f\"Saving best model with AUC: {auc}\")\n",
        "        torch.save(\n",
        "            classifier.state_dict(),\n",
        "            \"./Seperated_dataset/nr-ahr/best_classifier_gae_node.pt\"\n",
        "        )\n",
        "        best_auc = auc\n",
        "\n",
        "#load the best classifier"
      ]
    },
    {
      "cell_type": "code",
      "execution_count": null,
      "metadata": {},
      "outputs": [],
      "source": []
    },
    {
      "cell_type": "markdown",
      "metadata": {},
      "source": [
        "# combine features"
      ]
    },
    {
      "cell_type": "markdown",
      "metadata": {},
      "source": [
        "encod"
      ]
    },
    {
      "cell_type": "code",
      "execution_count": 31,
      "metadata": {},
      "outputs": [
        {
          "data": {
            "text/plain": [
              "<All keys matched successfully>"
            ]
          },
          "execution_count": 31,
          "metadata": {},
          "output_type": "execute_result"
        }
      ],
      "source": [
        "encoder_node = GraphEncoder(20, 16, 16).to(DEVICE)\n",
        "encoder_edge= GraphEncoder(20, 16, 16).to(DEVICE)\n",
        "decoder_node = GraphDecoder(16, 16, 20).to(DEVICE)\n",
        "decoder_edge = GraphDecoder(16, 16, 20).to(DEVICE)\n",
        "\n",
        "\n",
        "encoder_node.load_state_dict(torch.load(\"encoder_weights_epoch_151.pth\"))\n",
        "decoder_node.load_state_dict(torch.load(\"decoder_weights_epoch_151.pth\"))\n",
        "\n",
        "encoder_edge.load_state_dict(torch.load(\"encoder_weights_dual_epoch_11.pth\"))\n",
        "decoder_edge.load_state_dict(torch.load(\"decoder_weights_dual_epoch_11.pth\"))"
      ]
    },
    {
      "cell_type": "code",
      "execution_count": 141,
      "metadata": {},
      "outputs": [],
      "source": [
        "nr_ahr_data=torch.load(\"Seperated_dataset/nr-ahr/train_feature.pt\")\n",
        "nr_ahr_label=torch.load(\"Seperated_dataset/nr-ahr/train_labels.pt\")\n",
        "\n",
        "\n",
        "nr_ahr_test_data=torch.load(\"Seperated_dataset/nr-ahr/test_feature.pt\")\n",
        "nr_ahr_test_label=torch.load(\"Seperated_dataset/nr-ahr/test_labels.pt\")\n",
        "\n",
        "nr_ahr_bert_data=torch.load(\"Seperated_dataset/nr-ahr/train_feature_bert.pt\")\n",
        "nr_ahr_test_bert_data=torch.load(\"Seperated_dataset/nr-ahr/test_feature_bert.pt\")   \n",
        "\n",
        "nr_ahr_bert_labels=torch.load(\"Seperated_dataset/nr-ahr/train_labels_bert.pt\")\n",
        "nr_ahr_bert_labels_test=torch.load(\"Seperated_dataset/nr-ahr/test_labels_bert.pt\")\n"
      ]
    },
    {
      "cell_type": "code",
      "execution_count": 154,
      "metadata": {},
      "outputs": [
        {
          "data": {
            "application/vnd.jupyter.widget-view+json": {
              "model_id": "7753b28efa3544938f5304cdd975f999",
              "version_major": 2,
              "version_minor": 0
            },
            "text/plain": [
              "0it [00:00, ?it/s]"
            ]
          },
          "metadata": {},
          "output_type": "display_data"
        },
        {
          "data": {
            "application/vnd.jupyter.widget-view+json": {
              "model_id": "be05a687996d42508daa3fa886296d0b",
              "version_major": 2,
              "version_minor": 0
            },
            "text/plain": [
              "0it [00:00, ?it/s]"
            ]
          },
          "metadata": {},
          "output_type": "display_data"
        },
        {
          "data": {
            "text/plain": [
              "(1894, 1894, 607, 607, 1894, 607, 1894, 607)"
            ]
          },
          "execution_count": 154,
          "metadata": {},
          "output_type": "execute_result"
        }
      ],
      "source": [
        "nr_ahr_dual_graphs=[]\n",
        "nr_ahr_graphs=[]\n",
        "nr_ahr_dual_graphs_test=[]\n",
        "nr_ahr_combined_graphs_test=[]\n",
        "\n",
        "\n",
        "nr_ahr_label_final=[]\n",
        "nr_ahr_label_final_test=[]\n",
        "\n",
        "\n",
        "nr_ahr_bert_final=[]\n",
        "nr_ahr_bert_final_test=[]\n",
        "\n",
        "\n",
        "for graph,label,bert_data,bert_label in tqdm(zip(nr_ahr_data,nr_ahr_label,nr_ahr_bert_data,nr_ahr_bert_labels)): \n",
        "        \n",
        "    \n",
        "        if(graph is None):\n",
        "            continue\n",
        "        if(graph.edge_index is None):\n",
        "            continue\n",
        "        if(graph.edge_index.shape[0]==0 or graph.edge_index.shape[1]==0):\n",
        "            continue\n",
        "    \n",
        "        \n",
        "        graph = graph.to('cpu')\n",
        "        dual_graph=create_line_graph(graph)\n",
        "\n",
        "\n",
        "        if(dual_graph is None):\n",
        "            continue\n",
        "        if(dual_graph.edge_index is None):\n",
        "            continue\n",
        "        if(dual_graph.edge_index.shape[0]==0 or dual_graph.edge_index.shape[1]==0):\n",
        "            continue\n",
        "    \n",
        "        nr_ahr_dual_graphs.append(dual_graph)\n",
        "        nr_ahr_graphs.append(graph)\n",
        "        nr_ahr_label_final.append(label)\n",
        "        nr_ahr_bert_final.append(bert_data.squeeze(0))\n",
        "\n",
        "        if(bert_label!=label):\n",
        "            print(i)\n",
        "\n",
        "\n",
        "\n",
        "\n",
        "i=0\n",
        "for graph,label,bert_data,bert_test_label in tqdm(zip(nr_ahr_test_data,nr_ahr_test_label,nr_ahr_test_bert_data,nr_ahr_bert_labels_test)):\n",
        "                \n",
        "            \n",
        "                if(graph is None):\n",
        "                    continue\n",
        "                if(graph.edge_index is None):\n",
        "                    continue\n",
        "                if(graph.edge_index.shape[0]==0 or graph.edge_index.shape[1]==0):\n",
        "                    continue\n",
        "\n",
        "\n",
        "                \n",
        "                graph = graph.to('cpu')\n",
        "            \n",
        "                dual_graph=create_line_graph(graph)\n",
        "            \n",
        "                if(dual_graph is None):\n",
        "                    continue\n",
        "                if(dual_graph.edge_index is None):\n",
        "                    continue\n",
        "                if(dual_graph.edge_index.shape[0]==0 or dual_graph.edge_index.shape[1]==0):\n",
        "                    continue\n",
        "            \n",
        "                nr_ahr_dual_graphs_test.append(dual_graph)\n",
        "                nr_ahr_combined_graphs_test.append(graph)\n",
        "                nr_ahr_label_final_test.append(label)\n",
        "                nr_ahr_bert_final_test.append(bert_data)\n",
        "                if(bert_test_label!=label):\n",
        "                    print(i)\n",
        "\n",
        "len(nr_ahr_dual_graphs),len(nr_ahr_graphs),len(nr_ahr_dual_graphs_test),len(nr_ahr_combined_graphs_test),len(nr_ahr_label_final),len(nr_ahr_label_final_test),len(nr_ahr_bert_final),len(nr_ahr_bert_final_test)"
      ]
    },
    {
      "cell_type": "code",
      "execution_count": null,
      "metadata": {},
      "outputs": [],
      "source": []
    },
    {
      "cell_type": "code",
      "execution_count": 163,
      "metadata": {},
      "outputs": [
        {
          "data": {
            "application/vnd.jupyter.widget-view+json": {
              "model_id": "0926a504820d4c379e4ee12f24a1f37b",
              "version_major": 2,
              "version_minor": 0
            },
            "text/plain": [
              "0it [00:00, ?it/s]"
            ]
          },
          "metadata": {},
          "output_type": "display_data"
        },
        {
          "data": {
            "application/vnd.jupyter.widget-view+json": {
              "model_id": "6b84801419cd4a609a49daa10793029d",
              "version_major": 2,
              "version_minor": 0
            },
            "text/plain": [
              "0it [00:00, ?it/s]"
            ]
          },
          "metadata": {},
          "output_type": "display_data"
        },
        {
          "data": {
            "application/vnd.jupyter.widget-view+json": {
              "model_id": "6ba21a4046234084a3dedb95bdf509be",
              "version_major": 2,
              "version_minor": 0
            },
            "text/plain": [
              "0it [00:00, ?it/s]"
            ]
          },
          "metadata": {},
          "output_type": "display_data"
        },
        {
          "data": {
            "application/vnd.jupyter.widget-view+json": {
              "model_id": "cc88d034c3144409a15e724a46996984",
              "version_major": 2,
              "version_minor": 0
            },
            "text/plain": [
              "0it [00:00, ?it/s]"
            ]
          },
          "metadata": {},
          "output_type": "display_data"
        }
      ],
      "source": [
        "encoded_datas_node=[]\n",
        "encoded_datas_edge=[]\n",
        "actual_labels=[]\n",
        "\n",
        "encoded_datas_test_node=[]\n",
        "encoded_datas_test_edge=[]\n",
        "actual_labels_test=[]\n",
        "\n",
        "\n",
        "for data,label in tqdm(zip(nr_ahr_graphs,nr_ahr_label_final)):\n",
        "    encoder_node.eval()\n",
        "    with torch.no_grad():\n",
        "        # print(data)\n",
        "        if(data.edge_index is None):\n",
        "            # print(\"edge index is none\")\n",
        "            continue\n",
        "        if(data.edge_index.shape[0] == 0 or data.x.shape[1] == 0):\n",
        "            # print(\"edge index shape is 0\")\n",
        "            continue    \n",
        "        g_data=data.to(DEVICE)\n",
        "        g_data.edge_index=g_data.edge_index.long()\n",
        "\n",
        "        z = encoder_node(g_data.x, g_data.edge_index)\n",
        "        encoded_datas_node.append(z)\n",
        "        actual_labels.append(label)\n",
        "\n",
        "\n",
        "for data,label in tqdm(zip(nr_ahr_dual_graphs,nr_ahr_label_final)):\n",
        "    encoder_edge.eval()\n",
        "    with torch.no_grad():\n",
        "        # print(data)\n",
        "        if(data.edge_index is None):\n",
        "            continue\n",
        "        if(data.edge_index.shape[0] == 0 or data.x.shape[1] == 0):\n",
        "            continue    \n",
        "        g_data=data.to(DEVICE)\n",
        "        g_data.edge_index=g_data.edge_index.long()\n",
        "\n",
        "        z = encoder_edge(g_data.x, g_data.edge_index)\n",
        "        encoded_datas_edge.append(z)\n",
        "        # actual_labels.append(label)\n",
        "\n",
        "\n",
        "\n",
        "for data,label in tqdm(zip(nr_ahr_combined_graphs_test,nr_ahr_label_final_test)):\n",
        "    encoder_node.eval()\n",
        "    with torch.no_grad():\n",
        "        # print(data)\n",
        "        if(data.edge_index is None):\n",
        "            continue\n",
        "        if(data.edge_index.shape[0] == 0 or data.x.shape[1] == 0):\n",
        "            continue    \n",
        "        g_data=data.to(DEVICE)\n",
        "        g_data.edge_index=g_data.edge_index.long()\n",
        "\n",
        "        z = encoder_node(g_data.x, g_data.edge_index)\n",
        "        encoded_datas_test_node.append(z)\n",
        "        actual_labels_test.append(label)\n",
        "\n",
        "\n",
        "for data,label in tqdm(zip(nr_ahr_dual_graphs_test,nr_ahr_label_final_test)):\n",
        "    encoder_edge.eval()\n",
        "    with torch.no_grad():\n",
        "        # print(data)\n",
        "        if(data.edge_index is None):\n",
        "            continue\n",
        "        if(data.edge_index.shape[0] == 0 or data.x.shape[1] == 0):\n",
        "            continue    \n",
        "        g_data=data.to(DEVICE)\n",
        "        g_data.edge_index=g_data.edge_index.long()\n",
        "\n",
        "        z = encoder_edge(g_data.x, g_data.edge_index)\n",
        "        encoded_datas_test_edge.append(z)\n",
        "        # actual_labels_test.append(label)\n",
        "\n",
        "\n",
        "\n",
        "for i in range(len(encoded_datas_node)):\n",
        "    encoded_datas_node[i]=torch.mean(encoded_datas_node[i],dim=0)\n",
        "    # detach at cp\n",
        "    encoded_datas_node[i]=encoded_datas_node[i].detach().cpu().numpy()\n",
        "    encoded_datas_node[i]=torch.tensor(encoded_datas_node[i])\n",
        "\n",
        "\n",
        "for i in range(len(encoded_datas_edge)):\n",
        "    encoded_datas_edge[i]=torch.mean(encoded_datas_edge[i],dim=0)\n",
        "    # detach at cp\n",
        "    encoded_datas_edge[i]=encoded_datas_edge[i].detach().cpu().numpy()\n",
        "    encoded_datas_edge[i]=torch.tensor(encoded_datas_edge[i])\n",
        "\n",
        "\n",
        "for i in range(len(encoded_datas_test_node)):\n",
        "\n",
        "    encoded_datas_test_node[i]=torch.mean(encoded_datas_test_node[i],dim=0)\n",
        "    # detach at cp\n",
        "\n",
        "    \n",
        "    encoded_datas_test_node[i]=encoded_datas_test_node[i].detach().cpu().numpy()\n",
        "    encoded_datas_test_node[i]=torch.tensor(encoded_datas_test_node[i])\n",
        "\n",
        "\n",
        "for i in range(len(encoded_datas_test_edge)):\n",
        "\n",
        "    encoded_datas_test_edge[i]=torch.mean(encoded_datas_test_edge[i],dim=0)\n",
        "    # detach at cp\n",
        "    encoded_datas_test_edge[i]=encoded_datas_test_edge[i].detach().cpu().numpy()\n",
        "    encoded_datas_test_edge[i]=torch.tensor(encoded_datas_test_edge[i])\n",
        "\n",
        "    \n",
        "\n",
        "\n"
      ]
    },
    {
      "cell_type": "code",
      "execution_count": null,
      "metadata": {},
      "outputs": [],
      "source": []
    },
    {
      "cell_type": "code",
      "execution_count": 165,
      "metadata": {},
      "outputs": [],
      "source": [
        "encoded_datas_combined=[]\n",
        "encoded_datas_test_combined=[]\n",
        "\n",
        "for i in range(len(encoded_datas_node)):\n",
        "    nr_ahr_bert_final[i]=nr_ahr_bert_final[i].to('cpu').squeeze(0)\n",
        "    encoded_datas_combined.append(torch.cat([encoded_datas_node[i],encoded_datas_edge[i],nr_ahr_bert_final[i]],dim=0))\n",
        "    \n",
        "    # encoded_datas_combined.append(nr_ahr_bert_final[i])\n",
        "\n",
        "for i in range(len(encoded_datas_test_node)):\n",
        "    \n",
        "    nr_ahr_bert_final_test[i]=nr_ahr_bert_final_test[i].to('cpu').squeeze(0)\n",
        "    encoded_datas_test_combined.append(torch.cat([encoded_datas_test_node[i],encoded_datas_test_edge[i],nr_ahr_bert_final_test[i]],dim=0))\n",
        "    # encoded_datas_test_combined.append(nr_ahr_bert_final_test[i])"
      ]
    },
    {
      "cell_type": "code",
      "execution_count": 166,
      "metadata": {},
      "outputs": [
        {
          "data": {
            "text/plain": [
              "torch.Size([800])"
            ]
          },
          "execution_count": 166,
          "metadata": {},
          "output_type": "execute_result"
        }
      ],
      "source": [
        "encoded_datas_test_combined[0].shape"
      ]
    },
    {
      "cell_type": "code",
      "execution_count": 173,
      "metadata": {},
      "outputs": [
        {
          "name": "stdout",
          "output_type": "stream",
          "text": [
            "Saving best model with AUC: 0.844124448181627\n",
            "Saving best model with AUC: 0.8510615934412444\n",
            "Saving best model with AUC: 0.8517447971410553\n",
            "Saving best model with AUC: 0.8541360100903932\n",
            "Saving best model with AUC: 0.8551870927054865\n",
            "Saving best model with AUC: 0.8581301240277486\n",
            "Saving best model with AUC: 0.8623344544881227\n",
            "Saving best model with AUC: 0.8682205171326467\n",
            "Saving best model with AUC: 0.870112465839815\n",
            "Saving best model with AUC: 0.8706380071473617\n",
            "Saving best model with AUC: 0.8716102585663233\n",
            "Saving best model with AUC: 0.8739489173849064\n",
            "Saving best model with AUC: 0.8740803027117932\n",
            "Saving best model with AUC: 0.8756043725036788\n",
            "Saving best model with AUC: 0.8772861046878285\n",
            "Saving best model with AUC: 0.8796773176371663\n",
            "Saving best model with AUC: 0.8832772755938617\n"
          ]
        },
        {
          "ename": "KeyboardInterrupt",
          "evalue": "",
          "output_type": "error",
          "traceback": [
            "\u001b[1;31m---------------------------------------------------------------------------\u001b[0m",
            "\u001b[1;31mKeyboardInterrupt\u001b[0m                         Traceback (most recent call last)",
            "Cell \u001b[1;32mIn[173], line 114\u001b[0m\n\u001b[0;32m    111\u001b[0m     loss\u001b[38;5;241m.\u001b[39mbackward()\n\u001b[0;32m    112\u001b[0m     optimizer\u001b[38;5;241m.\u001b[39mstep()\n\u001b[1;32m--> 114\u001b[0m     train_loss \u001b[38;5;241m+\u001b[39m\u001b[38;5;241m=\u001b[39m loss\u001b[38;5;241m.\u001b[39mitem() \u001b[38;5;241m*\u001b[39m data\u001b[38;5;241m.\u001b[39msize(\u001b[38;5;241m0\u001b[39m)\n\u001b[0;32m    115\u001b[0m train_loss \u001b[38;5;241m=\u001b[39m train_loss \u001b[38;5;241m/\u001b[39m \u001b[38;5;28mlen\u001b[39m(train_loader\u001b[38;5;241m.\u001b[39mdataset)\n\u001b[0;32m    116\u001b[0m \u001b[38;5;66;03m# print(f\"Epoch {epoch} - Train Loss: {train_loss}\")\u001b[39;00m\n",
            "\u001b[1;31mKeyboardInterrupt\u001b[0m: "
          ]
        }
      ],
      "source": [
        "import numpy as np\n",
        "#create a dataloader for the encoded data\n",
        "class encoded_dataset(Dataset):\n",
        "    def __init__(self, \n",
        "                 data: List[torch.Tensor],\n",
        "                 labels: List[int],\n",
        "                 root: str | None = None, \n",
        "                 transform: Callable[..., Any] | None = None, \n",
        "                 pre_transform: Callable[..., Any] | None = None, \n",
        "                 pre_filter: Callable[..., Any] | None = None, \n",
        "                 log: bool = True):\n",
        "        super().__init__(root, transform, pre_transform, pre_filter, log)\n",
        "        self.data = data\n",
        "        self.labels = labels\n",
        "        \n",
        "    def len(self):\n",
        "        return len(self.data)\n",
        "\n",
        "    def get(self, idx):\n",
        "        # Ensure that data and labels are torch.Tensors\n",
        "        data_tensor = torch.Tensor(self.data[idx]) if isinstance(self.data[idx], np.ndarray) else self.data[idx]\n",
        "        label_tensor = torch.tensor(self.labels[idx], dtype=torch.long) \n",
        "        # print(data_tensor)\n",
        "        # print(label_tensor)\n",
        "        return data_tensor, label_tensor\n",
        "\n",
        "class EncodedClassifier(nn.Module):\n",
        "    def __init__(self, in_features, out_features):\n",
        "        super(EncodedClassifier, self).__init__()\n",
        "\n",
        "        # Assuming the input shape is (batch_size, 1, 800)\n",
        "        self.conv1 = nn.Conv1d(1, 128, kernel_size=3, padding=1)  # input channel is 1\n",
        "        self.bn1 = nn.BatchNorm1d(128)\n",
        "        self.conv2 = nn.Conv1d(128, 256, kernel_size=3, padding=1)\n",
        "        self.bn2 = nn.BatchNorm1d(256)\n",
        "        self.pool = nn.MaxPool1d(2)  # Downsample\n",
        "\n",
        "        # Adjust the input features for the first linear layer according to the output of conv and pool layers\n",
        "        self.fc1 = nn.Linear(256 * 200, 512)  # Adjusted for the new flattened size\n",
        "        self.dropout = nn.Dropout(0.5)\n",
        "        self.fc2 = nn.Linear(512, 128)\n",
        "        self.fc3 = nn.Linear(128, out_features)\n",
        "        \n",
        "    def forward(self, x):\n",
        "        # x shape is (batch_size, 1, 800)\n",
        "        x = F.relu(self.bn1(self.conv1(x)))\n",
        "        x = self.pool(x)  # shape now (batch_size, 128, 400)\n",
        "        x = F.relu(self.bn2(self.conv2(x)))\n",
        "        x = self.pool(x)  # shape now (batch_size, 256, 200)\n",
        "        \n",
        "        # Flatten before passing to the dense layer\n",
        "        x = x.view(x.size(0), -1)  # Flatten to (batch_size, 256*200)\n",
        "        \n",
        "        x = F.relu(self.fc1(x))\n",
        "        x = self.dropout(x)\n",
        "        x = F.relu(self.fc2(x))\n",
        "        x = self.fc3(x)  # Output layer, no activation\n",
        "        \n",
        "        return x\n",
        "\n",
        "\n",
        "\n",
        "\n",
        "#set seed for reproducibility\n",
        "torch.manual_seed(0)\n",
        "\n",
        "\n",
        "\n",
        "#split the data into train and valid\n",
        "    \n",
        "from sklearn.model_selection import train_test_split\n",
        "X_train, X_test, y_train, y_test = train_test_split(encoded_datas_combined, actual_labels, test_size=0.1, random_state=42)\n",
        "\n",
        "train_dataset=encoded_dataset(X_train,y_train)\n",
        "test_dataset=encoded_dataset(X_test,y_test)\n",
        "\n",
        "train_loader = DataLoader(train_dataset, batch_size=16, shuffle=True)\n",
        "\n",
        "test_loader = DataLoader(test_dataset, batch_size=16, shuffle=True)\n",
        "\n",
        "\n",
        "\n",
        "test_final_dataset=encoded_dataset(encoded_datas_test_combined,actual_labels_test)\n",
        "test_final_loader = DataLoader(test_final_dataset, batch_size=32, shuffle = False)\n",
        "\n",
        "#train the classifier\n",
        "\n",
        "classifier = EncodedClassifier(800, 1).to(DEVICE)\n",
        "\n",
        "optimizer = torch.optim.Adam(classifier.parameters(), lr=1e-4)\n",
        "criterion = nn.BCEWithLogitsLoss()\n",
        "\n",
        "epochs = 1000\n",
        "\n",
        "#calculate the accuracy and roc_auc_score for each epoch. Save the best model based on the roc_auc_score\n",
        "\n",
        "from sklearn.metrics import accuracy_score, roc_auc_score\n",
        "\n",
        "best_auc = 0\n",
        "\n",
        "for epoch in range(epochs):\n",
        "    classifier.train()\n",
        "    train_loss = 0.0\n",
        "    for data, target in train_loader:\n",
        "        # Add a channel dimension to the data if necessary\n",
        "        data = data.unsqueeze(1)  # This adds the channel dimension, converting [batch_size, sequence_length] to [batch_size, 1, sequence_length]\n",
        "        data, target = data.to(DEVICE), target.to(DEVICE)\n",
        "        optimizer.zero_grad()\n",
        "        output = classifier(data)\n",
        "        loss = criterion(output, target.unsqueeze(1).float())\n",
        "        loss.backward()\n",
        "        optimizer.step()\n",
        "\n",
        "        train_loss += loss.item() * data.size(0)\n",
        "    train_loss = train_loss / len(train_loader.dataset)\n",
        "    # print(f\"Epoch {epoch} - Train Loss: {train_loss}\")\n",
        "    \n",
        "    classifier.eval()\n",
        "    test_loss = 0.0\n",
        "    y_true = []\n",
        "    y_pred = []\n",
        "    with torch.no_grad():\n",
        "        for data, target in test_final_loader:\n",
        "            data = data.unsqueeze(1)  # This adds the channel dimension, converting [batch_size, sequence_length] to [batch_size, 1, sequence_length]\n",
        " \n",
        "            data, target = data.to(DEVICE), target.to(DEVICE)\n",
        "            output = classifier(data)\n",
        "            loss = criterion(output, target.unsqueeze(1).float())\n",
        "            test_loss += loss.item() * data.size(0)\n",
        "            y_true += target.cpu().numpy().tolist()\n",
        "            y_pred += torch.sigmoid(output).cpu().numpy().tolist()\n",
        "    test_loss = test_loss / len(test_final_loader.dataset)\n",
        "    y_pred = [i[0] for i in y_pred]\n",
        "    auc = roc_auc_score(y_true, y_pred)\n",
        "    accuracy = accuracy_score(y_true, [1 if i > 0.5 else 0 for i in y_pred])\n",
        "    # print(f\"Epoch {epoch} - Test Loss: {test_loss} - AUC: {auc} - Accuracy: {accuracy}\")\n",
        "    if auc > best_auc:\n",
        "        print(f\"Saving best model with AUC: {auc}\")\n",
        "        torch.save(\n",
        "            classifier.state_dict(),\n",
        "            \"./Seperated_dataset/nr-ahr/best_classifier_gae_combined_with_bert.pt\"\n",
        "        )\n",
        "        best_auc = auc\n",
        "\n",
        "#load the best classifier"
      ]
    }
  ],
  "metadata": {
    "kernelspec": {
      "display_name": "thesis",
      "language": "python",
      "name": "python3"
    },
    "language_info": {
      "codemirror_mode": {
        "name": "ipython",
        "version": 3
      },
      "file_extension": ".py",
      "mimetype": "text/x-python",
      "name": "python",
      "nbconvert_exporter": "python",
      "pygments_lexer": "ipython3",
      "version": "3.11.5"
    }
  },
  "nbformat": 4,
  "nbformat_minor": 2
}
