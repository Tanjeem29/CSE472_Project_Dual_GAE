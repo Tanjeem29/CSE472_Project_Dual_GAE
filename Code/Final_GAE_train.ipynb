{
 "cells": [
  {
   "cell_type": "code",
   "execution_count": 1,
   "metadata": {},
   "outputs": [],
   "source": [
    "# from typing import Callable, Optional\n",
    "# import torch\n",
    "# from torch import nn\n",
    "# import torch.nn.functional as F\n",
    "# from torch_geometric.data import DataLoader, Dataset\n",
    "# from torch_geometric.nn import VGAE, GATConv, GCNConv, GAE\n",
    "# from torch_geometric.utils import train_test_split_edges\n",
    "# from typing import Any, List\n",
    "# import os\n",
    "# import os.path as osp\n",
    "# from copy import copy\n",
    "# from tqdm import tqdm\n",
    "# import warnings\n",
    "# warnings.filterwarnings(\"ignore\")\n",
    "# import pickle\n",
    "\n",
    "# #empty cuda cache\n",
    "# torch.cuda.empty_cache()\n",
    "\n",
    "\n",
    "\n",
    "# DEVICE = \"cuda\" if torch.cuda.is_available() else \"cpu\"\n",
    "\n",
    "# class graph_dataset(Dataset):\n",
    "#     def __init__(self, \n",
    "#                  files_list: List[str],\n",
    "#                  root: str | None = None, \n",
    "#                  transform: Callable[..., Any] | None = None, \n",
    "#                  pre_transform: Callable[..., Any] | None = None, \n",
    "#                  pre_filter: Callable[..., Any] | None = None, \n",
    "#                  log: bool = True):\n",
    "#         super().__init__(root, transform, pre_transform, pre_filter, log)\n",
    "#         self.files_list = files_list\n",
    "        \n",
    "        \n",
    "#     @property\n",
    "#     def raw_file_names(self):\n",
    "#         return self.files_list\n",
    "    \n",
    "#     @property\n",
    "#     def processed_file_names(self):\n",
    "#         return self.files_list\n",
    "    \n",
    "#     def len(self):\n",
    "#         return len(self.processed_file_names)\n",
    "\n",
    "#     def get(self, idx):\n",
    "#         data = torch.load(osp.join(self.processed_dir, f'data_{idx}.pt'))\n",
    "#         return data\n",
    "    \n",
    "# class VariationalGCNEncoder(torch.nn.Module):\n",
    "#     def __init__(self, in_channels, out_channels):\n",
    "#         super(VariationalGCNEncoder, self).__init__()\n",
    "#         self.conv1 = GCNConv(in_channels, 2 * out_channels, cached=True) # cached only for transductive learning\n",
    "#         self.conv_mu = GCNConv(2 * out_channels, out_channels, cached=True)\n",
    "#         self.conv_logstd = GCNConv(2 * out_channels, out_channels, cached=True)\n",
    "\n",
    "#     def forward(self, x, edge_index):\n",
    "#         x = self.conv1(x, edge_index).relu()\n",
    "#         return self.conv_mu(x, edge_index), self.conv_logstd(x, edge_index)\n",
    "    \n",
    "    \n",
    "# class VariationalGATEncoder(torch.nn.Module):\n",
    "#     def __init__(self, in_channels, out_channels, hidden_channels):\n",
    "#         super(VariationalGATEncoder, self).__init__()\n",
    "#         self.conv1 = GATConv(in_channels, hidden_channels, heads=1, dropout=0.2) # cached only for transductive learning\n",
    "#         self.conv_mu = GATConv(hidden_channels, out_channels, heads=1, dropout=0.2)\n",
    "#         self.conv_logstd = GATConv(hidden_channels, out_channels, heads=1, dropout=0.2)\n",
    "\n",
    "#     def forward(self, x, edge_index):\n",
    "#         x = self.conv1(x, edge_index).relu()\n",
    "#         return self.conv_mu(x, edge_index), self.conv_logstd(x, edge_index)\n",
    "    \n",
    "    \n",
    "# def train(model, optimizer, g_data):\n",
    "#     model.train()\n",
    "#     optimizer.zero_grad()\n",
    "#     z = model.encode(g_data.x, g_data.train_pos_edge_index)\n",
    "#     loss = model.recon_loss(z, g_data.train_pos_edge_index)\n",
    "    \n",
    "#     loss = loss + (1 / g_data.num_nodes) * model.kl_loss()  # new line\n",
    "#     loss.backward()\n",
    "#     optimizer.step()\n",
    "        \n",
    "#     return float(loss) \n",
    "\n",
    "\n",
    "# def test(model, g_data):\n",
    "#     # print(g_data.x)\n",
    "#     model.eval()\n",
    "#     with torch.no_grad():\n",
    "#         z = model.encode(g_data.x, g_data.train_pos_edge_index)\n",
    "#     return model.test(z, g_data.test_pos_edge_index, g_data.test_neg_edge_index)\n",
    "\n",
    "\n",
    "# def train_vgae(model, datas, optimizer):\n",
    "#     # print(datas)\n",
    "#     total_loss = 0\n",
    "#     total_ap, total_auc = 0, 0\n",
    "#     for data in tqdm(datas, leave=False):\n",
    "\n",
    "#         #if graph is None, skip\n",
    "#         if data is None:\n",
    "#             continue\n",
    "\n",
    "#         if(data.edge_index is None):\n",
    "#             continue\n",
    "\n",
    "#         if(data.x is None):\n",
    "#             continue\n",
    "\n",
    "#         if(data.edge_index.shape[0] == 0 or data.x.shape[1] == 0):\n",
    "#             continue\n",
    "        \n",
    "#         # path = f\"./graphs/{data}\"\n",
    "#         g_data = data.to(DEVICE)\n",
    "#         # print(g_data.edge_index.shape)\n",
    "        \n",
    "#         # g_data=torch.load(open(f\"graphs/{data}\", \"rb\")).to(DEVICE)\n",
    "\n",
    "#         # print(g_data.edge_index.shape)\n",
    "#         g_data.edge_index = torch.vstack([g_data.edge_index[1, :], g_data.edge_index[0, :]])\n",
    "#         g_data = train_test_split_edges(g_data)\n",
    "\n",
    "\n",
    "        \n",
    "\n",
    "\n",
    "\n",
    "#         # print(g_data)\n",
    "#         loss = train(model, optimizer, g_data)\n",
    "\n",
    "#         if g_data.test_pos_edge_index.size(1) == 0:\n",
    "#             # print(f\"No edges to train/test on for graph {g_data}\")\n",
    "#             continue  # Skip this graph\n",
    "\n",
    "#         # print(\"here\")\n",
    "#         # print(loss)\n",
    "#         total_loss += loss\n",
    "#         auc, ap = test(model, g_data)\n",
    "#         total_auc += auc\n",
    "#         total_ap += ap\n",
    "        \n",
    "#     return total_loss / len(datas), total_ap / len(datas), total_auc / len(datas)\n",
    "\n"
   ]
  },
  {
   "cell_type": "code",
   "execution_count": 85,
   "metadata": {},
   "outputs": [],
   "source": [
    "# TODO: Need to load our connectome dataset\n",
    "datas=graphs\n",
    "# Define the graph encoder model\n",
    "class GraphEncoder(torch.nn.Module):\n",
    "    def __init__(self, input_dim, hidden_dim, encoding_dim):\n",
    "        super(GraphEncoder, self).__init__()\n",
    "        self.conv1 = GCNConv(input_dim, hidden_dim)\n",
    "        self.conv2 = GCNConv(hidden_dim, encoding_dim)\n",
    "\n",
    "    def forward(self, x, edge_index):\n",
    "        x = F.relu(self.conv1(x, edge_index))\n",
    "        x=F.dropout(x,p=0.2)\n",
    "        z = self.conv2(x, edge_index)\n",
    "        z=F.dropout(z,p=0.2)\n",
    "        return z\n",
    "\n",
    "# Define the graph decoder model\n",
    "class GraphDecoder(torch.nn.Module):\n",
    "    def __init__(self, encoding_dim, hidden_dim, output_dim):\n",
    "        super(GraphDecoder, self).__init__()\n",
    "        self.conv1 = GCNConv(encoding_dim, hidden_dim)\n",
    "        self.conv2 = GCNConv(hidden_dim, output_dim)\n",
    "\n",
    "    def forward(self, z, edge_index):\n",
    "        x = F.relu(self.conv1(z, edge_index))\n",
    "        x=F.dropout(x,p=0.2)\n",
    "        x = self.conv2(x, edge_index)\n",
    "        x=F.dropout(x,p=0.2)\n",
    "\n",
    "        return x\n",
    "\n",
    "    \n",
    "# Create instances of the graph encoder and decoder models\n",
    "input_dim = 20\n",
    "hidden_dim = 16\n",
    "encoding_dim = 16\n",
    "output_dim = input_dim\n",
    "encoder = GraphEncoder(input_dim, hidden_dim, encoding_dim)\n",
    "decoder = GraphDecoder(encoding_dim, hidden_dim, output_dim)"
   ]
  },
  {
   "cell_type": "code",
   "execution_count": 90,
   "metadata": {},
   "outputs": [
    {
     "name": "stdout",
     "output_type": "stream",
     "text": [
      "1900\n",
      "760\n",
      "606\n",
      "720\n",
      "1874\n",
      "892\n",
      "444\n",
      "2196\n",
      "676\n",
      "856\n",
      "2284\n",
      "1074\n"
     ]
    }
   ],
   "source": [
    "import glob\n",
    "\n",
    "files=glob.glob(\"./Seperated_dataset/*\")\n",
    "all_graphs=[]\n",
    "for dataset_folder in files:\n",
    "    # print(dataset_folder)\n",
    "    # print(dataset_folder)\n",
    "    graph_path=f\"{dataset_folder}/train_feature.pt\"\n",
    "    graphs=torch.load(graph_path)\n",
    "    print(len(graphs))\n",
    "    all_graphs+=graphs\n",
    "    \n",
    "    "
   ]
  },
  {
   "cell_type": "code",
   "execution_count": 91,
   "metadata": {},
   "outputs": [],
   "source": [
    "graphs_all=all_graphs"
   ]
  },
  {
   "cell_type": "code",
   "execution_count": 97,
   "metadata": {},
   "outputs": [
    {
     "data": {
      "text/plain": [
       "[Data(x=[13, 20], edge_index=[2, 26], edge_attr=[26, 19]),\n",
       " Data(x=[26, 20], edge_index=[2, 60], edge_attr=[60, 19]),\n",
       " Data(x=[19, 20], edge_index=[2, 42], edge_attr=[42, 19]),\n",
       " Data(x=[13, 20], edge_index=[2, 24], edge_attr=[24, 19]),\n",
       " Data(x=[9, 20], edge_index=[2, 16], edge_attr=[16, 19]),\n",
       " Data(x=[9, 20], edge_index=[2, 18], edge_attr=[18, 19]),\n",
       " Data(x=[9, 20], edge_index=[2, 16], edge_attr=[16, 19]),\n",
       " Data(x=[6, 20], edge_index=[2, 10], edge_attr=[10, 19]),\n",
       " Data(x=[78, 20], edge_index=[2, 162], edge_attr=[162, 19]),\n",
       " Data(x=[16, 20], edge_index=[2, 30], edge_attr=[30, 19]),\n",
       " Data(x=[13, 20], edge_index=[2, 24], edge_attr=[24, 19]),\n",
       " Data(x=[11, 20], edge_index=[2, 22], edge_attr=[22, 19]),\n",
       " Data(x=[24, 20], edge_index=[2, 46], edge_attr=[46, 19]),\n",
       " Data(x=[13, 20], edge_index=[2, 28], edge_attr=[28, 19]),\n",
       " Data(x=[10, 20], edge_index=[2, 16], edge_attr=[16, 19]),\n",
       " Data(x=[10, 20], edge_index=[2, 18], edge_attr=[18, 19]),\n",
       " Data(x=[14, 20], edge_index=[2, 26], edge_attr=[26, 19]),\n",
       " Data(x=[6, 20], edge_index=[2, 10], edge_attr=[10, 19]),\n",
       " Data(x=[22, 20], edge_index=[2, 48], edge_attr=[48, 19]),\n",
       " Data(x=[13, 20], edge_index=[2, 28], edge_attr=[28, 19]),\n",
       " Data(x=[4, 20], edge_index=[2, 6], edge_attr=[6, 19]),\n",
       " Data(x=[10, 20], edge_index=[2, 20], edge_attr=[20, 19]),\n",
       " Data(x=[19, 20], edge_index=[2, 40], edge_attr=[40, 19]),\n",
       " Data(x=[15, 20], edge_index=[2, 30], edge_attr=[30, 19]),\n",
       " Data(x=[10, 20], edge_index=[2, 18], edge_attr=[18, 19]),\n",
       " Data(x=[9, 20], edge_index=[2, 16], edge_attr=[16, 19]),\n",
       " Data(x=[16, 20], edge_index=[2, 32], edge_attr=[32, 19]),\n",
       " Data(x=[18, 20], edge_index=[2, 32], edge_attr=[32, 19]),\n",
       " Data(x=[2, 20], edge_index=[2, 2], edge_attr=[2, 19]),\n",
       " Data(x=[4, 20], edge_index=[0], edge_attr=[0]),\n",
       " Data(x=[9, 20], edge_index=[2, 18], edge_attr=[18, 19]),\n",
       " Data(x=[17, 20], edge_index=[2, 36], edge_attr=[36, 19]),\n",
       " Data(x=[28, 20], edge_index=[2, 62], edge_attr=[62, 19]),\n",
       " Data(x=[13, 20], edge_index=[2, 26], edge_attr=[26, 19]),\n",
       " Data(x=[25, 20], edge_index=[2, 62], edge_attr=[62, 19]),\n",
       " Data(x=[6, 20], edge_index=[2, 10], edge_attr=[10, 19]),\n",
       " Data(x=[33, 20], edge_index=[2, 66], edge_attr=[66, 19]),\n",
       " Data(x=[12, 20], edge_index=[2, 24], edge_attr=[24, 19]),\n",
       " Data(x=[14, 20], edge_index=[2, 26], edge_attr=[26, 19]),\n",
       " Data(x=[2, 20], edge_index=[0], edge_attr=[0]),\n",
       " Data(x=[15, 20], edge_index=[2, 32], edge_attr=[32, 19]),\n",
       " Data(x=[10, 20], edge_index=[2, 20], edge_attr=[20, 19]),\n",
       " Data(x=[27, 20], edge_index=[2, 54], edge_attr=[54, 19]),\n",
       " Data(x=[22, 20], edge_index=[2, 48], edge_attr=[48, 19]),\n",
       " Data(x=[23, 20], edge_index=[2, 48], edge_attr=[48, 19]),\n",
       " Data(x=[14, 20], edge_index=[2, 30], edge_attr=[30, 19]),\n",
       " Data(x=[10, 20], edge_index=[2, 20], edge_attr=[20, 19]),\n",
       " Data(x=[8, 20], edge_index=[2, 16], edge_attr=[16, 19]),\n",
       " Data(x=[22, 20], edge_index=[2, 42], edge_attr=[42, 19]),\n",
       " Data(x=[17, 20], edge_index=[2, 32], edge_attr=[32, 19]),\n",
       " Data(x=[9, 20], edge_index=[2, 18], edge_attr=[18, 19]),\n",
       " Data(x=[10, 20], edge_index=[2, 20], edge_attr=[20, 19]),\n",
       " Data(x=[5, 20], edge_index=[2, 10], edge_attr=[10, 19]),\n",
       " Data(x=[13, 20], edge_index=[2, 24], edge_attr=[24, 19]),\n",
       " Data(x=[29, 20], edge_index=[2, 66], edge_attr=[66, 19]),\n",
       " Data(x=[19, 20], edge_index=[2, 38], edge_attr=[38, 19]),\n",
       " Data(x=[46, 20], edge_index=[2, 104], edge_attr=[104, 19]),\n",
       " Data(x=[19, 20], edge_index=[2, 36], edge_attr=[36, 19]),\n",
       " Data(x=[9, 20], edge_index=[2, 18], edge_attr=[18, 19]),\n",
       " Data(x=[27, 20], edge_index=[2, 58], edge_attr=[58, 19]),\n",
       " Data(x=[15, 20], edge_index=[2, 28], edge_attr=[28, 19]),\n",
       " Data(x=[9, 20], edge_index=[2, 16], edge_attr=[16, 19]),\n",
       " Data(x=[9, 20], edge_index=[2, 18], edge_attr=[18, 19]),\n",
       " Data(x=[15, 20], edge_index=[2, 28], edge_attr=[28, 19]),\n",
       " Data(x=[23, 20], edge_index=[2, 48], edge_attr=[48, 19]),\n",
       " Data(x=[11, 20], edge_index=[2, 22], edge_attr=[22, 19]),\n",
       " Data(x=[11, 20], edge_index=[2, 24], edge_attr=[24, 19]),\n",
       " Data(x=[21, 20], edge_index=[2, 44], edge_attr=[44, 19]),\n",
       " Data(x=[5, 20], edge_index=[2, 8], edge_attr=[8, 19]),\n",
       " Data(x=[24, 20], edge_index=[2, 52], edge_attr=[52, 19]),\n",
       " Data(x=[19, 20], edge_index=[2, 40], edge_attr=[40, 19]),\n",
       " Data(x=[12, 20], edge_index=[2, 24], edge_attr=[24, 19]),\n",
       " Data(x=[17, 20], edge_index=[2, 34], edge_attr=[34, 19]),\n",
       " Data(x=[24, 20], edge_index=[2, 48], edge_attr=[48, 19]),\n",
       " Data(x=[15, 20], edge_index=[2, 32], edge_attr=[32, 19]),\n",
       " Data(x=[6, 20], edge_index=[2, 12], edge_attr=[12, 19]),\n",
       " Data(x=[15, 20], edge_index=[2, 30], edge_attr=[30, 19]),\n",
       " Data(x=[12, 20], edge_index=[2, 22], edge_attr=[22, 19]),\n",
       " Data(x=[16, 20], edge_index=[2, 34], edge_attr=[34, 19]),\n",
       " Data(x=[30, 20], edge_index=[2, 62], edge_attr=[62, 19]),\n",
       " Data(x=[17, 20], edge_index=[2, 36], edge_attr=[36, 19]),\n",
       " Data(x=[34, 20], edge_index=[2, 76], edge_attr=[76, 19]),\n",
       " Data(x=[21, 20], edge_index=[2, 42], edge_attr=[42, 19]),\n",
       " Data(x=[12, 20], edge_index=[2, 18], edge_attr=[18, 19]),\n",
       " Data(x=[16, 20], edge_index=[2, 34], edge_attr=[34, 19]),\n",
       " Data(x=[27, 20], edge_index=[2, 56], edge_attr=[56, 19]),\n",
       " Data(x=[36, 20], edge_index=[2, 78], edge_attr=[78, 19]),\n",
       " Data(x=[7, 20], edge_index=[2, 12], edge_attr=[12, 19]),\n",
       " Data(x=[21, 20], edge_index=[2, 42], edge_attr=[42, 19]),\n",
       " Data(x=[11, 20], edge_index=[2, 22], edge_attr=[22, 19]),\n",
       " Data(x=[14, 20], edge_index=[2, 30], edge_attr=[30, 19]),\n",
       " Data(x=[17, 20], edge_index=[2, 36], edge_attr=[36, 19]),\n",
       " Data(x=[27, 20], edge_index=[2, 60], edge_attr=[60, 19]),\n",
       " Data(x=[30, 20], edge_index=[2, 68], edge_attr=[68, 19]),\n",
       " Data(x=[31, 20], edge_index=[2, 68], edge_attr=[68, 19]),\n",
       " Data(x=[29, 20], edge_index=[2, 60], edge_attr=[60, 19]),\n",
       " Data(x=[12, 20], edge_index=[2, 22], edge_attr=[22, 19]),\n",
       " Data(x=[12, 20], edge_index=[2, 22], edge_attr=[22, 19]),\n",
       " Data(x=[13, 20], edge_index=[2, 20], edge_attr=[20, 19]),\n",
       " Data(x=[6, 20], edge_index=[2, 10], edge_attr=[10, 19]),\n",
       " Data(x=[17, 20], edge_index=[2, 36], edge_attr=[36, 19]),\n",
       " Data(x=[9, 20], edge_index=[2, 16], edge_attr=[16, 19]),\n",
       " Data(x=[9, 20], edge_index=[2, 18], edge_attr=[18, 19]),\n",
       " Data(x=[19, 20], edge_index=[2, 38], edge_attr=[38, 19]),\n",
       " Data(x=[14, 20], edge_index=[2, 28], edge_attr=[28, 19]),\n",
       " Data(x=[23, 20], edge_index=[2, 50], edge_attr=[50, 19]),\n",
       " Data(x=[27, 20], edge_index=[2, 58], edge_attr=[58, 19]),\n",
       " Data(x=[16, 20], edge_index=[2, 34], edge_attr=[34, 19]),\n",
       " Data(x=[25, 20], edge_index=[2, 56], edge_attr=[56, 19]),\n",
       " Data(x=[17, 20], edge_index=[2, 34], edge_attr=[34, 19]),\n",
       " Data(x=[9, 20], edge_index=[2, 16], edge_attr=[16, 19]),\n",
       " Data(x=[8, 20], edge_index=[2, 16], edge_attr=[16, 19]),\n",
       " Data(x=[33, 20], edge_index=[2, 66], edge_attr=[66, 19]),\n",
       " Data(x=[9, 20], edge_index=[2, 16], edge_attr=[16, 19]),\n",
       " Data(x=[16, 20], edge_index=[2, 30], edge_attr=[30, 19]),\n",
       " Data(x=[23, 20], edge_index=[2, 48], edge_attr=[48, 19]),\n",
       " Data(x=[9, 20], edge_index=[2, 12], edge_attr=[12, 19]),\n",
       " Data(x=[13, 20], edge_index=[2, 28], edge_attr=[28, 19]),\n",
       " Data(x=[66, 20], edge_index=[2, 144], edge_attr=[144, 19]),\n",
       " Data(x=[26, 20], edge_index=[2, 54], edge_attr=[54, 19]),\n",
       " Data(x=[31, 20], edge_index=[2, 62], edge_attr=[62, 19]),\n",
       " Data(x=[15, 20], edge_index=[2, 12], edge_attr=[12, 19]),\n",
       " Data(x=[24, 20], edge_index=[2, 48], edge_attr=[48, 19]),\n",
       " Data(x=[21, 20], edge_index=[2, 44], edge_attr=[44, 19]),\n",
       " Data(x=[14, 20], edge_index=[2, 28], edge_attr=[28, 19]),\n",
       " Data(x=[11, 20], edge_index=[2, 22], edge_attr=[22, 19]),\n",
       " Data(x=[21, 20], edge_index=[2, 44], edge_attr=[44, 19]),\n",
       " Data(x=[7, 20], edge_index=[2, 14], edge_attr=[14, 19]),\n",
       " Data(x=[13, 20], edge_index=[2, 24], edge_attr=[24, 19]),\n",
       " Data(x=[5, 20], edge_index=[2, 8], edge_attr=[8, 19]),\n",
       " Data(x=[24, 20], edge_index=[2, 46], edge_attr=[46, 19]),\n",
       " Data(x=[72, 20], edge_index=[2, 156], edge_attr=[156, 19]),\n",
       " Data(x=[5, 20], edge_index=[2, 8], edge_attr=[8, 19]),\n",
       " Data(x=[43, 20], edge_index=[2, 94], edge_attr=[94, 19]),\n",
       " Data(x=[10, 20], edge_index=[2, 22], edge_attr=[22, 19]),\n",
       " Data(x=[3, 20], edge_index=[2, 4], edge_attr=[4, 19]),\n",
       " Data(x=[12, 20], edge_index=[2, 26], edge_attr=[26, 19]),\n",
       " Data(x=[7, 20], edge_index=[2, 12], edge_attr=[12, 19]),\n",
       " Data(x=[38, 20], edge_index=[2, 80], edge_attr=[80, 19]),\n",
       " Data(x=[14, 20], edge_index=[2, 26], edge_attr=[26, 19]),\n",
       " Data(x=[16, 20], edge_index=[2, 30], edge_attr=[30, 19]),\n",
       " Data(x=[10, 20], edge_index=[2, 18], edge_attr=[18, 19]),\n",
       " Data(x=[17, 20], edge_index=[2, 32], edge_attr=[32, 19]),\n",
       " Data(x=[23, 20], edge_index=[2, 48], edge_attr=[48, 19]),\n",
       " Data(x=[14, 20], edge_index=[2, 30], edge_attr=[30, 19]),\n",
       " Data(x=[30, 20], edge_index=[2, 64], edge_attr=[64, 19]),\n",
       " Data(x=[21, 20], edge_index=[2, 40], edge_attr=[40, 19]),\n",
       " Data(x=[16, 20], edge_index=[2, 34], edge_attr=[34, 19]),\n",
       " Data(x=[6, 20], edge_index=[2, 10], edge_attr=[10, 19]),\n",
       " Data(x=[34, 20], edge_index=[2, 72], edge_attr=[72, 19]),\n",
       " Data(x=[7, 20], edge_index=[2, 14], edge_attr=[14, 19]),\n",
       " Data(x=[14, 20], edge_index=[2, 28], edge_attr=[28, 19]),\n",
       " Data(x=[11, 20], edge_index=[2, 22], edge_attr=[22, 19]),\n",
       " Data(x=[14, 20], edge_index=[2, 26], edge_attr=[26, 19]),\n",
       " Data(x=[34, 20], edge_index=[2, 70], edge_attr=[70, 19]),\n",
       " Data(x=[36, 20], edge_index=[2, 74], edge_attr=[74, 19]),\n",
       " Data(x=[18, 20], edge_index=[2, 42], edge_attr=[42, 19]),\n",
       " Data(x=[7, 20], edge_index=[2, 10], edge_attr=[10, 19]),\n",
       " Data(x=[24, 20], edge_index=[2, 48], edge_attr=[48, 19]),\n",
       " Data(x=[14, 20], edge_index=[2, 30], edge_attr=[30, 19]),\n",
       " Data(x=[24, 20], edge_index=[2, 50], edge_attr=[50, 19]),\n",
       " Data(x=[8, 20], edge_index=[2, 14], edge_attr=[14, 19]),\n",
       " Data(x=[41, 20], edge_index=[2, 84], edge_attr=[84, 19]),\n",
       " Data(x=[17, 20], edge_index=[2, 24], edge_attr=[24, 19]),\n",
       " Data(x=[13, 20], edge_index=[2, 26], edge_attr=[26, 19]),\n",
       " Data(x=[29, 20], edge_index=[2, 58], edge_attr=[58, 19]),\n",
       " Data(x=[14, 20], edge_index=[2, 30], edge_attr=[30, 19]),\n",
       " Data(x=[4, 20], edge_index=[2, 6], edge_attr=[6, 19]),\n",
       " Data(x=[44, 20], edge_index=[2, 98], edge_attr=[98, 19]),\n",
       " Data(x=[12, 20], edge_index=[2, 22], edge_attr=[22, 19]),\n",
       " Data(x=[12, 20], edge_index=[2, 24], edge_attr=[24, 19]),\n",
       " Data(x=[25, 20], edge_index=[2, 52], edge_attr=[52, 19]),\n",
       " Data(x=[10, 20], edge_index=[2, 20], edge_attr=[20, 19]),\n",
       " Data(x=[20, 20], edge_index=[2, 40], edge_attr=[40, 19]),\n",
       " Data(x=[12, 20], edge_index=[2, 24], edge_attr=[24, 19]),\n",
       " Data(x=[25, 20], edge_index=[2, 52], edge_attr=[52, 19]),\n",
       " Data(x=[4, 20], edge_index=[2, 6], edge_attr=[6, 19]),\n",
       " Data(x=[28, 20], edge_index=[2, 54], edge_attr=[54, 19]),\n",
       " Data(x=[8, 20], edge_index=[2, 16], edge_attr=[16, 19]),\n",
       " Data(x=[29, 20], edge_index=[2, 56], edge_attr=[56, 19]),\n",
       " Data(x=[20, 20], edge_index=[2, 40], edge_attr=[40, 19]),\n",
       " Data(x=[15, 20], edge_index=[2, 30], edge_attr=[30, 19]),\n",
       " Data(x=[9, 20], edge_index=[2, 18], edge_attr=[18, 19]),\n",
       " Data(x=[16, 20], edge_index=[2, 30], edge_attr=[30, 19]),\n",
       " Data(x=[19, 20], edge_index=[2, 36], edge_attr=[36, 19]),\n",
       " Data(x=[7, 20], edge_index=[2, 12], edge_attr=[12, 19]),\n",
       " Data(x=[10, 20], edge_index=[2, 18], edge_attr=[18, 19]),\n",
       " Data(x=[13, 20], edge_index=[2, 24], edge_attr=[24, 19]),\n",
       " Data(x=[27, 20], edge_index=[2, 54], edge_attr=[54, 19]),\n",
       " Data(x=[41, 20], edge_index=[2, 84], edge_attr=[84, 19]),\n",
       " Data(x=[9, 20], edge_index=[2, 16], edge_attr=[16, 19]),\n",
       " Data(x=[13, 20], edge_index=[2, 24], edge_attr=[24, 19]),\n",
       " Data(x=[13, 20], edge_index=[2, 26], edge_attr=[26, 19]),\n",
       " Data(x=[34, 20], edge_index=[2, 78], edge_attr=[78, 19]),\n",
       " Data(x=[25, 20], edge_index=[2, 52], edge_attr=[52, 19]),\n",
       " Data(x=[13, 20], edge_index=[2, 26], edge_attr=[26, 19]),\n",
       " Data(x=[20, 20], edge_index=[2, 42], edge_attr=[42, 19]),\n",
       " Data(x=[6, 20], edge_index=[2, 12], edge_attr=[12, 19]),\n",
       " Data(x=[8, 20], edge_index=[2, 14], edge_attr=[14, 19]),\n",
       " Data(x=[31, 20], edge_index=[2, 64], edge_attr=[64, 19]),\n",
       " Data(x=[20, 20], edge_index=[2, 42], edge_attr=[42, 19]),\n",
       " Data(x=[15, 20], edge_index=[2, 32], edge_attr=[32, 19]),\n",
       " Data(x=[16, 20], edge_index=[2, 34], edge_attr=[34, 19]),\n",
       " Data(x=[18, 20], edge_index=[2, 34], edge_attr=[34, 19]),\n",
       " Data(x=[6, 20], edge_index=[2, 10], edge_attr=[10, 19]),\n",
       " Data(x=[12, 20], edge_index=[2, 24], edge_attr=[24, 19]),\n",
       " Data(x=[4, 20], edge_index=[2, 6], edge_attr=[6, 19]),\n",
       " Data(x=[5, 20], edge_index=[2, 6], edge_attr=[6, 19]),\n",
       " Data(x=[9, 20], edge_index=[2, 18], edge_attr=[18, 19]),\n",
       " Data(x=[25, 20], edge_index=[2, 54], edge_attr=[54, 19]),\n",
       " Data(x=[6, 20], edge_index=[2, 10], edge_attr=[10, 19]),\n",
       " Data(x=[17, 20], edge_index=[2, 36], edge_attr=[36, 19]),\n",
       " Data(x=[12, 20], edge_index=[2, 22], edge_attr=[22, 19]),\n",
       " Data(x=[11, 20], edge_index=[2, 22], edge_attr=[22, 19]),\n",
       " Data(x=[11, 20], edge_index=[2, 24], edge_attr=[24, 19]),\n",
       " Data(x=[22, 20], edge_index=[2, 44], edge_attr=[44, 19]),\n",
       " Data(x=[21, 20], edge_index=[2, 44], edge_attr=[44, 19]),\n",
       " Data(x=[23, 20], edge_index=[2, 44], edge_attr=[44, 19]),\n",
       " Data(x=[18, 20], edge_index=[2, 36], edge_attr=[36, 19]),\n",
       " Data(x=[25, 20], edge_index=[2, 50], edge_attr=[50, 19]),\n",
       " Data(x=[27, 20], edge_index=[2, 54], edge_attr=[54, 19]),\n",
       " Data(x=[13, 20], edge_index=[2, 24], edge_attr=[24, 19]),\n",
       " Data(x=[10, 20], edge_index=[2, 18], edge_attr=[18, 19]),\n",
       " Data(x=[6, 20], edge_index=[2, 10], edge_attr=[10, 19]),\n",
       " Data(x=[8, 20], edge_index=[2, 16], edge_attr=[16, 19]),\n",
       " Data(x=[15, 20], edge_index=[2, 30], edge_attr=[30, 19]),\n",
       " Data(x=[5, 20], edge_index=[2, 8], edge_attr=[8, 19]),\n",
       " Data(x=[16, 20], edge_index=[2, 32], edge_attr=[32, 19]),\n",
       " Data(x=[86, 20], edge_index=[2, 186], edge_attr=[186, 19]),\n",
       " Data(x=[17, 20], edge_index=[2, 36], edge_attr=[36, 19]),\n",
       " Data(x=[20, 20], edge_index=[2, 40], edge_attr=[40, 19]),\n",
       " Data(x=[15, 20], edge_index=[2, 28], edge_attr=[28, 19]),\n",
       " Data(x=[14, 20], edge_index=[2, 28], edge_attr=[28, 19]),\n",
       " Data(x=[23, 20], edge_index=[2, 52], edge_attr=[52, 19]),\n",
       " Data(x=[35, 20], edge_index=[2, 74], edge_attr=[74, 19]),\n",
       " Data(x=[5, 20], edge_index=[2, 8], edge_attr=[8, 19]),\n",
       " Data(x=[5, 20], edge_index=[2, 10], edge_attr=[10, 19]),\n",
       " Data(x=[11, 20], edge_index=[2, 22], edge_attr=[22, 19]),\n",
       " Data(x=[10, 20], edge_index=[2, 18], edge_attr=[18, 19]),\n",
       " Data(x=[16, 20], edge_index=[2, 32], edge_attr=[32, 19]),\n",
       " Data(x=[5, 20], edge_index=[2, 8], edge_attr=[8, 19]),\n",
       " Data(x=[28, 20], edge_index=[2, 62], edge_attr=[62, 19]),\n",
       " Data(x=[14, 20], edge_index=[2, 28], edge_attr=[28, 19]),\n",
       " Data(x=[27, 20], edge_index=[2, 54], edge_attr=[54, 19]),\n",
       " Data(x=[33, 20], edge_index=[2, 66], edge_attr=[66, 19]),\n",
       " Data(x=[12, 20], edge_index=[2, 24], edge_attr=[24, 19]),\n",
       " Data(x=[7, 20], edge_index=[2, 14], edge_attr=[14, 19]),\n",
       " Data(x=[13, 20], edge_index=[2, 24], edge_attr=[24, 19]),\n",
       " Data(x=[27, 20], edge_index=[2, 56], edge_attr=[56, 19]),\n",
       " Data(x=[13, 20], edge_index=[2, 26], edge_attr=[26, 19]),\n",
       " Data(x=[22, 20], edge_index=[2, 50], edge_attr=[50, 19]),\n",
       " Data(x=[7, 20], edge_index=[2, 12], edge_attr=[12, 19]),\n",
       " Data(x=[14, 20], edge_index=[2, 30], edge_attr=[30, 19]),\n",
       " Data(x=[24, 20], edge_index=[2, 52], edge_attr=[52, 19]),\n",
       " Data(x=[26, 20], edge_index=[2, 56], edge_attr=[56, 19]),\n",
       " Data(x=[12, 20], edge_index=[2, 24], edge_attr=[24, 19]),\n",
       " Data(x=[9, 20], edge_index=[2, 18], edge_attr=[18, 19]),\n",
       " Data(x=[20, 20], edge_index=[2, 40], edge_attr=[40, 19]),\n",
       " Data(x=[16, 20], edge_index=[2, 30], edge_attr=[30, 19]),\n",
       " Data(x=[24, 20], edge_index=[2, 52], edge_attr=[52, 19]),\n",
       " Data(x=[27, 20], edge_index=[2, 60], edge_attr=[60, 19]),\n",
       " Data(x=[9, 20], edge_index=[2, 18], edge_attr=[18, 19]),\n",
       " Data(x=[5, 20], edge_index=[2, 8], edge_attr=[8, 19]),\n",
       " Data(x=[10, 20], edge_index=[2, 18], edge_attr=[18, 19]),\n",
       " Data(x=[11, 20], edge_index=[2, 20], edge_attr=[20, 19]),\n",
       " Data(x=[17, 20], edge_index=[2, 32], edge_attr=[32, 19]),\n",
       " Data(x=[20, 20], edge_index=[2, 44], edge_attr=[44, 19]),\n",
       " Data(x=[7, 20], edge_index=[2, 12], edge_attr=[12, 19]),\n",
       " Data(x=[12, 20], edge_index=[2, 24], edge_attr=[24, 19]),\n",
       " Data(x=[28, 20], edge_index=[2, 60], edge_attr=[60, 19]),\n",
       " Data(x=[13, 20], edge_index=[2, 24], edge_attr=[24, 19]),\n",
       " Data(x=[8, 20], edge_index=[2, 16], edge_attr=[16, 19]),\n",
       " Data(x=[7, 20], edge_index=[2, 12], edge_attr=[12, 19]),\n",
       " Data(x=[32, 20], edge_index=[2, 64], edge_attr=[64, 19]),\n",
       " Data(x=[13, 20], edge_index=[2, 26], edge_attr=[26, 19]),\n",
       " Data(x=[5, 20], edge_index=[2, 8], edge_attr=[8, 19]),\n",
       " Data(x=[10, 20], edge_index=[2, 20], edge_attr=[20, 19]),\n",
       " Data(x=[13, 20], edge_index=[2, 26], edge_attr=[26, 19]),\n",
       " Data(x=[15, 20], edge_index=[2, 32], edge_attr=[32, 19]),\n",
       " Data(x=[34, 20], edge_index=[2, 72], edge_attr=[72, 19]),\n",
       " Data(x=[11, 20], edge_index=[2, 24], edge_attr=[24, 19]),\n",
       " Data(x=[37, 20], edge_index=[2, 76], edge_attr=[76, 19]),\n",
       " Data(x=[8, 20], edge_index=[2, 16], edge_attr=[16, 19]),\n",
       " Data(x=[17, 20], edge_index=[2, 32], edge_attr=[32, 19]),\n",
       " Data(x=[23, 20], edge_index=[2, 52], edge_attr=[52, 19]),\n",
       " Data(x=[52, 20], edge_index=[2, 108], edge_attr=[108, 19]),\n",
       " Data(x=[12, 20], edge_index=[2, 26], edge_attr=[26, 19]),\n",
       " Data(x=[27, 20], edge_index=[2, 60], edge_attr=[60, 19]),\n",
       " Data(x=[24, 20], edge_index=[2, 52], edge_attr=[52, 19]),\n",
       " Data(x=[10, 20], edge_index=[2, 18], edge_attr=[18, 19]),\n",
       " Data(x=[45, 20], edge_index=[2, 104], edge_attr=[104, 19]),\n",
       " Data(x=[25, 20], edge_index=[2, 52], edge_attr=[52, 19]),\n",
       " Data(x=[32, 20], edge_index=[2, 64], edge_attr=[64, 19]),\n",
       " Data(x=[20, 20], edge_index=[2, 42], edge_attr=[42, 19]),\n",
       " Data(x=[18, 20], edge_index=[2, 38], edge_attr=[38, 19]),\n",
       " Data(x=[11, 20], edge_index=[2, 22], edge_attr=[22, 19]),\n",
       " Data(x=[20, 20], edge_index=[2, 44], edge_attr=[44, 19]),\n",
       " Data(x=[17, 20], edge_index=[2, 36], edge_attr=[36, 19]),\n",
       " Data(x=[34, 20], edge_index=[2, 72], edge_attr=[72, 19]),\n",
       " Data(x=[40, 20], edge_index=[2, 84], edge_attr=[84, 19]),\n",
       " Data(x=[22, 20], edge_index=[2, 50], edge_attr=[50, 19]),\n",
       " Data(x=[6, 20], edge_index=[2, 10], edge_attr=[10, 19]),\n",
       " Data(x=[16, 20], edge_index=[2, 30], edge_attr=[30, 19]),\n",
       " Data(x=[8, 20], edge_index=[2, 14], edge_attr=[14, 19]),\n",
       " Data(x=[31, 20], edge_index=[2, 64], edge_attr=[64, 19]),\n",
       " Data(x=[107, 20], edge_index=[2, 224], edge_attr=[224, 19]),\n",
       " Data(x=[11, 20], edge_index=[2, 24], edge_attr=[24, 19]),\n",
       " Data(x=[11, 20], edge_index=[2, 22], edge_attr=[22, 19]),\n",
       " Data(x=[11, 20], edge_index=[2, 22], edge_attr=[22, 19]),\n",
       " Data(x=[28, 20], edge_index=[2, 64], edge_attr=[64, 19]),\n",
       " Data(x=[13, 20], edge_index=[2, 26], edge_attr=[26, 19]),\n",
       " Data(x=[19, 20], edge_index=[2, 38], edge_attr=[38, 19]),\n",
       " Data(x=[39, 20], edge_index=[2, 90], edge_attr=[90, 19]),\n",
       " Data(x=[9, 20], edge_index=[2, 16], edge_attr=[16, 19]),\n",
       " Data(x=[21, 20], edge_index=[2, 48], edge_attr=[48, 19]),\n",
       " Data(x=[36, 20], edge_index=[2, 78], edge_attr=[78, 19]),\n",
       " Data(x=[7, 20], edge_index=[2, 12], edge_attr=[12, 19]),\n",
       " Data(x=[21, 20], edge_index=[2, 44], edge_attr=[44, 19]),\n",
       " Data(x=[13, 20], edge_index=[2, 26], edge_attr=[26, 19]),\n",
       " Data(x=[23, 20], edge_index=[2, 46], edge_attr=[46, 19]),\n",
       " Data(x=[12, 20], edge_index=[2, 22], edge_attr=[22, 19]),\n",
       " Data(x=[13, 20], edge_index=[2, 24], edge_attr=[24, 19]),\n",
       " Data(x=[29, 20], edge_index=[2, 64], edge_attr=[64, 19]),\n",
       " Data(x=[25, 20], edge_index=[2, 54], edge_attr=[54, 19]),\n",
       " Data(x=[17, 20], edge_index=[2, 34], edge_attr=[34, 19]),\n",
       " Data(x=[20, 20], edge_index=[2, 46], edge_attr=[46, 19]),\n",
       " Data(x=[24, 20], edge_index=[2, 50], edge_attr=[50, 19]),\n",
       " Data(x=[30, 20], edge_index=[2, 66], edge_attr=[66, 19]),\n",
       " Data(x=[46, 20], edge_index=[2, 96], edge_attr=[96, 19]),\n",
       " Data(x=[14, 20], edge_index=[2, 30], edge_attr=[30, 19]),\n",
       " Data(x=[27, 20], edge_index=[2, 52], edge_attr=[52, 19]),\n",
       " Data(x=[6, 20], edge_index=[2, 12], edge_attr=[12, 19]),\n",
       " Data(x=[14, 20], edge_index=[2, 26], edge_attr=[26, 19]),\n",
       " Data(x=[15, 20], edge_index=[2, 28], edge_attr=[28, 19]),\n",
       " Data(x=[11, 20], edge_index=[2, 20], edge_attr=[20, 19]),\n",
       " Data(x=[19, 20], edge_index=[2, 40], edge_attr=[40, 19]),\n",
       " Data(x=[14, 20], edge_index=[2, 28], edge_attr=[28, 19]),\n",
       " Data(x=[20, 20], edge_index=[2, 46], edge_attr=[46, 19]),\n",
       " Data(x=[6, 20], edge_index=[2, 10], edge_attr=[10, 19]),\n",
       " Data(x=[32, 20], edge_index=[2, 62], edge_attr=[62, 19]),\n",
       " Data(x=[22, 20], edge_index=[2, 44], edge_attr=[44, 19]),\n",
       " Data(x=[14, 20], edge_index=[2, 24], edge_attr=[24, 19]),\n",
       " Data(x=[22, 20], edge_index=[2, 50], edge_attr=[50, 19]),\n",
       " Data(x=[25, 20], edge_index=[2, 56], edge_attr=[56, 19]),\n",
       " Data(x=[21, 20], edge_index=[2, 44], edge_attr=[44, 19]),\n",
       " Data(x=[17, 20], edge_index=[2, 34], edge_attr=[34, 19]),\n",
       " Data(x=[10, 20], edge_index=[2, 20], edge_attr=[20, 19]),\n",
       " Data(x=[28, 20], edge_index=[2, 58], edge_attr=[58, 19]),\n",
       " Data(x=[26, 20], edge_index=[2, 56], edge_attr=[56, 19]),\n",
       " Data(x=[13, 20], edge_index=[2, 24], edge_attr=[24, 19]),\n",
       " Data(x=[21, 20], edge_index=[2, 46], edge_attr=[46, 19]),\n",
       " Data(x=[62, 20], edge_index=[2, 136], edge_attr=[136, 19]),\n",
       " Data(x=[17, 20], edge_index=[2, 36], edge_attr=[36, 19]),\n",
       " Data(x=[15, 20], edge_index=[2, 28], edge_attr=[28, 19]),\n",
       " Data(x=[22, 20], edge_index=[2, 44], edge_attr=[44, 19]),\n",
       " Data(x=[16, 20], edge_index=[2, 32], edge_attr=[32, 19]),\n",
       " Data(x=[11, 20], edge_index=[2, 22], edge_attr=[22, 19]),\n",
       " Data(x=[12, 20], edge_index=[2, 22], edge_attr=[22, 19]),\n",
       " Data(x=[21, 20], edge_index=[2, 42], edge_attr=[42, 19]),\n",
       " Data(x=[21, 20], edge_index=[2, 44], edge_attr=[44, 19]),\n",
       " Data(x=[63, 20], edge_index=[2, 126], edge_attr=[126, 19]),\n",
       " Data(x=[24, 20], edge_index=[2, 54], edge_attr=[54, 19]),\n",
       " Data(x=[6, 20], edge_index=[2, 8], edge_attr=[8, 19]),\n",
       " Data(x=[17, 20], edge_index=[2, 36], edge_attr=[36, 19]),\n",
       " Data(x=[11, 20], edge_index=[2, 20], edge_attr=[20, 19]),\n",
       " Data(x=[23, 20], edge_index=[2, 42], edge_attr=[42, 19]),\n",
       " Data(x=[68, 20], edge_index=[2, 142], edge_attr=[142, 19]),\n",
       " Data(x=[10, 20], edge_index=[2, 20], edge_attr=[20, 19]),\n",
       " Data(x=[9, 20], edge_index=[2, 18], edge_attr=[18, 19]),\n",
       " Data(x=[39, 20], edge_index=[2, 76], edge_attr=[76, 19]),\n",
       " Data(x=[11, 20], edge_index=[2, 24], edge_attr=[24, 19]),\n",
       " Data(x=[21, 20], edge_index=[2, 44], edge_attr=[44, 19]),\n",
       " Data(x=[23, 20], edge_index=[2, 52], edge_attr=[52, 19]),\n",
       " Data(x=[8, 20], edge_index=[2, 14], edge_attr=[14, 19]),\n",
       " Data(x=[10, 20], edge_index=[2, 20], edge_attr=[20, 19]),\n",
       " Data(x=[48, 20], edge_index=[2, 94], edge_attr=[94, 19]),\n",
       " Data(x=[29, 20], edge_index=[2, 62], edge_attr=[62, 19]),\n",
       " Data(x=[12, 20], edge_index=[2, 24], edge_attr=[24, 19]),\n",
       " Data(x=[12, 20], edge_index=[2, 22], edge_attr=[22, 19]),\n",
       " Data(x=[21, 20], edge_index=[2, 46], edge_attr=[46, 19]),\n",
       " Data(x=[15, 20], edge_index=[2, 32], edge_attr=[32, 19]),\n",
       " Data(x=[4, 20], edge_index=[2, 6], edge_attr=[6, 19]),\n",
       " Data(x=[12, 20], edge_index=[2, 24], edge_attr=[24, 19]),\n",
       " Data(x=[12, 20], edge_index=[2, 24], edge_attr=[24, 19]),\n",
       " Data(x=[8, 20], edge_index=[2, 16], edge_attr=[16, 19]),\n",
       " Data(x=[20, 20], edge_index=[2, 40], edge_attr=[40, 19]),\n",
       " Data(x=[11, 20], edge_index=[2, 22], edge_attr=[22, 19]),\n",
       " Data(x=[17, 20], edge_index=[2, 34], edge_attr=[34, 19]),\n",
       " Data(x=[26, 20], edge_index=[2, 56], edge_attr=[56, 19]),\n",
       " Data(x=[29, 20], edge_index=[2, 60], edge_attr=[60, 19]),\n",
       " Data(x=[10, 20], edge_index=[2, 18], edge_attr=[18, 19]),\n",
       " Data(x=[18, 20], edge_index=[2, 38], edge_attr=[38, 19]),\n",
       " Data(x=[8, 20], edge_index=[2, 12], edge_attr=[12, 19]),\n",
       " Data(x=[31, 20], edge_index=[2, 70], edge_attr=[70, 19]),\n",
       " Data(x=[8, 20], edge_index=[2, 14], edge_attr=[14, 19]),\n",
       " Data(x=[15, 20], edge_index=[2, 32], edge_attr=[32, 19]),\n",
       " Data(x=[33, 20], edge_index=[2, 70], edge_attr=[70, 19]),\n",
       " Data(x=[6, 20], edge_index=[2, 10], edge_attr=[10, 19]),\n",
       " Data(x=[11, 20], edge_index=[2, 22], edge_attr=[22, 19]),\n",
       " Data(x=[13, 20], edge_index=[2, 24], edge_attr=[24, 19]),\n",
       " Data(x=[9, 20], edge_index=[2, 16], edge_attr=[16, 19]),\n",
       " Data(x=[27, 20], edge_index=[2, 56], edge_attr=[56, 19]),\n",
       " Data(x=[7, 20], edge_index=[2, 12], edge_attr=[12, 19]),\n",
       " Data(x=[28, 20], edge_index=[2, 60], edge_attr=[60, 19]),\n",
       " Data(x=[12, 20], edge_index=[2, 24], edge_attr=[24, 19]),\n",
       " Data(x=[28, 20], edge_index=[2, 54], edge_attr=[54, 19]),\n",
       " Data(x=[9, 20], edge_index=[2, 18], edge_attr=[18, 19]),\n",
       " Data(x=[12, 20], edge_index=[2, 20], edge_attr=[20, 19]),\n",
       " Data(x=[11, 20], edge_index=[2, 24], edge_attr=[24, 19]),\n",
       " Data(x=[8, 20], edge_index=[2, 16], edge_attr=[16, 19]),\n",
       " Data(x=[14, 20], edge_index=[2, 26], edge_attr=[26, 19]),\n",
       " Data(x=[21, 20], edge_index=[2, 46], edge_attr=[46, 19]),\n",
       " Data(x=[14, 20], edge_index=[2, 28], edge_attr=[28, 19]),\n",
       " Data(x=[15, 20], edge_index=[2, 32], edge_attr=[32, 19]),\n",
       " Data(x=[24, 20], edge_index=[2, 52], edge_attr=[52, 19]),\n",
       " Data(x=[7, 20], edge_index=[2, 12], edge_attr=[12, 19]),\n",
       " Data(x=[23, 20], edge_index=[2, 50], edge_attr=[50, 19]),\n",
       " Data(x=[10, 20], edge_index=[2, 18], edge_attr=[18, 19]),\n",
       " Data(x=[12, 20], edge_index=[2, 24], edge_attr=[24, 19]),\n",
       " Data(x=[10, 20], edge_index=[2, 22], edge_attr=[22, 19]),\n",
       " Data(x=[17, 20], edge_index=[2, 32], edge_attr=[32, 19]),\n",
       " Data(x=[29, 20], edge_index=[2, 62], edge_attr=[62, 19]),\n",
       " Data(x=[10, 20], edge_index=[2, 18], edge_attr=[18, 19]),\n",
       " Data(x=[14, 20], edge_index=[2, 26], edge_attr=[26, 19]),\n",
       " Data(x=[9, 20], edge_index=[2, 18], edge_attr=[18, 19]),\n",
       " Data(x=[13, 20], edge_index=[2, 26], edge_attr=[26, 19]),\n",
       " Data(x=[30, 20], edge_index=[2, 64], edge_attr=[64, 19]),\n",
       " Data(x=[14, 20], edge_index=[2, 28], edge_attr=[28, 19]),\n",
       " Data(x=[23, 20], edge_index=[2, 52], edge_attr=[52, 19]),\n",
       " Data(x=[24, 20], edge_index=[2, 50], edge_attr=[50, 19]),\n",
       " Data(x=[13, 20], edge_index=[2, 26], edge_attr=[26, 19]),\n",
       " Data(x=[38, 20], edge_index=[2, 76], edge_attr=[76, 19]),\n",
       " Data(x=[20, 20], edge_index=[2, 40], edge_attr=[40, 19]),\n",
       " Data(x=[11, 20], edge_index=[2, 22], edge_attr=[22, 19]),\n",
       " Data(x=[16, 20], edge_index=[2, 34], edge_attr=[34, 19]),\n",
       " Data(x=[28, 20], edge_index=[2, 58], edge_attr=[58, 19]),\n",
       " Data(x=[25, 20], edge_index=[2, 48], edge_attr=[48, 19]),\n",
       " Data(x=[42, 20], edge_index=[2, 92], edge_attr=[92, 19]),\n",
       " Data(x=[22, 20], edge_index=[2, 40], edge_attr=[40, 19]),\n",
       " Data(x=[15, 20], edge_index=[2, 30], edge_attr=[30, 19]),\n",
       " Data(x=[10, 20], edge_index=[2, 20], edge_attr=[20, 19]),\n",
       " Data(x=[19, 20], edge_index=[2, 42], edge_attr=[42, 19]),\n",
       " Data(x=[48, 20], edge_index=[2, 102], edge_attr=[102, 19]),\n",
       " Data(x=[11, 20], edge_index=[2, 22], edge_attr=[22, 19]),\n",
       " Data(x=[9, 20], edge_index=[2, 18], edge_attr=[18, 19]),\n",
       " Data(x=[10, 20], edge_index=[2, 24], edge_attr=[24, 19]),\n",
       " Data(x=[22, 20], edge_index=[2, 50], edge_attr=[50, 19]),\n",
       " Data(x=[13, 20], edge_index=[2, 26], edge_attr=[26, 19]),\n",
       " Data(x=[12, 20], edge_index=[2, 22], edge_attr=[22, 19]),\n",
       " Data(x=[13, 20], edge_index=[2, 28], edge_attr=[28, 19]),\n",
       " Data(x=[26, 20], edge_index=[2, 58], edge_attr=[58, 19]),\n",
       " Data(x=[10, 20], edge_index=[2, 18], edge_attr=[18, 19]),\n",
       " Data(x=[17, 20], edge_index=[2, 38], edge_attr=[38, 19]),\n",
       " Data(x=[10, 20], edge_index=[2, 18], edge_attr=[18, 19]),\n",
       " Data(x=[7, 20], edge_index=[2, 12], edge_attr=[12, 19]),\n",
       " Data(x=[9, 20], edge_index=[2, 16], edge_attr=[16, 19]),\n",
       " Data(x=[33, 20], edge_index=[2, 60], edge_attr=[60, 19]),\n",
       " Data(x=[31, 20], edge_index=[2, 64], edge_attr=[64, 19]),\n",
       " Data(x=[35, 20], edge_index=[2, 78], edge_attr=[78, 19]),\n",
       " Data(x=[3, 20], edge_index=[2, 4], edge_attr=[4, 19]),\n",
       " Data(x=[22, 20], edge_index=[2, 50], edge_attr=[50, 19]),\n",
       " Data(x=[17, 20], edge_index=[2, 36], edge_attr=[36, 19]),\n",
       " Data(x=[8, 20], edge_index=[2, 16], edge_attr=[16, 19]),\n",
       " Data(x=[12, 20], edge_index=[2, 22], edge_attr=[22, 19]),\n",
       " Data(x=[11, 20], edge_index=[2, 20], edge_attr=[20, 19]),\n",
       " Data(x=[12, 20], edge_index=[2, 24], edge_attr=[24, 19]),\n",
       " Data(x=[10, 20], edge_index=[2, 20], edge_attr=[20, 19]),\n",
       " Data(x=[9, 20], edge_index=[2, 16], edge_attr=[16, 19]),\n",
       " Data(x=[9, 20], edge_index=[2, 18], edge_attr=[18, 19]),\n",
       " Data(x=[5, 20], edge_index=[2, 8], edge_attr=[8, 19]),\n",
       " Data(x=[18, 20], edge_index=[2, 34], edge_attr=[34, 19]),\n",
       " Data(x=[12, 20], edge_index=[2, 26], edge_attr=[26, 19]),\n",
       " Data(x=[23, 20], edge_index=[2, 48], edge_attr=[48, 19]),\n",
       " Data(x=[11, 20], edge_index=[2, 20], edge_attr=[20, 19]),\n",
       " Data(x=[32, 20], edge_index=[2, 66], edge_attr=[66, 19]),\n",
       " Data(x=[14, 20], edge_index=[2, 26], edge_attr=[26, 19]),\n",
       " Data(x=[10, 20], edge_index=[2, 18], edge_attr=[18, 19]),\n",
       " Data(x=[12, 20], edge_index=[2, 24], edge_attr=[24, 19]),\n",
       " Data(x=[8, 20], edge_index=[2, 14], edge_attr=[14, 19]),\n",
       " Data(x=[33, 20], edge_index=[2, 60], edge_attr=[60, 19]),\n",
       " Data(x=[13, 20], edge_index=[2, 24], edge_attr=[24, 19]),\n",
       " Data(x=[17, 20], edge_index=[2, 32], edge_attr=[32, 19]),\n",
       " Data(x=[4, 20], edge_index=[2, 6], edge_attr=[6, 19]),\n",
       " Data(x=[32, 20], edge_index=[2, 62], edge_attr=[62, 19]),\n",
       " Data(x=[6, 20], edge_index=[2, 10], edge_attr=[10, 19]),\n",
       " Data(x=[34, 20], edge_index=[2, 74], edge_attr=[74, 19]),\n",
       " Data(x=[14, 20], edge_index=[2, 28], edge_attr=[28, 19]),\n",
       " Data(x=[19, 20], edge_index=[2, 38], edge_attr=[38, 19]),\n",
       " Data(x=[23, 20], edge_index=[2, 50], edge_attr=[50, 19]),\n",
       " Data(x=[14, 20], edge_index=[2, 30], edge_attr=[30, 19]),\n",
       " Data(x=[24, 20], edge_index=[2, 50], edge_attr=[50, 19]),\n",
       " Data(x=[5, 20], edge_index=[2, 8], edge_attr=[8, 19]),\n",
       " Data(x=[13, 20], edge_index=[2, 26], edge_attr=[26, 19]),\n",
       " Data(x=[45, 20], edge_index=[2, 96], edge_attr=[96, 19]),\n",
       " Data(x=[7, 20], edge_index=[2, 12], edge_attr=[12, 19]),\n",
       " Data(x=[20, 20], edge_index=[2, 42], edge_attr=[42, 19]),\n",
       " Data(x=[23, 20], edge_index=[2, 50], edge_attr=[50, 19]),\n",
       " Data(x=[20, 20], edge_index=[2, 42], edge_attr=[42, 19]),\n",
       " Data(x=[13, 20], edge_index=[2, 28], edge_attr=[28, 19]),\n",
       " Data(x=[12, 20], edge_index=[2, 22], edge_attr=[22, 19]),\n",
       " Data(x=[14, 20], edge_index=[2, 30], edge_attr=[30, 19]),\n",
       " Data(x=[9, 20], edge_index=[2, 18], edge_attr=[18, 19]),\n",
       " Data(x=[23, 20], edge_index=[2, 48], edge_attr=[48, 19]),\n",
       " Data(x=[9, 20], edge_index=[2, 16], edge_attr=[16, 19]),\n",
       " Data(x=[15, 20], edge_index=[2, 32], edge_attr=[32, 19]),\n",
       " Data(x=[29, 20], edge_index=[2, 58], edge_attr=[58, 19]),\n",
       " Data(x=[10, 20], edge_index=[2, 18], edge_attr=[18, 19]),\n",
       " Data(x=[20, 20], edge_index=[2, 42], edge_attr=[42, 19]),\n",
       " Data(x=[12, 20], edge_index=[2, 24], edge_attr=[24, 19]),\n",
       " Data(x=[28, 20], edge_index=[2, 58], edge_attr=[58, 19]),\n",
       " Data(x=[27, 20], edge_index=[2, 58], edge_attr=[58, 19]),\n",
       " Data(x=[25, 20], edge_index=[2, 52], edge_attr=[52, 19]),\n",
       " Data(x=[11, 20], edge_index=[2, 20], edge_attr=[20, 19]),\n",
       " Data(x=[28, 20], edge_index=[2, 56], edge_attr=[56, 19]),\n",
       " Data(x=[11, 20], edge_index=[2, 22], edge_attr=[22, 19]),\n",
       " Data(x=[11, 20], edge_index=[2, 16], edge_attr=[16, 19]),\n",
       " Data(x=[14, 20], edge_index=[2, 32], edge_attr=[32, 19]),\n",
       " Data(x=[22, 20], edge_index=[2, 44], edge_attr=[44, 19]),\n",
       " Data(x=[16, 20], edge_index=[2, 32], edge_attr=[32, 19]),\n",
       " Data(x=[24, 20], edge_index=[2, 48], edge_attr=[48, 19]),\n",
       " Data(x=[7, 20], edge_index=[2, 12], edge_attr=[12, 19]),\n",
       " Data(x=[7, 20], edge_index=[2, 14], edge_attr=[14, 19]),\n",
       " Data(x=[13, 20], edge_index=[2, 26], edge_attr=[26, 19]),\n",
       " Data(x=[32, 20], edge_index=[2, 68], edge_attr=[68, 19]),\n",
       " Data(x=[10, 20], edge_index=[2, 20], edge_attr=[20, 19]),\n",
       " Data(x=[11, 20], edge_index=[2, 24], edge_attr=[24, 19]),\n",
       " Data(x=[13, 20], edge_index=[2, 24], edge_attr=[24, 19]),\n",
       " Data(x=[15, 20], edge_index=[2, 30], edge_attr=[30, 19]),\n",
       " Data(x=[8, 20], edge_index=[2, 14], edge_attr=[14, 19]),\n",
       " Data(x=[9, 20], edge_index=[2, 16], edge_attr=[16, 19]),\n",
       " Data(x=[30, 20], edge_index=[2, 58], edge_attr=[58, 19]),\n",
       " Data(x=[10, 20], edge_index=[2, 20], edge_attr=[20, 19]),\n",
       " Data(x=[15, 20], edge_index=[2, 30], edge_attr=[30, 19]),\n",
       " Data(x=[8, 20], edge_index=[2, 16], edge_attr=[16, 19]),\n",
       " Data(x=[25, 20], edge_index=[2, 56], edge_attr=[56, 19]),\n",
       " Data(x=[34, 20], edge_index=[2, 74], edge_attr=[74, 19]),\n",
       " Data(x=[11, 20], edge_index=[2, 22], edge_attr=[22, 19]),\n",
       " Data(x=[59, 20], edge_index=[2, 126], edge_attr=[126, 19]),\n",
       " Data(x=[11, 20], edge_index=[2, 22], edge_attr=[22, 19]),\n",
       " Data(x=[10, 20], edge_index=[2, 20], edge_attr=[20, 19]),\n",
       " Data(x=[7, 20], edge_index=[2, 12], edge_attr=[12, 19]),\n",
       " Data(x=[23, 20], edge_index=[2, 48], edge_attr=[48, 19]),\n",
       " Data(x=[14, 20], edge_index=[2, 26], edge_attr=[26, 19]),\n",
       " Data(x=[55, 20], edge_index=[2, 124], edge_attr=[124, 19]),\n",
       " Data(x=[14, 20], edge_index=[2, 30], edge_attr=[30, 19]),\n",
       " Data(x=[11, 20], edge_index=[2, 22], edge_attr=[22, 19]),\n",
       " Data(x=[4, 20], edge_index=[2, 6], edge_attr=[6, 19]),\n",
       " Data(x=[17, 20], edge_index=[2, 36], edge_attr=[36, 19]),\n",
       " Data(x=[18, 20], edge_index=[2, 40], edge_attr=[40, 19]),\n",
       " Data(x=[19, 20], edge_index=[2, 36], edge_attr=[36, 19]),\n",
       " Data(x=[67, 20], edge_index=[2, 148], edge_attr=[148, 19]),\n",
       " Data(x=[10, 20], edge_index=[2, 20], edge_attr=[20, 19]),\n",
       " Data(x=[19, 20], edge_index=[2, 36], edge_attr=[36, 19]),\n",
       " Data(x=[16, 20], edge_index=[2, 28], edge_attr=[28, 19]),\n",
       " Data(x=[61, 20], edge_index=[2, 132], edge_attr=[132, 19]),\n",
       " Data(x=[30, 20], edge_index=[2, 60], edge_attr=[60, 19]),\n",
       " Data(x=[21, 20], edge_index=[2, 46], edge_attr=[46, 19]),\n",
       " Data(x=[9, 20], edge_index=[2, 20], edge_attr=[20, 19]),\n",
       " Data(x=[9, 20], edge_index=[2, 16], edge_attr=[16, 19]),\n",
       " Data(x=[9, 20], edge_index=[2, 16], edge_attr=[16, 19]),\n",
       " Data(x=[18, 20], edge_index=[2, 36], edge_attr=[36, 19]),\n",
       " Data(x=[29, 20], edge_index=[2, 64], edge_attr=[64, 19]),\n",
       " Data(x=[18, 20], edge_index=[2, 34], edge_attr=[34, 19]),\n",
       " Data(x=[13, 20], edge_index=[2, 24], edge_attr=[24, 19]),\n",
       " Data(x=[29, 20], edge_index=[2, 62], edge_attr=[62, 19]),\n",
       " Data(x=[13, 20], edge_index=[2, 24], edge_attr=[24, 19]),\n",
       " Data(x=[18, 20], edge_index=[2, 34], edge_attr=[34, 19]),\n",
       " Data(x=[28, 20], edge_index=[2, 56], edge_attr=[56, 19]),\n",
       " Data(x=[28, 20], edge_index=[2, 54], edge_attr=[54, 19]),\n",
       " Data(x=[18, 20], edge_index=[2, 34], edge_attr=[34, 19]),\n",
       " Data(x=[23, 20], edge_index=[2, 50], edge_attr=[50, 19]),\n",
       " Data(x=[4, 20], edge_index=[2, 6], edge_attr=[6, 19]),\n",
       " Data(x=[13, 20], edge_index=[2, 24], edge_attr=[24, 19]),\n",
       " Data(x=[11, 20], edge_index=[2, 20], edge_attr=[20, 19]),\n",
       " Data(x=[42, 20], edge_index=[2, 92], edge_attr=[92, 19]),\n",
       " Data(x=[13, 20], edge_index=[2, 26], edge_attr=[26, 19]),\n",
       " Data(x=[9, 20], edge_index=[2, 18], edge_attr=[18, 19]),\n",
       " Data(x=[14, 20], edge_index=[2, 30], edge_attr=[30, 19]),\n",
       " Data(x=[19, 20], edge_index=[2, 38], edge_attr=[38, 19]),\n",
       " Data(x=[10, 20], edge_index=[2, 20], edge_attr=[20, 19]),\n",
       " Data(x=[29, 20], edge_index=[2, 62], edge_attr=[62, 19]),\n",
       " Data(x=[16, 20], edge_index=[2, 34], edge_attr=[34, 19]),\n",
       " Data(x=[26, 20], edge_index=[2, 52], edge_attr=[52, 19]),\n",
       " Data(x=[11, 20], edge_index=[2, 18], edge_attr=[18, 19]),\n",
       " Data(x=[10, 20], edge_index=[2, 20], edge_attr=[20, 19]),\n",
       " Data(x=[42, 20], edge_index=[2, 84], edge_attr=[84, 19]),\n",
       " Data(x=[22, 20], edge_index=[2, 50], edge_attr=[50, 19]),\n",
       " Data(x=[13, 20], edge_index=[2, 26], edge_attr=[26, 19]),\n",
       " Data(x=[41, 20], edge_index=[2, 92], edge_attr=[92, 19]),\n",
       " Data(x=[24, 20], edge_index=[2, 50], edge_attr=[50, 19]),\n",
       " Data(x=[8, 20], edge_index=[2, 14], edge_attr=[14, 19]),\n",
       " Data(x=[10, 20], edge_index=[2, 22], edge_attr=[22, 19]),\n",
       " Data(x=[9, 20], edge_index=[2, 16], edge_attr=[16, 19]),\n",
       " Data(x=[14, 20], edge_index=[2, 28], edge_attr=[28, 19]),\n",
       " Data(x=[13, 20], edge_index=[2, 26], edge_attr=[26, 19]),\n",
       " Data(x=[17, 20], edge_index=[2, 32], edge_attr=[32, 19]),\n",
       " Data(x=[26, 20], edge_index=[2, 56], edge_attr=[56, 19]),\n",
       " Data(x=[21, 20], edge_index=[2, 46], edge_attr=[46, 19]),\n",
       " Data(x=[13, 20], edge_index=[2, 30], edge_attr=[30, 19]),\n",
       " Data(x=[34, 20], edge_index=[2, 66], edge_attr=[66, 19]),\n",
       " Data(x=[9, 20], edge_index=[2, 18], edge_attr=[18, 19]),\n",
       " Data(x=[15, 20], edge_index=[2, 32], edge_attr=[32, 19]),\n",
       " Data(x=[12, 20], edge_index=[2, 12], edge_attr=[12, 19]),\n",
       " Data(x=[5, 20], edge_index=[2, 8], edge_attr=[8, 19]),\n",
       " Data(x=[11, 20], edge_index=[2, 22], edge_attr=[22, 19]),\n",
       " Data(x=[25, 20], edge_index=[2, 50], edge_attr=[50, 19]),\n",
       " Data(x=[13, 20], edge_index=[2, 26], edge_attr=[26, 19]),\n",
       " Data(x=[11, 20], edge_index=[2, 20], edge_attr=[20, 19]),\n",
       " Data(x=[35, 20], edge_index=[2, 70], edge_attr=[70, 19]),\n",
       " Data(x=[12, 20], edge_index=[2, 24], edge_attr=[24, 19]),\n",
       " Data(x=[25, 20], edge_index=[2, 48], edge_attr=[48, 19]),\n",
       " Data(x=[8, 20], edge_index=[2, 16], edge_attr=[16, 19]),\n",
       " Data(x=[12, 20], edge_index=[2, 24], edge_attr=[24, 19]),\n",
       " Data(x=[24, 20], edge_index=[2, 52], edge_attr=[52, 19]),\n",
       " Data(x=[17, 20], edge_index=[2, 32], edge_attr=[32, 19]),\n",
       " Data(x=[29, 20], edge_index=[2, 60], edge_attr=[60, 19]),\n",
       " Data(x=[18, 20], edge_index=[2, 40], edge_attr=[40, 19]),\n",
       " Data(x=[9, 20], edge_index=[2, 18], edge_attr=[18, 19]),\n",
       " Data(x=[19, 20], edge_index=[2, 36], edge_attr=[36, 19]),\n",
       " Data(x=[17, 20], edge_index=[2, 32], edge_attr=[32, 19]),\n",
       " Data(x=[44, 20], edge_index=[2, 98], edge_attr=[98, 19]),\n",
       " Data(x=[12, 20], edge_index=[2, 24], edge_attr=[24, 19]),\n",
       " Data(x=[11, 20], edge_index=[2, 22], edge_attr=[22, 19]),\n",
       " Data(x=[24, 20], edge_index=[2, 50], edge_attr=[50, 19]),\n",
       " Data(x=[15, 20], edge_index=[2, 30], edge_attr=[30, 19]),\n",
       " Data(x=[8, 20], edge_index=[2, 14], edge_attr=[14, 19]),\n",
       " Data(x=[8, 20], edge_index=[2, 14], edge_attr=[14, 19]),\n",
       " Data(x=[11, 20], edge_index=[2, 24], edge_attr=[24, 19]),\n",
       " Data(x=[16, 20], edge_index=[2, 32], edge_attr=[32, 19]),\n",
       " Data(x=[23, 20], edge_index=[2, 46], edge_attr=[46, 19]),\n",
       " Data(x=[11, 20], edge_index=[2, 20], edge_attr=[20, 19]),\n",
       " Data(x=[10, 20], edge_index=[2, 18], edge_attr=[18, 19]),\n",
       " Data(x=[9, 20], edge_index=[2, 16], edge_attr=[16, 19]),\n",
       " Data(x=[15, 20], edge_index=[2, 30], edge_attr=[30, 19]),\n",
       " Data(x=[13, 20], edge_index=[2, 26], edge_attr=[26, 19]),\n",
       " Data(x=[10, 20], edge_index=[2, 22], edge_attr=[22, 19]),\n",
       " Data(x=[20, 20], edge_index=[2, 40], edge_attr=[40, 19]),\n",
       " Data(x=[14, 20], edge_index=[2, 28], edge_attr=[28, 19]),\n",
       " Data(x=[20, 20], edge_index=[2, 46], edge_attr=[46, 19]),\n",
       " Data(x=[23, 20], edge_index=[2, 48], edge_attr=[48, 19]),\n",
       " Data(x=[10, 20], edge_index=[2, 20], edge_attr=[20, 19]),\n",
       " Data(x=[24, 20], edge_index=[2, 48], edge_attr=[48, 19]),\n",
       " Data(x=[17, 20], edge_index=[2, 36], edge_attr=[36, 19]),\n",
       " Data(x=[12, 20], edge_index=[2, 22], edge_attr=[22, 19]),\n",
       " Data(x=[15, 20], edge_index=[2, 28], edge_attr=[28, 19]),\n",
       " Data(x=[19, 20], edge_index=[2, 40], edge_attr=[40, 19]),\n",
       " Data(x=[11, 20], edge_index=[2, 22], edge_attr=[22, 19]),\n",
       " Data(x=[11, 20], edge_index=[2, 22], edge_attr=[22, 19]),\n",
       " Data(x=[26, 20], edge_index=[2, 50], edge_attr=[50, 19]),\n",
       " Data(x=[10, 20], edge_index=[2, 22], edge_attr=[22, 19]),\n",
       " Data(x=[22, 20], edge_index=[2, 44], edge_attr=[44, 19]),\n",
       " Data(x=[13, 20], edge_index=[2, 24], edge_attr=[24, 19]),\n",
       " Data(x=[29, 20], edge_index=[2, 56], edge_attr=[56, 19]),\n",
       " Data(x=[25, 20], edge_index=[2, 54], edge_attr=[54, 19]),\n",
       " Data(x=[23, 20], edge_index=[2, 48], edge_attr=[48, 19]),\n",
       " Data(x=[18, 20], edge_index=[2, 38], edge_attr=[38, 19]),\n",
       " Data(x=[17, 20], edge_index=[2, 32], edge_attr=[32, 19]),\n",
       " Data(x=[9, 20], edge_index=[2, 14], edge_attr=[14, 19]),\n",
       " Data(x=[5, 20], edge_index=[2, 8], edge_attr=[8, 19]),\n",
       " Data(x=[19, 20], edge_index=[2, 40], edge_attr=[40, 19]),\n",
       " Data(x=[26, 20], edge_index=[2, 56], edge_attr=[56, 19]),\n",
       " Data(x=[12, 20], edge_index=[2, 26], edge_attr=[26, 19]),\n",
       " Data(x=[17, 20], edge_index=[2, 36], edge_attr=[36, 19]),\n",
       " Data(x=[9, 20], edge_index=[2, 18], edge_attr=[18, 19]),\n",
       " Data(x=[11, 20], edge_index=[2, 20], edge_attr=[20, 19]),\n",
       " Data(x=[13, 20], edge_index=[2, 26], edge_attr=[26, 19]),\n",
       " Data(x=[7, 20], edge_index=[2, 12], edge_attr=[12, 19]),\n",
       " Data(x=[14, 20], edge_index=[2, 28], edge_attr=[28, 19]),\n",
       " Data(x=[13, 20], edge_index=[2, 28], edge_attr=[28, 19]),\n",
       " Data(x=[13, 20], edge_index=[2, 26], edge_attr=[26, 19]),\n",
       " Data(x=[22, 20], edge_index=[2, 46], edge_attr=[46, 19]),\n",
       " Data(x=[22, 20], edge_index=[2, 48], edge_attr=[48, 19]),\n",
       " Data(x=[14, 20], edge_index=[2, 26], edge_attr=[26, 19]),\n",
       " Data(x=[12, 20], edge_index=[2, 24], edge_attr=[24, 19]),\n",
       " Data(x=[6, 20], edge_index=[2, 10], edge_attr=[10, 19]),\n",
       " Data(x=[31, 20], edge_index=[2, 62], edge_attr=[62, 19]),\n",
       " Data(x=[7, 20], edge_index=[2, 12], edge_attr=[12, 19]),\n",
       " Data(x=[42, 20], edge_index=[2, 90], edge_attr=[90, 19]),\n",
       " Data(x=[15, 20], edge_index=[2, 28], edge_attr=[28, 19]),\n",
       " Data(x=[20, 20], edge_index=[2, 38], edge_attr=[38, 19]),\n",
       " Data(x=[6, 20], edge_index=[2, 8], edge_attr=[8, 19]),\n",
       " Data(x=[8, 20], edge_index=[2, 14], edge_attr=[14, 19]),\n",
       " Data(x=[24, 20], edge_index=[2, 48], edge_attr=[48, 19]),\n",
       " Data(x=[29, 20], edge_index=[2, 60], edge_attr=[60, 19]),\n",
       " Data(x=[14, 20], edge_index=[2, 28], edge_attr=[28, 19]),\n",
       " Data(x=[8, 20], edge_index=[2, 14], edge_attr=[14, 19]),\n",
       " Data(x=[13, 20], edge_index=[2, 26], edge_attr=[26, 19]),\n",
       " Data(x=[34, 20], edge_index=[2, 68], edge_attr=[68, 19]),\n",
       " Data(x=[23, 20], edge_index=[2, 50], edge_attr=[50, 19]),\n",
       " Data(x=[15, 20], edge_index=[2, 32], edge_attr=[32, 19]),\n",
       " Data(x=[35, 20], edge_index=[2, 72], edge_attr=[72, 19]),\n",
       " Data(x=[10, 20], edge_index=[2, 20], edge_attr=[20, 19]),\n",
       " Data(x=[19, 20], edge_index=[2, 36], edge_attr=[36, 19]),\n",
       " Data(x=[14, 20], edge_index=[2, 28], edge_attr=[28, 19]),\n",
       " Data(x=[17, 20], edge_index=[2, 36], edge_attr=[36, 19]),\n",
       " Data(x=[42, 20], edge_index=[2, 86], edge_attr=[86, 19]),\n",
       " Data(x=[12, 20], edge_index=[2, 22], edge_attr=[22, 19]),\n",
       " Data(x=[18, 20], edge_index=[2, 36], edge_attr=[36, 19]),\n",
       " Data(x=[23, 20], edge_index=[2, 50], edge_attr=[50, 19]),\n",
       " Data(x=[22, 20], edge_index=[2, 46], edge_attr=[46, 19]),\n",
       " Data(x=[16, 20], edge_index=[2, 32], edge_attr=[32, 19]),\n",
       " Data(x=[9, 20], edge_index=[2, 16], edge_attr=[16, 19]),\n",
       " Data(x=[10, 20], edge_index=[2, 20], edge_attr=[20, 19]),\n",
       " Data(x=[29, 20], edge_index=[2, 56], edge_attr=[56, 19]),\n",
       " Data(x=[15, 20], edge_index=[2, 32], edge_attr=[32, 19]),\n",
       " Data(x=[16, 20], edge_index=[2, 30], edge_attr=[30, 19]),\n",
       " Data(x=[11, 20], edge_index=[2, 22], edge_attr=[22, 19]),\n",
       " Data(x=[7, 20], edge_index=[2, 12], edge_attr=[12, 19]),\n",
       " Data(x=[24, 20], edge_index=[2, 54], edge_attr=[54, 19]),\n",
       " Data(x=[26, 20], edge_index=[2, 58], edge_attr=[58, 19]),\n",
       " Data(x=[5, 20], edge_index=[2, 8], edge_attr=[8, 19]),\n",
       " Data(x=[27, 20], edge_index=[2, 54], edge_attr=[54, 19]),\n",
       " Data(x=[51, 20], edge_index=[2, 106], edge_attr=[106, 19]),\n",
       " Data(x=[20, 20], edge_index=[2, 46], edge_attr=[46, 19]),\n",
       " Data(x=[14, 20], edge_index=[2, 30], edge_attr=[30, 19]),\n",
       " Data(x=[38, 20], edge_index=[2, 76], edge_attr=[76, 19]),\n",
       " Data(x=[31, 20], edge_index=[2, 68], edge_attr=[68, 19]),\n",
       " Data(x=[31, 20], edge_index=[2, 64], edge_attr=[64, 19]),\n",
       " Data(x=[11, 20], edge_index=[2, 22], edge_attr=[22, 19]),\n",
       " Data(x=[13, 20], edge_index=[2, 24], edge_attr=[24, 19]),\n",
       " Data(x=[23, 20], edge_index=[2, 48], edge_attr=[48, 19]),\n",
       " Data(x=[16, 20], edge_index=[2, 34], edge_attr=[34, 19]),\n",
       " Data(x=[25, 20], edge_index=[2, 48], edge_attr=[48, 19]),\n",
       " Data(x=[16, 20], edge_index=[2, 32], edge_attr=[32, 19]),\n",
       " Data(x=[9, 20], edge_index=[2, 16], edge_attr=[16, 19]),\n",
       " Data(x=[9, 20], edge_index=[2, 16], edge_attr=[16, 19]),\n",
       " Data(x=[102, 20], edge_index=[2, 220], edge_attr=[220, 19]),\n",
       " Data(x=[20, 20], edge_index=[2, 46], edge_attr=[46, 19]),\n",
       " Data(x=[30, 20], edge_index=[2, 58], edge_attr=[58, 19]),\n",
       " Data(x=[45, 20], edge_index=[2, 94], edge_attr=[94, 19]),\n",
       " Data(x=[24, 20], edge_index=[2, 50], edge_attr=[50, 19]),\n",
       " Data(x=[8, 20], edge_index=[2, 16], edge_attr=[16, 19]),\n",
       " Data(x=[31, 20], edge_index=[2, 64], edge_attr=[64, 19]),\n",
       " Data(x=[12, 20], edge_index=[2, 22], edge_attr=[22, 19]),\n",
       " Data(x=[14, 20], edge_index=[2, 28], edge_attr=[28, 19]),\n",
       " Data(x=[16, 20], edge_index=[2, 32], edge_attr=[32, 19]),\n",
       " Data(x=[21, 20], edge_index=[2, 48], edge_attr=[48, 19]),\n",
       " Data(x=[23, 20], edge_index=[2, 48], edge_attr=[48, 19]),\n",
       " Data(x=[16, 20], edge_index=[2, 30], edge_attr=[30, 19]),\n",
       " Data(x=[8, 20], edge_index=[2, 12], edge_attr=[12, 19]),\n",
       " Data(x=[10, 20], edge_index=[2, 20], edge_attr=[20, 19]),\n",
       " Data(x=[13, 20], edge_index=[2, 26], edge_attr=[26, 19]),\n",
       " Data(x=[10, 20], edge_index=[2, 20], edge_attr=[20, 19]),\n",
       " Data(x=[5, 20], edge_index=[2, 8], edge_attr=[8, 19]),\n",
       " Data(x=[13, 20], edge_index=[2, 18], edge_attr=[18, 19]),\n",
       " Data(x=[22, 20], edge_index=[2, 42], edge_attr=[42, 19]),\n",
       " Data(x=[3, 20], edge_index=[2, 4], edge_attr=[4, 19]),\n",
       " Data(x=[42, 20], edge_index=[2, 86], edge_attr=[86, 19]),\n",
       " Data(x=[21, 20], edge_index=[2, 48], edge_attr=[48, 19]),\n",
       " Data(x=[10, 20], edge_index=[2, 20], edge_attr=[20, 19]),\n",
       " Data(x=[30, 20], edge_index=[2, 64], edge_attr=[64, 19]),\n",
       " Data(x=[29, 20], edge_index=[2, 56], edge_attr=[56, 19]),\n",
       " Data(x=[9, 20], edge_index=[2, 16], edge_attr=[16, 19]),\n",
       " Data(x=[17, 20], edge_index=[2, 34], edge_attr=[34, 19]),\n",
       " Data(x=[29, 20], edge_index=[2, 56], edge_attr=[56, 19]),\n",
       " Data(x=[32, 20], edge_index=[2, 68], edge_attr=[68, 19]),\n",
       " Data(x=[15, 20], edge_index=[2, 28], edge_attr=[28, 19]),\n",
       " Data(x=[17, 20], edge_index=[2, 32], edge_attr=[32, 19]),\n",
       " Data(x=[35, 20], edge_index=[2, 74], edge_attr=[74, 19]),\n",
       " Data(x=[29, 20], edge_index=[2, 70], edge_attr=[70, 19]),\n",
       " Data(x=[15, 20], edge_index=[2, 32], edge_attr=[32, 19]),\n",
       " Data(x=[33, 20], edge_index=[2, 70], edge_attr=[70, 19]),\n",
       " Data(x=[25, 20], edge_index=[2, 50], edge_attr=[50, 19]),\n",
       " Data(x=[17, 20], edge_index=[2, 36], edge_attr=[36, 19]),\n",
       " Data(x=[18, 20], edge_index=[2, 38], edge_attr=[38, 19]),\n",
       " Data(x=[21, 20], edge_index=[2, 44], edge_attr=[44, 19]),\n",
       " Data(x=[22, 20], edge_index=[2, 46], edge_attr=[46, 19]),\n",
       " Data(x=[32, 20], edge_index=[2, 64], edge_attr=[64, 19]),\n",
       " Data(x=[15, 20], edge_index=[2, 32], edge_attr=[32, 19]),\n",
       " Data(x=[26, 20], edge_index=[2, 56], edge_attr=[56, 19]),\n",
       " Data(x=[9, 20], edge_index=[2, 16], edge_attr=[16, 19]),\n",
       " Data(x=[10, 20], edge_index=[2, 20], edge_attr=[20, 19]),\n",
       " Data(x=[39, 20], edge_index=[2, 76], edge_attr=[76, 19]),\n",
       " Data(x=[6, 20], edge_index=[2, 10], edge_attr=[10, 19]),\n",
       " Data(x=[30, 20], edge_index=[2, 66], edge_attr=[66, 19]),\n",
       " Data(x=[11, 20], edge_index=[2, 22], edge_attr=[22, 19]),\n",
       " Data(x=[12, 20], edge_index=[2, 22], edge_attr=[22, 19]),\n",
       " Data(x=[34, 20], edge_index=[2, 70], edge_attr=[70, 19]),\n",
       " Data(x=[19, 20], edge_index=[2, 40], edge_attr=[40, 19]),\n",
       " Data(x=[20, 20], edge_index=[2, 40], edge_attr=[40, 19]),\n",
       " Data(x=[10, 20], edge_index=[2, 18], edge_attr=[18, 19]),\n",
       " Data(x=[27, 20], edge_index=[2, 48], edge_attr=[48, 19]),\n",
       " Data(x=[16, 20], edge_index=[2, 34], edge_attr=[34, 19]),\n",
       " Data(x=[16, 20], edge_index=[2, 32], edge_attr=[32, 19]),\n",
       " Data(x=[9, 20], edge_index=[2, 20], edge_attr=[20, 19]),\n",
       " Data(x=[15, 20], edge_index=[2, 32], edge_attr=[32, 19]),\n",
       " Data(x=[21, 20], edge_index=[2, 44], edge_attr=[44, 19]),\n",
       " Data(x=[23, 20], edge_index=[2, 44], edge_attr=[44, 19]),\n",
       " Data(x=[14, 20], edge_index=[2, 26], edge_attr=[26, 19]),\n",
       " Data(x=[10, 20], edge_index=[2, 20], edge_attr=[20, 19]),\n",
       " Data(x=[15, 20], edge_index=[2, 34], edge_attr=[34, 19]),\n",
       " Data(x=[10, 20], edge_index=[2, 22], edge_attr=[22, 19]),\n",
       " Data(x=[25, 20], edge_index=[2, 52], edge_attr=[52, 19]),\n",
       " Data(x=[18, 20], edge_index=[2, 36], edge_attr=[36, 19]),\n",
       " Data(x=[9, 20], edge_index=[2, 18], edge_attr=[18, 19]),\n",
       " Data(x=[5, 20], edge_index=[2, 8], edge_attr=[8, 19]),\n",
       " Data(x=[17, 20], edge_index=[2, 36], edge_attr=[36, 19]),\n",
       " Data(x=[16, 20], edge_index=[2, 34], edge_attr=[34, 19]),\n",
       " Data(x=[10, 20], edge_index=[2, 20], edge_attr=[20, 19]),\n",
       " Data(x=[18, 20], edge_index=[2, 40], edge_attr=[40, 19]),\n",
       " Data(x=[16, 20], edge_index=[2, 34], edge_attr=[34, 19]),\n",
       " Data(x=[54, 20], edge_index=[2, 112], edge_attr=[112, 19]),\n",
       " Data(x=[11, 20], edge_index=[2, 18], edge_attr=[18, 19]),\n",
       " Data(x=[11, 20], edge_index=[2, 24], edge_attr=[24, 19]),\n",
       " Data(x=[24, 20], edge_index=[2, 46], edge_attr=[46, 19]),\n",
       " Data(x=[25, 20], edge_index=[2, 50], edge_attr=[50, 19]),\n",
       " Data(x=[8, 20], edge_index=[2, 14], edge_attr=[14, 19]),\n",
       " Data(x=[23, 20], edge_index=[2, 48], edge_attr=[48, 19]),\n",
       " Data(x=[16, 20], edge_index=[2, 32], edge_attr=[32, 19]),\n",
       " Data(x=[10, 20], edge_index=[2, 20], edge_attr=[20, 19]),\n",
       " Data(x=[12, 20], edge_index=[2, 22], edge_attr=[22, 19]),\n",
       " Data(x=[13, 20], edge_index=[2, 30], edge_attr=[30, 19]),\n",
       " Data(x=[16, 20], edge_index=[2, 32], edge_attr=[32, 19]),\n",
       " Data(x=[30, 20], edge_index=[2, 60], edge_attr=[60, 19]),\n",
       " Data(x=[18, 20], edge_index=[2, 36], edge_attr=[36, 19]),\n",
       " Data(x=[18, 20], edge_index=[2, 34], edge_attr=[34, 19]),\n",
       " Data(x=[7, 20], edge_index=[2, 14], edge_attr=[14, 19]),\n",
       " Data(x=[85, 20], edge_index=[2, 170], edge_attr=[170, 19]),\n",
       " Data(x=[26, 20], edge_index=[2, 52], edge_attr=[52, 19]),\n",
       " Data(x=[28, 20], edge_index=[2, 58], edge_attr=[58, 19]),\n",
       " Data(x=[11, 20], edge_index=[2, 24], edge_attr=[24, 19]),\n",
       " Data(x=[12, 20], edge_index=[2, 24], edge_attr=[24, 19]),\n",
       " Data(x=[12, 20], edge_index=[2, 24], edge_attr=[24, 19]),\n",
       " Data(x=[30, 20], edge_index=[2, 60], edge_attr=[60, 19]),\n",
       " Data(x=[7, 20], edge_index=[2, 10], edge_attr=[10, 19]),\n",
       " Data(x=[24, 20], edge_index=[2, 54], edge_attr=[54, 19]),\n",
       " Data(x=[7, 20], edge_index=[2, 12], edge_attr=[12, 19]),\n",
       " Data(x=[7, 20], edge_index=[2, 14], edge_attr=[14, 19]),\n",
       " Data(x=[16, 20], edge_index=[2, 30], edge_attr=[30, 19]),\n",
       " Data(x=[16, 20], edge_index=[2, 32], edge_attr=[32, 19]),\n",
       " Data(x=[8, 20], edge_index=[2, 14], edge_attr=[14, 19]),\n",
       " Data(x=[6, 20], edge_index=[2, 8], edge_attr=[8, 19]),\n",
       " Data(x=[9, 20], edge_index=[2, 18], edge_attr=[18, 19]),\n",
       " Data(x=[13, 20], edge_index=[2, 26], edge_attr=[26, 19]),\n",
       " Data(x=[12, 20], edge_index=[2, 26], edge_attr=[26, 19]),\n",
       " Data(x=[11, 20], edge_index=[2, 22], edge_attr=[22, 19]),\n",
       " Data(x=[42, 20], edge_index=[2, 86], edge_attr=[86, 19]),\n",
       " Data(x=[22, 20], edge_index=[2, 46], edge_attr=[46, 19]),\n",
       " Data(x=[12, 20], edge_index=[2, 26], edge_attr=[26, 19]),\n",
       " Data(x=[15, 20], edge_index=[2, 30], edge_attr=[30, 19]),\n",
       " Data(x=[23, 20], edge_index=[2, 52], edge_attr=[52, 19]),\n",
       " Data(x=[8, 20], edge_index=[2, 14], edge_attr=[14, 19]),\n",
       " Data(x=[11, 20], edge_index=[2, 22], edge_attr=[22, 19]),\n",
       " Data(x=[12, 20], edge_index=[2, 24], edge_attr=[24, 19]),\n",
       " Data(x=[64, 20], edge_index=[2, 142], edge_attr=[142, 19]),\n",
       " Data(x=[11, 20], edge_index=[2, 24], edge_attr=[24, 19]),\n",
       " Data(x=[9, 20], edge_index=[2, 18], edge_attr=[18, 19]),\n",
       " Data(x=[22, 20], edge_index=[2, 44], edge_attr=[44, 19]),\n",
       " Data(x=[15, 20], edge_index=[2, 30], edge_attr=[30, 19]),\n",
       " Data(x=[30, 20], edge_index=[2, 64], edge_attr=[64, 19]),\n",
       " Data(x=[11, 20], edge_index=[2, 22], edge_attr=[22, 19]),\n",
       " Data(x=[9, 20], edge_index=[2, 16], edge_attr=[16, 19]),\n",
       " Data(x=[28, 20], edge_index=[2, 62], edge_attr=[62, 19]),\n",
       " Data(x=[10, 20], edge_index=[2, 22], edge_attr=[22, 19]),\n",
       " Data(x=[11, 20], edge_index=[2, 20], edge_attr=[20, 19]),\n",
       " Data(x=[33, 20], edge_index=[2, 74], edge_attr=[74, 19]),\n",
       " Data(x=[36, 20], edge_index=[2, 72], edge_attr=[72, 19]),\n",
       " Data(x=[27, 20], edge_index=[2, 56], edge_attr=[56, 19]),\n",
       " Data(x=[8, 20], edge_index=[2, 16], edge_attr=[16, 19]),\n",
       " Data(x=[16, 20], edge_index=[2, 34], edge_attr=[34, 19]),\n",
       " Data(x=[9, 20], edge_index=[2, 18], edge_attr=[18, 19]),\n",
       " Data(x=[9, 20], edge_index=[2, 18], edge_attr=[18, 19]),\n",
       " Data(x=[16, 20], edge_index=[2, 32], edge_attr=[32, 19]),\n",
       " Data(x=[21, 20], edge_index=[2, 44], edge_attr=[44, 19]),\n",
       " Data(x=[16, 20], edge_index=[2, 30], edge_attr=[30, 19]),\n",
       " Data(x=[29, 20], edge_index=[2, 62], edge_attr=[62, 19]),\n",
       " Data(x=[57, 20], edge_index=[2, 112], edge_attr=[112, 19]),\n",
       " Data(x=[18, 20], edge_index=[2, 34], edge_attr=[34, 19]),\n",
       " Data(x=[23, 20], edge_index=[2, 50], edge_attr=[50, 19]),\n",
       " Data(x=[16, 20], edge_index=[2, 30], edge_attr=[30, 19]),\n",
       " Data(x=[21, 20], edge_index=[2, 48], edge_attr=[48, 19]),\n",
       " Data(x=[48, 20], edge_index=[2, 102], edge_attr=[102, 19]),\n",
       " Data(x=[23, 20], edge_index=[2, 50], edge_attr=[50, 19]),\n",
       " Data(x=[6, 20], edge_index=[2, 8], edge_attr=[8, 19]),\n",
       " Data(x=[18, 20], edge_index=[2, 34], edge_attr=[34, 19]),\n",
       " Data(x=[13, 20], edge_index=[2, 24], edge_attr=[24, 19]),\n",
       " Data(x=[10, 20], edge_index=[2, 18], edge_attr=[18, 19]),\n",
       " Data(x=[23, 20], edge_index=[2, 50], edge_attr=[50, 19]),\n",
       " Data(x=[21, 20], edge_index=[2, 46], edge_attr=[46, 19]),\n",
       " Data(x=[5, 20], edge_index=[2, 8], edge_attr=[8, 19]),\n",
       " Data(x=[11, 20], edge_index=[2, 22], edge_attr=[22, 19]),\n",
       " Data(x=[20, 20], edge_index=[2, 38], edge_attr=[38, 19]),\n",
       " Data(x=[12, 20], edge_index=[2, 24], edge_attr=[24, 19]),\n",
       " Data(x=[21, 20], edge_index=[2, 42], edge_attr=[42, 19]),\n",
       " Data(x=[17, 20], edge_index=[2, 34], edge_attr=[34, 19]),\n",
       " Data(x=[18, 20], edge_index=[2, 40], edge_attr=[40, 19]),\n",
       " Data(x=[10, 20], edge_index=[2, 20], edge_attr=[20, 19]),\n",
       " Data(x=[13, 20], edge_index=[2, 26], edge_attr=[26, 19]),\n",
       " Data(x=[4, 20], edge_index=[2, 4], edge_attr=[4, 19]),\n",
       " Data(x=[12, 20], edge_index=[2, 24], edge_attr=[24, 19]),\n",
       " Data(x=[15, 20], edge_index=[2, 32], edge_attr=[32, 19]),\n",
       " Data(x=[39, 20], edge_index=[2, 76], edge_attr=[76, 19]),\n",
       " Data(x=[18, 20], edge_index=[2, 32], edge_attr=[32, 19]),\n",
       " Data(x=[28, 20], edge_index=[2, 58], edge_attr=[58, 19]),\n",
       " Data(x=[31, 20], edge_index=[2, 70], edge_attr=[70, 19]),\n",
       " Data(x=[20, 20], edge_index=[2, 44], edge_attr=[44, 19]),\n",
       " Data(x=[12, 20], edge_index=[2, 24], edge_attr=[24, 19]),\n",
       " Data(x=[23, 20], edge_index=[2, 40], edge_attr=[40, 19]),\n",
       " Data(x=[13, 20], edge_index=[2, 24], edge_attr=[24, 19]),\n",
       " Data(x=[14, 20], edge_index=[2, 28], edge_attr=[28, 19]),\n",
       " Data(x=[9, 20], edge_index=[2, 18], edge_attr=[18, 19]),\n",
       " Data(x=[6, 20], edge_index=[2, 10], edge_attr=[10, 19]),\n",
       " Data(x=[18, 20], edge_index=[2, 34], edge_attr=[34, 19]),\n",
       " Data(x=[23, 20], edge_index=[2, 52], edge_attr=[52, 19]),\n",
       " Data(x=[16, 20], edge_index=[2, 34], edge_attr=[34, 19]),\n",
       " Data(x=[23, 20], edge_index=[2, 46], edge_attr=[46, 19]),\n",
       " Data(x=[20, 20], edge_index=[2, 46], edge_attr=[46, 19]),\n",
       " Data(x=[39, 20], edge_index=[2, 78], edge_attr=[78, 19]),\n",
       " Data(x=[12, 20], edge_index=[2, 22], edge_attr=[22, 19]),\n",
       " Data(x=[27, 20], edge_index=[2, 56], edge_attr=[56, 19]),\n",
       " Data(x=[13, 20], edge_index=[2, 26], edge_attr=[26, 19]),\n",
       " Data(x=[19, 20], edge_index=[2, 40], edge_attr=[40, 19]),\n",
       " Data(x=[20, 20], edge_index=[2, 36], edge_attr=[36, 19]),\n",
       " Data(x=[15, 20], edge_index=[2, 28], edge_attr=[28, 19]),\n",
       " Data(x=[27, 20], edge_index=[2, 62], edge_attr=[62, 19]),\n",
       " Data(x=[12, 20], edge_index=[2, 24], edge_attr=[24, 19]),\n",
       " Data(x=[24, 20], edge_index=[2, 52], edge_attr=[52, 19]),\n",
       " Data(x=[34, 20], edge_index=[2, 70], edge_attr=[70, 19]),\n",
       " Data(x=[15, 20], edge_index=[2, 30], edge_attr=[30, 19]),\n",
       " Data(x=[3, 20], edge_index=[0], edge_attr=[0]),\n",
       " Data(x=[10, 20], edge_index=[2, 20], edge_attr=[20, 19]),\n",
       " Data(x=[23, 20], edge_index=[2, 48], edge_attr=[48, 19]),\n",
       " Data(x=[12, 20], edge_index=[2, 24], edge_attr=[24, 19]),\n",
       " Data(x=[46, 20], edge_index=[2, 94], edge_attr=[94, 19]),\n",
       " Data(x=[30, 20], edge_index=[2, 64], edge_attr=[64, 19]),\n",
       " Data(x=[28, 20], edge_index=[2, 64], edge_attr=[64, 19]),\n",
       " Data(x=[11, 20], edge_index=[2, 22], edge_attr=[22, 19]),\n",
       " Data(x=[17, 20], edge_index=[2, 36], edge_attr=[36, 19]),\n",
       " Data(x=[12, 20], edge_index=[2, 22], edge_attr=[22, 19]),\n",
       " Data(x=[13, 20], edge_index=[2, 26], edge_attr=[26, 19]),\n",
       " Data(x=[6, 20], edge_index=[2, 6], edge_attr=[6, 19]),\n",
       " Data(x=[13, 20], edge_index=[2, 28], edge_attr=[28, 19]),\n",
       " Data(x=[39, 20], edge_index=[2, 80], edge_attr=[80, 19]),\n",
       " Data(x=[30, 20], edge_index=[2, 64], edge_attr=[64, 19]),\n",
       " Data(x=[6, 20], edge_index=[2, 10], edge_attr=[10, 19]),\n",
       " Data(x=[14, 20], edge_index=[2, 28], edge_attr=[28, 19]),\n",
       " Data(x=[15, 20], edge_index=[2, 32], edge_attr=[32, 19]),\n",
       " Data(x=[9, 20], edge_index=[2, 18], edge_attr=[18, 19]),\n",
       " Data(x=[16, 20], edge_index=[2, 32], edge_attr=[32, 19]),\n",
       " Data(x=[26, 20], edge_index=[2, 60], edge_attr=[60, 19]),\n",
       " Data(x=[11, 20], edge_index=[2, 20], edge_attr=[20, 19]),\n",
       " Data(x=[6, 20], edge_index=[2, 10], edge_attr=[10, 19]),\n",
       " Data(x=[20, 20], edge_index=[2, 40], edge_attr=[40, 19]),\n",
       " Data(x=[17, 20], edge_index=[2, 36], edge_attr=[36, 19]),\n",
       " Data(x=[21, 20], edge_index=[2, 44], edge_attr=[44, 19]),\n",
       " Data(x=[11, 20], edge_index=[2, 22], edge_attr=[22, 19]),\n",
       " Data(x=[12, 20], edge_index=[2, 26], edge_attr=[26, 19]),\n",
       " Data(x=[4, 20], edge_index=[2, 6], edge_attr=[6, 19]),\n",
       " Data(x=[21, 20], edge_index=[2, 44], edge_attr=[44, 19]),\n",
       " Data(x=[10, 20], edge_index=[2, 20], edge_attr=[20, 19]),\n",
       " Data(x=[25, 20], edge_index=[2, 60], edge_attr=[60, 19]),\n",
       " Data(x=[23, 20], edge_index=[2, 50], edge_attr=[50, 19]),\n",
       " Data(x=[35, 20], edge_index=[2, 74], edge_attr=[74, 19]),\n",
       " Data(x=[21, 20], edge_index=[2, 44], edge_attr=[44, 19]),\n",
       " Data(x=[15, 20], edge_index=[2, 34], edge_attr=[34, 19]),\n",
       " Data(x=[36, 20], edge_index=[2, 80], edge_attr=[80, 19]),\n",
       " Data(x=[25, 20], edge_index=[2, 52], edge_attr=[52, 19]),\n",
       " Data(x=[41, 20], edge_index=[2, 84], edge_attr=[84, 19]),\n",
       " Data(x=[19, 20], edge_index=[2, 42], edge_attr=[42, 19]),\n",
       " Data(x=[28, 20], edge_index=[2, 58], edge_attr=[58, 19]),\n",
       " Data(x=[20, 20], edge_index=[2, 44], edge_attr=[44, 19]),\n",
       " Data(x=[18, 20], edge_index=[2, 38], edge_attr=[38, 19]),\n",
       " Data(x=[52, 20], edge_index=[2, 120], edge_attr=[120, 19]),\n",
       " Data(x=[34, 20], edge_index=[2, 74], edge_attr=[74, 19]),\n",
       " Data(x=[17, 20], edge_index=[2, 36], edge_attr=[36, 19]),\n",
       " Data(x=[17, 20], edge_index=[2, 40], edge_attr=[40, 19]),\n",
       " Data(x=[18, 20], edge_index=[2, 36], edge_attr=[36, 19]),\n",
       " Data(x=[23, 20], edge_index=[2, 52], edge_attr=[52, 19]),\n",
       " Data(x=[42, 20], edge_index=[2, 90], edge_attr=[90, 19]),\n",
       " Data(x=[16, 20], edge_index=[2, 34], edge_attr=[34, 19]),\n",
       " Data(x=[37, 20], edge_index=[2, 80], edge_attr=[80, 19]),\n",
       " Data(x=[21, 20], edge_index=[2, 44], edge_attr=[44, 19]),\n",
       " Data(x=[18, 20], edge_index=[2, 36], edge_attr=[36, 19]),\n",
       " Data(x=[33, 20], edge_index=[2, 68], edge_attr=[68, 19]),\n",
       " Data(x=[17, 20], edge_index=[2, 34], edge_attr=[34, 19]),\n",
       " Data(x=[42, 20], edge_index=[2, 94], edge_attr=[94, 19]),\n",
       " Data(x=[12, 20], edge_index=[2, 26], edge_attr=[26, 19]),\n",
       " Data(x=[13, 20], edge_index=[2, 28], edge_attr=[28, 19]),\n",
       " Data(x=[28, 20], edge_index=[2, 58], edge_attr=[58, 19]),\n",
       " Data(x=[20, 20], edge_index=[2, 48], edge_attr=[48, 19]),\n",
       " Data(x=[25, 20], edge_index=[2, 56], edge_attr=[56, 19]),\n",
       " Data(x=[21, 20], edge_index=[2, 46], edge_attr=[46, 19]),\n",
       " Data(x=[23, 20], edge_index=[2, 50], edge_attr=[50, 19]),\n",
       " Data(x=[14, 20], edge_index=[2, 30], edge_attr=[30, 19]),\n",
       " Data(x=[23, 20], edge_index=[2, 48], edge_attr=[48, 19]),\n",
       " Data(x=[15, 20], edge_index=[2, 34], edge_attr=[34, 19]),\n",
       " Data(x=[19, 20], edge_index=[2, 40], edge_attr=[40, 19]),\n",
       " Data(x=[30, 20], edge_index=[2, 66], edge_attr=[66, 19]),\n",
       " Data(x=[15, 20], edge_index=[2, 34], edge_attr=[34, 19]),\n",
       " Data(x=[68, 20], edge_index=[2, 138], edge_attr=[138, 19]),\n",
       " Data(x=[25, 20], edge_index=[2, 54], edge_attr=[54, 19]),\n",
       " Data(x=[35, 20], edge_index=[2, 72], edge_attr=[72, 19]),\n",
       " Data(x=[19, 20], edge_index=[2, 42], edge_attr=[42, 19]),\n",
       " Data(x=[13, 20], edge_index=[2, 28], edge_attr=[28, 19]),\n",
       " Data(x=[24, 20], edge_index=[2, 54], edge_attr=[54, 19]),\n",
       " Data(x=[22, 20], edge_index=[2, 48], edge_attr=[48, 19]),\n",
       " Data(x=[60, 20], edge_index=[2, 128], edge_attr=[128, 19]),\n",
       " Data(x=[21, 20], edge_index=[2, 44], edge_attr=[44, 19]),\n",
       " Data(x=[15, 20], edge_index=[2, 34], edge_attr=[34, 19]),\n",
       " Data(x=[21, 20], edge_index=[2, 46], edge_attr=[46, 19]),\n",
       " ...]"
      ]
     },
     "execution_count": 97,
     "metadata": {},
     "output_type": "execute_result"
    }
   ],
   "source": [
    "graphs_all"
   ]
  },
  {
   "cell_type": "code",
   "execution_count": 103,
   "metadata": {},
   "outputs": [
    {
     "name": "stderr",
     "output_type": "stream",
     "text": [
      "100%|██████████| 14282/14282 [00:17<00:00, 826.82it/s]\n",
      "100%|██████████| 14282/14282 [00:12<00:00, 1187.38it/s]\n"
     ]
    },
    {
     "name": "stdout",
     "output_type": "stream",
     "text": [
      "Epoch: 0, Loss: 8.1948, Eval Loss: 7.1810\n"
     ]
    },
    {
     "name": "stderr",
     "output_type": "stream",
     "text": [
      "100%|██████████| 14282/14282 [00:17<00:00, 814.22it/s]\n",
      "100%|██████████| 14282/14282 [00:12<00:00, 1183.29it/s]\n"
     ]
    },
    {
     "name": "stdout",
     "output_type": "stream",
     "text": [
      "Epoch: 1, Loss: 7.1852, Eval Loss: 6.4695\n"
     ]
    },
    {
     "name": "stderr",
     "output_type": "stream",
     "text": [
      "100%|██████████| 14282/14282 [00:17<00:00, 822.76it/s]\n",
      "100%|██████████| 14282/14282 [00:12<00:00, 1140.06it/s]\n"
     ]
    },
    {
     "name": "stdout",
     "output_type": "stream",
     "text": [
      "Epoch: 2, Loss: 6.4593, Eval Loss: 6.0081\n"
     ]
    },
    {
     "name": "stderr",
     "output_type": "stream",
     "text": [
      "100%|██████████| 14282/14282 [00:17<00:00, 811.19it/s]\n",
      "100%|██████████| 14282/14282 [00:12<00:00, 1134.26it/s]\n"
     ]
    },
    {
     "name": "stdout",
     "output_type": "stream",
     "text": [
      "Epoch: 3, Loss: 6.0045, Eval Loss: 5.6916\n"
     ]
    },
    {
     "name": "stderr",
     "output_type": "stream",
     "text": [
      "100%|██████████| 14282/14282 [00:17<00:00, 797.19it/s]\n",
      "100%|██████████| 14282/14282 [00:12<00:00, 1133.01it/s]\n"
     ]
    },
    {
     "name": "stdout",
     "output_type": "stream",
     "text": [
      "Epoch: 4, Loss: 5.7057, Eval Loss: 5.4550\n"
     ]
    },
    {
     "name": "stderr",
     "output_type": "stream",
     "text": [
      "100%|██████████| 14282/14282 [00:17<00:00, 804.94it/s]\n",
      "100%|██████████| 14282/14282 [00:12<00:00, 1147.15it/s]\n"
     ]
    },
    {
     "name": "stdout",
     "output_type": "stream",
     "text": [
      "Epoch: 5, Loss: 5.4524, Eval Loss: 5.1675\n"
     ]
    },
    {
     "name": "stderr",
     "output_type": "stream",
     "text": [
      "100%|██████████| 14282/14282 [00:17<00:00, 801.55it/s]\n",
      "100%|██████████| 14282/14282 [00:12<00:00, 1144.77it/s]\n"
     ]
    },
    {
     "name": "stdout",
     "output_type": "stream",
     "text": [
      "Epoch: 6, Loss: 5.1631, Eval Loss: 4.9528\n"
     ]
    },
    {
     "name": "stderr",
     "output_type": "stream",
     "text": [
      "100%|██████████| 14282/14282 [00:17<00:00, 798.00it/s]\n",
      "100%|██████████| 14282/14282 [00:12<00:00, 1144.74it/s]\n"
     ]
    },
    {
     "name": "stdout",
     "output_type": "stream",
     "text": [
      "Epoch: 7, Loss: 4.9497, Eval Loss: 4.7877\n"
     ]
    },
    {
     "name": "stderr",
     "output_type": "stream",
     "text": [
      "100%|██████████| 14282/14282 [00:17<00:00, 794.40it/s]\n",
      "100%|██████████| 14282/14282 [00:12<00:00, 1144.29it/s]\n"
     ]
    },
    {
     "name": "stdout",
     "output_type": "stream",
     "text": [
      "Epoch: 8, Loss: 4.7993, Eval Loss: 4.7136\n"
     ]
    },
    {
     "name": "stderr",
     "output_type": "stream",
     "text": [
      "100%|██████████| 14282/14282 [00:17<00:00, 800.23it/s]\n",
      "100%|██████████| 14282/14282 [00:12<00:00, 1145.59it/s]\n"
     ]
    },
    {
     "name": "stdout",
     "output_type": "stream",
     "text": [
      "Epoch: 9, Loss: 4.7206, Eval Loss: 4.6967\n"
     ]
    },
    {
     "name": "stderr",
     "output_type": "stream",
     "text": [
      "100%|██████████| 14282/14282 [00:18<00:00, 787.03it/s]\n",
      "100%|██████████| 14282/14282 [00:12<00:00, 1137.15it/s]\n"
     ]
    },
    {
     "name": "stdout",
     "output_type": "stream",
     "text": [
      "Epoch: 10, Loss: 4.6655, Eval Loss: 4.6612\n"
     ]
    },
    {
     "name": "stderr",
     "output_type": "stream",
     "text": [
      "100%|██████████| 14282/14282 [00:17<00:00, 810.42it/s]\n",
      "100%|██████████| 14282/14282 [00:12<00:00, 1188.64it/s]\n"
     ]
    },
    {
     "name": "stdout",
     "output_type": "stream",
     "text": [
      "Epoch: 11, Loss: 4.6508, Eval Loss: 4.5920\n"
     ]
    },
    {
     "name": "stderr",
     "output_type": "stream",
     "text": [
      "100%|██████████| 14282/14282 [00:17<00:00, 818.76it/s]\n",
      "100%|██████████| 14282/14282 [00:12<00:00, 1182.91it/s]\n"
     ]
    },
    {
     "name": "stdout",
     "output_type": "stream",
     "text": [
      "Epoch: 12, Loss: 4.5442, Eval Loss: 4.5250\n"
     ]
    },
    {
     "name": "stderr",
     "output_type": "stream",
     "text": [
      "100%|██████████| 14282/14282 [00:17<00:00, 808.96it/s]\n",
      "100%|██████████| 14282/14282 [00:12<00:00, 1166.80it/s]\n"
     ]
    },
    {
     "name": "stdout",
     "output_type": "stream",
     "text": [
      "Epoch: 13, Loss: 4.4893, Eval Loss: 4.4456\n"
     ]
    },
    {
     "name": "stderr",
     "output_type": "stream",
     "text": [
      "100%|██████████| 14282/14282 [00:17<00:00, 819.81it/s]\n",
      "100%|██████████| 14282/14282 [00:12<00:00, 1188.18it/s]\n"
     ]
    },
    {
     "name": "stdout",
     "output_type": "stream",
     "text": [
      "Epoch: 14, Loss: 4.4355, Eval Loss: 4.4132\n"
     ]
    },
    {
     "name": "stderr",
     "output_type": "stream",
     "text": [
      "100%|██████████| 14282/14282 [00:17<00:00, 830.75it/s]\n",
      "100%|██████████| 14282/14282 [00:12<00:00, 1145.10it/s]\n"
     ]
    },
    {
     "name": "stdout",
     "output_type": "stream",
     "text": [
      "Epoch: 15, Loss: 4.4055, Eval Loss: 4.3533\n"
     ]
    },
    {
     "name": "stderr",
     "output_type": "stream",
     "text": [
      "100%|██████████| 14282/14282 [00:17<00:00, 822.88it/s]\n",
      "100%|██████████| 14282/14282 [00:12<00:00, 1184.13it/s]\n"
     ]
    },
    {
     "name": "stdout",
     "output_type": "stream",
     "text": [
      "Epoch: 16, Loss: 4.3449, Eval Loss: 4.2967\n"
     ]
    },
    {
     "name": "stderr",
     "output_type": "stream",
     "text": [
      "100%|██████████| 14282/14282 [00:17<00:00, 819.29it/s]\n",
      "100%|██████████| 14282/14282 [00:12<00:00, 1176.46it/s]\n"
     ]
    },
    {
     "name": "stdout",
     "output_type": "stream",
     "text": [
      "Epoch: 17, Loss: 4.2919, Eval Loss: 4.2358\n"
     ]
    },
    {
     "name": "stderr",
     "output_type": "stream",
     "text": [
      "100%|██████████| 14282/14282 [00:17<00:00, 815.13it/s]\n",
      "100%|██████████| 14282/14282 [00:12<00:00, 1168.16it/s]\n"
     ]
    },
    {
     "name": "stdout",
     "output_type": "stream",
     "text": [
      "Epoch: 18, Loss: 4.2203, Eval Loss: 4.1752\n"
     ]
    },
    {
     "name": "stderr",
     "output_type": "stream",
     "text": [
      "100%|██████████| 14282/14282 [00:17<00:00, 801.88it/s]\n",
      "100%|██████████| 14282/14282 [00:12<00:00, 1151.21it/s]\n"
     ]
    },
    {
     "name": "stdout",
     "output_type": "stream",
     "text": [
      "Epoch: 19, Loss: 4.1719, Eval Loss: 4.1499\n"
     ]
    },
    {
     "name": "stderr",
     "output_type": "stream",
     "text": [
      "100%|██████████| 14282/14282 [00:17<00:00, 797.34it/s]\n",
      "100%|██████████| 14282/14282 [00:12<00:00, 1173.78it/s]\n"
     ]
    },
    {
     "name": "stdout",
     "output_type": "stream",
     "text": [
      "Epoch: 20, Loss: 4.1583, Eval Loss: 4.1108\n"
     ]
    },
    {
     "name": "stderr",
     "output_type": "stream",
     "text": [
      "100%|██████████| 14282/14282 [00:18<00:00, 783.49it/s]\n",
      "100%|██████████| 14282/14282 [00:12<00:00, 1163.37it/s]\n"
     ]
    },
    {
     "name": "stdout",
     "output_type": "stream",
     "text": [
      "Epoch: 21, Loss: 4.1178, Eval Loss: 4.0596\n"
     ]
    },
    {
     "name": "stderr",
     "output_type": "stream",
     "text": [
      "100%|██████████| 14282/14282 [00:17<00:00, 812.32it/s]\n",
      "100%|██████████| 14282/14282 [00:12<00:00, 1177.37it/s]\n"
     ]
    },
    {
     "name": "stdout",
     "output_type": "stream",
     "text": [
      "Epoch: 22, Loss: 4.0910, Eval Loss: 4.0455\n"
     ]
    },
    {
     "name": "stderr",
     "output_type": "stream",
     "text": [
      "100%|██████████| 14282/14282 [00:17<00:00, 822.19it/s]\n",
      "100%|██████████| 14282/14282 [00:12<00:00, 1170.63it/s]\n"
     ]
    },
    {
     "name": "stdout",
     "output_type": "stream",
     "text": [
      "Epoch: 23, Loss: 4.0632, Eval Loss: 4.0483\n"
     ]
    },
    {
     "name": "stderr",
     "output_type": "stream",
     "text": [
      "100%|██████████| 14282/14282 [00:17<00:00, 807.65it/s]\n",
      "100%|██████████| 14282/14282 [00:12<00:00, 1161.25it/s]\n"
     ]
    },
    {
     "name": "stdout",
     "output_type": "stream",
     "text": [
      "Epoch: 24, Loss: 4.0233, Eval Loss: 4.0295\n"
     ]
    },
    {
     "name": "stderr",
     "output_type": "stream",
     "text": [
      "100%|██████████| 14282/14282 [00:17<00:00, 821.29it/s]\n",
      "100%|██████████| 14282/14282 [00:12<00:00, 1176.91it/s]\n"
     ]
    },
    {
     "name": "stdout",
     "output_type": "stream",
     "text": [
      "Epoch: 25, Loss: 4.0338, Eval Loss: 3.9891\n"
     ]
    },
    {
     "name": "stderr",
     "output_type": "stream",
     "text": [
      "100%|██████████| 14282/14282 [00:17<00:00, 797.79it/s]\n",
      "100%|██████████| 14282/14282 [00:14<00:00, 999.69it/s] \n"
     ]
    },
    {
     "name": "stdout",
     "output_type": "stream",
     "text": [
      "Epoch: 26, Loss: 4.0035, Eval Loss: 3.9597\n"
     ]
    },
    {
     "name": "stderr",
     "output_type": "stream",
     "text": [
      "100%|██████████| 14282/14282 [00:20<00:00, 697.73it/s]\n",
      "100%|██████████| 14282/14282 [00:14<00:00, 1001.31it/s]\n"
     ]
    },
    {
     "name": "stdout",
     "output_type": "stream",
     "text": [
      "Epoch: 27, Loss: 3.9918, Eval Loss: 3.9797\n"
     ]
    },
    {
     "name": "stderr",
     "output_type": "stream",
     "text": [
      "100%|██████████| 14282/14282 [00:20<00:00, 697.85it/s]\n",
      "100%|██████████| 14282/14282 [00:14<00:00, 1008.65it/s]\n"
     ]
    },
    {
     "name": "stdout",
     "output_type": "stream",
     "text": [
      "Epoch: 28, Loss: 3.9808, Eval Loss: 3.9248\n"
     ]
    },
    {
     "name": "stderr",
     "output_type": "stream",
     "text": [
      "100%|██████████| 14282/14282 [00:20<00:00, 696.56it/s]\n",
      "100%|██████████| 14282/14282 [00:14<00:00, 1006.08it/s]\n"
     ]
    },
    {
     "name": "stdout",
     "output_type": "stream",
     "text": [
      "Epoch: 29, Loss: 3.9586, Eval Loss: 3.9228\n"
     ]
    },
    {
     "name": "stderr",
     "output_type": "stream",
     "text": [
      "100%|██████████| 14282/14282 [00:20<00:00, 691.83it/s]\n",
      "100%|██████████| 14282/14282 [00:14<00:00, 998.64it/s] \n"
     ]
    },
    {
     "name": "stdout",
     "output_type": "stream",
     "text": [
      "Epoch: 30, Loss: 3.9146, Eval Loss: 3.9030\n"
     ]
    },
    {
     "name": "stderr",
     "output_type": "stream",
     "text": [
      "100%|██████████| 14282/14282 [00:20<00:00, 694.22it/s]\n",
      "100%|██████████| 14282/14282 [00:14<00:00, 1016.92it/s]\n"
     ]
    },
    {
     "name": "stdout",
     "output_type": "stream",
     "text": [
      "Epoch: 31, Loss: 3.9113, Eval Loss: 3.9208\n"
     ]
    },
    {
     "name": "stderr",
     "output_type": "stream",
     "text": [
      "100%|██████████| 14282/14282 [00:20<00:00, 692.07it/s]\n",
      "100%|██████████| 14282/14282 [00:14<00:00, 1002.25it/s]\n"
     ]
    },
    {
     "name": "stdout",
     "output_type": "stream",
     "text": [
      "Epoch: 32, Loss: 3.8892, Eval Loss: 3.8828\n"
     ]
    },
    {
     "name": "stderr",
     "output_type": "stream",
     "text": [
      "100%|██████████| 14282/14282 [00:20<00:00, 698.49it/s]\n",
      "100%|██████████| 14282/14282 [00:14<00:00, 1010.03it/s]\n"
     ]
    },
    {
     "name": "stdout",
     "output_type": "stream",
     "text": [
      "Epoch: 33, Loss: 3.8730, Eval Loss: 3.8702\n"
     ]
    },
    {
     "name": "stderr",
     "output_type": "stream",
     "text": [
      "100%|██████████| 14282/14282 [00:20<00:00, 693.93it/s]\n",
      "100%|██████████| 14282/14282 [00:14<00:00, 1007.52it/s]\n"
     ]
    },
    {
     "name": "stdout",
     "output_type": "stream",
     "text": [
      "Epoch: 34, Loss: 3.8413, Eval Loss: 3.8815\n"
     ]
    },
    {
     "name": "stderr",
     "output_type": "stream",
     "text": [
      "100%|██████████| 14282/14282 [00:20<00:00, 699.32it/s]\n",
      "100%|██████████| 14282/14282 [00:14<00:00, 1002.16it/s]\n"
     ]
    },
    {
     "name": "stdout",
     "output_type": "stream",
     "text": [
      "Epoch: 35, Loss: 3.8418, Eval Loss: 3.8333\n"
     ]
    },
    {
     "name": "stderr",
     "output_type": "stream",
     "text": [
      "100%|██████████| 14282/14282 [00:20<00:00, 703.56it/s]\n",
      "100%|██████████| 14282/14282 [00:14<00:00, 981.47it/s] \n"
     ]
    },
    {
     "name": "stdout",
     "output_type": "stream",
     "text": [
      "Epoch: 36, Loss: 3.8264, Eval Loss: 3.8119\n"
     ]
    },
    {
     "name": "stderr",
     "output_type": "stream",
     "text": [
      "100%|██████████| 14282/14282 [00:20<00:00, 694.11it/s]\n",
      "100%|██████████| 14282/14282 [00:14<00:00, 1005.86it/s]\n"
     ]
    },
    {
     "name": "stdout",
     "output_type": "stream",
     "text": [
      "Epoch: 37, Loss: 3.8314, Eval Loss: 3.8079\n"
     ]
    },
    {
     "name": "stderr",
     "output_type": "stream",
     "text": [
      "100%|██████████| 14282/14282 [00:20<00:00, 690.68it/s]\n",
      "100%|██████████| 14282/14282 [00:14<00:00, 1003.71it/s]\n"
     ]
    },
    {
     "name": "stdout",
     "output_type": "stream",
     "text": [
      "Epoch: 38, Loss: 3.7998, Eval Loss: 3.8081\n"
     ]
    },
    {
     "name": "stderr",
     "output_type": "stream",
     "text": [
      "100%|██████████| 14282/14282 [00:20<00:00, 704.80it/s]\n",
      "100%|██████████| 14282/14282 [00:14<00:00, 1008.40it/s]\n"
     ]
    },
    {
     "name": "stdout",
     "output_type": "stream",
     "text": [
      "Epoch: 39, Loss: 3.7934, Eval Loss: 3.7910\n"
     ]
    },
    {
     "name": "stderr",
     "output_type": "stream",
     "text": [
      "100%|██████████| 14282/14282 [00:18<00:00, 777.51it/s]\n",
      "100%|██████████| 14282/14282 [00:12<00:00, 1181.62it/s]\n"
     ]
    },
    {
     "name": "stdout",
     "output_type": "stream",
     "text": [
      "Epoch: 40, Loss: 3.7448, Eval Loss: 3.7641\n"
     ]
    },
    {
     "name": "stderr",
     "output_type": "stream",
     "text": [
      "100%|██████████| 14282/14282 [00:17<00:00, 826.40it/s]\n",
      "100%|██████████| 14282/14282 [00:11<00:00, 1191.65it/s]\n"
     ]
    },
    {
     "name": "stdout",
     "output_type": "stream",
     "text": [
      "Epoch: 41, Loss: 3.7643, Eval Loss: 3.7597\n"
     ]
    },
    {
     "name": "stderr",
     "output_type": "stream",
     "text": [
      "100%|██████████| 14282/14282 [00:17<00:00, 826.98it/s]\n",
      "100%|██████████| 14282/14282 [00:12<00:00, 1188.19it/s]\n"
     ]
    },
    {
     "name": "stdout",
     "output_type": "stream",
     "text": [
      "Epoch: 42, Loss: 3.7985, Eval Loss: 3.7419\n"
     ]
    },
    {
     "name": "stderr",
     "output_type": "stream",
     "text": [
      "100%|██████████| 14282/14282 [00:17<00:00, 830.59it/s]\n",
      "100%|██████████| 14282/14282 [00:11<00:00, 1197.74it/s]\n"
     ]
    },
    {
     "name": "stdout",
     "output_type": "stream",
     "text": [
      "Epoch: 43, Loss: 3.7701, Eval Loss: 3.7449\n"
     ]
    },
    {
     "name": "stderr",
     "output_type": "stream",
     "text": [
      "100%|██████████| 14282/14282 [00:17<00:00, 835.89it/s]\n",
      "100%|██████████| 14282/14282 [00:11<00:00, 1204.30it/s]\n"
     ]
    },
    {
     "name": "stdout",
     "output_type": "stream",
     "text": [
      "Epoch: 44, Loss: 3.7547, Eval Loss: 3.7410\n"
     ]
    },
    {
     "name": "stderr",
     "output_type": "stream",
     "text": [
      "100%|██████████| 14282/14282 [00:17<00:00, 831.61it/s]\n",
      "100%|██████████| 14282/14282 [00:12<00:00, 1186.38it/s]\n"
     ]
    },
    {
     "name": "stdout",
     "output_type": "stream",
     "text": [
      "Epoch: 45, Loss: 3.7424, Eval Loss: 3.7225\n"
     ]
    },
    {
     "name": "stderr",
     "output_type": "stream",
     "text": [
      "100%|██████████| 14282/14282 [00:17<00:00, 821.47it/s]\n",
      "100%|██████████| 14282/14282 [00:12<00:00, 1177.08it/s]\n"
     ]
    },
    {
     "name": "stdout",
     "output_type": "stream",
     "text": [
      "Epoch: 46, Loss: 3.7333, Eval Loss: 3.7205\n"
     ]
    },
    {
     "name": "stderr",
     "output_type": "stream",
     "text": [
      "100%|██████████| 14282/14282 [00:17<00:00, 819.21it/s]\n",
      "100%|██████████| 14282/14282 [00:14<00:00, 994.76it/s] \n"
     ]
    },
    {
     "name": "stdout",
     "output_type": "stream",
     "text": [
      "Epoch: 47, Loss: 3.7339, Eval Loss: 3.7345\n"
     ]
    },
    {
     "name": "stderr",
     "output_type": "stream",
     "text": [
      "100%|██████████| 14282/14282 [00:21<00:00, 665.72it/s]\n",
      "100%|██████████| 14282/14282 [00:14<00:00, 960.31it/s] \n"
     ]
    },
    {
     "name": "stdout",
     "output_type": "stream",
     "text": [
      "Epoch: 48, Loss: 3.7122, Eval Loss: 3.7113\n"
     ]
    },
    {
     "name": "stderr",
     "output_type": "stream",
     "text": [
      "100%|██████████| 14282/14282 [00:21<00:00, 672.24it/s]\n",
      "100%|██████████| 14282/14282 [00:14<00:00, 979.19it/s] \n"
     ]
    },
    {
     "name": "stdout",
     "output_type": "stream",
     "text": [
      "Epoch: 49, Loss: 3.7220, Eval Loss: 3.7160\n"
     ]
    },
    {
     "name": "stderr",
     "output_type": "stream",
     "text": [
      "100%|██████████| 14282/14282 [00:21<00:00, 672.35it/s]\n",
      "100%|██████████| 14282/14282 [00:12<00:00, 1155.42it/s]\n"
     ]
    },
    {
     "name": "stdout",
     "output_type": "stream",
     "text": [
      "Epoch: 50, Loss: 3.6981, Eval Loss: 3.6842\n"
     ]
    },
    {
     "name": "stderr",
     "output_type": "stream",
     "text": [
      "100%|██████████| 14282/14282 [00:18<00:00, 780.71it/s]\n",
      "100%|██████████| 14282/14282 [00:12<00:00, 1150.47it/s]\n"
     ]
    },
    {
     "name": "stdout",
     "output_type": "stream",
     "text": [
      "Epoch: 51, Loss: 3.6904, Eval Loss: 3.6782\n"
     ]
    },
    {
     "name": "stderr",
     "output_type": "stream",
     "text": [
      "100%|██████████| 14282/14282 [00:17<00:00, 810.83it/s]\n",
      "100%|██████████| 14282/14282 [00:12<00:00, 1189.74it/s]\n"
     ]
    },
    {
     "name": "stdout",
     "output_type": "stream",
     "text": [
      "Epoch: 52, Loss: 3.6842, Eval Loss: 3.6952\n"
     ]
    },
    {
     "name": "stderr",
     "output_type": "stream",
     "text": [
      "100%|██████████| 14282/14282 [00:17<00:00, 799.29it/s]\n",
      "100%|██████████| 14282/14282 [00:12<00:00, 1140.62it/s]\n"
     ]
    },
    {
     "name": "stdout",
     "output_type": "stream",
     "text": [
      "Epoch: 53, Loss: 3.6969, Eval Loss: 3.7034\n"
     ]
    },
    {
     "name": "stderr",
     "output_type": "stream",
     "text": [
      "100%|██████████| 14282/14282 [00:17<00:00, 810.56it/s]\n",
      "100%|██████████| 14282/14282 [00:12<00:00, 1148.79it/s]\n"
     ]
    },
    {
     "name": "stdout",
     "output_type": "stream",
     "text": [
      "Epoch: 54, Loss: 3.6933, Eval Loss: 3.6505\n"
     ]
    },
    {
     "name": "stderr",
     "output_type": "stream",
     "text": [
      "100%|██████████| 14282/14282 [00:17<00:00, 830.88it/s]\n",
      "100%|██████████| 14282/14282 [00:11<00:00, 1195.88it/s]\n"
     ]
    },
    {
     "name": "stdout",
     "output_type": "stream",
     "text": [
      "Epoch: 55, Loss: 3.6662, Eval Loss: 3.6803\n"
     ]
    },
    {
     "name": "stderr",
     "output_type": "stream",
     "text": [
      "100%|██████████| 14282/14282 [00:17<00:00, 826.99it/s]\n",
      "100%|██████████| 14282/14282 [00:12<00:00, 1188.21it/s]\n"
     ]
    },
    {
     "name": "stdout",
     "output_type": "stream",
     "text": [
      "Epoch: 56, Loss: 3.6637, Eval Loss: 3.6747\n"
     ]
    },
    {
     "name": "stderr",
     "output_type": "stream",
     "text": [
      "100%|██████████| 14282/14282 [00:17<00:00, 833.16it/s]\n",
      "100%|██████████| 14282/14282 [00:12<00:00, 1142.99it/s]\n"
     ]
    },
    {
     "name": "stdout",
     "output_type": "stream",
     "text": [
      "Epoch: 57, Loss: 3.6786, Eval Loss: 3.6957\n"
     ]
    },
    {
     "name": "stderr",
     "output_type": "stream",
     "text": [
      "100%|██████████| 14282/14282 [00:17<00:00, 801.46it/s]\n",
      "100%|██████████| 14282/14282 [00:12<00:00, 1189.73it/s]\n"
     ]
    },
    {
     "name": "stdout",
     "output_type": "stream",
     "text": [
      "Epoch: 58, Loss: 3.6329, Eval Loss: 3.6640\n"
     ]
    },
    {
     "name": "stderr",
     "output_type": "stream",
     "text": [
      "100%|██████████| 14282/14282 [00:17<00:00, 811.25it/s]\n",
      "100%|██████████| 14282/14282 [00:12<00:00, 1170.95it/s]\n"
     ]
    },
    {
     "name": "stdout",
     "output_type": "stream",
     "text": [
      "Epoch: 59, Loss: 3.6649, Eval Loss: 3.6469\n"
     ]
    },
    {
     "name": "stderr",
     "output_type": "stream",
     "text": [
      "100%|██████████| 14282/14282 [00:17<00:00, 803.43it/s]\n",
      "100%|██████████| 14282/14282 [00:12<00:00, 1168.83it/s]\n"
     ]
    },
    {
     "name": "stdout",
     "output_type": "stream",
     "text": [
      "Epoch: 60, Loss: 3.6542, Eval Loss: 3.6440\n"
     ]
    },
    {
     "name": "stderr",
     "output_type": "stream",
     "text": [
      "100%|██████████| 14282/14282 [00:17<00:00, 798.88it/s]\n",
      "100%|██████████| 14282/14282 [00:12<00:00, 1141.74it/s]\n"
     ]
    },
    {
     "name": "stdout",
     "output_type": "stream",
     "text": [
      "Epoch: 61, Loss: 3.6283, Eval Loss: 3.6346\n"
     ]
    },
    {
     "name": "stderr",
     "output_type": "stream",
     "text": [
      "100%|██████████| 14282/14282 [00:18<00:00, 791.82it/s]\n",
      "100%|██████████| 14282/14282 [00:12<00:00, 1134.50it/s]\n"
     ]
    },
    {
     "name": "stdout",
     "output_type": "stream",
     "text": [
      "Epoch: 62, Loss: 3.6242, Eval Loss: 3.6317\n"
     ]
    },
    {
     "name": "stderr",
     "output_type": "stream",
     "text": [
      "100%|██████████| 14282/14282 [00:18<00:00, 788.26it/s]\n",
      "100%|██████████| 14282/14282 [00:12<00:00, 1126.41it/s]\n"
     ]
    },
    {
     "name": "stdout",
     "output_type": "stream",
     "text": [
      "Epoch: 63, Loss: 3.6450, Eval Loss: 3.6384\n"
     ]
    },
    {
     "name": "stderr",
     "output_type": "stream",
     "text": [
      "100%|██████████| 14282/14282 [00:18<00:00, 791.13it/s]\n",
      "100%|██████████| 14282/14282 [00:12<00:00, 1162.14it/s]\n"
     ]
    },
    {
     "name": "stdout",
     "output_type": "stream",
     "text": [
      "Epoch: 64, Loss: 3.6370, Eval Loss: 3.6019\n"
     ]
    },
    {
     "name": "stderr",
     "output_type": "stream",
     "text": [
      "100%|██████████| 14282/14282 [00:17<00:00, 821.79it/s]\n",
      "100%|██████████| 14282/14282 [00:12<00:00, 1178.24it/s]\n"
     ]
    },
    {
     "name": "stdout",
     "output_type": "stream",
     "text": [
      "Epoch: 65, Loss: 3.6026, Eval Loss: 3.6332\n"
     ]
    },
    {
     "name": "stderr",
     "output_type": "stream",
     "text": [
      "100%|██████████| 14282/14282 [00:17<00:00, 797.62it/s]\n",
      "100%|██████████| 14282/14282 [00:12<00:00, 1162.36it/s]\n"
     ]
    },
    {
     "name": "stdout",
     "output_type": "stream",
     "text": [
      "Epoch: 66, Loss: 3.6220, Eval Loss: 3.6086\n"
     ]
    },
    {
     "name": "stderr",
     "output_type": "stream",
     "text": [
      "100%|██████████| 14282/14282 [00:19<00:00, 736.08it/s]\n",
      "100%|██████████| 14282/14282 [00:12<00:00, 1139.71it/s]\n"
     ]
    },
    {
     "name": "stdout",
     "output_type": "stream",
     "text": [
      "Epoch: 67, Loss: 3.6209, Eval Loss: 3.6297\n"
     ]
    },
    {
     "name": "stderr",
     "output_type": "stream",
     "text": [
      "100%|██████████| 14282/14282 [00:17<00:00, 807.05it/s]\n",
      "100%|██████████| 14282/14282 [00:12<00:00, 1160.38it/s]\n"
     ]
    },
    {
     "name": "stdout",
     "output_type": "stream",
     "text": [
      "Epoch: 68, Loss: 3.5999, Eval Loss: 3.6109\n"
     ]
    },
    {
     "name": "stderr",
     "output_type": "stream",
     "text": [
      "100%|██████████| 14282/14282 [00:17<00:00, 795.38it/s]\n",
      "100%|██████████| 14282/14282 [00:12<00:00, 1135.11it/s]\n"
     ]
    },
    {
     "name": "stdout",
     "output_type": "stream",
     "text": [
      "Epoch: 69, Loss: 3.6354, Eval Loss: 3.6095\n"
     ]
    },
    {
     "name": "stderr",
     "output_type": "stream",
     "text": [
      "100%|██████████| 14282/14282 [00:17<00:00, 808.22it/s]\n",
      "100%|██████████| 14282/14282 [00:12<00:00, 1168.38it/s]\n"
     ]
    },
    {
     "name": "stdout",
     "output_type": "stream",
     "text": [
      "Epoch: 70, Loss: 3.5882, Eval Loss: 3.5951\n"
     ]
    },
    {
     "name": "stderr",
     "output_type": "stream",
     "text": [
      "100%|██████████| 14282/14282 [00:17<00:00, 807.37it/s]\n",
      "100%|██████████| 14282/14282 [00:13<00:00, 1097.80it/s]\n"
     ]
    },
    {
     "name": "stdout",
     "output_type": "stream",
     "text": [
      "Epoch: 71, Loss: 3.5850, Eval Loss: 3.6045\n"
     ]
    },
    {
     "name": "stderr",
     "output_type": "stream",
     "text": [
      "100%|██████████| 14282/14282 [00:18<00:00, 772.65it/s]\n",
      "100%|██████████| 14282/14282 [00:12<00:00, 1120.73it/s]\n"
     ]
    },
    {
     "name": "stdout",
     "output_type": "stream",
     "text": [
      "Epoch: 72, Loss: 3.5832, Eval Loss: 3.5832\n"
     ]
    },
    {
     "name": "stderr",
     "output_type": "stream",
     "text": [
      "100%|██████████| 14282/14282 [00:17<00:00, 817.11it/s]\n",
      "100%|██████████| 14282/14282 [00:12<00:00, 1170.85it/s]\n"
     ]
    },
    {
     "name": "stdout",
     "output_type": "stream",
     "text": [
      "Epoch: 73, Loss: 3.5903, Eval Loss: 3.6070\n"
     ]
    },
    {
     "name": "stderr",
     "output_type": "stream",
     "text": [
      "100%|██████████| 14282/14282 [00:17<00:00, 815.93it/s]\n",
      "100%|██████████| 14282/14282 [00:12<00:00, 1165.11it/s]\n"
     ]
    },
    {
     "name": "stdout",
     "output_type": "stream",
     "text": [
      "Epoch: 74, Loss: 3.6068, Eval Loss: 3.5786\n"
     ]
    },
    {
     "name": "stderr",
     "output_type": "stream",
     "text": [
      "100%|██████████| 14282/14282 [00:17<00:00, 811.97it/s]\n",
      "100%|██████████| 14282/14282 [00:12<00:00, 1165.84it/s]\n"
     ]
    },
    {
     "name": "stdout",
     "output_type": "stream",
     "text": [
      "Epoch: 75, Loss: 3.5990, Eval Loss: 3.5782\n"
     ]
    },
    {
     "name": "stderr",
     "output_type": "stream",
     "text": [
      "100%|██████████| 14282/14282 [00:17<00:00, 802.89it/s]\n",
      "100%|██████████| 14282/14282 [00:12<00:00, 1117.10it/s]\n"
     ]
    },
    {
     "name": "stdout",
     "output_type": "stream",
     "text": [
      "Epoch: 76, Loss: 3.5816, Eval Loss: 3.5612\n"
     ]
    },
    {
     "name": "stderr",
     "output_type": "stream",
     "text": [
      "100%|██████████| 14282/14282 [00:18<00:00, 772.73it/s]\n",
      "100%|██████████| 14282/14282 [00:12<00:00, 1118.15it/s]\n"
     ]
    },
    {
     "name": "stdout",
     "output_type": "stream",
     "text": [
      "Epoch: 77, Loss: 3.5892, Eval Loss: 3.5692\n"
     ]
    },
    {
     "name": "stderr",
     "output_type": "stream",
     "text": [
      "100%|██████████| 14282/14282 [00:18<00:00, 771.12it/s]\n",
      "100%|██████████| 14282/14282 [00:12<00:00, 1104.27it/s]\n"
     ]
    },
    {
     "name": "stdout",
     "output_type": "stream",
     "text": [
      "Epoch: 78, Loss: 3.5822, Eval Loss: 3.6047\n"
     ]
    },
    {
     "name": "stderr",
     "output_type": "stream",
     "text": [
      "100%|██████████| 14282/14282 [00:18<00:00, 777.27it/s]\n",
      "100%|██████████| 14282/14282 [00:12<00:00, 1116.46it/s]\n"
     ]
    },
    {
     "name": "stdout",
     "output_type": "stream",
     "text": [
      "Epoch: 79, Loss: 3.5601, Eval Loss: 3.5772\n"
     ]
    },
    {
     "name": "stderr",
     "output_type": "stream",
     "text": [
      "100%|██████████| 14282/14282 [00:17<00:00, 811.09it/s]\n",
      "100%|██████████| 14282/14282 [00:12<00:00, 1168.85it/s]\n"
     ]
    },
    {
     "name": "stdout",
     "output_type": "stream",
     "text": [
      "Epoch: 80, Loss: 3.5613, Eval Loss: 3.5843\n"
     ]
    },
    {
     "name": "stderr",
     "output_type": "stream",
     "text": [
      "100%|██████████| 14282/14282 [00:17<00:00, 797.57it/s]\n",
      "100%|██████████| 14282/14282 [00:12<00:00, 1160.17it/s]\n"
     ]
    },
    {
     "name": "stdout",
     "output_type": "stream",
     "text": [
      "Epoch: 81, Loss: 3.5820, Eval Loss: 3.5642\n"
     ]
    },
    {
     "name": "stderr",
     "output_type": "stream",
     "text": [
      "100%|██████████| 14282/14282 [00:17<00:00, 800.10it/s]\n",
      "100%|██████████| 14282/14282 [00:12<00:00, 1160.91it/s]\n"
     ]
    },
    {
     "name": "stdout",
     "output_type": "stream",
     "text": [
      "Epoch: 82, Loss: 3.5924, Eval Loss: 3.5691\n"
     ]
    },
    {
     "name": "stderr",
     "output_type": "stream",
     "text": [
      "100%|██████████| 14282/14282 [00:17<00:00, 812.11it/s]\n",
      "100%|██████████| 14282/14282 [00:13<00:00, 1075.60it/s]\n"
     ]
    },
    {
     "name": "stdout",
     "output_type": "stream",
     "text": [
      "Epoch: 83, Loss: 3.5909, Eval Loss: 3.5671\n"
     ]
    },
    {
     "name": "stderr",
     "output_type": "stream",
     "text": [
      "100%|██████████| 14282/14282 [00:17<00:00, 810.32it/s]\n",
      "100%|██████████| 14282/14282 [00:12<00:00, 1149.28it/s]\n"
     ]
    },
    {
     "name": "stdout",
     "output_type": "stream",
     "text": [
      "Epoch: 84, Loss: 3.5834, Eval Loss: 3.5696\n"
     ]
    },
    {
     "name": "stderr",
     "output_type": "stream",
     "text": [
      "100%|██████████| 14282/14282 [00:17<00:00, 825.60it/s]\n",
      "100%|██████████| 14282/14282 [00:11<00:00, 1190.40it/s]\n"
     ]
    },
    {
     "name": "stdout",
     "output_type": "stream",
     "text": [
      "Epoch: 85, Loss: 3.5783, Eval Loss: 3.5951\n"
     ]
    },
    {
     "name": "stderr",
     "output_type": "stream",
     "text": [
      "100%|██████████| 14282/14282 [00:17<00:00, 800.26it/s]\n",
      "100%|██████████| 14282/14282 [00:11<00:00, 1194.05it/s]\n"
     ]
    },
    {
     "name": "stdout",
     "output_type": "stream",
     "text": [
      "Epoch: 86, Loss: 3.5509, Eval Loss: 3.5468\n"
     ]
    },
    {
     "name": "stderr",
     "output_type": "stream",
     "text": [
      "100%|██████████| 14282/14282 [00:16<00:00, 841.34it/s]\n",
      "100%|██████████| 14282/14282 [00:12<00:00, 1182.17it/s]\n"
     ]
    },
    {
     "name": "stdout",
     "output_type": "stream",
     "text": [
      "Epoch: 87, Loss: 3.5624, Eval Loss: 3.5570\n"
     ]
    },
    {
     "name": "stderr",
     "output_type": "stream",
     "text": [
      "100%|██████████| 14282/14282 [00:16<00:00, 848.40it/s]\n",
      "100%|██████████| 14282/14282 [00:11<00:00, 1205.34it/s]\n"
     ]
    },
    {
     "name": "stdout",
     "output_type": "stream",
     "text": [
      "Epoch: 88, Loss: 3.5541, Eval Loss: 3.5237\n"
     ]
    },
    {
     "name": "stderr",
     "output_type": "stream",
     "text": [
      "100%|██████████| 14282/14282 [00:17<00:00, 835.76it/s]\n",
      "100%|██████████| 14282/14282 [00:12<00:00, 1187.98it/s]\n"
     ]
    },
    {
     "name": "stdout",
     "output_type": "stream",
     "text": [
      "Epoch: 89, Loss: 3.5463, Eval Loss: 3.5353\n"
     ]
    },
    {
     "name": "stderr",
     "output_type": "stream",
     "text": [
      "100%|██████████| 14282/14282 [00:16<00:00, 852.19it/s]\n",
      "100%|██████████| 14282/14282 [00:11<00:00, 1209.52it/s]\n"
     ]
    },
    {
     "name": "stdout",
     "output_type": "stream",
     "text": [
      "Epoch: 90, Loss: 3.5307, Eval Loss: 3.5771\n"
     ]
    },
    {
     "name": "stderr",
     "output_type": "stream",
     "text": [
      "100%|██████████| 14282/14282 [00:17<00:00, 811.33it/s]\n",
      "100%|██████████| 14282/14282 [00:12<00:00, 1169.55it/s]\n"
     ]
    },
    {
     "name": "stdout",
     "output_type": "stream",
     "text": [
      "Epoch: 91, Loss: 3.5710, Eval Loss: 3.5519\n"
     ]
    },
    {
     "name": "stderr",
     "output_type": "stream",
     "text": [
      "100%|██████████| 14282/14282 [00:17<00:00, 839.15it/s]\n",
      "100%|██████████| 14282/14282 [00:11<00:00, 1202.27it/s]\n"
     ]
    },
    {
     "name": "stdout",
     "output_type": "stream",
     "text": [
      "Epoch: 92, Loss: 3.5249, Eval Loss: 3.5495\n"
     ]
    },
    {
     "name": "stderr",
     "output_type": "stream",
     "text": [
      "100%|██████████| 14282/14282 [00:17<00:00, 824.56it/s]\n",
      "100%|██████████| 14282/14282 [00:11<00:00, 1196.04it/s]\n"
     ]
    },
    {
     "name": "stdout",
     "output_type": "stream",
     "text": [
      "Epoch: 93, Loss: 3.5663, Eval Loss: 3.5381\n"
     ]
    },
    {
     "name": "stderr",
     "output_type": "stream",
     "text": [
      "100%|██████████| 14282/14282 [00:17<00:00, 819.94it/s]\n",
      "100%|██████████| 14282/14282 [00:12<00:00, 1143.75it/s]\n"
     ]
    },
    {
     "name": "stdout",
     "output_type": "stream",
     "text": [
      "Epoch: 94, Loss: 3.5497, Eval Loss: 3.5598\n"
     ]
    },
    {
     "name": "stderr",
     "output_type": "stream",
     "text": [
      "100%|██████████| 14282/14282 [00:17<00:00, 832.92it/s]\n",
      "100%|██████████| 14282/14282 [00:12<00:00, 1116.74it/s]\n"
     ]
    },
    {
     "name": "stdout",
     "output_type": "stream",
     "text": [
      "Epoch: 95, Loss: 3.5601, Eval Loss: 3.5350\n"
     ]
    },
    {
     "name": "stderr",
     "output_type": "stream",
     "text": [
      "100%|██████████| 14282/14282 [00:17<00:00, 819.85it/s]\n",
      "100%|██████████| 14282/14282 [00:11<00:00, 1202.37it/s]\n"
     ]
    },
    {
     "name": "stdout",
     "output_type": "stream",
     "text": [
      "Epoch: 96, Loss: 3.5513, Eval Loss: 3.5467\n"
     ]
    },
    {
     "name": "stderr",
     "output_type": "stream",
     "text": [
      "100%|██████████| 14282/14282 [00:16<00:00, 841.20it/s]\n",
      "100%|██████████| 14282/14282 [00:11<00:00, 1199.64it/s]\n"
     ]
    },
    {
     "name": "stdout",
     "output_type": "stream",
     "text": [
      "Epoch: 97, Loss: 3.5286, Eval Loss: 3.5564\n"
     ]
    },
    {
     "name": "stderr",
     "output_type": "stream",
     "text": [
      "100%|██████████| 14282/14282 [00:17<00:00, 839.34it/s]\n",
      "100%|██████████| 14282/14282 [00:11<00:00, 1201.67it/s]\n"
     ]
    },
    {
     "name": "stdout",
     "output_type": "stream",
     "text": [
      "Epoch: 98, Loss: 3.5370, Eval Loss: 3.5580\n"
     ]
    },
    {
     "name": "stderr",
     "output_type": "stream",
     "text": [
      "100%|██████████| 14282/14282 [00:17<00:00, 833.43it/s]\n",
      "100%|██████████| 14282/14282 [00:12<00:00, 1179.99it/s]\n"
     ]
    },
    {
     "name": "stdout",
     "output_type": "stream",
     "text": [
      "Epoch: 99, Loss: 3.5432, Eval Loss: 3.5242\n"
     ]
    },
    {
     "name": "stderr",
     "output_type": "stream",
     "text": [
      "100%|██████████| 14282/14282 [00:16<00:00, 842.42it/s]\n",
      "100%|██████████| 14282/14282 [00:11<00:00, 1204.70it/s]\n"
     ]
    },
    {
     "name": "stdout",
     "output_type": "stream",
     "text": [
      "Epoch: 100, Loss: 3.5458, Eval Loss: 3.5343\n"
     ]
    },
    {
     "name": "stderr",
     "output_type": "stream",
     "text": [
      "100%|██████████| 14282/14282 [00:17<00:00, 814.92it/s]\n",
      "100%|██████████| 14282/14282 [00:12<00:00, 1165.86it/s]\n"
     ]
    },
    {
     "name": "stdout",
     "output_type": "stream",
     "text": [
      "Epoch: 101, Loss: 3.5613, Eval Loss: 3.5576\n"
     ]
    },
    {
     "name": "stderr",
     "output_type": "stream",
     "text": [
      "100%|██████████| 14282/14282 [00:16<00:00, 841.65it/s]\n",
      "100%|██████████| 14282/14282 [00:11<00:00, 1200.90it/s]\n"
     ]
    },
    {
     "name": "stdout",
     "output_type": "stream",
     "text": [
      "Epoch: 102, Loss: 3.5620, Eval Loss: 3.5300\n"
     ]
    },
    {
     "name": "stderr",
     "output_type": "stream",
     "text": [
      "100%|██████████| 14282/14282 [00:17<00:00, 825.29it/s]\n",
      "100%|██████████| 14282/14282 [00:12<00:00, 1141.55it/s]\n"
     ]
    },
    {
     "name": "stdout",
     "output_type": "stream",
     "text": [
      "Epoch: 103, Loss: 3.5384, Eval Loss: 3.5329\n"
     ]
    },
    {
     "name": "stderr",
     "output_type": "stream",
     "text": [
      "100%|██████████| 14282/14282 [00:17<00:00, 820.72it/s]\n",
      "100%|██████████| 14282/14282 [00:12<00:00, 1148.54it/s]\n"
     ]
    },
    {
     "name": "stdout",
     "output_type": "stream",
     "text": [
      "Epoch: 104, Loss: 3.5298, Eval Loss: 3.5320\n"
     ]
    },
    {
     "name": "stderr",
     "output_type": "stream",
     "text": [
      "100%|██████████| 14282/14282 [00:17<00:00, 834.69it/s]\n",
      "100%|██████████| 14282/14282 [00:12<00:00, 1181.05it/s]\n"
     ]
    },
    {
     "name": "stdout",
     "output_type": "stream",
     "text": [
      "Epoch: 105, Loss: 3.5250, Eval Loss: 3.4897\n"
     ]
    },
    {
     "name": "stderr",
     "output_type": "stream",
     "text": [
      "100%|██████████| 14282/14282 [00:17<00:00, 810.15it/s]\n",
      "100%|██████████| 14282/14282 [00:11<00:00, 1198.05it/s]\n"
     ]
    },
    {
     "name": "stdout",
     "output_type": "stream",
     "text": [
      "Epoch: 106, Loss: 3.5031, Eval Loss: 3.5303\n"
     ]
    },
    {
     "name": "stderr",
     "output_type": "stream",
     "text": [
      "100%|██████████| 14282/14282 [00:17<00:00, 820.44it/s]\n",
      "100%|██████████| 14282/14282 [00:12<00:00, 1157.63it/s]\n"
     ]
    },
    {
     "name": "stdout",
     "output_type": "stream",
     "text": [
      "Epoch: 107, Loss: 3.5090, Eval Loss: 3.5403\n"
     ]
    },
    {
     "name": "stderr",
     "output_type": "stream",
     "text": [
      "100%|██████████| 14282/14282 [00:17<00:00, 829.01it/s]\n",
      "100%|██████████| 14282/14282 [00:12<00:00, 1187.71it/s]\n"
     ]
    },
    {
     "name": "stdout",
     "output_type": "stream",
     "text": [
      "Epoch: 108, Loss: 3.5102, Eval Loss: 3.5368\n"
     ]
    },
    {
     "name": "stderr",
     "output_type": "stream",
     "text": [
      "100%|██████████| 14282/14282 [00:17<00:00, 825.05it/s]\n",
      "100%|██████████| 14282/14282 [00:12<00:00, 1170.07it/s]\n"
     ]
    },
    {
     "name": "stdout",
     "output_type": "stream",
     "text": [
      "Epoch: 109, Loss: 3.5148, Eval Loss: 3.5222\n"
     ]
    },
    {
     "name": "stderr",
     "output_type": "stream",
     "text": [
      "100%|██████████| 14282/14282 [00:16<00:00, 842.14it/s]\n",
      "100%|██████████| 14282/14282 [00:11<00:00, 1208.24it/s]\n"
     ]
    },
    {
     "name": "stdout",
     "output_type": "stream",
     "text": [
      "Epoch: 110, Loss: 3.5011, Eval Loss: 3.5305\n"
     ]
    },
    {
     "name": "stderr",
     "output_type": "stream",
     "text": [
      "100%|██████████| 14282/14282 [00:17<00:00, 824.99it/s]\n",
      "100%|██████████| 14282/14282 [00:12<00:00, 1184.59it/s]\n"
     ]
    },
    {
     "name": "stdout",
     "output_type": "stream",
     "text": [
      "Epoch: 111, Loss: 3.5067, Eval Loss: 3.5456\n"
     ]
    },
    {
     "name": "stderr",
     "output_type": "stream",
     "text": [
      "100%|██████████| 14282/14282 [00:17<00:00, 798.14it/s]\n",
      "100%|██████████| 14282/14282 [00:12<00:00, 1170.64it/s]\n"
     ]
    },
    {
     "name": "stdout",
     "output_type": "stream",
     "text": [
      "Epoch: 112, Loss: 3.5288, Eval Loss: 3.5418\n"
     ]
    },
    {
     "name": "stderr",
     "output_type": "stream",
     "text": [
      "100%|██████████| 14282/14282 [00:17<00:00, 820.50it/s]\n",
      "100%|██████████| 14282/14282 [00:12<00:00, 1110.24it/s]\n"
     ]
    },
    {
     "name": "stdout",
     "output_type": "stream",
     "text": [
      "Epoch: 113, Loss: 3.5320, Eval Loss: 3.5054\n"
     ]
    },
    {
     "name": "stderr",
     "output_type": "stream",
     "text": [
      "100%|██████████| 14282/14282 [00:18<00:00, 752.76it/s]\n",
      "100%|██████████| 14282/14282 [00:13<00:00, 1089.08it/s]\n"
     ]
    },
    {
     "name": "stdout",
     "output_type": "stream",
     "text": [
      "Epoch: 114, Loss: 3.4972, Eval Loss: 3.5073\n"
     ]
    },
    {
     "name": "stderr",
     "output_type": "stream",
     "text": [
      "100%|██████████| 14282/14282 [00:19<00:00, 733.13it/s]\n",
      "100%|██████████| 14282/14282 [00:13<00:00, 1051.06it/s]\n"
     ]
    },
    {
     "name": "stdout",
     "output_type": "stream",
     "text": [
      "Epoch: 115, Loss: 3.5391, Eval Loss: 3.5154\n"
     ]
    },
    {
     "name": "stderr",
     "output_type": "stream",
     "text": [
      "100%|██████████| 14282/14282 [00:17<00:00, 807.22it/s]\n",
      "100%|██████████| 14282/14282 [00:11<00:00, 1192.57it/s]\n"
     ]
    },
    {
     "name": "stdout",
     "output_type": "stream",
     "text": [
      "Epoch: 116, Loss: 3.5211, Eval Loss: 3.5304\n"
     ]
    },
    {
     "name": "stderr",
     "output_type": "stream",
     "text": [
      "100%|██████████| 14282/14282 [00:16<00:00, 846.13it/s]\n",
      "100%|██████████| 14282/14282 [00:11<00:00, 1219.21it/s]\n"
     ]
    },
    {
     "name": "stdout",
     "output_type": "stream",
     "text": [
      "Epoch: 117, Loss: 3.5214, Eval Loss: 3.5118\n"
     ]
    },
    {
     "name": "stderr",
     "output_type": "stream",
     "text": [
      "100%|██████████| 14282/14282 [00:16<00:00, 842.86it/s]\n",
      "100%|██████████| 14282/14282 [00:12<00:00, 1170.69it/s]\n"
     ]
    },
    {
     "name": "stdout",
     "output_type": "stream",
     "text": [
      "Epoch: 118, Loss: 3.5204, Eval Loss: 3.5226\n"
     ]
    },
    {
     "name": "stderr",
     "output_type": "stream",
     "text": [
      "100%|██████████| 14282/14282 [00:17<00:00, 835.26it/s]\n",
      "100%|██████████| 14282/14282 [00:12<00:00, 1163.31it/s]\n"
     ]
    },
    {
     "name": "stdout",
     "output_type": "stream",
     "text": [
      "Epoch: 119, Loss: 3.5283, Eval Loss: 3.5022\n"
     ]
    },
    {
     "name": "stderr",
     "output_type": "stream",
     "text": [
      "100%|██████████| 14282/14282 [00:17<00:00, 814.71it/s]\n",
      "100%|██████████| 14282/14282 [00:11<00:00, 1190.20it/s]\n"
     ]
    },
    {
     "name": "stdout",
     "output_type": "stream",
     "text": [
      "Epoch: 120, Loss: 3.4995, Eval Loss: 3.5026\n"
     ]
    },
    {
     "name": "stderr",
     "output_type": "stream",
     "text": [
      "100%|██████████| 14282/14282 [00:17<00:00, 828.06it/s]\n",
      "100%|██████████| 14282/14282 [00:12<00:00, 1157.00it/s]\n"
     ]
    },
    {
     "name": "stdout",
     "output_type": "stream",
     "text": [
      "Epoch: 121, Loss: 3.4869, Eval Loss: 3.5133\n"
     ]
    },
    {
     "name": "stderr",
     "output_type": "stream",
     "text": [
      "100%|██████████| 14282/14282 [00:17<00:00, 835.80it/s]\n",
      "100%|██████████| 14282/14282 [00:11<00:00, 1194.19it/s]\n"
     ]
    },
    {
     "name": "stdout",
     "output_type": "stream",
     "text": [
      "Epoch: 122, Loss: 3.5068, Eval Loss: 3.5213\n"
     ]
    },
    {
     "name": "stderr",
     "output_type": "stream",
     "text": [
      "100%|██████████| 14282/14282 [00:17<00:00, 825.00it/s]\n",
      "100%|██████████| 14282/14282 [00:11<00:00, 1206.81it/s]\n"
     ]
    },
    {
     "name": "stdout",
     "output_type": "stream",
     "text": [
      "Epoch: 123, Loss: 3.4994, Eval Loss: 3.5079\n"
     ]
    },
    {
     "name": "stderr",
     "output_type": "stream",
     "text": [
      "100%|██████████| 14282/14282 [00:18<00:00, 782.44it/s]\n",
      "100%|██████████| 14282/14282 [00:14<00:00, 1013.48it/s]\n"
     ]
    },
    {
     "name": "stdout",
     "output_type": "stream",
     "text": [
      "Epoch: 124, Loss: 3.5131, Eval Loss: 3.5066\n"
     ]
    },
    {
     "name": "stderr",
     "output_type": "stream",
     "text": [
      "100%|██████████| 14282/14282 [00:18<00:00, 756.82it/s]\n",
      "100%|██████████| 14282/14282 [00:12<00:00, 1181.90it/s]\n"
     ]
    },
    {
     "name": "stdout",
     "output_type": "stream",
     "text": [
      "Epoch: 125, Loss: 3.5089, Eval Loss: 3.4778\n"
     ]
    },
    {
     "name": "stderr",
     "output_type": "stream",
     "text": [
      "100%|██████████| 14282/14282 [00:17<00:00, 802.49it/s]\n",
      "100%|██████████| 14282/14282 [00:13<00:00, 1071.44it/s]\n"
     ]
    },
    {
     "name": "stdout",
     "output_type": "stream",
     "text": [
      "Epoch: 126, Loss: 3.4936, Eval Loss: 3.5207\n"
     ]
    },
    {
     "name": "stderr",
     "output_type": "stream",
     "text": [
      "100%|██████████| 14282/14282 [00:17<00:00, 793.79it/s]\n",
      "100%|██████████| 14282/14282 [00:12<00:00, 1148.40it/s]\n"
     ]
    },
    {
     "name": "stdout",
     "output_type": "stream",
     "text": [
      "Epoch: 127, Loss: 3.5202, Eval Loss: 3.5180\n"
     ]
    },
    {
     "name": "stderr",
     "output_type": "stream",
     "text": [
      "100%|██████████| 14282/14282 [00:17<00:00, 819.90it/s]\n",
      "100%|██████████| 14282/14282 [00:12<00:00, 1131.20it/s]\n"
     ]
    },
    {
     "name": "stdout",
     "output_type": "stream",
     "text": [
      "Epoch: 128, Loss: 3.5146, Eval Loss: 3.4848\n"
     ]
    },
    {
     "name": "stderr",
     "output_type": "stream",
     "text": [
      "100%|██████████| 14282/14282 [00:17<00:00, 814.43it/s]\n",
      "100%|██████████| 14282/14282 [00:12<00:00, 1148.29it/s]\n"
     ]
    },
    {
     "name": "stdout",
     "output_type": "stream",
     "text": [
      "Epoch: 129, Loss: 3.5175, Eval Loss: 3.5212\n"
     ]
    },
    {
     "name": "stderr",
     "output_type": "stream",
     "text": [
      "100%|██████████| 14282/14282 [00:17<00:00, 816.53it/s]\n",
      "100%|██████████| 14282/14282 [00:12<00:00, 1153.37it/s]\n"
     ]
    },
    {
     "name": "stdout",
     "output_type": "stream",
     "text": [
      "Epoch: 130, Loss: 3.5011, Eval Loss: 3.5232\n"
     ]
    },
    {
     "name": "stderr",
     "output_type": "stream",
     "text": [
      "100%|██████████| 14282/14282 [00:17<00:00, 839.14it/s]\n",
      "100%|██████████| 14282/14282 [00:12<00:00, 1176.60it/s]\n"
     ]
    },
    {
     "name": "stdout",
     "output_type": "stream",
     "text": [
      "Epoch: 131, Loss: 3.5072, Eval Loss: 3.5240\n"
     ]
    },
    {
     "name": "stderr",
     "output_type": "stream",
     "text": [
      "100%|██████████| 14282/14282 [00:16<00:00, 843.17it/s]\n",
      "100%|██████████| 14282/14282 [00:11<00:00, 1200.04it/s]\n"
     ]
    },
    {
     "name": "stdout",
     "output_type": "stream",
     "text": [
      "Epoch: 132, Loss: 3.5198, Eval Loss: 3.4978\n"
     ]
    },
    {
     "name": "stderr",
     "output_type": "stream",
     "text": [
      "100%|██████████| 14282/14282 [00:17<00:00, 794.40it/s]\n",
      "100%|██████████| 14282/14282 [00:12<00:00, 1100.87it/s]\n"
     ]
    },
    {
     "name": "stdout",
     "output_type": "stream",
     "text": [
      "Epoch: 133, Loss: 3.4877, Eval Loss: 3.4859\n"
     ]
    },
    {
     "name": "stderr",
     "output_type": "stream",
     "text": [
      "100%|██████████| 14282/14282 [00:17<00:00, 811.41it/s]\n",
      "100%|██████████| 14282/14282 [00:12<00:00, 1160.64it/s]\n"
     ]
    },
    {
     "name": "stdout",
     "output_type": "stream",
     "text": [
      "Epoch: 134, Loss: 3.4985, Eval Loss: 3.5277\n"
     ]
    },
    {
     "name": "stderr",
     "output_type": "stream",
     "text": [
      "100%|██████████| 14282/14282 [00:17<00:00, 821.93it/s]\n",
      "100%|██████████| 14282/14282 [00:12<00:00, 1177.75it/s]\n"
     ]
    },
    {
     "name": "stdout",
     "output_type": "stream",
     "text": [
      "Epoch: 135, Loss: 3.5064, Eval Loss: 3.4854\n"
     ]
    },
    {
     "name": "stderr",
     "output_type": "stream",
     "text": [
      "100%|██████████| 14282/14282 [00:16<00:00, 847.70it/s]\n",
      "100%|██████████| 14282/14282 [00:12<00:00, 1171.90it/s]\n"
     ]
    },
    {
     "name": "stdout",
     "output_type": "stream",
     "text": [
      "Epoch: 136, Loss: 3.5005, Eval Loss: 3.5021\n"
     ]
    },
    {
     "name": "stderr",
     "output_type": "stream",
     "text": [
      "100%|██████████| 14282/14282 [00:16<00:00, 855.66it/s]\n",
      "100%|██████████| 14282/14282 [00:11<00:00, 1205.49it/s]\n"
     ]
    },
    {
     "name": "stdout",
     "output_type": "stream",
     "text": [
      "Epoch: 137, Loss: 3.5034, Eval Loss: 3.5093\n"
     ]
    },
    {
     "name": "stderr",
     "output_type": "stream",
     "text": [
      "100%|██████████| 14282/14282 [00:17<00:00, 832.80it/s]\n",
      "100%|██████████| 14282/14282 [00:12<00:00, 1188.31it/s]\n"
     ]
    },
    {
     "name": "stdout",
     "output_type": "stream",
     "text": [
      "Epoch: 138, Loss: 3.4986, Eval Loss: 3.5019\n"
     ]
    },
    {
     "name": "stderr",
     "output_type": "stream",
     "text": [
      "100%|██████████| 14282/14282 [00:17<00:00, 814.60it/s]\n",
      "100%|██████████| 14282/14282 [00:13<00:00, 1085.93it/s]\n"
     ]
    },
    {
     "name": "stdout",
     "output_type": "stream",
     "text": [
      "Epoch: 139, Loss: 3.5015, Eval Loss: 3.5053\n"
     ]
    },
    {
     "name": "stderr",
     "output_type": "stream",
     "text": [
      "100%|██████████| 14282/14282 [00:19<00:00, 735.58it/s]\n",
      "100%|██████████| 14282/14282 [00:13<00:00, 1079.39it/s]\n"
     ]
    },
    {
     "name": "stdout",
     "output_type": "stream",
     "text": [
      "Epoch: 140, Loss: 3.4766, Eval Loss: 3.4825\n"
     ]
    },
    {
     "name": "stderr",
     "output_type": "stream",
     "text": [
      "100%|██████████| 14282/14282 [00:19<00:00, 739.32it/s]\n",
      "100%|██████████| 14282/14282 [00:13<00:00, 1095.79it/s]\n"
     ]
    },
    {
     "name": "stdout",
     "output_type": "stream",
     "text": [
      "Epoch: 141, Loss: 3.4771, Eval Loss: 3.5009\n"
     ]
    },
    {
     "name": "stderr",
     "output_type": "stream",
     "text": [
      "100%|██████████| 14282/14282 [00:18<00:00, 784.94it/s]\n",
      "100%|██████████| 14282/14282 [00:12<00:00, 1148.47it/s]\n"
     ]
    },
    {
     "name": "stdout",
     "output_type": "stream",
     "text": [
      "Epoch: 142, Loss: 3.5124, Eval Loss: 3.4816\n"
     ]
    },
    {
     "name": "stderr",
     "output_type": "stream",
     "text": [
      "100%|██████████| 14282/14282 [00:17<00:00, 808.93it/s]\n",
      "100%|██████████| 14282/14282 [00:12<00:00, 1151.34it/s]\n"
     ]
    },
    {
     "name": "stdout",
     "output_type": "stream",
     "text": [
      "Epoch: 143, Loss: 3.4992, Eval Loss: 3.4829\n"
     ]
    },
    {
     "name": "stderr",
     "output_type": "stream",
     "text": [
      "100%|██████████| 14282/14282 [00:18<00:00, 772.09it/s]\n",
      "100%|██████████| 14282/14282 [00:12<00:00, 1125.92it/s]\n"
     ]
    },
    {
     "name": "stdout",
     "output_type": "stream",
     "text": [
      "Epoch: 144, Loss: 3.4745, Eval Loss: 3.4879\n"
     ]
    },
    {
     "name": "stderr",
     "output_type": "stream",
     "text": [
      "100%|██████████| 14282/14282 [00:17<00:00, 796.81it/s]\n",
      "100%|██████████| 14282/14282 [00:12<00:00, 1129.28it/s]\n"
     ]
    },
    {
     "name": "stdout",
     "output_type": "stream",
     "text": [
      "Epoch: 145, Loss: 3.4869, Eval Loss: 3.4872\n"
     ]
    },
    {
     "name": "stderr",
     "output_type": "stream",
     "text": [
      "100%|██████████| 14282/14282 [00:17<00:00, 794.44it/s]\n",
      "100%|██████████| 14282/14282 [00:12<00:00, 1160.18it/s]\n"
     ]
    },
    {
     "name": "stdout",
     "output_type": "stream",
     "text": [
      "Epoch: 146, Loss: 3.4716, Eval Loss: 3.4767\n"
     ]
    },
    {
     "name": "stderr",
     "output_type": "stream",
     "text": [
      "100%|██████████| 14282/14282 [00:17<00:00, 799.61it/s]\n",
      "100%|██████████| 14282/14282 [00:12<00:00, 1116.10it/s]\n"
     ]
    },
    {
     "name": "stdout",
     "output_type": "stream",
     "text": [
      "Epoch: 147, Loss: 3.4872, Eval Loss: 3.4743\n"
     ]
    },
    {
     "name": "stderr",
     "output_type": "stream",
     "text": [
      "100%|██████████| 14282/14282 [00:18<00:00, 765.08it/s]\n",
      "100%|██████████| 14282/14282 [00:12<00:00, 1120.91it/s]\n"
     ]
    },
    {
     "name": "stdout",
     "output_type": "stream",
     "text": [
      "Epoch: 148, Loss: 3.4709, Eval Loss: 3.4633\n"
     ]
    },
    {
     "name": "stderr",
     "output_type": "stream",
     "text": [
      "100%|██████████| 14282/14282 [00:17<00:00, 805.26it/s]\n",
      "100%|██████████| 14282/14282 [00:12<00:00, 1129.63it/s]\n"
     ]
    },
    {
     "name": "stdout",
     "output_type": "stream",
     "text": [
      "Epoch: 149, Loss: 3.4723, Eval Loss: 3.4556\n"
     ]
    },
    {
     "name": "stderr",
     "output_type": "stream",
     "text": [
      "100%|██████████| 14282/14282 [00:18<00:00, 772.76it/s]\n",
      "100%|██████████| 14282/14282 [00:12<00:00, 1156.20it/s]\n"
     ]
    },
    {
     "name": "stdout",
     "output_type": "stream",
     "text": [
      "Epoch: 150, Loss: 3.4943, Eval Loss: 3.4830\n"
     ]
    },
    {
     "name": "stderr",
     "output_type": "stream",
     "text": [
      "100%|██████████| 14282/14282 [00:17<00:00, 803.46it/s]\n",
      "100%|██████████| 14282/14282 [00:12<00:00, 1175.86it/s]\n"
     ]
    },
    {
     "name": "stdout",
     "output_type": "stream",
     "text": [
      "Epoch: 151, Loss: 3.4603, Eval Loss: 3.4643\n"
     ]
    },
    {
     "name": "stderr",
     "output_type": "stream",
     "text": [
      "100%|██████████| 14282/14282 [00:17<00:00, 815.03it/s]\n",
      "100%|██████████| 14282/14282 [00:12<00:00, 1178.23it/s]\n"
     ]
    },
    {
     "name": "stdout",
     "output_type": "stream",
     "text": [
      "Epoch: 152, Loss: 3.4936, Eval Loss: 3.4748\n"
     ]
    },
    {
     "name": "stderr",
     "output_type": "stream",
     "text": [
      "100%|██████████| 14282/14282 [00:17<00:00, 796.12it/s]\n",
      "100%|██████████| 14282/14282 [00:13<00:00, 1092.70it/s]\n"
     ]
    },
    {
     "name": "stdout",
     "output_type": "stream",
     "text": [
      "Epoch: 153, Loss: 3.4743, Eval Loss: 3.4457\n"
     ]
    },
    {
     "name": "stderr",
     "output_type": "stream",
     "text": [
      "100%|██████████| 14282/14282 [00:17<00:00, 812.66it/s]\n",
      "100%|██████████| 14282/14282 [00:12<00:00, 1154.64it/s]\n"
     ]
    },
    {
     "name": "stdout",
     "output_type": "stream",
     "text": [
      "Epoch: 154, Loss: 3.4707, Eval Loss: 3.4711\n"
     ]
    },
    {
     "name": "stderr",
     "output_type": "stream",
     "text": [
      "100%|██████████| 14282/14282 [00:17<00:00, 794.08it/s]\n",
      "100%|██████████| 14282/14282 [00:13<00:00, 1089.77it/s]\n"
     ]
    },
    {
     "name": "stdout",
     "output_type": "stream",
     "text": [
      "Epoch: 155, Loss: 3.4895, Eval Loss: 3.4594\n"
     ]
    },
    {
     "name": "stderr",
     "output_type": "stream",
     "text": [
      "100%|██████████| 14282/14282 [00:17<00:00, 805.37it/s]\n",
      "100%|██████████| 14282/14282 [00:12<00:00, 1129.67it/s]\n"
     ]
    },
    {
     "name": "stdout",
     "output_type": "stream",
     "text": [
      "Epoch: 156, Loss: 3.4835, Eval Loss: 3.4766\n"
     ]
    },
    {
     "name": "stderr",
     "output_type": "stream",
     "text": [
      "100%|██████████| 14282/14282 [00:18<00:00, 783.13it/s]\n",
      "100%|██████████| 14282/14282 [00:12<00:00, 1182.13it/s]\n"
     ]
    },
    {
     "name": "stdout",
     "output_type": "stream",
     "text": [
      "Epoch: 157, Loss: 3.4694, Eval Loss: 3.4774\n"
     ]
    },
    {
     "name": "stderr",
     "output_type": "stream",
     "text": [
      "100%|██████████| 14282/14282 [00:17<00:00, 833.63it/s]\n",
      "100%|██████████| 14282/14282 [00:12<00:00, 1165.94it/s]\n"
     ]
    },
    {
     "name": "stdout",
     "output_type": "stream",
     "text": [
      "Epoch: 158, Loss: 3.4436, Eval Loss: 3.4798\n"
     ]
    },
    {
     "name": "stderr",
     "output_type": "stream",
     "text": [
      "100%|██████████| 14282/14282 [00:17<00:00, 798.31it/s]\n",
      "100%|██████████| 14282/14282 [00:12<00:00, 1144.59it/s]\n"
     ]
    },
    {
     "name": "stdout",
     "output_type": "stream",
     "text": [
      "Epoch: 159, Loss: 3.4482, Eval Loss: 3.4572\n"
     ]
    },
    {
     "name": "stderr",
     "output_type": "stream",
     "text": [
      "100%|██████████| 14282/14282 [00:17<00:00, 824.61it/s]\n",
      "100%|██████████| 14282/14282 [00:12<00:00, 1123.51it/s]\n"
     ]
    },
    {
     "name": "stdout",
     "output_type": "stream",
     "text": [
      "Epoch: 160, Loss: 3.4769, Eval Loss: 3.4913\n"
     ]
    },
    {
     "name": "stderr",
     "output_type": "stream",
     "text": [
      "100%|██████████| 14282/14282 [00:18<00:00, 786.40it/s]\n",
      "100%|██████████| 14282/14282 [00:13<00:00, 1085.10it/s]\n"
     ]
    },
    {
     "name": "stdout",
     "output_type": "stream",
     "text": [
      "Epoch: 161, Loss: 3.4696, Eval Loss: 3.4640\n"
     ]
    },
    {
     "name": "stderr",
     "output_type": "stream",
     "text": [
      "100%|██████████| 14282/14282 [00:18<00:00, 768.80it/s]\n",
      "100%|██████████| 14282/14282 [00:13<00:00, 1085.92it/s]\n"
     ]
    },
    {
     "name": "stdout",
     "output_type": "stream",
     "text": [
      "Epoch: 162, Loss: 3.4783, Eval Loss: 3.4606\n"
     ]
    },
    {
     "name": "stderr",
     "output_type": "stream",
     "text": [
      "100%|██████████| 14282/14282 [00:18<00:00, 756.98it/s]\n",
      "100%|██████████| 14282/14282 [00:13<00:00, 1089.13it/s]\n"
     ]
    },
    {
     "name": "stdout",
     "output_type": "stream",
     "text": [
      "Epoch: 163, Loss: 3.4651, Eval Loss: 3.4548\n"
     ]
    },
    {
     "name": "stderr",
     "output_type": "stream",
     "text": [
      "100%|██████████| 14282/14282 [00:17<00:00, 793.66it/s]\n",
      "100%|██████████| 14282/14282 [00:12<00:00, 1164.72it/s]\n"
     ]
    },
    {
     "name": "stdout",
     "output_type": "stream",
     "text": [
      "Epoch: 164, Loss: 3.4684, Eval Loss: 3.4903\n"
     ]
    },
    {
     "name": "stderr",
     "output_type": "stream",
     "text": [
      "100%|██████████| 14282/14282 [00:17<00:00, 809.84it/s]\n",
      "100%|██████████| 14282/14282 [00:13<00:00, 1092.40it/s]\n"
     ]
    },
    {
     "name": "stdout",
     "output_type": "stream",
     "text": [
      "Epoch: 165, Loss: 3.4454, Eval Loss: 3.4496\n"
     ]
    },
    {
     "name": "stderr",
     "output_type": "stream",
     "text": [
      "100%|██████████| 14282/14282 [00:17<00:00, 794.09it/s]\n",
      "100%|██████████| 14282/14282 [00:12<00:00, 1123.42it/s]\n"
     ]
    },
    {
     "name": "stdout",
     "output_type": "stream",
     "text": [
      "Epoch: 166, Loss: 3.4552, Eval Loss: 3.4790\n"
     ]
    },
    {
     "name": "stderr",
     "output_type": "stream",
     "text": [
      " 76%|███████▌  | 10869/14282 [00:13<00:04, 809.02it/s]\n"
     ]
    },
    {
     "ename": "KeyboardInterrupt",
     "evalue": "",
     "output_type": "error",
     "traceback": [
      "\u001b[1;31m---------------------------------------------------------------------------\u001b[0m",
      "\u001b[1;31mKeyboardInterrupt\u001b[0m                         Traceback (most recent call last)",
      "Cell \u001b[1;32mIn[103], line 58\u001b[0m\n\u001b[0;32m     55\u001b[0m \u001b[38;5;66;03m# Train and evaluate the model\u001b[39;00m\n\u001b[0;32m     56\u001b[0m \u001b[38;5;28;01mfor\u001b[39;00m epoch \u001b[38;5;129;01min\u001b[39;00m \u001b[38;5;28mrange\u001b[39m(\u001b[38;5;241m200\u001b[39m):\n\u001b[1;32m---> 58\u001b[0m     loss \u001b[38;5;241m=\u001b[39m train()\n\u001b[0;32m     59\u001b[0m     \u001b[38;5;28;01mif\u001b[39;00m(epoch\u001b[38;5;241m%\u001b[39m\u001b[38;5;241m50\u001b[39m\u001b[38;5;241m==\u001b[39m\u001b[38;5;241m0\u001b[39m):\n\u001b[0;32m     60\u001b[0m         torch\u001b[38;5;241m.\u001b[39msave(encoder\u001b[38;5;241m.\u001b[39mstate_dict(), \u001b[38;5;124mf\u001b[39m\u001b[38;5;124m'\u001b[39m\u001b[38;5;124mencoder_weights_epoch_\u001b[39m\u001b[38;5;132;01m{\u001b[39;00mepoch\u001b[38;5;241m+\u001b[39m\u001b[38;5;241m1\u001b[39m\u001b[38;5;132;01m}\u001b[39;00m\u001b[38;5;124m.pth\u001b[39m\u001b[38;5;124m'\u001b[39m)\n",
      "Cell \u001b[1;32mIn[103], line 28\u001b[0m, in \u001b[0;36mtrain\u001b[1;34m()\u001b[0m\n\u001b[0;32m     26\u001b[0m x \u001b[38;5;241m=\u001b[39m graph\u001b[38;5;241m.\u001b[39mx\n\u001b[0;32m     27\u001b[0m edge_index \u001b[38;5;241m=\u001b[39m graph\u001b[38;5;241m.\u001b[39medge_index\n\u001b[1;32m---> 28\u001b[0m z \u001b[38;5;241m=\u001b[39m encoder(x, edge_index)\n\u001b[0;32m     29\u001b[0m reconstructed_x \u001b[38;5;241m=\u001b[39m decoder(z, edge_index)\n\u001b[0;32m     30\u001b[0m loss \u001b[38;5;241m=\u001b[39m loss_fn(reconstructed_x, x)\n",
      "File \u001b[1;32mc:\\Users\\Lenovo\\anaconda3\\envs\\thesis\\Lib\\site-packages\\torch\\nn\\modules\\module.py:1519\u001b[0m, in \u001b[0;36mModule._wrapped_call_impl\u001b[1;34m(self, *args, **kwargs)\u001b[0m\n\u001b[0;32m   1517\u001b[0m     \u001b[38;5;28;01mreturn\u001b[39;00m \u001b[38;5;28mself\u001b[39m\u001b[38;5;241m.\u001b[39m_compiled_call_impl(\u001b[38;5;241m*\u001b[39margs, \u001b[38;5;241m*\u001b[39m\u001b[38;5;241m*\u001b[39mkwargs)  \u001b[38;5;66;03m# type: ignore[misc]\u001b[39;00m\n\u001b[0;32m   1518\u001b[0m \u001b[38;5;28;01melse\u001b[39;00m:\n\u001b[1;32m-> 1519\u001b[0m     \u001b[38;5;28;01mreturn\u001b[39;00m \u001b[38;5;28mself\u001b[39m\u001b[38;5;241m.\u001b[39m_call_impl(\u001b[38;5;241m*\u001b[39margs, \u001b[38;5;241m*\u001b[39m\u001b[38;5;241m*\u001b[39mkwargs)\n",
      "File \u001b[1;32mc:\\Users\\Lenovo\\anaconda3\\envs\\thesis\\Lib\\site-packages\\torch\\nn\\modules\\module.py:1528\u001b[0m, in \u001b[0;36mModule._call_impl\u001b[1;34m(self, *args, **kwargs)\u001b[0m\n\u001b[0;32m   1523\u001b[0m \u001b[38;5;66;03m# If we don't have any hooks, we want to skip the rest of the logic in\u001b[39;00m\n\u001b[0;32m   1524\u001b[0m \u001b[38;5;66;03m# this function, and just call forward.\u001b[39;00m\n\u001b[0;32m   1525\u001b[0m \u001b[38;5;28;01mif\u001b[39;00m \u001b[38;5;129;01mnot\u001b[39;00m (\u001b[38;5;28mself\u001b[39m\u001b[38;5;241m.\u001b[39m_backward_hooks \u001b[38;5;129;01mor\u001b[39;00m \u001b[38;5;28mself\u001b[39m\u001b[38;5;241m.\u001b[39m_backward_pre_hooks \u001b[38;5;129;01mor\u001b[39;00m \u001b[38;5;28mself\u001b[39m\u001b[38;5;241m.\u001b[39m_forward_hooks \u001b[38;5;129;01mor\u001b[39;00m \u001b[38;5;28mself\u001b[39m\u001b[38;5;241m.\u001b[39m_forward_pre_hooks\n\u001b[0;32m   1526\u001b[0m         \u001b[38;5;129;01mor\u001b[39;00m _global_backward_pre_hooks \u001b[38;5;129;01mor\u001b[39;00m _global_backward_hooks\n\u001b[0;32m   1527\u001b[0m         \u001b[38;5;129;01mor\u001b[39;00m _global_forward_hooks \u001b[38;5;129;01mor\u001b[39;00m _global_forward_pre_hooks):\n\u001b[1;32m-> 1528\u001b[0m     \u001b[38;5;28;01mreturn\u001b[39;00m forward_call(\u001b[38;5;241m*\u001b[39margs, \u001b[38;5;241m*\u001b[39m\u001b[38;5;241m*\u001b[39mkwargs)\n\u001b[0;32m   1530\u001b[0m \u001b[38;5;28;01mtry\u001b[39;00m:\n\u001b[0;32m   1531\u001b[0m     result \u001b[38;5;241m=\u001b[39m \u001b[38;5;28;01mNone\u001b[39;00m\n",
      "Cell \u001b[1;32mIn[85], line 13\u001b[0m, in \u001b[0;36mGraphEncoder.forward\u001b[1;34m(self, x, edge_index)\u001b[0m\n\u001b[0;32m     11\u001b[0m x \u001b[38;5;241m=\u001b[39m F\u001b[38;5;241m.\u001b[39mrelu(\u001b[38;5;28mself\u001b[39m\u001b[38;5;241m.\u001b[39mconv1(x, edge_index))\n\u001b[0;32m     12\u001b[0m x\u001b[38;5;241m=\u001b[39mF\u001b[38;5;241m.\u001b[39mdropout(x,p\u001b[38;5;241m=\u001b[39m\u001b[38;5;241m0.2\u001b[39m)\n\u001b[1;32m---> 13\u001b[0m z \u001b[38;5;241m=\u001b[39m \u001b[38;5;28mself\u001b[39m\u001b[38;5;241m.\u001b[39mconv2(x, edge_index)\n\u001b[0;32m     14\u001b[0m z\u001b[38;5;241m=\u001b[39mF\u001b[38;5;241m.\u001b[39mdropout(z,p\u001b[38;5;241m=\u001b[39m\u001b[38;5;241m0.2\u001b[39m)\n\u001b[0;32m     15\u001b[0m \u001b[38;5;28;01mreturn\u001b[39;00m z\n",
      "File \u001b[1;32mc:\\Users\\Lenovo\\anaconda3\\envs\\thesis\\Lib\\site-packages\\torch\\nn\\modules\\module.py:1519\u001b[0m, in \u001b[0;36mModule._wrapped_call_impl\u001b[1;34m(self, *args, **kwargs)\u001b[0m\n\u001b[0;32m   1517\u001b[0m     \u001b[38;5;28;01mreturn\u001b[39;00m \u001b[38;5;28mself\u001b[39m\u001b[38;5;241m.\u001b[39m_compiled_call_impl(\u001b[38;5;241m*\u001b[39margs, \u001b[38;5;241m*\u001b[39m\u001b[38;5;241m*\u001b[39mkwargs)  \u001b[38;5;66;03m# type: ignore[misc]\u001b[39;00m\n\u001b[0;32m   1518\u001b[0m \u001b[38;5;28;01melse\u001b[39;00m:\n\u001b[1;32m-> 1519\u001b[0m     \u001b[38;5;28;01mreturn\u001b[39;00m \u001b[38;5;28mself\u001b[39m\u001b[38;5;241m.\u001b[39m_call_impl(\u001b[38;5;241m*\u001b[39margs, \u001b[38;5;241m*\u001b[39m\u001b[38;5;241m*\u001b[39mkwargs)\n",
      "File \u001b[1;32mc:\\Users\\Lenovo\\anaconda3\\envs\\thesis\\Lib\\site-packages\\torch\\nn\\modules\\module.py:1528\u001b[0m, in \u001b[0;36mModule._call_impl\u001b[1;34m(self, *args, **kwargs)\u001b[0m\n\u001b[0;32m   1523\u001b[0m \u001b[38;5;66;03m# If we don't have any hooks, we want to skip the rest of the logic in\u001b[39;00m\n\u001b[0;32m   1524\u001b[0m \u001b[38;5;66;03m# this function, and just call forward.\u001b[39;00m\n\u001b[0;32m   1525\u001b[0m \u001b[38;5;28;01mif\u001b[39;00m \u001b[38;5;129;01mnot\u001b[39;00m (\u001b[38;5;28mself\u001b[39m\u001b[38;5;241m.\u001b[39m_backward_hooks \u001b[38;5;129;01mor\u001b[39;00m \u001b[38;5;28mself\u001b[39m\u001b[38;5;241m.\u001b[39m_backward_pre_hooks \u001b[38;5;129;01mor\u001b[39;00m \u001b[38;5;28mself\u001b[39m\u001b[38;5;241m.\u001b[39m_forward_hooks \u001b[38;5;129;01mor\u001b[39;00m \u001b[38;5;28mself\u001b[39m\u001b[38;5;241m.\u001b[39m_forward_pre_hooks\n\u001b[0;32m   1526\u001b[0m         \u001b[38;5;129;01mor\u001b[39;00m _global_backward_pre_hooks \u001b[38;5;129;01mor\u001b[39;00m _global_backward_hooks\n\u001b[0;32m   1527\u001b[0m         \u001b[38;5;129;01mor\u001b[39;00m _global_forward_hooks \u001b[38;5;129;01mor\u001b[39;00m _global_forward_pre_hooks):\n\u001b[1;32m-> 1528\u001b[0m     \u001b[38;5;28;01mreturn\u001b[39;00m forward_call(\u001b[38;5;241m*\u001b[39margs, \u001b[38;5;241m*\u001b[39m\u001b[38;5;241m*\u001b[39mkwargs)\n\u001b[0;32m   1530\u001b[0m \u001b[38;5;28;01mtry\u001b[39;00m:\n\u001b[0;32m   1531\u001b[0m     result \u001b[38;5;241m=\u001b[39m \u001b[38;5;28;01mNone\u001b[39;00m\n",
      "File \u001b[1;32mc:\\Users\\Lenovo\\anaconda3\\envs\\thesis\\Lib\\site-packages\\torch_geometric\\nn\\conv\\gcn_conv.py:244\u001b[0m, in \u001b[0;36mGCNConv.forward\u001b[1;34m(self, x, edge_index, edge_weight)\u001b[0m\n\u001b[0;32m    241\u001b[0m x \u001b[38;5;241m=\u001b[39m \u001b[38;5;28mself\u001b[39m\u001b[38;5;241m.\u001b[39mlin(x)\n\u001b[0;32m    243\u001b[0m \u001b[38;5;66;03m# propagate_type: (x: Tensor, edge_weight: OptTensor)\u001b[39;00m\n\u001b[1;32m--> 244\u001b[0m out \u001b[38;5;241m=\u001b[39m \u001b[38;5;28mself\u001b[39m\u001b[38;5;241m.\u001b[39mpropagate(edge_index, x\u001b[38;5;241m=\u001b[39mx, edge_weight\u001b[38;5;241m=\u001b[39medge_weight,\n\u001b[0;32m    245\u001b[0m                      size\u001b[38;5;241m=\u001b[39m\u001b[38;5;28;01mNone\u001b[39;00m)\n\u001b[0;32m    247\u001b[0m \u001b[38;5;28;01mif\u001b[39;00m \u001b[38;5;28mself\u001b[39m\u001b[38;5;241m.\u001b[39mbias \u001b[38;5;129;01mis\u001b[39;00m \u001b[38;5;129;01mnot\u001b[39;00m \u001b[38;5;28;01mNone\u001b[39;00m:\n\u001b[0;32m    248\u001b[0m     out \u001b[38;5;241m=\u001b[39m out \u001b[38;5;241m+\u001b[39m \u001b[38;5;28mself\u001b[39m\u001b[38;5;241m.\u001b[39mbias\n",
      "File \u001b[1;32mc:\\Users\\Lenovo\\anaconda3\\envs\\thesis\\Lib\\site-packages\\torch_geometric\\nn\\conv\\message_passing.py:455\u001b[0m, in \u001b[0;36mMessagePassing.propagate\u001b[1;34m(self, edge_index, size, **kwargs)\u001b[0m\n\u001b[0;32m    452\u001b[0m     \u001b[38;5;28;01mfor\u001b[39;00m arg \u001b[38;5;129;01min\u001b[39;00m decomp_args:\n\u001b[0;32m    453\u001b[0m         kwargs[arg] \u001b[38;5;241m=\u001b[39m decomp_kwargs[arg][i]\n\u001b[1;32m--> 455\u001b[0m coll_dict \u001b[38;5;241m=\u001b[39m \u001b[38;5;28mself\u001b[39m\u001b[38;5;241m.\u001b[39m_collect(\u001b[38;5;28mself\u001b[39m\u001b[38;5;241m.\u001b[39m_user_args, edge_index, size,\n\u001b[0;32m    456\u001b[0m                           kwargs)\n\u001b[0;32m    458\u001b[0m msg_kwargs \u001b[38;5;241m=\u001b[39m \u001b[38;5;28mself\u001b[39m\u001b[38;5;241m.\u001b[39minspector\u001b[38;5;241m.\u001b[39mdistribute(\u001b[38;5;124m'\u001b[39m\u001b[38;5;124mmessage\u001b[39m\u001b[38;5;124m'\u001b[39m, coll_dict)\n\u001b[0;32m    459\u001b[0m \u001b[38;5;28;01mfor\u001b[39;00m hook \u001b[38;5;129;01min\u001b[39;00m \u001b[38;5;28mself\u001b[39m\u001b[38;5;241m.\u001b[39m_message_forward_pre_hooks\u001b[38;5;241m.\u001b[39mvalues():\n",
      "File \u001b[1;32mc:\\Users\\Lenovo\\anaconda3\\envs\\thesis\\Lib\\site-packages\\torch_geometric\\nn\\conv\\message_passing.py:329\u001b[0m, in \u001b[0;36mMessagePassing._collect\u001b[1;34m(self, args, edge_index, size, kwargs)\u001b[0m\n\u001b[0;32m    327\u001b[0m         \u001b[38;5;28;01mif\u001b[39;00m \u001b[38;5;28misinstance\u001b[39m(data, Tensor):\n\u001b[0;32m    328\u001b[0m             \u001b[38;5;28mself\u001b[39m\u001b[38;5;241m.\u001b[39m_set_size(size, dim, data)\n\u001b[1;32m--> 329\u001b[0m             data \u001b[38;5;241m=\u001b[39m \u001b[38;5;28mself\u001b[39m\u001b[38;5;241m.\u001b[39m_lift(data, edge_index, dim)\n\u001b[0;32m    331\u001b[0m         out[arg] \u001b[38;5;241m=\u001b[39m data\n\u001b[0;32m    333\u001b[0m \u001b[38;5;28;01mif\u001b[39;00m is_torch_sparse_tensor(edge_index):\n",
      "File \u001b[1;32mc:\\Users\\Lenovo\\anaconda3\\envs\\thesis\\Lib\\site-packages\\torch_geometric\\nn\\conv\\message_passing.py:266\u001b[0m, in \u001b[0;36mMessagePassing._lift\u001b[1;34m(self, src, edge_index, dim)\u001b[0m\n\u001b[0;32m    264\u001b[0m \u001b[38;5;28;01mtry\u001b[39;00m:\n\u001b[0;32m    265\u001b[0m     index \u001b[38;5;241m=\u001b[39m edge_index[dim]\n\u001b[1;32m--> 266\u001b[0m     \u001b[38;5;28;01mreturn\u001b[39;00m src\u001b[38;5;241m.\u001b[39mindex_select(\u001b[38;5;28mself\u001b[39m\u001b[38;5;241m.\u001b[39mnode_dim, index)\n\u001b[0;32m    267\u001b[0m \u001b[38;5;28;01mexcept\u001b[39;00m (\u001b[38;5;167;01mIndexError\u001b[39;00m, \u001b[38;5;167;01mRuntimeError\u001b[39;00m) \u001b[38;5;28;01mas\u001b[39;00m e:\n\u001b[0;32m    268\u001b[0m     \u001b[38;5;28;01mif\u001b[39;00m index\u001b[38;5;241m.\u001b[39mmin() \u001b[38;5;241m<\u001b[39m \u001b[38;5;241m0\u001b[39m \u001b[38;5;129;01mor\u001b[39;00m index\u001b[38;5;241m.\u001b[39mmax() \u001b[38;5;241m>\u001b[39m\u001b[38;5;241m=\u001b[39m src\u001b[38;5;241m.\u001b[39msize(\u001b[38;5;28mself\u001b[39m\u001b[38;5;241m.\u001b[39mnode_dim):\n",
      "\u001b[1;31mKeyboardInterrupt\u001b[0m: "
     ]
    }
   ],
   "source": [
    "datas=graphs_all\n",
    "# Define the loss function\n",
    "# loss_fn = torch.nn.BCEWithLogitsLoss()\n",
    "loss_fn = torch.nn.MSELoss()  # If the features are continuous\n",
    "\n",
    "\n",
    "# TODO: Loss function may need to be changed. Not sure if BCE is the right one\n",
    "\n",
    "# Define the optimizer\n",
    "optimizer = torch.optim.Adam(list(encoder.parameters()) + list(decoder.parameters()), lr=0.01)\n",
    "\n",
    "# Training loop\n",
    "def train():\n",
    "\n",
    "    encoder.train()\n",
    "    decoder.train()\n",
    "    optimizer.zero_grad()\n",
    "    total_loss=0\n",
    "    \n",
    "    for graph in tqdm(datas):\n",
    "        # print(graph)\n",
    "        if graph is None:\n",
    "            continue\n",
    "        if graph.edge_index.shape[0] == 0 :\n",
    "            continue\n",
    "        x = graph.x\n",
    "        edge_index = graph.edge_index\n",
    "        z = encoder(x, edge_index)\n",
    "        reconstructed_x = decoder(z, edge_index)\n",
    "        loss = loss_fn(reconstructed_x, x)\n",
    "        total_loss += loss.item()\n",
    "        loss.backward()\n",
    "    optimizer.step()\n",
    "    return total_loss / len(datas)\n",
    "\n",
    "# Evaluation loop\n",
    "def test():\n",
    "    encoder.eval()\n",
    "    decoder.eval()\n",
    "    total_loss=0\n",
    "    with torch.no_grad():\n",
    "        for graph in tqdm(datas):\n",
    "            if graph is None:\n",
    "                continue\n",
    "            if graph.edge_index.shape[0] == 0 :\n",
    "                continue\n",
    "            x = graph.x\n",
    "            edge_index = graph.edge_index\n",
    "            z = encoder(x, edge_index)\n",
    "            reconstructed_x = decoder(z, edge_index)\n",
    "            loss = loss_fn(reconstructed_x, x)\n",
    "            total_loss += loss.item()\n",
    "    return total_loss / len(datas)\n",
    "\n",
    "# Train and evaluate the model\n",
    "for epoch in range(200):\n",
    "\n",
    "    loss = train()\n",
    "    if(epoch%50==0):\n",
    "        torch.save(encoder.state_dict(), f'encoder_weights_epoch_{epoch+1}.pth')\n",
    "        torch.save(decoder.state_dict(), f'decoder_weights_epoch_{epoch+1}.pth')\n",
    "\n",
    "\n",
    "    #if epoch % 10 == 0:\n",
    "    eval_loss= test()\n",
    "    print(f'Epoch: {epoch}, Loss: {loss:.4f}, Eval Loss: {eval_loss:.4f}')"
   ]
  },
  {
   "cell_type": "code",
   "execution_count": 104,
   "metadata": {},
   "outputs": [],
   "source": [
    "\n",
    "\n",
    "# graph_encoder = VariationalGATEncoder(20, 8,8)\n",
    "# # graph_encoder = VariationalGATEncoder(128, 16, 32)\n",
    "# model = VGAE(graph_encoder).to(DEVICE)\n",
    "# optimizer = torch.optim.Adam(model.parameters(), lr=1e-4)\n",
    "\n",
    "# epochs = 10\n",
    "# best_auc = 0\n",
    "# for i in (range(epochs)):\n",
    "#     print(i)\n",
    "#     # print(nr_er_graphs)\n",
    "#     loss, mean_ap, mean_auc = train_vgae(model, graphs_all, optimizer)\n",
    "#     print(f\"Epoch {i}, Loss: {loss}, Mean AP: {mean_ap}, Mean AUC: {mean_auc}\")\n",
    "#     if mean_auc > best_auc:\n",
    "#         torch.save(\n",
    "#             model.state_dict(),\n",
    "#             \"vgae_models/best_autoencoder.pth\"\n",
    "#         )\n",
    "#         best_auc = mean_auc\n"
   ]
  },
  {
   "cell_type": "code",
   "execution_count": 105,
   "metadata": {},
   "outputs": [],
   "source": [
    "# g_data=graphs_all[0]\n",
    "\n",
    "# model.eval()\n",
    "# with torch.no_grad():\n",
    "#     z = model.encode(g_data.x, g_data.train_pos_edge_index)"
   ]
  },
  {
   "cell_type": "markdown",
   "metadata": {},
   "source": [
    "# performance testing"
   ]
  },
  {
   "cell_type": "markdown",
   "metadata": {},
   "source": []
  },
  {
   "cell_type": "code",
   "execution_count": 106,
   "metadata": {},
   "outputs": [],
   "source": [
    "nr_ahr_data=torch.load(\"Seperated_dataset/nr-ahr/train_feature.pt\")\n",
    "nr_ahr_label=torch.load(\"Seperated_dataset/nr-ahr/train_labels.pt\")\n",
    "\n",
    "\n",
    "nr_ahr_test_data=torch.load(\"Seperated_dataset/nr-ahr/test_feature.pt\")\n",
    "nr_ahr_test_label=torch.load(\"Seperated_dataset/nr-ahr/test_labels.pt\")"
   ]
  },
  {
   "cell_type": "code",
   "execution_count": 109,
   "metadata": {},
   "outputs": [
    {
     "data": {
      "text/plain": [
       "GraphEncoder(\n",
       "  (conv1): GCNConv(20, 16)\n",
       "  (conv2): GCNConv(16, 16)\n",
       ")"
      ]
     },
     "execution_count": 109,
     "metadata": {},
     "output_type": "execute_result"
    }
   ],
   "source": [
    "encoder.to(DEVICE)"
   ]
  },
  {
   "cell_type": "code",
   "execution_count": 134,
   "metadata": {},
   "outputs": [
    {
     "data": {
      "text/plain": [
       "[Data(x=[13, 20], edge_index=[2, 26], edge_attr=[26, 19]),\n",
       " Data(x=[26, 20], edge_index=[2, 60], edge_attr=[60, 19]),\n",
       " Data(x=[19, 20], edge_index=[2, 42], edge_attr=[42, 19]),\n",
       " Data(x=[13, 20], edge_index=[2, 24], edge_attr=[24, 19]),\n",
       " Data(x=[9, 20], edge_index=[2, 16], edge_attr=[16, 19]),\n",
       " Data(x=[9, 20], edge_index=[2, 18], edge_attr=[18, 19]),\n",
       " Data(x=[9, 20], edge_index=[2, 16], edge_attr=[16, 19]),\n",
       " Data(x=[6, 20], edge_index=[2, 10], edge_attr=[10, 19]),\n",
       " Data(x=[78, 20], edge_index=[2, 162], edge_attr=[162, 19]),\n",
       " Data(x=[16, 20], edge_index=[2, 30], edge_attr=[30, 19]),\n",
       " Data(x=[13, 20], edge_index=[2, 24], edge_attr=[24, 19]),\n",
       " Data(x=[11, 20], edge_index=[2, 22], edge_attr=[22, 19]),\n",
       " Data(x=[24, 20], edge_index=[2, 46], edge_attr=[46, 19]),\n",
       " Data(x=[13, 20], edge_index=[2, 28], edge_attr=[28, 19]),\n",
       " Data(x=[10, 20], edge_index=[2, 16], edge_attr=[16, 19]),\n",
       " Data(x=[10, 20], edge_index=[2, 18], edge_attr=[18, 19]),\n",
       " Data(x=[14, 20], edge_index=[2, 26], edge_attr=[26, 19]),\n",
       " Data(x=[6, 20], edge_index=[2, 10], edge_attr=[10, 19]),\n",
       " Data(x=[22, 20], edge_index=[2, 48], edge_attr=[48, 19]),\n",
       " Data(x=[13, 20], edge_index=[2, 28], edge_attr=[28, 19]),\n",
       " Data(x=[4, 20], edge_index=[2, 6], edge_attr=[6, 19]),\n",
       " Data(x=[10, 20], edge_index=[2, 20], edge_attr=[20, 19]),\n",
       " Data(x=[19, 20], edge_index=[2, 40], edge_attr=[40, 19]),\n",
       " Data(x=[15, 20], edge_index=[2, 30], edge_attr=[30, 19]),\n",
       " Data(x=[10, 20], edge_index=[2, 18], edge_attr=[18, 19]),\n",
       " Data(x=[9, 20], edge_index=[2, 16], edge_attr=[16, 19]),\n",
       " Data(x=[16, 20], edge_index=[2, 32], edge_attr=[32, 19]),\n",
       " Data(x=[18, 20], edge_index=[2, 32], edge_attr=[32, 19]),\n",
       " Data(x=[2, 20], edge_index=[2, 2], edge_attr=[2, 19]),\n",
       " Data(x=[4, 20], edge_index=[0], edge_attr=[0]),\n",
       " Data(x=[9, 20], edge_index=[2, 18], edge_attr=[18, 19]),\n",
       " Data(x=[17, 20], edge_index=[2, 36], edge_attr=[36, 19]),\n",
       " Data(x=[28, 20], edge_index=[2, 62], edge_attr=[62, 19]),\n",
       " Data(x=[13, 20], edge_index=[2, 26], edge_attr=[26, 19]),\n",
       " Data(x=[25, 20], edge_index=[2, 62], edge_attr=[62, 19]),\n",
       " Data(x=[6, 20], edge_index=[2, 10], edge_attr=[10, 19]),\n",
       " Data(x=[33, 20], edge_index=[2, 66], edge_attr=[66, 19]),\n",
       " Data(x=[12, 20], edge_index=[2, 24], edge_attr=[24, 19]),\n",
       " Data(x=[14, 20], edge_index=[2, 26], edge_attr=[26, 19]),\n",
       " Data(x=[2, 20], edge_index=[0], edge_attr=[0]),\n",
       " Data(x=[15, 20], edge_index=[2, 32], edge_attr=[32, 19]),\n",
       " Data(x=[10, 20], edge_index=[2, 20], edge_attr=[20, 19]),\n",
       " Data(x=[27, 20], edge_index=[2, 54], edge_attr=[54, 19]),\n",
       " Data(x=[22, 20], edge_index=[2, 48], edge_attr=[48, 19]),\n",
       " Data(x=[23, 20], edge_index=[2, 48], edge_attr=[48, 19]),\n",
       " Data(x=[14, 20], edge_index=[2, 30], edge_attr=[30, 19]),\n",
       " Data(x=[10, 20], edge_index=[2, 20], edge_attr=[20, 19]),\n",
       " Data(x=[8, 20], edge_index=[2, 16], edge_attr=[16, 19]),\n",
       " Data(x=[22, 20], edge_index=[2, 42], edge_attr=[42, 19]),\n",
       " Data(x=[17, 20], edge_index=[2, 32], edge_attr=[32, 19]),\n",
       " Data(x=[9, 20], edge_index=[2, 18], edge_attr=[18, 19]),\n",
       " Data(x=[10, 20], edge_index=[2, 20], edge_attr=[20, 19]),\n",
       " Data(x=[5, 20], edge_index=[2, 10], edge_attr=[10, 19]),\n",
       " Data(x=[13, 20], edge_index=[2, 24], edge_attr=[24, 19]),\n",
       " Data(x=[29, 20], edge_index=[2, 66], edge_attr=[66, 19]),\n",
       " Data(x=[19, 20], edge_index=[2, 38], edge_attr=[38, 19]),\n",
       " Data(x=[46, 20], edge_index=[2, 104], edge_attr=[104, 19]),\n",
       " Data(x=[19, 20], edge_index=[2, 36], edge_attr=[36, 19]),\n",
       " Data(x=[9, 20], edge_index=[2, 18], edge_attr=[18, 19]),\n",
       " Data(x=[27, 20], edge_index=[2, 58], edge_attr=[58, 19]),\n",
       " Data(x=[15, 20], edge_index=[2, 28], edge_attr=[28, 19]),\n",
       " Data(x=[9, 20], edge_index=[2, 16], edge_attr=[16, 19]),\n",
       " Data(x=[9, 20], edge_index=[2, 18], edge_attr=[18, 19]),\n",
       " Data(x=[15, 20], edge_index=[2, 28], edge_attr=[28, 19]),\n",
       " Data(x=[23, 20], edge_index=[2, 48], edge_attr=[48, 19]),\n",
       " Data(x=[11, 20], edge_index=[2, 22], edge_attr=[22, 19]),\n",
       " Data(x=[11, 20], edge_index=[2, 24], edge_attr=[24, 19]),\n",
       " Data(x=[21, 20], edge_index=[2, 44], edge_attr=[44, 19]),\n",
       " Data(x=[5, 20], edge_index=[2, 8], edge_attr=[8, 19]),\n",
       " Data(x=[24, 20], edge_index=[2, 52], edge_attr=[52, 19]),\n",
       " Data(x=[19, 20], edge_index=[2, 40], edge_attr=[40, 19]),\n",
       " Data(x=[12, 20], edge_index=[2, 24], edge_attr=[24, 19]),\n",
       " Data(x=[17, 20], edge_index=[2, 34], edge_attr=[34, 19]),\n",
       " Data(x=[24, 20], edge_index=[2, 48], edge_attr=[48, 19]),\n",
       " Data(x=[15, 20], edge_index=[2, 32], edge_attr=[32, 19]),\n",
       " Data(x=[6, 20], edge_index=[2, 12], edge_attr=[12, 19]),\n",
       " Data(x=[15, 20], edge_index=[2, 30], edge_attr=[30, 19]),\n",
       " Data(x=[12, 20], edge_index=[2, 22], edge_attr=[22, 19]),\n",
       " Data(x=[16, 20], edge_index=[2, 34], edge_attr=[34, 19]),\n",
       " Data(x=[30, 20], edge_index=[2, 62], edge_attr=[62, 19]),\n",
       " Data(x=[17, 20], edge_index=[2, 36], edge_attr=[36, 19]),\n",
       " Data(x=[34, 20], edge_index=[2, 76], edge_attr=[76, 19]),\n",
       " Data(x=[21, 20], edge_index=[2, 42], edge_attr=[42, 19]),\n",
       " Data(x=[12, 20], edge_index=[2, 18], edge_attr=[18, 19]),\n",
       " Data(x=[16, 20], edge_index=[2, 34], edge_attr=[34, 19]),\n",
       " Data(x=[27, 20], edge_index=[2, 56], edge_attr=[56, 19]),\n",
       " Data(x=[36, 20], edge_index=[2, 78], edge_attr=[78, 19]),\n",
       " Data(x=[7, 20], edge_index=[2, 12], edge_attr=[12, 19]),\n",
       " Data(x=[21, 20], edge_index=[2, 42], edge_attr=[42, 19]),\n",
       " Data(x=[11, 20], edge_index=[2, 22], edge_attr=[22, 19]),\n",
       " Data(x=[14, 20], edge_index=[2, 30], edge_attr=[30, 19]),\n",
       " Data(x=[17, 20], edge_index=[2, 36], edge_attr=[36, 19]),\n",
       " Data(x=[27, 20], edge_index=[2, 60], edge_attr=[60, 19]),\n",
       " Data(x=[30, 20], edge_index=[2, 68], edge_attr=[68, 19]),\n",
       " Data(x=[31, 20], edge_index=[2, 68], edge_attr=[68, 19]),\n",
       " Data(x=[29, 20], edge_index=[2, 60], edge_attr=[60, 19]),\n",
       " Data(x=[12, 20], edge_index=[2, 22], edge_attr=[22, 19]),\n",
       " Data(x=[12, 20], edge_index=[2, 22], edge_attr=[22, 19]),\n",
       " Data(x=[13, 20], edge_index=[2, 20], edge_attr=[20, 19]),\n",
       " Data(x=[6, 20], edge_index=[2, 10], edge_attr=[10, 19]),\n",
       " Data(x=[17, 20], edge_index=[2, 36], edge_attr=[36, 19]),\n",
       " Data(x=[9, 20], edge_index=[2, 16], edge_attr=[16, 19]),\n",
       " Data(x=[9, 20], edge_index=[2, 18], edge_attr=[18, 19]),\n",
       " Data(x=[19, 20], edge_index=[2, 38], edge_attr=[38, 19]),\n",
       " Data(x=[14, 20], edge_index=[2, 28], edge_attr=[28, 19]),\n",
       " Data(x=[23, 20], edge_index=[2, 50], edge_attr=[50, 19]),\n",
       " Data(x=[27, 20], edge_index=[2, 58], edge_attr=[58, 19]),\n",
       " Data(x=[16, 20], edge_index=[2, 34], edge_attr=[34, 19]),\n",
       " Data(x=[25, 20], edge_index=[2, 56], edge_attr=[56, 19]),\n",
       " Data(x=[17, 20], edge_index=[2, 34], edge_attr=[34, 19]),\n",
       " Data(x=[9, 20], edge_index=[2, 16], edge_attr=[16, 19]),\n",
       " Data(x=[8, 20], edge_index=[2, 16], edge_attr=[16, 19]),\n",
       " Data(x=[33, 20], edge_index=[2, 66], edge_attr=[66, 19]),\n",
       " Data(x=[9, 20], edge_index=[2, 16], edge_attr=[16, 19]),\n",
       " Data(x=[16, 20], edge_index=[2, 30], edge_attr=[30, 19]),\n",
       " Data(x=[23, 20], edge_index=[2, 48], edge_attr=[48, 19]),\n",
       " Data(x=[9, 20], edge_index=[2, 12], edge_attr=[12, 19]),\n",
       " Data(x=[13, 20], edge_index=[2, 28], edge_attr=[28, 19]),\n",
       " Data(x=[66, 20], edge_index=[2, 144], edge_attr=[144, 19]),\n",
       " Data(x=[26, 20], edge_index=[2, 54], edge_attr=[54, 19]),\n",
       " Data(x=[31, 20], edge_index=[2, 62], edge_attr=[62, 19]),\n",
       " Data(x=[15, 20], edge_index=[2, 12], edge_attr=[12, 19]),\n",
       " Data(x=[24, 20], edge_index=[2, 48], edge_attr=[48, 19]),\n",
       " Data(x=[21, 20], edge_index=[2, 44], edge_attr=[44, 19]),\n",
       " Data(x=[14, 20], edge_index=[2, 28], edge_attr=[28, 19]),\n",
       " Data(x=[11, 20], edge_index=[2, 22], edge_attr=[22, 19]),\n",
       " Data(x=[21, 20], edge_index=[2, 44], edge_attr=[44, 19]),\n",
       " Data(x=[7, 20], edge_index=[2, 14], edge_attr=[14, 19]),\n",
       " Data(x=[13, 20], edge_index=[2, 24], edge_attr=[24, 19]),\n",
       " Data(x=[5, 20], edge_index=[2, 8], edge_attr=[8, 19]),\n",
       " Data(x=[24, 20], edge_index=[2, 46], edge_attr=[46, 19]),\n",
       " Data(x=[72, 20], edge_index=[2, 156], edge_attr=[156, 19]),\n",
       " Data(x=[5, 20], edge_index=[2, 8], edge_attr=[8, 19]),\n",
       " Data(x=[43, 20], edge_index=[2, 94], edge_attr=[94, 19]),\n",
       " Data(x=[10, 20], edge_index=[2, 22], edge_attr=[22, 19]),\n",
       " Data(x=[3, 20], edge_index=[2, 4], edge_attr=[4, 19]),\n",
       " Data(x=[12, 20], edge_index=[2, 26], edge_attr=[26, 19]),\n",
       " Data(x=[7, 20], edge_index=[2, 12], edge_attr=[12, 19]),\n",
       " Data(x=[38, 20], edge_index=[2, 80], edge_attr=[80, 19]),\n",
       " Data(x=[14, 20], edge_index=[2, 26], edge_attr=[26, 19]),\n",
       " Data(x=[16, 20], edge_index=[2, 30], edge_attr=[30, 19]),\n",
       " Data(x=[10, 20], edge_index=[2, 18], edge_attr=[18, 19]),\n",
       " Data(x=[17, 20], edge_index=[2, 32], edge_attr=[32, 19]),\n",
       " Data(x=[23, 20], edge_index=[2, 48], edge_attr=[48, 19]),\n",
       " Data(x=[14, 20], edge_index=[2, 30], edge_attr=[30, 19]),\n",
       " Data(x=[30, 20], edge_index=[2, 64], edge_attr=[64, 19]),\n",
       " Data(x=[21, 20], edge_index=[2, 40], edge_attr=[40, 19]),\n",
       " Data(x=[16, 20], edge_index=[2, 34], edge_attr=[34, 19]),\n",
       " Data(x=[6, 20], edge_index=[2, 10], edge_attr=[10, 19]),\n",
       " Data(x=[34, 20], edge_index=[2, 72], edge_attr=[72, 19]),\n",
       " Data(x=[7, 20], edge_index=[2, 14], edge_attr=[14, 19]),\n",
       " Data(x=[14, 20], edge_index=[2, 28], edge_attr=[28, 19]),\n",
       " Data(x=[11, 20], edge_index=[2, 22], edge_attr=[22, 19]),\n",
       " Data(x=[14, 20], edge_index=[2, 26], edge_attr=[26, 19]),\n",
       " Data(x=[34, 20], edge_index=[2, 70], edge_attr=[70, 19]),\n",
       " Data(x=[36, 20], edge_index=[2, 74], edge_attr=[74, 19]),\n",
       " Data(x=[18, 20], edge_index=[2, 42], edge_attr=[42, 19]),\n",
       " Data(x=[7, 20], edge_index=[2, 10], edge_attr=[10, 19]),\n",
       " Data(x=[24, 20], edge_index=[2, 48], edge_attr=[48, 19]),\n",
       " Data(x=[14, 20], edge_index=[2, 30], edge_attr=[30, 19]),\n",
       " Data(x=[24, 20], edge_index=[2, 50], edge_attr=[50, 19]),\n",
       " Data(x=[8, 20], edge_index=[2, 14], edge_attr=[14, 19]),\n",
       " Data(x=[41, 20], edge_index=[2, 84], edge_attr=[84, 19]),\n",
       " Data(x=[17, 20], edge_index=[2, 24], edge_attr=[24, 19]),\n",
       " Data(x=[13, 20], edge_index=[2, 26], edge_attr=[26, 19]),\n",
       " Data(x=[29, 20], edge_index=[2, 58], edge_attr=[58, 19]),\n",
       " Data(x=[14, 20], edge_index=[2, 30], edge_attr=[30, 19]),\n",
       " Data(x=[4, 20], edge_index=[2, 6], edge_attr=[6, 19]),\n",
       " Data(x=[44, 20], edge_index=[2, 98], edge_attr=[98, 19]),\n",
       " Data(x=[12, 20], edge_index=[2, 22], edge_attr=[22, 19]),\n",
       " Data(x=[12, 20], edge_index=[2, 24], edge_attr=[24, 19]),\n",
       " Data(x=[25, 20], edge_index=[2, 52], edge_attr=[52, 19]),\n",
       " Data(x=[10, 20], edge_index=[2, 20], edge_attr=[20, 19]),\n",
       " Data(x=[20, 20], edge_index=[2, 40], edge_attr=[40, 19]),\n",
       " Data(x=[12, 20], edge_index=[2, 24], edge_attr=[24, 19]),\n",
       " Data(x=[25, 20], edge_index=[2, 52], edge_attr=[52, 19]),\n",
       " Data(x=[4, 20], edge_index=[2, 6], edge_attr=[6, 19]),\n",
       " Data(x=[28, 20], edge_index=[2, 54], edge_attr=[54, 19]),\n",
       " Data(x=[8, 20], edge_index=[2, 16], edge_attr=[16, 19]),\n",
       " Data(x=[29, 20], edge_index=[2, 56], edge_attr=[56, 19]),\n",
       " Data(x=[20, 20], edge_index=[2, 40], edge_attr=[40, 19]),\n",
       " Data(x=[15, 20], edge_index=[2, 30], edge_attr=[30, 19]),\n",
       " Data(x=[9, 20], edge_index=[2, 18], edge_attr=[18, 19]),\n",
       " Data(x=[16, 20], edge_index=[2, 30], edge_attr=[30, 19]),\n",
       " Data(x=[19, 20], edge_index=[2, 36], edge_attr=[36, 19]),\n",
       " Data(x=[7, 20], edge_index=[2, 12], edge_attr=[12, 19]),\n",
       " Data(x=[10, 20], edge_index=[2, 18], edge_attr=[18, 19]),\n",
       " Data(x=[13, 20], edge_index=[2, 24], edge_attr=[24, 19]),\n",
       " Data(x=[27, 20], edge_index=[2, 54], edge_attr=[54, 19]),\n",
       " Data(x=[41, 20], edge_index=[2, 84], edge_attr=[84, 19]),\n",
       " Data(x=[9, 20], edge_index=[2, 16], edge_attr=[16, 19]),\n",
       " Data(x=[13, 20], edge_index=[2, 24], edge_attr=[24, 19]),\n",
       " Data(x=[13, 20], edge_index=[2, 26], edge_attr=[26, 19]),\n",
       " Data(x=[34, 20], edge_index=[2, 78], edge_attr=[78, 19]),\n",
       " Data(x=[25, 20], edge_index=[2, 52], edge_attr=[52, 19]),\n",
       " Data(x=[13, 20], edge_index=[2, 26], edge_attr=[26, 19]),\n",
       " Data(x=[20, 20], edge_index=[2, 42], edge_attr=[42, 19]),\n",
       " Data(x=[6, 20], edge_index=[2, 12], edge_attr=[12, 19]),\n",
       " Data(x=[8, 20], edge_index=[2, 14], edge_attr=[14, 19]),\n",
       " Data(x=[31, 20], edge_index=[2, 64], edge_attr=[64, 19]),\n",
       " Data(x=[20, 20], edge_index=[2, 42], edge_attr=[42, 19]),\n",
       " Data(x=[15, 20], edge_index=[2, 32], edge_attr=[32, 19]),\n",
       " Data(x=[16, 20], edge_index=[2, 34], edge_attr=[34, 19]),\n",
       " Data(x=[18, 20], edge_index=[2, 34], edge_attr=[34, 19]),\n",
       " Data(x=[6, 20], edge_index=[2, 10], edge_attr=[10, 19]),\n",
       " Data(x=[12, 20], edge_index=[2, 24], edge_attr=[24, 19]),\n",
       " Data(x=[4, 20], edge_index=[2, 6], edge_attr=[6, 19]),\n",
       " Data(x=[5, 20], edge_index=[2, 6], edge_attr=[6, 19]),\n",
       " Data(x=[9, 20], edge_index=[2, 18], edge_attr=[18, 19]),\n",
       " Data(x=[25, 20], edge_index=[2, 54], edge_attr=[54, 19]),\n",
       " Data(x=[6, 20], edge_index=[2, 10], edge_attr=[10, 19]),\n",
       " Data(x=[17, 20], edge_index=[2, 36], edge_attr=[36, 19]),\n",
       " Data(x=[12, 20], edge_index=[2, 22], edge_attr=[22, 19]),\n",
       " Data(x=[11, 20], edge_index=[2, 22], edge_attr=[22, 19]),\n",
       " Data(x=[11, 20], edge_index=[2, 24], edge_attr=[24, 19]),\n",
       " Data(x=[22, 20], edge_index=[2, 44], edge_attr=[44, 19]),\n",
       " Data(x=[21, 20], edge_index=[2, 44], edge_attr=[44, 19]),\n",
       " Data(x=[23, 20], edge_index=[2, 44], edge_attr=[44, 19]),\n",
       " Data(x=[18, 20], edge_index=[2, 36], edge_attr=[36, 19]),\n",
       " Data(x=[25, 20], edge_index=[2, 50], edge_attr=[50, 19]),\n",
       " Data(x=[27, 20], edge_index=[2, 54], edge_attr=[54, 19]),\n",
       " Data(x=[13, 20], edge_index=[2, 24], edge_attr=[24, 19]),\n",
       " Data(x=[10, 20], edge_index=[2, 18], edge_attr=[18, 19]),\n",
       " Data(x=[6, 20], edge_index=[2, 10], edge_attr=[10, 19]),\n",
       " Data(x=[8, 20], edge_index=[2, 16], edge_attr=[16, 19]),\n",
       " Data(x=[15, 20], edge_index=[2, 30], edge_attr=[30, 19]),\n",
       " Data(x=[5, 20], edge_index=[2, 8], edge_attr=[8, 19]),\n",
       " Data(x=[16, 20], edge_index=[2, 32], edge_attr=[32, 19]),\n",
       " Data(x=[86, 20], edge_index=[2, 186], edge_attr=[186, 19]),\n",
       " Data(x=[17, 20], edge_index=[2, 36], edge_attr=[36, 19]),\n",
       " Data(x=[20, 20], edge_index=[2, 40], edge_attr=[40, 19]),\n",
       " Data(x=[15, 20], edge_index=[2, 28], edge_attr=[28, 19]),\n",
       " Data(x=[14, 20], edge_index=[2, 28], edge_attr=[28, 19]),\n",
       " Data(x=[23, 20], edge_index=[2, 52], edge_attr=[52, 19]),\n",
       " Data(x=[35, 20], edge_index=[2, 74], edge_attr=[74, 19]),\n",
       " Data(x=[5, 20], edge_index=[2, 8], edge_attr=[8, 19]),\n",
       " Data(x=[5, 20], edge_index=[2, 10], edge_attr=[10, 19]),\n",
       " Data(x=[11, 20], edge_index=[2, 22], edge_attr=[22, 19]),\n",
       " Data(x=[10, 20], edge_index=[2, 18], edge_attr=[18, 19]),\n",
       " Data(x=[16, 20], edge_index=[2, 32], edge_attr=[32, 19]),\n",
       " Data(x=[5, 20], edge_index=[2, 8], edge_attr=[8, 19]),\n",
       " Data(x=[28, 20], edge_index=[2, 62], edge_attr=[62, 19]),\n",
       " Data(x=[14, 20], edge_index=[2, 28], edge_attr=[28, 19]),\n",
       " Data(x=[27, 20], edge_index=[2, 54], edge_attr=[54, 19]),\n",
       " Data(x=[33, 20], edge_index=[2, 66], edge_attr=[66, 19]),\n",
       " Data(x=[12, 20], edge_index=[2, 24], edge_attr=[24, 19]),\n",
       " Data(x=[7, 20], edge_index=[2, 14], edge_attr=[14, 19]),\n",
       " Data(x=[13, 20], edge_index=[2, 24], edge_attr=[24, 19]),\n",
       " Data(x=[27, 20], edge_index=[2, 56], edge_attr=[56, 19]),\n",
       " Data(x=[13, 20], edge_index=[2, 26], edge_attr=[26, 19]),\n",
       " Data(x=[22, 20], edge_index=[2, 50], edge_attr=[50, 19]),\n",
       " Data(x=[7, 20], edge_index=[2, 12], edge_attr=[12, 19]),\n",
       " Data(x=[14, 20], edge_index=[2, 30], edge_attr=[30, 19]),\n",
       " Data(x=[24, 20], edge_index=[2, 52], edge_attr=[52, 19]),\n",
       " Data(x=[26, 20], edge_index=[2, 56], edge_attr=[56, 19]),\n",
       " Data(x=[12, 20], edge_index=[2, 24], edge_attr=[24, 19]),\n",
       " Data(x=[9, 20], edge_index=[2, 18], edge_attr=[18, 19]),\n",
       " Data(x=[20, 20], edge_index=[2, 40], edge_attr=[40, 19]),\n",
       " Data(x=[16, 20], edge_index=[2, 30], edge_attr=[30, 19]),\n",
       " Data(x=[24, 20], edge_index=[2, 52], edge_attr=[52, 19]),\n",
       " Data(x=[27, 20], edge_index=[2, 60], edge_attr=[60, 19]),\n",
       " Data(x=[9, 20], edge_index=[2, 18], edge_attr=[18, 19]),\n",
       " Data(x=[5, 20], edge_index=[2, 8], edge_attr=[8, 19]),\n",
       " Data(x=[10, 20], edge_index=[2, 18], edge_attr=[18, 19]),\n",
       " Data(x=[11, 20], edge_index=[2, 20], edge_attr=[20, 19]),\n",
       " Data(x=[17, 20], edge_index=[2, 32], edge_attr=[32, 19]),\n",
       " Data(x=[20, 20], edge_index=[2, 44], edge_attr=[44, 19]),\n",
       " Data(x=[7, 20], edge_index=[2, 12], edge_attr=[12, 19]),\n",
       " Data(x=[12, 20], edge_index=[2, 24], edge_attr=[24, 19]),\n",
       " Data(x=[28, 20], edge_index=[2, 60], edge_attr=[60, 19]),\n",
       " Data(x=[13, 20], edge_index=[2, 24], edge_attr=[24, 19]),\n",
       " Data(x=[8, 20], edge_index=[2, 16], edge_attr=[16, 19]),\n",
       " Data(x=[7, 20], edge_index=[2, 12], edge_attr=[12, 19]),\n",
       " Data(x=[32, 20], edge_index=[2, 64], edge_attr=[64, 19]),\n",
       " Data(x=[13, 20], edge_index=[2, 26], edge_attr=[26, 19]),\n",
       " Data(x=[5, 20], edge_index=[2, 8], edge_attr=[8, 19]),\n",
       " Data(x=[10, 20], edge_index=[2, 20], edge_attr=[20, 19]),\n",
       " Data(x=[13, 20], edge_index=[2, 26], edge_attr=[26, 19]),\n",
       " Data(x=[15, 20], edge_index=[2, 32], edge_attr=[32, 19]),\n",
       " Data(x=[34, 20], edge_index=[2, 72], edge_attr=[72, 19]),\n",
       " Data(x=[11, 20], edge_index=[2, 24], edge_attr=[24, 19]),\n",
       " Data(x=[37, 20], edge_index=[2, 76], edge_attr=[76, 19]),\n",
       " Data(x=[8, 20], edge_index=[2, 16], edge_attr=[16, 19]),\n",
       " Data(x=[17, 20], edge_index=[2, 32], edge_attr=[32, 19]),\n",
       " Data(x=[23, 20], edge_index=[2, 52], edge_attr=[52, 19]),\n",
       " Data(x=[52, 20], edge_index=[2, 108], edge_attr=[108, 19]),\n",
       " Data(x=[12, 20], edge_index=[2, 26], edge_attr=[26, 19]),\n",
       " Data(x=[27, 20], edge_index=[2, 60], edge_attr=[60, 19]),\n",
       " Data(x=[24, 20], edge_index=[2, 52], edge_attr=[52, 19]),\n",
       " Data(x=[10, 20], edge_index=[2, 18], edge_attr=[18, 19]),\n",
       " Data(x=[45, 20], edge_index=[2, 104], edge_attr=[104, 19]),\n",
       " Data(x=[25, 20], edge_index=[2, 52], edge_attr=[52, 19]),\n",
       " Data(x=[32, 20], edge_index=[2, 64], edge_attr=[64, 19]),\n",
       " Data(x=[20, 20], edge_index=[2, 42], edge_attr=[42, 19]),\n",
       " Data(x=[18, 20], edge_index=[2, 38], edge_attr=[38, 19]),\n",
       " Data(x=[11, 20], edge_index=[2, 22], edge_attr=[22, 19]),\n",
       " Data(x=[20, 20], edge_index=[2, 44], edge_attr=[44, 19]),\n",
       " Data(x=[17, 20], edge_index=[2, 36], edge_attr=[36, 19]),\n",
       " Data(x=[34, 20], edge_index=[2, 72], edge_attr=[72, 19]),\n",
       " Data(x=[40, 20], edge_index=[2, 84], edge_attr=[84, 19]),\n",
       " Data(x=[22, 20], edge_index=[2, 50], edge_attr=[50, 19]),\n",
       " Data(x=[6, 20], edge_index=[2, 10], edge_attr=[10, 19]),\n",
       " Data(x=[16, 20], edge_index=[2, 30], edge_attr=[30, 19]),\n",
       " Data(x=[8, 20], edge_index=[2, 14], edge_attr=[14, 19]),\n",
       " Data(x=[31, 20], edge_index=[2, 64], edge_attr=[64, 19]),\n",
       " Data(x=[107, 20], edge_index=[2, 224], edge_attr=[224, 19]),\n",
       " Data(x=[11, 20], edge_index=[2, 24], edge_attr=[24, 19]),\n",
       " Data(x=[11, 20], edge_index=[2, 22], edge_attr=[22, 19]),\n",
       " Data(x=[11, 20], edge_index=[2, 22], edge_attr=[22, 19]),\n",
       " Data(x=[28, 20], edge_index=[2, 64], edge_attr=[64, 19]),\n",
       " Data(x=[13, 20], edge_index=[2, 26], edge_attr=[26, 19]),\n",
       " Data(x=[19, 20], edge_index=[2, 38], edge_attr=[38, 19]),\n",
       " Data(x=[39, 20], edge_index=[2, 90], edge_attr=[90, 19]),\n",
       " Data(x=[9, 20], edge_index=[2, 16], edge_attr=[16, 19]),\n",
       " Data(x=[21, 20], edge_index=[2, 48], edge_attr=[48, 19]),\n",
       " Data(x=[36, 20], edge_index=[2, 78], edge_attr=[78, 19]),\n",
       " Data(x=[7, 20], edge_index=[2, 12], edge_attr=[12, 19]),\n",
       " Data(x=[21, 20], edge_index=[2, 44], edge_attr=[44, 19]),\n",
       " Data(x=[13, 20], edge_index=[2, 26], edge_attr=[26, 19]),\n",
       " Data(x=[23, 20], edge_index=[2, 46], edge_attr=[46, 19]),\n",
       " Data(x=[12, 20], edge_index=[2, 22], edge_attr=[22, 19]),\n",
       " Data(x=[13, 20], edge_index=[2, 24], edge_attr=[24, 19]),\n",
       " Data(x=[29, 20], edge_index=[2, 64], edge_attr=[64, 19]),\n",
       " Data(x=[25, 20], edge_index=[2, 54], edge_attr=[54, 19]),\n",
       " Data(x=[17, 20], edge_index=[2, 34], edge_attr=[34, 19]),\n",
       " Data(x=[20, 20], edge_index=[2, 46], edge_attr=[46, 19]),\n",
       " Data(x=[24, 20], edge_index=[2, 50], edge_attr=[50, 19]),\n",
       " Data(x=[30, 20], edge_index=[2, 66], edge_attr=[66, 19]),\n",
       " Data(x=[46, 20], edge_index=[2, 96], edge_attr=[96, 19]),\n",
       " Data(x=[14, 20], edge_index=[2, 30], edge_attr=[30, 19]),\n",
       " Data(x=[27, 20], edge_index=[2, 52], edge_attr=[52, 19]),\n",
       " Data(x=[6, 20], edge_index=[2, 12], edge_attr=[12, 19]),\n",
       " Data(x=[14, 20], edge_index=[2, 26], edge_attr=[26, 19]),\n",
       " Data(x=[15, 20], edge_index=[2, 28], edge_attr=[28, 19]),\n",
       " Data(x=[11, 20], edge_index=[2, 20], edge_attr=[20, 19]),\n",
       " Data(x=[19, 20], edge_index=[2, 40], edge_attr=[40, 19]),\n",
       " Data(x=[14, 20], edge_index=[2, 28], edge_attr=[28, 19]),\n",
       " Data(x=[20, 20], edge_index=[2, 46], edge_attr=[46, 19]),\n",
       " Data(x=[6, 20], edge_index=[2, 10], edge_attr=[10, 19]),\n",
       " Data(x=[32, 20], edge_index=[2, 62], edge_attr=[62, 19]),\n",
       " Data(x=[22, 20], edge_index=[2, 44], edge_attr=[44, 19]),\n",
       " Data(x=[14, 20], edge_index=[2, 24], edge_attr=[24, 19]),\n",
       " Data(x=[22, 20], edge_index=[2, 50], edge_attr=[50, 19]),\n",
       " Data(x=[25, 20], edge_index=[2, 56], edge_attr=[56, 19]),\n",
       " Data(x=[21, 20], edge_index=[2, 44], edge_attr=[44, 19]),\n",
       " Data(x=[17, 20], edge_index=[2, 34], edge_attr=[34, 19]),\n",
       " Data(x=[10, 20], edge_index=[2, 20], edge_attr=[20, 19]),\n",
       " Data(x=[28, 20], edge_index=[2, 58], edge_attr=[58, 19]),\n",
       " Data(x=[26, 20], edge_index=[2, 56], edge_attr=[56, 19]),\n",
       " Data(x=[13, 20], edge_index=[2, 24], edge_attr=[24, 19]),\n",
       " Data(x=[21, 20], edge_index=[2, 46], edge_attr=[46, 19]),\n",
       " Data(x=[62, 20], edge_index=[2, 136], edge_attr=[136, 19]),\n",
       " Data(x=[17, 20], edge_index=[2, 36], edge_attr=[36, 19]),\n",
       " Data(x=[15, 20], edge_index=[2, 28], edge_attr=[28, 19]),\n",
       " Data(x=[22, 20], edge_index=[2, 44], edge_attr=[44, 19]),\n",
       " Data(x=[16, 20], edge_index=[2, 32], edge_attr=[32, 19]),\n",
       " Data(x=[11, 20], edge_index=[2, 22], edge_attr=[22, 19]),\n",
       " Data(x=[12, 20], edge_index=[2, 22], edge_attr=[22, 19]),\n",
       " Data(x=[21, 20], edge_index=[2, 42], edge_attr=[42, 19]),\n",
       " Data(x=[21, 20], edge_index=[2, 44], edge_attr=[44, 19]),\n",
       " Data(x=[63, 20], edge_index=[2, 126], edge_attr=[126, 19]),\n",
       " Data(x=[24, 20], edge_index=[2, 54], edge_attr=[54, 19]),\n",
       " Data(x=[6, 20], edge_index=[2, 8], edge_attr=[8, 19]),\n",
       " Data(x=[17, 20], edge_index=[2, 36], edge_attr=[36, 19]),\n",
       " Data(x=[11, 20], edge_index=[2, 20], edge_attr=[20, 19]),\n",
       " Data(x=[23, 20], edge_index=[2, 42], edge_attr=[42, 19]),\n",
       " Data(x=[68, 20], edge_index=[2, 142], edge_attr=[142, 19]),\n",
       " Data(x=[10, 20], edge_index=[2, 20], edge_attr=[20, 19]),\n",
       " Data(x=[9, 20], edge_index=[2, 18], edge_attr=[18, 19]),\n",
       " Data(x=[39, 20], edge_index=[2, 76], edge_attr=[76, 19]),\n",
       " Data(x=[11, 20], edge_index=[2, 24], edge_attr=[24, 19]),\n",
       " Data(x=[21, 20], edge_index=[2, 44], edge_attr=[44, 19]),\n",
       " Data(x=[23, 20], edge_index=[2, 52], edge_attr=[52, 19]),\n",
       " Data(x=[8, 20], edge_index=[2, 14], edge_attr=[14, 19]),\n",
       " Data(x=[10, 20], edge_index=[2, 20], edge_attr=[20, 19]),\n",
       " Data(x=[48, 20], edge_index=[2, 94], edge_attr=[94, 19]),\n",
       " Data(x=[29, 20], edge_index=[2, 62], edge_attr=[62, 19]),\n",
       " Data(x=[12, 20], edge_index=[2, 24], edge_attr=[24, 19]),\n",
       " Data(x=[12, 20], edge_index=[2, 22], edge_attr=[22, 19]),\n",
       " Data(x=[21, 20], edge_index=[2, 46], edge_attr=[46, 19]),\n",
       " Data(x=[15, 20], edge_index=[2, 32], edge_attr=[32, 19]),\n",
       " Data(x=[4, 20], edge_index=[2, 6], edge_attr=[6, 19]),\n",
       " Data(x=[12, 20], edge_index=[2, 24], edge_attr=[24, 19]),\n",
       " Data(x=[12, 20], edge_index=[2, 24], edge_attr=[24, 19]),\n",
       " Data(x=[8, 20], edge_index=[2, 16], edge_attr=[16, 19]),\n",
       " Data(x=[20, 20], edge_index=[2, 40], edge_attr=[40, 19]),\n",
       " Data(x=[11, 20], edge_index=[2, 22], edge_attr=[22, 19]),\n",
       " Data(x=[17, 20], edge_index=[2, 34], edge_attr=[34, 19]),\n",
       " Data(x=[26, 20], edge_index=[2, 56], edge_attr=[56, 19]),\n",
       " Data(x=[29, 20], edge_index=[2, 60], edge_attr=[60, 19]),\n",
       " Data(x=[10, 20], edge_index=[2, 18], edge_attr=[18, 19]),\n",
       " Data(x=[18, 20], edge_index=[2, 38], edge_attr=[38, 19]),\n",
       " Data(x=[8, 20], edge_index=[2, 12], edge_attr=[12, 19]),\n",
       " Data(x=[31, 20], edge_index=[2, 70], edge_attr=[70, 19]),\n",
       " Data(x=[8, 20], edge_index=[2, 14], edge_attr=[14, 19]),\n",
       " Data(x=[15, 20], edge_index=[2, 32], edge_attr=[32, 19]),\n",
       " Data(x=[33, 20], edge_index=[2, 70], edge_attr=[70, 19]),\n",
       " Data(x=[6, 20], edge_index=[2, 10], edge_attr=[10, 19]),\n",
       " Data(x=[11, 20], edge_index=[2, 22], edge_attr=[22, 19]),\n",
       " Data(x=[13, 20], edge_index=[2, 24], edge_attr=[24, 19]),\n",
       " Data(x=[9, 20], edge_index=[2, 16], edge_attr=[16, 19]),\n",
       " Data(x=[27, 20], edge_index=[2, 56], edge_attr=[56, 19]),\n",
       " Data(x=[7, 20], edge_index=[2, 12], edge_attr=[12, 19]),\n",
       " Data(x=[28, 20], edge_index=[2, 60], edge_attr=[60, 19]),\n",
       " Data(x=[12, 20], edge_index=[2, 24], edge_attr=[24, 19]),\n",
       " Data(x=[28, 20], edge_index=[2, 54], edge_attr=[54, 19]),\n",
       " Data(x=[9, 20], edge_index=[2, 18], edge_attr=[18, 19]),\n",
       " Data(x=[12, 20], edge_index=[2, 20], edge_attr=[20, 19]),\n",
       " Data(x=[11, 20], edge_index=[2, 24], edge_attr=[24, 19]),\n",
       " Data(x=[8, 20], edge_index=[2, 16], edge_attr=[16, 19]),\n",
       " Data(x=[14, 20], edge_index=[2, 26], edge_attr=[26, 19]),\n",
       " Data(x=[21, 20], edge_index=[2, 46], edge_attr=[46, 19]),\n",
       " Data(x=[14, 20], edge_index=[2, 28], edge_attr=[28, 19]),\n",
       " Data(x=[15, 20], edge_index=[2, 32], edge_attr=[32, 19]),\n",
       " Data(x=[24, 20], edge_index=[2, 52], edge_attr=[52, 19]),\n",
       " Data(x=[7, 20], edge_index=[2, 12], edge_attr=[12, 19]),\n",
       " Data(x=[23, 20], edge_index=[2, 50], edge_attr=[50, 19]),\n",
       " Data(x=[10, 20], edge_index=[2, 18], edge_attr=[18, 19]),\n",
       " Data(x=[12, 20], edge_index=[2, 24], edge_attr=[24, 19]),\n",
       " Data(x=[10, 20], edge_index=[2, 22], edge_attr=[22, 19]),\n",
       " Data(x=[17, 20], edge_index=[2, 32], edge_attr=[32, 19]),\n",
       " Data(x=[29, 20], edge_index=[2, 62], edge_attr=[62, 19]),\n",
       " Data(x=[10, 20], edge_index=[2, 18], edge_attr=[18, 19]),\n",
       " Data(x=[14, 20], edge_index=[2, 26], edge_attr=[26, 19]),\n",
       " Data(x=[9, 20], edge_index=[2, 18], edge_attr=[18, 19]),\n",
       " Data(x=[13, 20], edge_index=[2, 26], edge_attr=[26, 19]),\n",
       " Data(x=[30, 20], edge_index=[2, 64], edge_attr=[64, 19]),\n",
       " Data(x=[14, 20], edge_index=[2, 28], edge_attr=[28, 19]),\n",
       " Data(x=[23, 20], edge_index=[2, 52], edge_attr=[52, 19]),\n",
       " Data(x=[24, 20], edge_index=[2, 50], edge_attr=[50, 19]),\n",
       " Data(x=[13, 20], edge_index=[2, 26], edge_attr=[26, 19]),\n",
       " Data(x=[38, 20], edge_index=[2, 76], edge_attr=[76, 19]),\n",
       " Data(x=[20, 20], edge_index=[2, 40], edge_attr=[40, 19]),\n",
       " Data(x=[11, 20], edge_index=[2, 22], edge_attr=[22, 19]),\n",
       " Data(x=[16, 20], edge_index=[2, 34], edge_attr=[34, 19]),\n",
       " Data(x=[28, 20], edge_index=[2, 58], edge_attr=[58, 19]),\n",
       " Data(x=[25, 20], edge_index=[2, 48], edge_attr=[48, 19]),\n",
       " Data(x=[42, 20], edge_index=[2, 92], edge_attr=[92, 19]),\n",
       " Data(x=[22, 20], edge_index=[2, 40], edge_attr=[40, 19]),\n",
       " Data(x=[15, 20], edge_index=[2, 30], edge_attr=[30, 19]),\n",
       " Data(x=[10, 20], edge_index=[2, 20], edge_attr=[20, 19]),\n",
       " Data(x=[19, 20], edge_index=[2, 42], edge_attr=[42, 19]),\n",
       " Data(x=[48, 20], edge_index=[2, 102], edge_attr=[102, 19]),\n",
       " Data(x=[11, 20], edge_index=[2, 22], edge_attr=[22, 19]),\n",
       " Data(x=[9, 20], edge_index=[2, 18], edge_attr=[18, 19]),\n",
       " Data(x=[10, 20], edge_index=[2, 24], edge_attr=[24, 19]),\n",
       " Data(x=[22, 20], edge_index=[2, 50], edge_attr=[50, 19]),\n",
       " Data(x=[13, 20], edge_index=[2, 26], edge_attr=[26, 19]),\n",
       " Data(x=[12, 20], edge_index=[2, 22], edge_attr=[22, 19]),\n",
       " Data(x=[13, 20], edge_index=[2, 28], edge_attr=[28, 19]),\n",
       " Data(x=[26, 20], edge_index=[2, 58], edge_attr=[58, 19]),\n",
       " Data(x=[10, 20], edge_index=[2, 18], edge_attr=[18, 19]),\n",
       " Data(x=[17, 20], edge_index=[2, 38], edge_attr=[38, 19]),\n",
       " Data(x=[10, 20], edge_index=[2, 18], edge_attr=[18, 19]),\n",
       " Data(x=[7, 20], edge_index=[2, 12], edge_attr=[12, 19]),\n",
       " Data(x=[9, 20], edge_index=[2, 16], edge_attr=[16, 19]),\n",
       " Data(x=[33, 20], edge_index=[2, 60], edge_attr=[60, 19]),\n",
       " Data(x=[31, 20], edge_index=[2, 64], edge_attr=[64, 19]),\n",
       " Data(x=[35, 20], edge_index=[2, 78], edge_attr=[78, 19]),\n",
       " Data(x=[3, 20], edge_index=[2, 4], edge_attr=[4, 19]),\n",
       " Data(x=[22, 20], edge_index=[2, 50], edge_attr=[50, 19]),\n",
       " Data(x=[17, 20], edge_index=[2, 36], edge_attr=[36, 19]),\n",
       " Data(x=[8, 20], edge_index=[2, 16], edge_attr=[16, 19]),\n",
       " Data(x=[12, 20], edge_index=[2, 22], edge_attr=[22, 19]),\n",
       " Data(x=[11, 20], edge_index=[2, 20], edge_attr=[20, 19]),\n",
       " Data(x=[12, 20], edge_index=[2, 24], edge_attr=[24, 19]),\n",
       " Data(x=[10, 20], edge_index=[2, 20], edge_attr=[20, 19]),\n",
       " Data(x=[9, 20], edge_index=[2, 16], edge_attr=[16, 19]),\n",
       " Data(x=[9, 20], edge_index=[2, 18], edge_attr=[18, 19]),\n",
       " Data(x=[5, 20], edge_index=[2, 8], edge_attr=[8, 19]),\n",
       " Data(x=[18, 20], edge_index=[2, 34], edge_attr=[34, 19]),\n",
       " Data(x=[12, 20], edge_index=[2, 26], edge_attr=[26, 19]),\n",
       " Data(x=[23, 20], edge_index=[2, 48], edge_attr=[48, 19]),\n",
       " Data(x=[11, 20], edge_index=[2, 20], edge_attr=[20, 19]),\n",
       " Data(x=[32, 20], edge_index=[2, 66], edge_attr=[66, 19]),\n",
       " Data(x=[14, 20], edge_index=[2, 26], edge_attr=[26, 19]),\n",
       " Data(x=[10, 20], edge_index=[2, 18], edge_attr=[18, 19]),\n",
       " Data(x=[12, 20], edge_index=[2, 24], edge_attr=[24, 19]),\n",
       " Data(x=[8, 20], edge_index=[2, 14], edge_attr=[14, 19]),\n",
       " Data(x=[33, 20], edge_index=[2, 60], edge_attr=[60, 19]),\n",
       " Data(x=[13, 20], edge_index=[2, 24], edge_attr=[24, 19]),\n",
       " Data(x=[17, 20], edge_index=[2, 32], edge_attr=[32, 19]),\n",
       " Data(x=[4, 20], edge_index=[2, 6], edge_attr=[6, 19]),\n",
       " Data(x=[32, 20], edge_index=[2, 62], edge_attr=[62, 19]),\n",
       " Data(x=[6, 20], edge_index=[2, 10], edge_attr=[10, 19]),\n",
       " Data(x=[34, 20], edge_index=[2, 74], edge_attr=[74, 19]),\n",
       " Data(x=[14, 20], edge_index=[2, 28], edge_attr=[28, 19]),\n",
       " Data(x=[19, 20], edge_index=[2, 38], edge_attr=[38, 19]),\n",
       " Data(x=[23, 20], edge_index=[2, 50], edge_attr=[50, 19]),\n",
       " Data(x=[14, 20], edge_index=[2, 30], edge_attr=[30, 19]),\n",
       " Data(x=[24, 20], edge_index=[2, 50], edge_attr=[50, 19]),\n",
       " Data(x=[5, 20], edge_index=[2, 8], edge_attr=[8, 19]),\n",
       " Data(x=[13, 20], edge_index=[2, 26], edge_attr=[26, 19]),\n",
       " Data(x=[45, 20], edge_index=[2, 96], edge_attr=[96, 19]),\n",
       " Data(x=[7, 20], edge_index=[2, 12], edge_attr=[12, 19]),\n",
       " Data(x=[20, 20], edge_index=[2, 42], edge_attr=[42, 19]),\n",
       " Data(x=[23, 20], edge_index=[2, 50], edge_attr=[50, 19]),\n",
       " Data(x=[20, 20], edge_index=[2, 42], edge_attr=[42, 19]),\n",
       " Data(x=[13, 20], edge_index=[2, 28], edge_attr=[28, 19]),\n",
       " Data(x=[12, 20], edge_index=[2, 22], edge_attr=[22, 19]),\n",
       " Data(x=[14, 20], edge_index=[2, 30], edge_attr=[30, 19]),\n",
       " Data(x=[9, 20], edge_index=[2, 18], edge_attr=[18, 19]),\n",
       " Data(x=[23, 20], edge_index=[2, 48], edge_attr=[48, 19]),\n",
       " Data(x=[9, 20], edge_index=[2, 16], edge_attr=[16, 19]),\n",
       " Data(x=[15, 20], edge_index=[2, 32], edge_attr=[32, 19]),\n",
       " Data(x=[29, 20], edge_index=[2, 58], edge_attr=[58, 19]),\n",
       " Data(x=[10, 20], edge_index=[2, 18], edge_attr=[18, 19]),\n",
       " Data(x=[20, 20], edge_index=[2, 42], edge_attr=[42, 19]),\n",
       " Data(x=[12, 20], edge_index=[2, 24], edge_attr=[24, 19]),\n",
       " Data(x=[28, 20], edge_index=[2, 58], edge_attr=[58, 19]),\n",
       " Data(x=[27, 20], edge_index=[2, 58], edge_attr=[58, 19]),\n",
       " Data(x=[25, 20], edge_index=[2, 52], edge_attr=[52, 19]),\n",
       " Data(x=[11, 20], edge_index=[2, 20], edge_attr=[20, 19]),\n",
       " Data(x=[28, 20], edge_index=[2, 56], edge_attr=[56, 19]),\n",
       " Data(x=[11, 20], edge_index=[2, 22], edge_attr=[22, 19]),\n",
       " Data(x=[11, 20], edge_index=[2, 16], edge_attr=[16, 19]),\n",
       " Data(x=[14, 20], edge_index=[2, 32], edge_attr=[32, 19]),\n",
       " Data(x=[22, 20], edge_index=[2, 44], edge_attr=[44, 19]),\n",
       " Data(x=[16, 20], edge_index=[2, 32], edge_attr=[32, 19]),\n",
       " Data(x=[24, 20], edge_index=[2, 48], edge_attr=[48, 19]),\n",
       " Data(x=[7, 20], edge_index=[2, 12], edge_attr=[12, 19]),\n",
       " Data(x=[7, 20], edge_index=[2, 14], edge_attr=[14, 19]),\n",
       " Data(x=[13, 20], edge_index=[2, 26], edge_attr=[26, 19]),\n",
       " Data(x=[32, 20], edge_index=[2, 68], edge_attr=[68, 19]),\n",
       " Data(x=[10, 20], edge_index=[2, 20], edge_attr=[20, 19]),\n",
       " Data(x=[11, 20], edge_index=[2, 24], edge_attr=[24, 19]),\n",
       " Data(x=[13, 20], edge_index=[2, 24], edge_attr=[24, 19]),\n",
       " Data(x=[15, 20], edge_index=[2, 30], edge_attr=[30, 19]),\n",
       " Data(x=[8, 20], edge_index=[2, 14], edge_attr=[14, 19]),\n",
       " Data(x=[9, 20], edge_index=[2, 16], edge_attr=[16, 19]),\n",
       " Data(x=[30, 20], edge_index=[2, 58], edge_attr=[58, 19]),\n",
       " Data(x=[10, 20], edge_index=[2, 20], edge_attr=[20, 19]),\n",
       " Data(x=[15, 20], edge_index=[2, 30], edge_attr=[30, 19]),\n",
       " Data(x=[8, 20], edge_index=[2, 16], edge_attr=[16, 19]),\n",
       " Data(x=[25, 20], edge_index=[2, 56], edge_attr=[56, 19]),\n",
       " Data(x=[34, 20], edge_index=[2, 74], edge_attr=[74, 19]),\n",
       " Data(x=[11, 20], edge_index=[2, 22], edge_attr=[22, 19]),\n",
       " Data(x=[59, 20], edge_index=[2, 126], edge_attr=[126, 19]),\n",
       " Data(x=[11, 20], edge_index=[2, 22], edge_attr=[22, 19]),\n",
       " Data(x=[10, 20], edge_index=[2, 20], edge_attr=[20, 19]),\n",
       " Data(x=[7, 20], edge_index=[2, 12], edge_attr=[12, 19]),\n",
       " Data(x=[23, 20], edge_index=[2, 48], edge_attr=[48, 19]),\n",
       " Data(x=[14, 20], edge_index=[2, 26], edge_attr=[26, 19]),\n",
       " Data(x=[55, 20], edge_index=[2, 124], edge_attr=[124, 19]),\n",
       " Data(x=[14, 20], edge_index=[2, 30], edge_attr=[30, 19]),\n",
       " Data(x=[11, 20], edge_index=[2, 22], edge_attr=[22, 19]),\n",
       " Data(x=[4, 20], edge_index=[2, 6], edge_attr=[6, 19]),\n",
       " Data(x=[17, 20], edge_index=[2, 36], edge_attr=[36, 19]),\n",
       " Data(x=[18, 20], edge_index=[2, 40], edge_attr=[40, 19]),\n",
       " Data(x=[19, 20], edge_index=[2, 36], edge_attr=[36, 19]),\n",
       " Data(x=[67, 20], edge_index=[2, 148], edge_attr=[148, 19]),\n",
       " Data(x=[10, 20], edge_index=[2, 20], edge_attr=[20, 19]),\n",
       " Data(x=[19, 20], edge_index=[2, 36], edge_attr=[36, 19]),\n",
       " Data(x=[16, 20], edge_index=[2, 28], edge_attr=[28, 19]),\n",
       " Data(x=[61, 20], edge_index=[2, 132], edge_attr=[132, 19]),\n",
       " Data(x=[30, 20], edge_index=[2, 60], edge_attr=[60, 19]),\n",
       " Data(x=[21, 20], edge_index=[2, 46], edge_attr=[46, 19]),\n",
       " Data(x=[9, 20], edge_index=[2, 20], edge_attr=[20, 19]),\n",
       " Data(x=[9, 20], edge_index=[2, 16], edge_attr=[16, 19]),\n",
       " Data(x=[9, 20], edge_index=[2, 16], edge_attr=[16, 19]),\n",
       " Data(x=[18, 20], edge_index=[2, 36], edge_attr=[36, 19]),\n",
       " Data(x=[29, 20], edge_index=[2, 64], edge_attr=[64, 19]),\n",
       " Data(x=[18, 20], edge_index=[2, 34], edge_attr=[34, 19]),\n",
       " Data(x=[13, 20], edge_index=[2, 24], edge_attr=[24, 19]),\n",
       " Data(x=[29, 20], edge_index=[2, 62], edge_attr=[62, 19]),\n",
       " Data(x=[13, 20], edge_index=[2, 24], edge_attr=[24, 19]),\n",
       " Data(x=[18, 20], edge_index=[2, 34], edge_attr=[34, 19]),\n",
       " Data(x=[28, 20], edge_index=[2, 56], edge_attr=[56, 19]),\n",
       " Data(x=[28, 20], edge_index=[2, 54], edge_attr=[54, 19]),\n",
       " Data(x=[18, 20], edge_index=[2, 34], edge_attr=[34, 19]),\n",
       " Data(x=[23, 20], edge_index=[2, 50], edge_attr=[50, 19]),\n",
       " Data(x=[4, 20], edge_index=[2, 6], edge_attr=[6, 19]),\n",
       " Data(x=[13, 20], edge_index=[2, 24], edge_attr=[24, 19]),\n",
       " Data(x=[11, 20], edge_index=[2, 20], edge_attr=[20, 19]),\n",
       " Data(x=[42, 20], edge_index=[2, 92], edge_attr=[92, 19]),\n",
       " Data(x=[13, 20], edge_index=[2, 26], edge_attr=[26, 19]),\n",
       " Data(x=[9, 20], edge_index=[2, 18], edge_attr=[18, 19]),\n",
       " Data(x=[14, 20], edge_index=[2, 30], edge_attr=[30, 19]),\n",
       " Data(x=[19, 20], edge_index=[2, 38], edge_attr=[38, 19]),\n",
       " Data(x=[10, 20], edge_index=[2, 20], edge_attr=[20, 19]),\n",
       " Data(x=[29, 20], edge_index=[2, 62], edge_attr=[62, 19]),\n",
       " Data(x=[16, 20], edge_index=[2, 34], edge_attr=[34, 19]),\n",
       " Data(x=[26, 20], edge_index=[2, 52], edge_attr=[52, 19]),\n",
       " Data(x=[11, 20], edge_index=[2, 18], edge_attr=[18, 19]),\n",
       " Data(x=[10, 20], edge_index=[2, 20], edge_attr=[20, 19]),\n",
       " Data(x=[42, 20], edge_index=[2, 84], edge_attr=[84, 19]),\n",
       " Data(x=[22, 20], edge_index=[2, 50], edge_attr=[50, 19]),\n",
       " Data(x=[13, 20], edge_index=[2, 26], edge_attr=[26, 19]),\n",
       " Data(x=[41, 20], edge_index=[2, 92], edge_attr=[92, 19]),\n",
       " Data(x=[24, 20], edge_index=[2, 50], edge_attr=[50, 19]),\n",
       " Data(x=[8, 20], edge_index=[2, 14], edge_attr=[14, 19]),\n",
       " Data(x=[10, 20], edge_index=[2, 22], edge_attr=[22, 19]),\n",
       " Data(x=[9, 20], edge_index=[2, 16], edge_attr=[16, 19]),\n",
       " Data(x=[14, 20], edge_index=[2, 28], edge_attr=[28, 19]),\n",
       " Data(x=[13, 20], edge_index=[2, 26], edge_attr=[26, 19]),\n",
       " Data(x=[17, 20], edge_index=[2, 32], edge_attr=[32, 19]),\n",
       " Data(x=[26, 20], edge_index=[2, 56], edge_attr=[56, 19]),\n",
       " Data(x=[21, 20], edge_index=[2, 46], edge_attr=[46, 19]),\n",
       " Data(x=[13, 20], edge_index=[2, 30], edge_attr=[30, 19]),\n",
       " Data(x=[34, 20], edge_index=[2, 66], edge_attr=[66, 19]),\n",
       " Data(x=[9, 20], edge_index=[2, 18], edge_attr=[18, 19]),\n",
       " Data(x=[15, 20], edge_index=[2, 32], edge_attr=[32, 19]),\n",
       " Data(x=[12, 20], edge_index=[2, 12], edge_attr=[12, 19]),\n",
       " Data(x=[5, 20], edge_index=[2, 8], edge_attr=[8, 19]),\n",
       " Data(x=[11, 20], edge_index=[2, 22], edge_attr=[22, 19]),\n",
       " Data(x=[25, 20], edge_index=[2, 50], edge_attr=[50, 19]),\n",
       " Data(x=[13, 20], edge_index=[2, 26], edge_attr=[26, 19]),\n",
       " Data(x=[11, 20], edge_index=[2, 20], edge_attr=[20, 19]),\n",
       " Data(x=[35, 20], edge_index=[2, 70], edge_attr=[70, 19]),\n",
       " Data(x=[12, 20], edge_index=[2, 24], edge_attr=[24, 19]),\n",
       " Data(x=[25, 20], edge_index=[2, 48], edge_attr=[48, 19]),\n",
       " Data(x=[8, 20], edge_index=[2, 16], edge_attr=[16, 19]),\n",
       " Data(x=[12, 20], edge_index=[2, 24], edge_attr=[24, 19]),\n",
       " Data(x=[24, 20], edge_index=[2, 52], edge_attr=[52, 19]),\n",
       " Data(x=[17, 20], edge_index=[2, 32], edge_attr=[32, 19]),\n",
       " Data(x=[29, 20], edge_index=[2, 60], edge_attr=[60, 19]),\n",
       " Data(x=[18, 20], edge_index=[2, 40], edge_attr=[40, 19]),\n",
       " Data(x=[9, 20], edge_index=[2, 18], edge_attr=[18, 19]),\n",
       " Data(x=[19, 20], edge_index=[2, 36], edge_attr=[36, 19]),\n",
       " Data(x=[17, 20], edge_index=[2, 32], edge_attr=[32, 19]),\n",
       " Data(x=[44, 20], edge_index=[2, 98], edge_attr=[98, 19]),\n",
       " Data(x=[12, 20], edge_index=[2, 24], edge_attr=[24, 19]),\n",
       " Data(x=[11, 20], edge_index=[2, 22], edge_attr=[22, 19]),\n",
       " Data(x=[24, 20], edge_index=[2, 50], edge_attr=[50, 19]),\n",
       " Data(x=[15, 20], edge_index=[2, 30], edge_attr=[30, 19]),\n",
       " Data(x=[8, 20], edge_index=[2, 14], edge_attr=[14, 19]),\n",
       " Data(x=[8, 20], edge_index=[2, 14], edge_attr=[14, 19]),\n",
       " Data(x=[11, 20], edge_index=[2, 24], edge_attr=[24, 19]),\n",
       " Data(x=[16, 20], edge_index=[2, 32], edge_attr=[32, 19]),\n",
       " Data(x=[23, 20], edge_index=[2, 46], edge_attr=[46, 19]),\n",
       " Data(x=[11, 20], edge_index=[2, 20], edge_attr=[20, 19]),\n",
       " Data(x=[10, 20], edge_index=[2, 18], edge_attr=[18, 19]),\n",
       " Data(x=[9, 20], edge_index=[2, 16], edge_attr=[16, 19]),\n",
       " Data(x=[15, 20], edge_index=[2, 30], edge_attr=[30, 19]),\n",
       " Data(x=[13, 20], edge_index=[2, 26], edge_attr=[26, 19]),\n",
       " Data(x=[10, 20], edge_index=[2, 22], edge_attr=[22, 19]),\n",
       " Data(x=[20, 20], edge_index=[2, 40], edge_attr=[40, 19]),\n",
       " Data(x=[14, 20], edge_index=[2, 28], edge_attr=[28, 19]),\n",
       " Data(x=[20, 20], edge_index=[2, 46], edge_attr=[46, 19]),\n",
       " Data(x=[23, 20], edge_index=[2, 48], edge_attr=[48, 19]),\n",
       " Data(x=[10, 20], edge_index=[2, 20], edge_attr=[20, 19]),\n",
       " Data(x=[24, 20], edge_index=[2, 48], edge_attr=[48, 19]),\n",
       " Data(x=[17, 20], edge_index=[2, 36], edge_attr=[36, 19]),\n",
       " Data(x=[12, 20], edge_index=[2, 22], edge_attr=[22, 19]),\n",
       " Data(x=[15, 20], edge_index=[2, 28], edge_attr=[28, 19]),\n",
       " Data(x=[19, 20], edge_index=[2, 40], edge_attr=[40, 19]),\n",
       " Data(x=[11, 20], edge_index=[2, 22], edge_attr=[22, 19]),\n",
       " Data(x=[11, 20], edge_index=[2, 22], edge_attr=[22, 19]),\n",
       " Data(x=[26, 20], edge_index=[2, 50], edge_attr=[50, 19]),\n",
       " Data(x=[10, 20], edge_index=[2, 22], edge_attr=[22, 19]),\n",
       " Data(x=[22, 20], edge_index=[2, 44], edge_attr=[44, 19]),\n",
       " Data(x=[13, 20], edge_index=[2, 24], edge_attr=[24, 19]),\n",
       " Data(x=[29, 20], edge_index=[2, 56], edge_attr=[56, 19]),\n",
       " Data(x=[25, 20], edge_index=[2, 54], edge_attr=[54, 19]),\n",
       " Data(x=[23, 20], edge_index=[2, 48], edge_attr=[48, 19]),\n",
       " Data(x=[18, 20], edge_index=[2, 38], edge_attr=[38, 19]),\n",
       " Data(x=[17, 20], edge_index=[2, 32], edge_attr=[32, 19]),\n",
       " Data(x=[9, 20], edge_index=[2, 14], edge_attr=[14, 19]),\n",
       " Data(x=[5, 20], edge_index=[2, 8], edge_attr=[8, 19]),\n",
       " Data(x=[19, 20], edge_index=[2, 40], edge_attr=[40, 19]),\n",
       " Data(x=[26, 20], edge_index=[2, 56], edge_attr=[56, 19]),\n",
       " Data(x=[12, 20], edge_index=[2, 26], edge_attr=[26, 19]),\n",
       " Data(x=[17, 20], edge_index=[2, 36], edge_attr=[36, 19]),\n",
       " Data(x=[9, 20], edge_index=[2, 18], edge_attr=[18, 19]),\n",
       " Data(x=[11, 20], edge_index=[2, 20], edge_attr=[20, 19]),\n",
       " Data(x=[13, 20], edge_index=[2, 26], edge_attr=[26, 19]),\n",
       " Data(x=[7, 20], edge_index=[2, 12], edge_attr=[12, 19]),\n",
       " Data(x=[14, 20], edge_index=[2, 28], edge_attr=[28, 19]),\n",
       " Data(x=[13, 20], edge_index=[2, 28], edge_attr=[28, 19]),\n",
       " Data(x=[13, 20], edge_index=[2, 26], edge_attr=[26, 19]),\n",
       " Data(x=[22, 20], edge_index=[2, 46], edge_attr=[46, 19]),\n",
       " Data(x=[22, 20], edge_index=[2, 48], edge_attr=[48, 19]),\n",
       " Data(x=[14, 20], edge_index=[2, 26], edge_attr=[26, 19]),\n",
       " Data(x=[12, 20], edge_index=[2, 24], edge_attr=[24, 19]),\n",
       " Data(x=[6, 20], edge_index=[2, 10], edge_attr=[10, 19]),\n",
       " Data(x=[31, 20], edge_index=[2, 62], edge_attr=[62, 19]),\n",
       " Data(x=[7, 20], edge_index=[2, 12], edge_attr=[12, 19]),\n",
       " Data(x=[42, 20], edge_index=[2, 90], edge_attr=[90, 19]),\n",
       " Data(x=[15, 20], edge_index=[2, 28], edge_attr=[28, 19]),\n",
       " Data(x=[20, 20], edge_index=[2, 38], edge_attr=[38, 19]),\n",
       " Data(x=[6, 20], edge_index=[2, 8], edge_attr=[8, 19]),\n",
       " Data(x=[8, 20], edge_index=[2, 14], edge_attr=[14, 19]),\n",
       " Data(x=[24, 20], edge_index=[2, 48], edge_attr=[48, 19]),\n",
       " Data(x=[29, 20], edge_index=[2, 60], edge_attr=[60, 19]),\n",
       " Data(x=[14, 20], edge_index=[2, 28], edge_attr=[28, 19]),\n",
       " Data(x=[8, 20], edge_index=[2, 14], edge_attr=[14, 19]),\n",
       " Data(x=[13, 20], edge_index=[2, 26], edge_attr=[26, 19]),\n",
       " Data(x=[34, 20], edge_index=[2, 68], edge_attr=[68, 19]),\n",
       " Data(x=[23, 20], edge_index=[2, 50], edge_attr=[50, 19]),\n",
       " Data(x=[15, 20], edge_index=[2, 32], edge_attr=[32, 19]),\n",
       " Data(x=[35, 20], edge_index=[2, 72], edge_attr=[72, 19]),\n",
       " Data(x=[10, 20], edge_index=[2, 20], edge_attr=[20, 19]),\n",
       " Data(x=[19, 20], edge_index=[2, 36], edge_attr=[36, 19]),\n",
       " Data(x=[14, 20], edge_index=[2, 28], edge_attr=[28, 19]),\n",
       " Data(x=[17, 20], edge_index=[2, 36], edge_attr=[36, 19]),\n",
       " Data(x=[42, 20], edge_index=[2, 86], edge_attr=[86, 19]),\n",
       " Data(x=[12, 20], edge_index=[2, 22], edge_attr=[22, 19]),\n",
       " Data(x=[18, 20], edge_index=[2, 36], edge_attr=[36, 19]),\n",
       " Data(x=[23, 20], edge_index=[2, 50], edge_attr=[50, 19]),\n",
       " Data(x=[22, 20], edge_index=[2, 46], edge_attr=[46, 19]),\n",
       " Data(x=[16, 20], edge_index=[2, 32], edge_attr=[32, 19]),\n",
       " Data(x=[9, 20], edge_index=[2, 16], edge_attr=[16, 19]),\n",
       " Data(x=[10, 20], edge_index=[2, 20], edge_attr=[20, 19]),\n",
       " Data(x=[29, 20], edge_index=[2, 56], edge_attr=[56, 19]),\n",
       " Data(x=[15, 20], edge_index=[2, 32], edge_attr=[32, 19]),\n",
       " Data(x=[16, 20], edge_index=[2, 30], edge_attr=[30, 19]),\n",
       " Data(x=[11, 20], edge_index=[2, 22], edge_attr=[22, 19]),\n",
       " Data(x=[7, 20], edge_index=[2, 12], edge_attr=[12, 19]),\n",
       " Data(x=[24, 20], edge_index=[2, 54], edge_attr=[54, 19]),\n",
       " Data(x=[26, 20], edge_index=[2, 58], edge_attr=[58, 19]),\n",
       " Data(x=[5, 20], edge_index=[2, 8], edge_attr=[8, 19]),\n",
       " Data(x=[27, 20], edge_index=[2, 54], edge_attr=[54, 19]),\n",
       " Data(x=[51, 20], edge_index=[2, 106], edge_attr=[106, 19]),\n",
       " Data(x=[20, 20], edge_index=[2, 46], edge_attr=[46, 19]),\n",
       " Data(x=[14, 20], edge_index=[2, 30], edge_attr=[30, 19]),\n",
       " Data(x=[38, 20], edge_index=[2, 76], edge_attr=[76, 19]),\n",
       " Data(x=[31, 20], edge_index=[2, 68], edge_attr=[68, 19]),\n",
       " Data(x=[31, 20], edge_index=[2, 64], edge_attr=[64, 19]),\n",
       " Data(x=[11, 20], edge_index=[2, 22], edge_attr=[22, 19]),\n",
       " Data(x=[13, 20], edge_index=[2, 24], edge_attr=[24, 19]),\n",
       " Data(x=[23, 20], edge_index=[2, 48], edge_attr=[48, 19]),\n",
       " Data(x=[16, 20], edge_index=[2, 34], edge_attr=[34, 19]),\n",
       " Data(x=[25, 20], edge_index=[2, 48], edge_attr=[48, 19]),\n",
       " Data(x=[16, 20], edge_index=[2, 32], edge_attr=[32, 19]),\n",
       " Data(x=[9, 20], edge_index=[2, 16], edge_attr=[16, 19]),\n",
       " Data(x=[9, 20], edge_index=[2, 16], edge_attr=[16, 19]),\n",
       " Data(x=[102, 20], edge_index=[2, 220], edge_attr=[220, 19]),\n",
       " Data(x=[20, 20], edge_index=[2, 46], edge_attr=[46, 19]),\n",
       " Data(x=[30, 20], edge_index=[2, 58], edge_attr=[58, 19]),\n",
       " Data(x=[45, 20], edge_index=[2, 94], edge_attr=[94, 19]),\n",
       " Data(x=[24, 20], edge_index=[2, 50], edge_attr=[50, 19]),\n",
       " Data(x=[8, 20], edge_index=[2, 16], edge_attr=[16, 19]),\n",
       " Data(x=[31, 20], edge_index=[2, 64], edge_attr=[64, 19]),\n",
       " Data(x=[12, 20], edge_index=[2, 22], edge_attr=[22, 19]),\n",
       " Data(x=[14, 20], edge_index=[2, 28], edge_attr=[28, 19]),\n",
       " Data(x=[16, 20], edge_index=[2, 32], edge_attr=[32, 19]),\n",
       " Data(x=[21, 20], edge_index=[2, 48], edge_attr=[48, 19]),\n",
       " Data(x=[23, 20], edge_index=[2, 48], edge_attr=[48, 19]),\n",
       " Data(x=[16, 20], edge_index=[2, 30], edge_attr=[30, 19]),\n",
       " Data(x=[8, 20], edge_index=[2, 12], edge_attr=[12, 19]),\n",
       " Data(x=[10, 20], edge_index=[2, 20], edge_attr=[20, 19]),\n",
       " Data(x=[13, 20], edge_index=[2, 26], edge_attr=[26, 19]),\n",
       " Data(x=[10, 20], edge_index=[2, 20], edge_attr=[20, 19]),\n",
       " Data(x=[5, 20], edge_index=[2, 8], edge_attr=[8, 19]),\n",
       " Data(x=[13, 20], edge_index=[2, 18], edge_attr=[18, 19]),\n",
       " Data(x=[22, 20], edge_index=[2, 42], edge_attr=[42, 19]),\n",
       " Data(x=[3, 20], edge_index=[2, 4], edge_attr=[4, 19]),\n",
       " Data(x=[42, 20], edge_index=[2, 86], edge_attr=[86, 19]),\n",
       " Data(x=[21, 20], edge_index=[2, 48], edge_attr=[48, 19]),\n",
       " Data(x=[10, 20], edge_index=[2, 20], edge_attr=[20, 19]),\n",
       " Data(x=[30, 20], edge_index=[2, 64], edge_attr=[64, 19]),\n",
       " Data(x=[29, 20], edge_index=[2, 56], edge_attr=[56, 19]),\n",
       " Data(x=[9, 20], edge_index=[2, 16], edge_attr=[16, 19]),\n",
       " Data(x=[17, 20], edge_index=[2, 34], edge_attr=[34, 19]),\n",
       " Data(x=[29, 20], edge_index=[2, 56], edge_attr=[56, 19]),\n",
       " Data(x=[32, 20], edge_index=[2, 68], edge_attr=[68, 19]),\n",
       " Data(x=[15, 20], edge_index=[2, 28], edge_attr=[28, 19]),\n",
       " Data(x=[17, 20], edge_index=[2, 32], edge_attr=[32, 19]),\n",
       " Data(x=[35, 20], edge_index=[2, 74], edge_attr=[74, 19]),\n",
       " Data(x=[29, 20], edge_index=[2, 70], edge_attr=[70, 19]),\n",
       " Data(x=[15, 20], edge_index=[2, 32], edge_attr=[32, 19]),\n",
       " Data(x=[33, 20], edge_index=[2, 70], edge_attr=[70, 19]),\n",
       " Data(x=[25, 20], edge_index=[2, 50], edge_attr=[50, 19]),\n",
       " Data(x=[17, 20], edge_index=[2, 36], edge_attr=[36, 19]),\n",
       " Data(x=[18, 20], edge_index=[2, 38], edge_attr=[38, 19]),\n",
       " Data(x=[21, 20], edge_index=[2, 44], edge_attr=[44, 19]),\n",
       " Data(x=[22, 20], edge_index=[2, 46], edge_attr=[46, 19]),\n",
       " Data(x=[32, 20], edge_index=[2, 64], edge_attr=[64, 19]),\n",
       " Data(x=[15, 20], edge_index=[2, 32], edge_attr=[32, 19]),\n",
       " Data(x=[26, 20], edge_index=[2, 56], edge_attr=[56, 19]),\n",
       " Data(x=[9, 20], edge_index=[2, 16], edge_attr=[16, 19]),\n",
       " Data(x=[10, 20], edge_index=[2, 20], edge_attr=[20, 19]),\n",
       " Data(x=[39, 20], edge_index=[2, 76], edge_attr=[76, 19]),\n",
       " Data(x=[6, 20], edge_index=[2, 10], edge_attr=[10, 19]),\n",
       " Data(x=[30, 20], edge_index=[2, 66], edge_attr=[66, 19]),\n",
       " Data(x=[11, 20], edge_index=[2, 22], edge_attr=[22, 19]),\n",
       " Data(x=[12, 20], edge_index=[2, 22], edge_attr=[22, 19]),\n",
       " Data(x=[34, 20], edge_index=[2, 70], edge_attr=[70, 19]),\n",
       " Data(x=[19, 20], edge_index=[2, 40], edge_attr=[40, 19]),\n",
       " Data(x=[20, 20], edge_index=[2, 40], edge_attr=[40, 19]),\n",
       " Data(x=[10, 20], edge_index=[2, 18], edge_attr=[18, 19]),\n",
       " Data(x=[27, 20], edge_index=[2, 48], edge_attr=[48, 19]),\n",
       " Data(x=[16, 20], edge_index=[2, 34], edge_attr=[34, 19]),\n",
       " Data(x=[16, 20], edge_index=[2, 32], edge_attr=[32, 19]),\n",
       " Data(x=[9, 20], edge_index=[2, 20], edge_attr=[20, 19]),\n",
       " Data(x=[15, 20], edge_index=[2, 32], edge_attr=[32, 19]),\n",
       " Data(x=[21, 20], edge_index=[2, 44], edge_attr=[44, 19]),\n",
       " Data(x=[23, 20], edge_index=[2, 44], edge_attr=[44, 19]),\n",
       " Data(x=[14, 20], edge_index=[2, 26], edge_attr=[26, 19]),\n",
       " Data(x=[10, 20], edge_index=[2, 20], edge_attr=[20, 19]),\n",
       " Data(x=[15, 20], edge_index=[2, 34], edge_attr=[34, 19]),\n",
       " Data(x=[10, 20], edge_index=[2, 22], edge_attr=[22, 19]),\n",
       " Data(x=[25, 20], edge_index=[2, 52], edge_attr=[52, 19]),\n",
       " Data(x=[18, 20], edge_index=[2, 36], edge_attr=[36, 19]),\n",
       " Data(x=[9, 20], edge_index=[2, 18], edge_attr=[18, 19]),\n",
       " Data(x=[5, 20], edge_index=[2, 8], edge_attr=[8, 19]),\n",
       " Data(x=[17, 20], edge_index=[2, 36], edge_attr=[36, 19]),\n",
       " Data(x=[16, 20], edge_index=[2, 34], edge_attr=[34, 19]),\n",
       " Data(x=[10, 20], edge_index=[2, 20], edge_attr=[20, 19]),\n",
       " Data(x=[18, 20], edge_index=[2, 40], edge_attr=[40, 19]),\n",
       " Data(x=[16, 20], edge_index=[2, 34], edge_attr=[34, 19]),\n",
       " Data(x=[54, 20], edge_index=[2, 112], edge_attr=[112, 19]),\n",
       " Data(x=[11, 20], edge_index=[2, 18], edge_attr=[18, 19]),\n",
       " Data(x=[11, 20], edge_index=[2, 24], edge_attr=[24, 19]),\n",
       " Data(x=[24, 20], edge_index=[2, 46], edge_attr=[46, 19]),\n",
       " Data(x=[25, 20], edge_index=[2, 50], edge_attr=[50, 19]),\n",
       " Data(x=[8, 20], edge_index=[2, 14], edge_attr=[14, 19]),\n",
       " Data(x=[23, 20], edge_index=[2, 48], edge_attr=[48, 19]),\n",
       " Data(x=[16, 20], edge_index=[2, 32], edge_attr=[32, 19]),\n",
       " Data(x=[10, 20], edge_index=[2, 20], edge_attr=[20, 19]),\n",
       " Data(x=[12, 20], edge_index=[2, 22], edge_attr=[22, 19]),\n",
       " Data(x=[13, 20], edge_index=[2, 30], edge_attr=[30, 19]),\n",
       " Data(x=[16, 20], edge_index=[2, 32], edge_attr=[32, 19]),\n",
       " Data(x=[30, 20], edge_index=[2, 60], edge_attr=[60, 19]),\n",
       " Data(x=[18, 20], edge_index=[2, 36], edge_attr=[36, 19]),\n",
       " Data(x=[18, 20], edge_index=[2, 34], edge_attr=[34, 19]),\n",
       " Data(x=[7, 20], edge_index=[2, 14], edge_attr=[14, 19]),\n",
       " Data(x=[85, 20], edge_index=[2, 170], edge_attr=[170, 19]),\n",
       " Data(x=[26, 20], edge_index=[2, 52], edge_attr=[52, 19]),\n",
       " Data(x=[28, 20], edge_index=[2, 58], edge_attr=[58, 19]),\n",
       " Data(x=[11, 20], edge_index=[2, 24], edge_attr=[24, 19]),\n",
       " Data(x=[12, 20], edge_index=[2, 24], edge_attr=[24, 19]),\n",
       " Data(x=[12, 20], edge_index=[2, 24], edge_attr=[24, 19]),\n",
       " Data(x=[30, 20], edge_index=[2, 60], edge_attr=[60, 19]),\n",
       " Data(x=[7, 20], edge_index=[2, 10], edge_attr=[10, 19]),\n",
       " Data(x=[24, 20], edge_index=[2, 54], edge_attr=[54, 19]),\n",
       " Data(x=[7, 20], edge_index=[2, 12], edge_attr=[12, 19]),\n",
       " Data(x=[7, 20], edge_index=[2, 14], edge_attr=[14, 19]),\n",
       " Data(x=[16, 20], edge_index=[2, 30], edge_attr=[30, 19]),\n",
       " Data(x=[16, 20], edge_index=[2, 32], edge_attr=[32, 19]),\n",
       " Data(x=[8, 20], edge_index=[2, 14], edge_attr=[14, 19]),\n",
       " Data(x=[6, 20], edge_index=[2, 8], edge_attr=[8, 19]),\n",
       " Data(x=[9, 20], edge_index=[2, 18], edge_attr=[18, 19]),\n",
       " Data(x=[13, 20], edge_index=[2, 26], edge_attr=[26, 19]),\n",
       " Data(x=[12, 20], edge_index=[2, 26], edge_attr=[26, 19]),\n",
       " Data(x=[11, 20], edge_index=[2, 22], edge_attr=[22, 19]),\n",
       " Data(x=[42, 20], edge_index=[2, 86], edge_attr=[86, 19]),\n",
       " Data(x=[22, 20], edge_index=[2, 46], edge_attr=[46, 19]),\n",
       " Data(x=[12, 20], edge_index=[2, 26], edge_attr=[26, 19]),\n",
       " Data(x=[15, 20], edge_index=[2, 30], edge_attr=[30, 19]),\n",
       " Data(x=[23, 20], edge_index=[2, 52], edge_attr=[52, 19]),\n",
       " Data(x=[8, 20], edge_index=[2, 14], edge_attr=[14, 19]),\n",
       " Data(x=[11, 20], edge_index=[2, 22], edge_attr=[22, 19]),\n",
       " Data(x=[12, 20], edge_index=[2, 24], edge_attr=[24, 19]),\n",
       " Data(x=[64, 20], edge_index=[2, 142], edge_attr=[142, 19]),\n",
       " Data(x=[11, 20], edge_index=[2, 24], edge_attr=[24, 19]),\n",
       " Data(x=[9, 20], edge_index=[2, 18], edge_attr=[18, 19]),\n",
       " Data(x=[22, 20], edge_index=[2, 44], edge_attr=[44, 19]),\n",
       " Data(x=[15, 20], edge_index=[2, 30], edge_attr=[30, 19]),\n",
       " Data(x=[30, 20], edge_index=[2, 64], edge_attr=[64, 19]),\n",
       " Data(x=[11, 20], edge_index=[2, 22], edge_attr=[22, 19]),\n",
       " Data(x=[9, 20], edge_index=[2, 16], edge_attr=[16, 19]),\n",
       " Data(x=[28, 20], edge_index=[2, 62], edge_attr=[62, 19]),\n",
       " Data(x=[10, 20], edge_index=[2, 22], edge_attr=[22, 19]),\n",
       " Data(x=[11, 20], edge_index=[2, 20], edge_attr=[20, 19]),\n",
       " Data(x=[33, 20], edge_index=[2, 74], edge_attr=[74, 19]),\n",
       " Data(x=[36, 20], edge_index=[2, 72], edge_attr=[72, 19]),\n",
       " Data(x=[27, 20], edge_index=[2, 56], edge_attr=[56, 19]),\n",
       " Data(x=[8, 20], edge_index=[2, 16], edge_attr=[16, 19]),\n",
       " Data(x=[16, 20], edge_index=[2, 34], edge_attr=[34, 19]),\n",
       " Data(x=[9, 20], edge_index=[2, 18], edge_attr=[18, 19]),\n",
       " Data(x=[9, 20], edge_index=[2, 18], edge_attr=[18, 19]),\n",
       " Data(x=[16, 20], edge_index=[2, 32], edge_attr=[32, 19]),\n",
       " Data(x=[21, 20], edge_index=[2, 44], edge_attr=[44, 19]),\n",
       " Data(x=[16, 20], edge_index=[2, 30], edge_attr=[30, 19]),\n",
       " Data(x=[29, 20], edge_index=[2, 62], edge_attr=[62, 19]),\n",
       " Data(x=[57, 20], edge_index=[2, 112], edge_attr=[112, 19]),\n",
       " Data(x=[18, 20], edge_index=[2, 34], edge_attr=[34, 19]),\n",
       " Data(x=[23, 20], edge_index=[2, 50], edge_attr=[50, 19]),\n",
       " Data(x=[16, 20], edge_index=[2, 30], edge_attr=[30, 19]),\n",
       " Data(x=[21, 20], edge_index=[2, 48], edge_attr=[48, 19]),\n",
       " Data(x=[48, 20], edge_index=[2, 102], edge_attr=[102, 19]),\n",
       " Data(x=[23, 20], edge_index=[2, 50], edge_attr=[50, 19]),\n",
       " Data(x=[6, 20], edge_index=[2, 8], edge_attr=[8, 19]),\n",
       " Data(x=[18, 20], edge_index=[2, 34], edge_attr=[34, 19]),\n",
       " Data(x=[13, 20], edge_index=[2, 24], edge_attr=[24, 19]),\n",
       " Data(x=[10, 20], edge_index=[2, 18], edge_attr=[18, 19]),\n",
       " Data(x=[23, 20], edge_index=[2, 50], edge_attr=[50, 19]),\n",
       " Data(x=[21, 20], edge_index=[2, 46], edge_attr=[46, 19]),\n",
       " Data(x=[5, 20], edge_index=[2, 8], edge_attr=[8, 19]),\n",
       " Data(x=[11, 20], edge_index=[2, 22], edge_attr=[22, 19]),\n",
       " Data(x=[20, 20], edge_index=[2, 38], edge_attr=[38, 19]),\n",
       " Data(x=[12, 20], edge_index=[2, 24], edge_attr=[24, 19]),\n",
       " Data(x=[21, 20], edge_index=[2, 42], edge_attr=[42, 19]),\n",
       " Data(x=[17, 20], edge_index=[2, 34], edge_attr=[34, 19]),\n",
       " Data(x=[18, 20], edge_index=[2, 40], edge_attr=[40, 19]),\n",
       " Data(x=[10, 20], edge_index=[2, 20], edge_attr=[20, 19]),\n",
       " Data(x=[13, 20], edge_index=[2, 26], edge_attr=[26, 19]),\n",
       " Data(x=[4, 20], edge_index=[2, 4], edge_attr=[4, 19]),\n",
       " Data(x=[12, 20], edge_index=[2, 24], edge_attr=[24, 19]),\n",
       " Data(x=[15, 20], edge_index=[2, 32], edge_attr=[32, 19]),\n",
       " Data(x=[39, 20], edge_index=[2, 76], edge_attr=[76, 19]),\n",
       " Data(x=[18, 20], edge_index=[2, 32], edge_attr=[32, 19]),\n",
       " Data(x=[28, 20], edge_index=[2, 58], edge_attr=[58, 19]),\n",
       " Data(x=[31, 20], edge_index=[2, 70], edge_attr=[70, 19]),\n",
       " Data(x=[20, 20], edge_index=[2, 44], edge_attr=[44, 19]),\n",
       " Data(x=[12, 20], edge_index=[2, 24], edge_attr=[24, 19]),\n",
       " Data(x=[23, 20], edge_index=[2, 40], edge_attr=[40, 19]),\n",
       " Data(x=[13, 20], edge_index=[2, 24], edge_attr=[24, 19]),\n",
       " Data(x=[14, 20], edge_index=[2, 28], edge_attr=[28, 19]),\n",
       " Data(x=[9, 20], edge_index=[2, 18], edge_attr=[18, 19]),\n",
       " Data(x=[6, 20], edge_index=[2, 10], edge_attr=[10, 19]),\n",
       " Data(x=[18, 20], edge_index=[2, 34], edge_attr=[34, 19]),\n",
       " Data(x=[23, 20], edge_index=[2, 52], edge_attr=[52, 19]),\n",
       " Data(x=[16, 20], edge_index=[2, 34], edge_attr=[34, 19]),\n",
       " Data(x=[23, 20], edge_index=[2, 46], edge_attr=[46, 19]),\n",
       " Data(x=[20, 20], edge_index=[2, 46], edge_attr=[46, 19]),\n",
       " Data(x=[39, 20], edge_index=[2, 78], edge_attr=[78, 19]),\n",
       " Data(x=[12, 20], edge_index=[2, 22], edge_attr=[22, 19]),\n",
       " Data(x=[27, 20], edge_index=[2, 56], edge_attr=[56, 19]),\n",
       " Data(x=[13, 20], edge_index=[2, 26], edge_attr=[26, 19]),\n",
       " Data(x=[19, 20], edge_index=[2, 40], edge_attr=[40, 19]),\n",
       " Data(x=[20, 20], edge_index=[2, 36], edge_attr=[36, 19]),\n",
       " Data(x=[15, 20], edge_index=[2, 28], edge_attr=[28, 19]),\n",
       " Data(x=[27, 20], edge_index=[2, 62], edge_attr=[62, 19]),\n",
       " Data(x=[12, 20], edge_index=[2, 24], edge_attr=[24, 19]),\n",
       " Data(x=[24, 20], edge_index=[2, 52], edge_attr=[52, 19]),\n",
       " Data(x=[34, 20], edge_index=[2, 70], edge_attr=[70, 19]),\n",
       " Data(x=[15, 20], edge_index=[2, 30], edge_attr=[30, 19]),\n",
       " Data(x=[3, 20], edge_index=[0], edge_attr=[0]),\n",
       " Data(x=[10, 20], edge_index=[2, 20], edge_attr=[20, 19]),\n",
       " Data(x=[23, 20], edge_index=[2, 48], edge_attr=[48, 19]),\n",
       " Data(x=[12, 20], edge_index=[2, 24], edge_attr=[24, 19]),\n",
       " Data(x=[46, 20], edge_index=[2, 94], edge_attr=[94, 19]),\n",
       " Data(x=[30, 20], edge_index=[2, 64], edge_attr=[64, 19]),\n",
       " Data(x=[28, 20], edge_index=[2, 64], edge_attr=[64, 19]),\n",
       " Data(x=[11, 20], edge_index=[2, 22], edge_attr=[22, 19]),\n",
       " Data(x=[17, 20], edge_index=[2, 36], edge_attr=[36, 19]),\n",
       " Data(x=[12, 20], edge_index=[2, 22], edge_attr=[22, 19]),\n",
       " Data(x=[13, 20], edge_index=[2, 26], edge_attr=[26, 19]),\n",
       " Data(x=[6, 20], edge_index=[2, 6], edge_attr=[6, 19]),\n",
       " Data(x=[13, 20], edge_index=[2, 28], edge_attr=[28, 19]),\n",
       " Data(x=[39, 20], edge_index=[2, 80], edge_attr=[80, 19]),\n",
       " Data(x=[30, 20], edge_index=[2, 64], edge_attr=[64, 19]),\n",
       " Data(x=[6, 20], edge_index=[2, 10], edge_attr=[10, 19]),\n",
       " Data(x=[14, 20], edge_index=[2, 28], edge_attr=[28, 19]),\n",
       " Data(x=[15, 20], edge_index=[2, 32], edge_attr=[32, 19]),\n",
       " Data(x=[9, 20], edge_index=[2, 18], edge_attr=[18, 19]),\n",
       " Data(x=[16, 20], edge_index=[2, 32], edge_attr=[32, 19]),\n",
       " Data(x=[26, 20], edge_index=[2, 60], edge_attr=[60, 19]),\n",
       " Data(x=[11, 20], edge_index=[2, 20], edge_attr=[20, 19]),\n",
       " Data(x=[6, 20], edge_index=[2, 10], edge_attr=[10, 19]),\n",
       " Data(x=[20, 20], edge_index=[2, 40], edge_attr=[40, 19]),\n",
       " Data(x=[17, 20], edge_index=[2, 36], edge_attr=[36, 19]),\n",
       " Data(x=[21, 20], edge_index=[2, 44], edge_attr=[44, 19]),\n",
       " Data(x=[11, 20], edge_index=[2, 22], edge_attr=[22, 19]),\n",
       " Data(x=[12, 20], edge_index=[2, 26], edge_attr=[26, 19]),\n",
       " Data(x=[4, 20], edge_index=[2, 6], edge_attr=[6, 19]),\n",
       " Data(x=[21, 20], edge_index=[2, 44], edge_attr=[44, 19]),\n",
       " Data(x=[10, 20], edge_index=[2, 20], edge_attr=[20, 19]),\n",
       " Data(x=[25, 20], edge_index=[2, 60], edge_attr=[60, 19]),\n",
       " Data(x=[23, 20], edge_index=[2, 50], edge_attr=[50, 19]),\n",
       " Data(x=[35, 20], edge_index=[2, 74], edge_attr=[74, 19]),\n",
       " Data(x=[21, 20], edge_index=[2, 44], edge_attr=[44, 19]),\n",
       " Data(x=[15, 20], edge_index=[2, 34], edge_attr=[34, 19]),\n",
       " Data(x=[36, 20], edge_index=[2, 80], edge_attr=[80, 19]),\n",
       " Data(x=[25, 20], edge_index=[2, 52], edge_attr=[52, 19]),\n",
       " Data(x=[41, 20], edge_index=[2, 84], edge_attr=[84, 19]),\n",
       " Data(x=[19, 20], edge_index=[2, 42], edge_attr=[42, 19]),\n",
       " Data(x=[28, 20], edge_index=[2, 58], edge_attr=[58, 19]),\n",
       " Data(x=[20, 20], edge_index=[2, 44], edge_attr=[44, 19]),\n",
       " Data(x=[18, 20], edge_index=[2, 38], edge_attr=[38, 19]),\n",
       " Data(x=[52, 20], edge_index=[2, 120], edge_attr=[120, 19]),\n",
       " Data(x=[34, 20], edge_index=[2, 74], edge_attr=[74, 19]),\n",
       " Data(x=[17, 20], edge_index=[2, 36], edge_attr=[36, 19]),\n",
       " Data(x=[17, 20], edge_index=[2, 40], edge_attr=[40, 19]),\n",
       " Data(x=[18, 20], edge_index=[2, 36], edge_attr=[36, 19]),\n",
       " Data(x=[23, 20], edge_index=[2, 52], edge_attr=[52, 19]),\n",
       " Data(x=[42, 20], edge_index=[2, 90], edge_attr=[90, 19]),\n",
       " Data(x=[16, 20], edge_index=[2, 34], edge_attr=[34, 19]),\n",
       " Data(x=[37, 20], edge_index=[2, 80], edge_attr=[80, 19]),\n",
       " Data(x=[21, 20], edge_index=[2, 44], edge_attr=[44, 19]),\n",
       " Data(x=[18, 20], edge_index=[2, 36], edge_attr=[36, 19]),\n",
       " Data(x=[33, 20], edge_index=[2, 68], edge_attr=[68, 19]),\n",
       " Data(x=[17, 20], edge_index=[2, 34], edge_attr=[34, 19]),\n",
       " Data(x=[42, 20], edge_index=[2, 94], edge_attr=[94, 19]),\n",
       " Data(x=[12, 20], edge_index=[2, 26], edge_attr=[26, 19]),\n",
       " Data(x=[13, 20], edge_index=[2, 28], edge_attr=[28, 19]),\n",
       " Data(x=[28, 20], edge_index=[2, 58], edge_attr=[58, 19]),\n",
       " Data(x=[20, 20], edge_index=[2, 48], edge_attr=[48, 19]),\n",
       " Data(x=[25, 20], edge_index=[2, 56], edge_attr=[56, 19]),\n",
       " Data(x=[21, 20], edge_index=[2, 46], edge_attr=[46, 19]),\n",
       " Data(x=[23, 20], edge_index=[2, 50], edge_attr=[50, 19]),\n",
       " Data(x=[14, 20], edge_index=[2, 30], edge_attr=[30, 19]),\n",
       " Data(x=[23, 20], edge_index=[2, 48], edge_attr=[48, 19]),\n",
       " Data(x=[15, 20], edge_index=[2, 34], edge_attr=[34, 19]),\n",
       " Data(x=[19, 20], edge_index=[2, 40], edge_attr=[40, 19]),\n",
       " Data(x=[30, 20], edge_index=[2, 66], edge_attr=[66, 19]),\n",
       " Data(x=[15, 20], edge_index=[2, 34], edge_attr=[34, 19]),\n",
       " Data(x=[68, 20], edge_index=[2, 138], edge_attr=[138, 19]),\n",
       " Data(x=[25, 20], edge_index=[2, 54], edge_attr=[54, 19]),\n",
       " Data(x=[35, 20], edge_index=[2, 72], edge_attr=[72, 19]),\n",
       " Data(x=[19, 20], edge_index=[2, 42], edge_attr=[42, 19]),\n",
       " Data(x=[13, 20], edge_index=[2, 28], edge_attr=[28, 19]),\n",
       " Data(x=[24, 20], edge_index=[2, 54], edge_attr=[54, 19]),\n",
       " Data(x=[22, 20], edge_index=[2, 48], edge_attr=[48, 19]),\n",
       " Data(x=[60, 20], edge_index=[2, 128], edge_attr=[128, 19]),\n",
       " Data(x=[21, 20], edge_index=[2, 44], edge_attr=[44, 19]),\n",
       " Data(x=[15, 20], edge_index=[2, 34], edge_attr=[34, 19]),\n",
       " Data(x=[21, 20], edge_index=[2, 46], edge_attr=[46, 19]),\n",
       " ...]"
      ]
     },
     "execution_count": 134,
     "metadata": {},
     "output_type": "execute_result"
    }
   ],
   "source": [
    "nr_ahr_data"
   ]
  },
  {
   "cell_type": "code",
   "execution_count": 126,
   "metadata": {},
   "outputs": [
    {
     "name": "stderr",
     "output_type": "stream",
     "text": [
      "1900it [00:02, 920.30it/s]\n",
      "608it [00:00, 954.12it/s] \n"
     ]
    }
   ],
   "source": [
    "encoded_datas=[]\n",
    "actual_labels=[]\n",
    "\n",
    "encoded_datas_test=[]\n",
    "actual_labels_test=[]\n",
    "\n",
    "\n",
    "for data,label in tqdm(zip(nr_ahr_data,nr_ahr_label)):\n",
    "    encoder.eval()\n",
    "    with torch.no_grad():\n",
    "        # print(data)\n",
    "        if(data.edge_index is None):\n",
    "            continue\n",
    "        if(data.edge_index.shape[0] == 0 or data.x.shape[1] == 0):\n",
    "            continue    \n",
    "        g_data=data.to(DEVICE)\n",
    "\n",
    "        z = encoder(g_data.x, g_data.edge_index)\n",
    "        encoded_datas.append(z)\n",
    "        actual_labels.append(label)\n",
    "\n",
    "\n",
    "for data,label in tqdm(zip(nr_ahr_test_data,nr_ahr_test_label)):\n",
    "    encoder.eval()\n",
    "    with torch.no_grad():\n",
    "        # print(data)\n",
    "        if(data.edge_index is None):\n",
    "            continue\n",
    "        if(data.edge_index.shape[0] == 0 or data.x.shape[1] == 0):\n",
    "            continue    \n",
    "        g_data=data.to(DEVICE)\n",
    "\n",
    "\n",
    "        z = encoder(g_data.x, g_data.edge_index)\n",
    "        encoded_datas_test.append(z)\n",
    "        actual_labels_test.append(label)"
   ]
  },
  {
   "cell_type": "code",
   "execution_count": 127,
   "metadata": {},
   "outputs": [
    {
     "data": {
      "text/plain": [
       "torch.Size([13, 16])"
      ]
     },
     "execution_count": 127,
     "metadata": {},
     "output_type": "execute_result"
    }
   ],
   "source": [
    "encoded_datas[0].shape"
   ]
  },
  {
   "cell_type": "code",
   "execution_count": 128,
   "metadata": {},
   "outputs": [],
   "source": [
    "for i in range(len(encoded_datas)):\n",
    "    encoded_datas[i]=torch.mean(encoded_datas[i],dim=0)\n",
    "    # detach at cpu\n",
    "    encoded_datas[i]=encoded_datas[i].detach().cpu().numpy()\n",
    "    encoded_datas[i]=torch.tensor(encoded_datas[i])\n",
    "\n",
    "\n",
    "for i in range(len(encoded_datas_test)):\n",
    "    encoded_datas_test[i]=torch.mean(encoded_datas_test[i],dim=0)\n",
    "    # detach at cpu\n",
    "    encoded_datas_test[i]=encoded_datas_test[i].detach().cpu().numpy()\n",
    "    encoded_datas_test[i]=torch.tensor(encoded_datas_test[i])\n",
    "    "
   ]
  },
  {
   "cell_type": "code",
   "execution_count": 130,
   "metadata": {},
   "outputs": [],
   "source": [
    "for i in range(len(encoded_datas)):\n",
    "    # extend the dimension to 1, to make it 2D\n",
    "    encoded_datas[i]=torch.unsqueeze(encoded_datas[i],0)\n",
    "    \n",
    "\n",
    "for i in range(len(encoded_datas_test)):\n",
    "    # extend the dimension to 1, to make it 2D\n",
    "    encoded_datas_test[i]=torch.unsqueeze(encoded_datas_test[i],0)\n",
    "    "
   ]
  },
  {
   "cell_type": "code",
   "execution_count": 1,
   "metadata": {},
   "outputs": [
    {
     "ename": "NameError",
     "evalue": "name 'encoded_datas' is not defined",
     "output_type": "error",
     "traceback": [
      "\u001b[1;31m---------------------------------------------------------------------------\u001b[0m",
      "\u001b[1;31mNameError\u001b[0m                                 Traceback (most recent call last)",
      "Cell \u001b[1;32mIn[1], line 1\u001b[0m\n\u001b[1;32m----> 1\u001b[0m encoded_datas[\u001b[38;5;241m0\u001b[39m]\u001b[38;5;241m.\u001b[39mshape\n",
      "\u001b[1;31mNameError\u001b[0m: name 'encoded_datas' is not defined"
     ]
    }
   ],
   "source": [
    "encoded_datas[0].shape"
   ]
  },
  {
   "cell_type": "code",
   "execution_count": 133,
   "metadata": {},
   "outputs": [
    {
     "name": "stdout",
     "output_type": "stream",
     "text": [
      "Saving best model with AUC: 0.842814803157867\n",
      "Saving best model with AUC: 0.8471162168541979\n"
     ]
    }
   ],
   "source": [
    "import numpy as np\n",
    "#create a dataloader for the encoded data\n",
    "class encoded_dataset(Dataset):\n",
    "    def __init__(self, \n",
    "                 data: List[torch.Tensor],\n",
    "                 labels: List[int],\n",
    "                 root: str | None = None, \n",
    "                 transform: Callable[..., Any] | None = None, \n",
    "                 pre_transform: Callable[..., Any] | None = None, \n",
    "                 pre_filter: Callable[..., Any] | None = None, \n",
    "                 log: bool = True):\n",
    "        super().__init__(root, transform, pre_transform, pre_filter, log)\n",
    "        self.data = data\n",
    "        self.labels = labels\n",
    "        \n",
    "    def len(self):\n",
    "        return len(self.data)\n",
    "\n",
    "    def get(self, idx):\n",
    "        # Ensure that data and labels are torch.Tensors\n",
    "        data_tensor = torch.Tensor(self.data[idx]) if isinstance(self.data[idx], np.ndarray) else self.data[idx]\n",
    "        label_tensor = torch.tensor(self.labels[idx], dtype=torch.long) \n",
    "        # print(data_tensor)\n",
    "        # print(label_tensor)\n",
    "        return data_tensor, label_tensor\n",
    "\n",
    "class EncodedClassifier(nn.Module):\n",
    "    def __init__(self, in_features, out_features):\n",
    "        super(EncodedClassifier, self).__init__()\n",
    "        \n",
    "        # Adjusting for input shape (batch_size, 1, 16)\n",
    "        self.conv1 = nn.Conv1d(1, 128, kernel_size=3, padding=1)  # input channel is 1\n",
    "        self.bn1 = nn.BatchNorm1d(128)\n",
    "        self.conv2 = nn.Conv1d(128, 256, kernel_size=3, padding=1)\n",
    "        self.bn2 = nn.BatchNorm1d(256)\n",
    "        self.pool = nn.MaxPool1d(2)  # Downsample, resulting in halving the sequence length\n",
    "        \n",
    "        # After two pooling operations on an input of length 16:\n",
    "        # First pooling -> 16 / 2 = 8\n",
    "        # Second pooling -> 8 / 2 = 4\n",
    "        # Therefore, the flattened size before the fully connected layer is 256 * 4\n",
    "        self.fc1 = nn.Linear(256 * 4, 512)  # Adjusted the size for the new flattened output\n",
    "        self.dropout = nn.Dropout(0.5)\n",
    "        self.fc2 = nn.Linear(512, 128)\n",
    "        self.fc3 = nn.Linear(128, out_features)\n",
    "        \n",
    "    def forward(self, x):\n",
    "        # x shape is (batch_size, 1, 16)\n",
    "        x = F.relu(self.bn1(self.conv1(x)))\n",
    "        x = self.pool(x)  # x shape becomes (batch_size, 128, 8)\n",
    "        x = F.relu(self.bn2(self.conv2(x)))\n",
    "        x = self.pool(x)  # x shape becomes (batch_size, 256, 4)\n",
    "        \n",
    "        # Flatten before passing to the dense layer\n",
    "        x = x.view(x.size(0), -1)  # Flatten to (batch_size, 256*4)\n",
    "        \n",
    "        x = F.relu(self.fc1(x))\n",
    "        x = self.dropout(x)\n",
    "        x = F.relu(self.fc2(x))\n",
    "        x = self.fc3(x)  # No activation, assuming we're using BCEWithLogitsLoss or similar\n",
    "        \n",
    "        return x\n",
    "\n",
    "\n",
    "\n",
    "#split the data into train and valid\n",
    "    \n",
    "from sklearn.model_selection import train_test_split\n",
    "X_train, X_test, y_train, y_test = train_test_split(encoded_datas, actual_labels, test_size=0.1, random_state=42)\n",
    "\n",
    "train_dataset=encoded_dataset(X_train,y_train)\n",
    "test_dataset=encoded_dataset(X_test,y_test)\n",
    "\n",
    "train_loader = DataLoader(train_dataset, batch_size=32, shuffle=True)\n",
    "\n",
    "test_loader = DataLoader(test_dataset, batch_size=32, shuffle=True)\n",
    "\n",
    "\n",
    "\n",
    "test_final_dataset=encoded_dataset(encoded_datas_test,actual_labels_test)\n",
    "test_final_loader = DataLoader(test_final_dataset, batch_size=32, shuffle = False)\n",
    "\n",
    "#train the classifier\n",
    "\n",
    "classifier = EncodedClassifier(16, 1).to(DEVICE)\n",
    "\n",
    "optimizer = torch.optim.Adam(classifier.parameters(), lr=1e-4)\n",
    "criterion = nn.BCEWithLogitsLoss()\n",
    "\n",
    "epochs = 200\n",
    "\n",
    "#calculate the accuracy and roc_auc_score for each epoch. Save the best model based on the roc_auc_score\n",
    "\n",
    "from sklearn.metrics import accuracy_score, roc_auc_score\n",
    "\n",
    "best_auc = 0\n",
    "\n",
    "for epoch in range(epochs):\n",
    "    classifier.train()\n",
    "    train_loss = 0.0\n",
    "    for data, target in train_loader:\n",
    "        data, target = data.to(DEVICE), target.to(DEVICE)\n",
    "        optimizer.zero_grad()\n",
    "        output = classifier(data)\n",
    "        loss = criterion(output, target.unsqueeze(1).float())\n",
    "        loss.backward()\n",
    "        optimizer.step()\n",
    "        train_loss += loss.item() * data.size(0)\n",
    "    train_loss = train_loss / len(train_loader.dataset)\n",
    "    # print(f\"Epoch {epoch} - Train Loss: {train_loss}\")\n",
    "    \n",
    "    classifier.eval()\n",
    "    test_loss = 0.0\n",
    "    y_true = []\n",
    "    y_pred = []\n",
    "    with torch.no_grad():\n",
    "        for data, target in test_final_loader:\n",
    "            data, target = data.to(DEVICE), target.to(DEVICE)\n",
    "            output = classifier(data)\n",
    "            loss = criterion(output, target.unsqueeze(1).float())\n",
    "            test_loss += loss.item() * data.size(0)\n",
    "            y_true += target.cpu().numpy().tolist()\n",
    "            y_pred += torch.sigmoid(output).cpu().numpy().tolist()\n",
    "    test_loss = test_loss / len(test_final_loader.dataset)\n",
    "    y_pred = [i[0] for i in y_pred]\n",
    "    auc = roc_auc_score(y_true, y_pred)\n",
    "    accuracy = accuracy_score(y_true, [1 if i > 0.5 else 0 for i in y_pred])\n",
    "    # print(f\"Epoch {epoch} - Test Loss: {test_loss} - AUC: {auc} - Accuracy: {accuracy}\")\n",
    "    if auc > best_auc:\n",
    "        print(f\"Saving best model with AUC: {auc}\")\n",
    "        torch.save(\n",
    "            classifier.state_dict(),\n",
    "            \"./Seperated_dataset/nr-ahr/best_classifier_gae.pt\"\n",
    "        )\n",
    "        best_auc = auc\n",
    "\n",
    "#load the best classifier"
   ]
  },
  {
   "cell_type": "code",
   "execution_count": 142,
   "metadata": {},
   "outputs": [
    {
     "name": "stdout",
     "output_type": "stream",
     "text": [
      "AUC: 0.8471162168541979 - Accuracy: 0.6990131578947368\n"
     ]
    }
   ],
   "source": [
    "#load the best classifier\n",
    "classifier = EncodedClassifier(16, 1).to(DEVICE)\n",
    "classifier.load_state_dict(torch.load(\"./Seperated_dataset/nr-ahr/best_classifier_gae.pt\"))\n",
    "\n",
    "\n",
    "\n",
    "\n",
    "classifier.eval()\n",
    "y_true = []\n",
    "y_pred = []\n",
    "with torch.no_grad():\n",
    "    for data, target in test_final_loader:\n",
    "        # print(\"hi\")\n",
    "        data, target = data.to(DEVICE), target.to(DEVICE)\n",
    "        output = classifier(data)\n",
    "        # print(output)\n",
    "        y_true += target.cpu().numpy().tolist()\n",
    "        y_pred += torch.sigmoid(output).cpu().numpy().tolist()\n",
    "        # print(y_pred)\n",
    "\n",
    "y_pred = [i[0] for i in y_pred]\n",
    "#save the y_pred to a npy file in the corresponding folder\n",
    "np.save(\"./Seperated_dataset/nr-ahr/pred_gae.npy\",y_pred)\n",
    "auc = roc_auc_score(y_true, y_pred)\n",
    "accuracy = accuracy_score(y_true, [1 if i > 0.5 else 0 for i in y_pred])\n",
    "\n",
    "print(f\"AUC: {auc} - Accuracy: {accuracy}\")\n"
   ]
  }
 ],
 "metadata": {
  "kernelspec": {
   "display_name": "thesis",
   "language": "python",
   "name": "python3"
  },
  "language_info": {
   "codemirror_mode": {
    "name": "ipython",
    "version": 3
   },
   "file_extension": ".py",
   "mimetype": "text/x-python",
   "name": "python",
   "nbconvert_exporter": "python",
   "pygments_lexer": "ipython3",
   "version": "3.11.5"
  }
 },
 "nbformat": 4,
 "nbformat_minor": 2
}
