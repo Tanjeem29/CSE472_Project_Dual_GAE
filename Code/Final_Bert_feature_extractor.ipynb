{
 "cells": [
  {
   "cell_type": "code",
   "execution_count": 2,
   "metadata": {},
   "outputs": [],
   "source": [
    "from transformers import AutoModel, AutoTokenizer\n",
    "import torch\n",
    "\n",
    "# Placeholder for the actual ChemBERTa model name\n",
    "model_name = \"seyonec/ChemBERTa-zinc-base-v1\"\n",
    "\n",
    "DEVICE = torch.device(\"cuda\" if torch.cuda.is_available() else \"cpu\")\n",
    "tokenizer = AutoTokenizer.from_pretrained(model_name)\n",
    "model = AutoModel.from_pretrained(model_name)\n",
    "model = model.to(DEVICE)\n",
    "\n"
   ]
  },
  {
   "cell_type": "code",
   "execution_count": 3,
   "metadata": {},
   "outputs": [
    {
     "data": {
      "text/plain": [
       "{'&': 10,\n",
       " '9': 29,\n",
       " 'sc': 296,\n",
       " 'CSCCCNC': 619,\n",
       " '@](': 354,\n",
       " '¡': 99,\n",
       " 'NNS': 547,\n",
       " '«': 109,\n",
       " 'NCc': 302,\n",
       " 'CCOCCO': 559,\n",
       " 'OCCCCC': 661,\n",
       " 'CSCCO': 496,\n",
       " 'ncc': 298,\n",
       " 'CH': 680,\n",
       " '-])\\\\': 742,\n",
       " 'CCCBr': 729,\n",
       " 'î': 175,\n",
       " '-])[': 372,\n",
       " 'CCOCC': 315,\n",
       " 'ccnn': 392,\n",
       " 'COCOc': 669,\n",
       " 'CCSS': 707,\n",
       " 'À': 129,\n",
       " 'CCSCCOC': 708,\n",
       " 'IC': 716,\n",
       " 'ł': 259,\n",
       " 'COCCNCc': 759,\n",
       " 'ncon': 532,\n",
       " '-])(': 571,\n",
       " ')(=': 287,\n",
       " 'CCONC': 583,\n",
       " 'COP': 647,\n",
       " 'OCCCC': 512,\n",
       " 'Í': 142,\n",
       " 'cnsn': 652,\n",
       " 'NOc': 718,\n",
       " 'SH': 723,\n",
       " 'SCCCO': 725,\n",
       " 'w': 91,\n",
       " 'ncccn': 391,\n",
       " 'ě': 220,\n",
       " 'CO': 275,\n",
       " 'OCCOCCOCCO': 653,\n",
       " 'Ü': 157,\n",
       " '6': 26,\n",
       " 'ĵ': 246,\n",
       " 'nsc': 441,\n",
       " 'NH': 273,\n",
       " 'OCN': 601,\n",
       " '(=[': 467,\n",
       " 'CCCl': 479,\n",
       " 'cc': 261,\n",
       " 'Ļ': 252,\n",
       " '<pad>': 1,\n",
       " 'OCCOCCOCCOCCO': 766,\n",
       " 'ç': 168,\n",
       " '13': 435,\n",
       " 'Ā': 193,\n",
       " 'COCCCn': 566,\n",
       " 'COCc': 386,\n",
       " 'CCSCC': 399,\n",
       " 'ª': 108,\n",
       " '-': 17,\n",
       " 'NCCCn': 447,\n",
       " 'CCCCOCc': 738,\n",
       " 'COCCNS': 623,\n",
       " 'ċ': 204,\n",
       " 'İ': 241,\n",
       " 'cnnn': 421,\n",
       " 'Ę': 217,\n",
       " ']': 65,\n",
       " 'Clc': 418,\n",
       " 'NOC': 584,\n",
       " 'û': 188,\n",
       " 'ð': 177,\n",
       " 'Ĵ': 245,\n",
       " 'OCCCn': 598,\n",
       " 'CSCCCC': 745,\n",
       " '](': 265,\n",
       " '(-[': 602,\n",
       " 'ô': 181,\n",
       " 'Ł': 258,\n",
       " 'I': 45,\n",
       " 'COCCNc': 608,\n",
       " 'æ': 167,\n",
       " 'nnco': 539,\n",
       " '×': 152,\n",
       " 'CBr': 509,\n",
       " 'ccoc': 387,\n",
       " 'CSCCCNc': 747,\n",
       " 'nnn': 408,\n",
       " '|': 96,\n",
       " '\\\\': 64,\n",
       " 'OCCc': 472,\n",
       " 'CCOCCCNC': 568,\n",
       " '²': 115,\n",
       " 'F': 42,\n",
       " 'ď': 208,\n",
       " '±': 114,\n",
       " 'ĸ': 249,\n",
       " '(\\\\': 381,\n",
       " 'CCCCc': 450,\n",
       " 'co': 484,\n",
       " 'nncc': 528,\n",
       " 'sn': 611,\n",
       " 'OCCCNc': 760,\n",
       " 'Fc': 398,\n",
       " 'CCCn': 376,\n",
       " '\"': 6,\n",
       " 'ssc': 727,\n",
       " 'µ': 118,\n",
       " 'CCCSCC': 505,\n",
       " 'cscn': 445,\n",
       " '°': 113,\n",
       " 'Ċ': 203,\n",
       " 'CCOCCCC': 603,\n",
       " 'COCCC': 477,\n",
       " 'ŀ': 257,\n",
       " 'CCOCCn': 606,\n",
       " 'CCOCCOC': 671,\n",
       " '](/[': 689,\n",
       " 'ĉ': 202,\n",
       " 'OCCOc': 498,\n",
       " 'CONC': 540,\n",
       " 'CCNS': 425,\n",
       " 'OCO': 353,\n",
       " 'OCCS': 561,\n",
       " '3': 23,\n",
       " 'On': 683,\n",
       " 'COCCO': 461,\n",
       " '»': 124,\n",
       " 'Ŀ': 256,\n",
       " 'nnnn': 384,\n",
       " '+](': 293,\n",
       " 'Ì': 141,\n",
       " 'Cl': 278,\n",
       " '¹': 122,\n",
       " 'SCCC': 460,\n",
       " 'COCCCC': 533,\n",
       " 'Ă': 195,\n",
       " 'OCCNc': 557,\n",
       " 'NCCCOC': 560,\n",
       " 'NCCN': 411,\n",
       " 'SCC': 346,\n",
       " 'CSCCNC': 596,\n",
       " 'J': 46,\n",
       " 'x': 92,\n",
       " 'Ú': 155,\n",
       " 'CNn': 578,\n",
       " '+](/[': 744,\n",
       " 'CCNc': 417,\n",
       " 'ú': 187,\n",
       " \"'\": 11,\n",
       " 'cnc': 316,\n",
       " 'ă': 196,\n",
       " 'CCOc': 319,\n",
       " 'SCc': 378,\n",
       " 'COCC': 382,\n",
       " 'Ù': 154,\n",
       " 'SCCN': 503,\n",
       " 'CCCF': 555,\n",
       " 'NCCCOc': 591,\n",
       " 'T': 56,\n",
       " 'OCCSCc': 663,\n",
       " 'OCCCCN': 673,\n",
       " 'OH': 682,\n",
       " 'ncco': 537,\n",
       " 'CCCSCc': 690,\n",
       " 'CCC': 271,\n",
       " 'k': 79,\n",
       " 'q': 85,\n",
       " 'h': 76,\n",
       " 'ö': 183,\n",
       " 'BrCCC': 749,\n",
       " 'Oc': 312,\n",
       " 'CSCc': 419,\n",
       " 'è': 169,\n",
       " 'Į': 239,\n",
       " 'CCn': 331,\n",
       " 'CCOCCN': 501,\n",
       " 'č': 206,\n",
       " 'snc': 516,\n",
       " 'ncnn': 415,\n",
       " 'CCCSc': 488,\n",
       " 'OCn': 595,\n",
       " 'CSCCn': 641,\n",
       " 'COCCSc': 615,\n",
       " 'CCCNCC': 704,\n",
       " 'CSCN': 491,\n",
       " 'COCCCCC': 692,\n",
       " '312': 714,\n",
       " 'CCCCC': 305,\n",
       " 'csc': 340,\n",
       " '@@': 266,\n",
       " 'ClCC': 648,\n",
       " 'scc': 464,\n",
       " 'OCCCCn': 721,\n",
       " 'NNN': 756,\n",
       " 'È': 137,\n",
       " 'ą': 198,\n",
       " 'CCCCOc': 492,\n",
       " 'ı': 242,\n",
       " 'm': 81,\n",
       " 'ħ': 232,\n",
       " 'snnc': 541,\n",
       " '/': 19,\n",
       " 'ccncc': 342,\n",
       " ')=[': 427,\n",
       " 'scnc': 452,\n",
       " 'OCCCS': 686,\n",
       " '([': 284,\n",
       " 'Ä': 133,\n",
       " 'NCCCCn': 552,\n",
       " 'COS': 691,\n",
       " 'CCCNC': 370,\n",
       " 'Brc': 458,\n",
       " 'COCCOCCN': 763,\n",
       " 'CCCCCCO': 694,\n",
       " 'CCCCNS': 758,\n",
       " '54': 531,\n",
       " '+': 15,\n",
       " 'COCCOCCNC': 734,\n",
       " 'COCCc': 518,\n",
       " 'cnsc': 705,\n",
       " 'CNCCC': 696,\n",
       " 'ĺ': 251,\n",
       " 'þ': 191,\n",
       " 'đ': 210,\n",
       " 'CCOC': 313,\n",
       " 'NCCCCC': 592,\n",
       " 'ý': 190,\n",
       " 'CCCCCN': 494,\n",
       " 'OCCCN': 548,\n",
       " 'CCCOC': 428,\n",
       " '$': 8,\n",
       " 'NCCc': 357,\n",
       " ')[': 272,\n",
       " 'CSCCCN': 627,\n",
       " ',': 16,\n",
       " 'ġ': 226,\n",
       " 'CSc': 327,\n",
       " 'NNC': 352,\n",
       " 'CCCCNC': 429,\n",
       " 'CSCCC': 515,\n",
       " 'CCCCCCCCCCC': 670,\n",
       " 'å': 166,\n",
       " '45': 510,\n",
       " 'NO': 436,\n",
       " 'CCCC': 285,\n",
       " 'ę': 218,\n",
       " ')(/': 514,\n",
       " 'CC': 262,\n",
       " 's': 87,\n",
       " 'Õ': 150,\n",
       " '@@]([': 517,\n",
       " 'CSCCOc': 702,\n",
       " 'Î': 143,\n",
       " 'NCCCNC': 569,\n",
       " 'ó': 180,\n",
       " 'CCSc': 379,\n",
       " 'i': 77,\n",
       " 'SCCO': 581,\n",
       " 'Á': 130,\n",
       " 'ć': 200,\n",
       " 'OCCCSc': 656,\n",
       " 'nccn': 389,\n",
       " 'CCO': 289,\n",
       " 'CNC': 300,\n",
       " 'Cn': 308,\n",
       " '%': 9,\n",
       " '½': 126,\n",
       " 'NCCCS': 590,\n",
       " 'CCCCS': 485,\n",
       " 'CCOP': 650,\n",
       " 'BrCC': 748,\n",
       " 'Nc': 277,\n",
       " 'Ø': 153,\n",
       " 'CCN': 280,\n",
       " 'U': 57,\n",
       " 'NCCNS': 609,\n",
       " 'CCOCCOc': 631,\n",
       " 'OCCBr': 710,\n",
       " 'V': 58,\n",
       " 'COCCOC': 542,\n",
       " 'ù': 186,\n",
       " 'occ': 563,\n",
       " 'nccnc': 431,\n",
       " 'COc': 282,\n",
       " 'COCCCN': 495,\n",
       " 'N': 50,\n",
       " 'SCCCS': 610,\n",
       " 'NCCSCc': 711,\n",
       " '®': 111,\n",
       " 'Ė': 215,\n",
       " '-]': 288,\n",
       " '*': 14,\n",
       " '<': 32,\n",
       " 'NS': 356,\n",
       " 'CSC': 375,\n",
       " 'á': 162,\n",
       " 'cccc': 276,\n",
       " 'NCCOCC': 546,\n",
       " '¦': 104,\n",
       " 'Ë': 140,\n",
       " '(': 12,\n",
       " 'Ê': 139,\n",
       " 'nnsc': 480,\n",
       " '-])/': 490,\n",
       " '][': 625,\n",
       " 'CCCCSC': 737,\n",
       " '~': 98,\n",
       " 'OCCNC': 486,\n",
       " '_': 67,\n",
       " '+]=': 374,\n",
       " 'NCCOC': 534,\n",
       " 'COn': 636,\n",
       " 'NCN': 576,\n",
       " ';': 31,\n",
       " ')/': 339,\n",
       " 'CSCC': 407,\n",
       " 'ccncn': 524,\n",
       " '+])(': 448,\n",
       " 'cnco': 620,\n",
       " 'NCCO': 487,\n",
       " 'CCCCCCNC': 639,\n",
       " 'ï': 176,\n",
       " '/[': 403,\n",
       " 'ncncc': 544,\n",
       " 'SN': 687,\n",
       " '+](/': 743,\n",
       " '35': 644,\n",
       " 'a': 69,\n",
       " 'COCCn': 430,\n",
       " '-]=[': 649,\n",
       " 'NCCSC': 633,\n",
       " 'coc': 405,\n",
       " 'sccc': 377,\n",
       " ')-': 497,\n",
       " 'CNCC': 567,\n",
       " 'L': 48,\n",
       " 'f': 74,\n",
       " 'Ě': 219,\n",
       " 'ğ': 224,\n",
       " 'CCCN': 310,\n",
       " 'ccs': 599,\n",
       " 'OCC': 323,\n",
       " 'Å': 134,\n",
       " 'ClC': 570,\n",
       " '5': 25,\n",
       " 'P': 52,\n",
       " '¼': 125,\n",
       " 'ė': 216,\n",
       " 'cncnc': 476,\n",
       " 'NCCNc': 478,\n",
       " '34': 383,\n",
       " 'CCCCSc': 577,\n",
       " 'ClCc': 616,\n",
       " '¸': 121,\n",
       " 'ľ': 255,\n",
       " 'OCCSC': 720,\n",
       " '[': 63,\n",
       " 'ClCCCSc': 735,\n",
       " 'NCCCNc': 654,\n",
       " 'W': 59,\n",
       " '¾': 127,\n",
       " 'ã': 164,\n",
       " '-])': 292,\n",
       " 'on': 367,\n",
       " '©': 107,\n",
       " 'CNCc': 463,\n",
       " 'CSCCSC': 703,\n",
       " 'SCCOC': 724,\n",
       " 'CCOCCOCC': 739,\n",
       " 'COCCN': 397,\n",
       " 'SCCNC': 666,\n",
       " 'Ã': 132,\n",
       " 'í': 174,\n",
       " 'CCOCCOCCOCC': 765,\n",
       " 'CCc': 294,\n",
       " 'Ĭ': 237,\n",
       " '=[': 361,\n",
       " 'CCCCOC': 535,\n",
       " '1': 21,\n",
       " 'CCCCCn': 565,\n",
       " 'CCOCCOCc': 700,\n",
       " ']/': 594,\n",
       " 'BrCc': 642,\n",
       " 'CCCSC': 520,\n",
       " 'NCCCSc': 580,\n",
       " ')([': 388,\n",
       " 'ccccn': 334,\n",
       " 'NCCSCC': 659,\n",
       " 'CCOCCSc': 754,\n",
       " 'Ô': 149,\n",
       " 'Z': 62,\n",
       " 'Ġ': 225,\n",
       " 'CSCCCCNC': 651,\n",
       " 'CCOCCNc': 706,\n",
       " 'ssnc': 728,\n",
       " '@@](=': 394,\n",
       " '·': 120,\n",
       " 'CCOCCCc': 672,\n",
       " 'OCCOCCS': 722,\n",
       " '¿': 128,\n",
       " '0': 20,\n",
       " 'ccc': 264,\n",
       " '+][': 314,\n",
       " 'NCCCCN': 628,\n",
       " 'OCCCNC': 553,\n",
       " 'ĩ': 234,\n",
       " 'cnn': 330,\n",
       " 'ī': 236,\n",
       " '-][': 588,\n",
       " 'conc': 668,\n",
       " 'CCCNS': 556,\n",
       " 'OCOC': 523,\n",
       " 'CCCCN': 369,\n",
       " 'X': 60,\n",
       " 'ONC': 719,\n",
       " 'ncnc': 355,\n",
       " 'CSCCN': 536,\n",
       " '-])([': 697,\n",
       " 'ncoc': 475,\n",
       " 'CNc': 359,\n",
       " 'Cc': 267,\n",
       " '@]': 326,\n",
       " 'Č': 205,\n",
       " 'sccn': 465,\n",
       " '+]': 274,\n",
       " 'NOCCc': 762,\n",
       " 'CCCCCS': 632,\n",
       " 'COCCOc': 468,\n",
       " '+]=[': 600,\n",
       " 'CCOCCC': 579,\n",
       " '>': 34,\n",
       " 'Y': 61,\n",
       " 'ccsc': 350,\n",
       " 'g': 75,\n",
       " 'à': 161,\n",
       " '</s>': 2,\n",
       " 'Ð': 145,\n",
       " 'Ĳ': 243,\n",
       " ')(': 281,\n",
       " 'CNCCc': 564,\n",
       " 'NCCS': 459,\n",
       " 'CCBr': 613,\n",
       " 'ø': 185,\n",
       " '43': 396,\n",
       " 'nnnc': 410,\n",
       " 'l': 80,\n",
       " 'CCCCO': 414,\n",
       " 'OCCn': 506,\n",
       " ')/[': 622,\n",
       " 'OCCNS': 662,\n",
       " 'Æ': 135,\n",
       " 'cccs': 320,\n",
       " 'CI': 657,\n",
       " '<s>': 0,\n",
       " 'OCCCSC': 761,\n",
       " 'nc': 270,\n",
       " 'Ą': 197,\n",
       " 'M': 49,\n",
       " '2': 22,\n",
       " 'd': 72,\n",
       " 'CCNC': 332,\n",
       " '@]([': 508,\n",
       " 'OCCOC': 573,\n",
       " 'Ý': 158,\n",
       " 'c': 71,\n",
       " '23': 335,\n",
       " 'NN': 364,\n",
       " 'cccnn': 499,\n",
       " 'Nn': 455,\n",
       " '](/': 513,\n",
       " 'Ò': 147,\n",
       " 'NCCCN': 456,\n",
       " 'NCCSc': 525,\n",
       " 'COCCCNc': 630,\n",
       " 'OP': 634,\n",
       " 'OCCF': 709,\n",
       " 'ncccc': 362,\n",
       " '+]([': 368,\n",
       " 'CCOCCS': 605,\n",
       " 'ñ': 178,\n",
       " 'ON': 519,\n",
       " 'ccn': 351,\n",
       " 'OCCOCC': 684,\n",
       " 'CCCOCc': 674,\n",
       " '¤': 102,\n",
       " 'cnoc': 574,\n",
       " 'ÿ': 192,\n",
       " 'oc': 303,\n",
       " 'A': 37,\n",
       " 'CCCCNc': 582,\n",
       " '12': 304,\n",
       " 'cnccn': 401,\n",
       " '(-': 283,\n",
       " 'ļ': 253,\n",
       " '7': 27,\n",
       " 'â': 163,\n",
       " '+]/': 504,\n",
       " 'ä': 165,\n",
       " 'nncs': 462,\n",
       " 'ê': 171,\n",
       " 'ķ': 248,\n",
       " 'ĳ': 244,\n",
       " 'CN': 286,\n",
       " 'CCNCc': 545,\n",
       " '+])': 337,\n",
       " '4': 24,\n",
       " 'Þ': 159,\n",
       " 'CNS': 393,\n",
       " 'COCCOCC': 614,\n",
       " 'ccco': 328,\n",
       " '(/[': 530,\n",
       " 'E': 41,\n",
       " '41': 679,\n",
       " 'NSC': 681,\n",
       " 'v': 90,\n",
       " '31': 469,\n",
       " 'Đ': 209,\n",
       " 'ë': 172,\n",
       " 'CON': 500,\n",
       " 'OCCSCC': 685,\n",
       " 'SCCSc': 726,\n",
       " '+])[': 413,\n",
       " 'NCCOCc': 660,\n",
       " 'CCOCCCn': 740,\n",
       " ')': 13,\n",
       " 'õ': 182,\n",
       " 'csnn': 507,\n",
       " '¨': 106,\n",
       " 'ĥ': 230,\n",
       " 'nn': 291,\n",
       " '}': 97,\n",
       " '24': 521,\n",
       " '`': 68,\n",
       " 'OCCO': 360,\n",
       " 'CCOCCCN': 698,\n",
       " 'COCCSCc': 733,\n",
       " 'cnccc': 437,\n",
       " '@@]': 329,\n",
       " '@@](': 358,\n",
       " 'COCCCOC': 637,\n",
       " 'NCCC': 366,\n",
       " '-]/': 618,\n",
       " 'CSCCc': 640,\n",
       " 'cccnc': 321,\n",
       " 'COCCCS': 732,\n",
       " '(/': 324,\n",
       " '£': 101,\n",
       " 'p': 84,\n",
       " 'SCCCc': 688,\n",
       " 'COCCCCN': 731,\n",
       " 'Ī': 235,\n",
       " 'CCCCCC': 365,\n",
       " 'CCCS': 400,\n",
       " 'CCCCl': 558,\n",
       " 'CCCCCCCC': 693,\n",
       " 'CCCCCNC': 529,\n",
       " 'Br': 299,\n",
       " 'ì': 173,\n",
       " 'CCSC': 395,\n",
       " '<unk>': 3,\n",
       " 'Ï': 144,\n",
       " '(=': 263,\n",
       " 'cccn': 343,\n",
       " '-])=': 402,\n",
       " 'CCSCCC': 607,\n",
       " 'SCCCOc': 667,\n",
       " '-[': 713,\n",
       " 'NCCOc': 443,\n",
       " 'Ó': 148,\n",
       " 'Ħ': 231,\n",
       " 'cscc': 434,\n",
       " 'nccc': 385,\n",
       " 'SCCCC': 635,\n",
       " 'CCCCCCN': 736,\n",
       " 'ccnnc': 612,\n",
       " '32': 333,\n",
       " 'NCCCCl': 677,\n",
       " 'CCOCCCNc': 699,\n",
       " 'cs': 341,\n",
       " 'nscc': 676,\n",
       " 'NCCCSC': 757,\n",
       " 'OC': 279,\n",
       " 'CCOCCNC': 589,\n",
       " '-])=[': 572,\n",
       " '{': 95,\n",
       " '¥': 103,\n",
       " 'NCC': 322,\n",
       " 'z': 94,\n",
       " '.': 18,\n",
       " 'G': 43,\n",
       " 'Sc': 345,\n",
       " 'ccnc': 347,\n",
       " '@](=': 404,\n",
       " 'OCCC': 426,\n",
       " '(\\\\[': 438,\n",
       " 'O': 51,\n",
       " 'NCCn': 446,\n",
       " 'nsnc': 471,\n",
       " 'CSCCS': 481,\n",
       " '=': 33,\n",
       " 'SCCS': 562,\n",
       " 'º': 123,\n",
       " 'CCCOCC': 526,\n",
       " 'OCCSc': 593,\n",
       " 'COCCS': 629,\n",
       " 'CCCCOCC': 638,\n",
       " 'COCCNC': 442,\n",
       " 'CCSCCOc': 755,\n",
       " 'D': 40,\n",
       " '<mask>': 4,\n",
       " 'Â': 131,\n",
       " '¯': 112,\n",
       " 'Ķ': 247,\n",
       " 'CCl': 416,\n",
       " 'FC': 432,\n",
       " 'H': 44,\n",
       " ')=': 295,\n",
       " 'nncn': 412,\n",
       " 'NCCCO': 502,\n",
       " 'Ç': 136,\n",
       " 'ĝ': 222,\n",
       " 'ncsc': 454,\n",
       " '^': 66,\n",
       " 'NCCOCCO': 764,\n",
       " 'Ć': 199,\n",
       " 'Ń': 260,\n",
       " 'Û': 156,\n",
       " 'ē': 212,\n",
       " 'NC': 268,\n",
       " '123': 750,\n",
       " 'ĭ': 238,\n",
       " '@': 36,\n",
       " 'u': 89,\n",
       " 'SCCOc': 554,\n",
       " 'COCO': 585,\n",
       " 'Ē': 211,\n",
       " 'Ľ': 254,\n",
       " 'ò': 179,\n",
       " 'ā': 194,\n",
       " 'Ñ': 146,\n",
       " 'ģ': 228,\n",
       " 'cn': 311,\n",
       " '+](=': 306,\n",
       " 'CNCCN': 587,\n",
       " 'Ģ': 227,\n",
       " '+]\\\\': 489,\n",
       " 'Ĝ': 221,\n",
       " 'NCCCCOc': 678,\n",
       " 'OCCCl': 655,\n",
       " 'NCCCC': 466,\n",
       " 'NCCNC': 422,\n",
       " 'nonc': 457,\n",
       " 'CCCCCOC': 751,\n",
       " 'SC': 348,\n",
       " 'OCCN': 439,\n",
       " 'cncs': 575,\n",
       " 'e': 73,\n",
       " 'CCCCCCC': 433,\n",
       " 'NCCCNS': 643,\n",
       " 'CCSCc': 538,\n",
       " 'NCCCCCC': 658,\n",
       " 'Ĺ': 250,\n",
       " 'SCn': 665,\n",
       " 'Ic': 717,\n",
       " 'CCCCCSc': 753,\n",
       " 'OCCCc': 550,\n",
       " 'cncc': 363,\n",
       " 'nnccc': 741,\n",
       " 'NNc': 409,\n",
       " 'CCCOc': 390,\n",
       " 'NOCC': 597,\n",
       " 'COCCCOc': 626,\n",
       " 'B': 38,\n",
       " 'R': 54,\n",
       " 'S': 55,\n",
       " 'Ĕ': 213,\n",
       " 'r': 86,\n",
       " 'CCCCCc': 617,\n",
       " 'FCCC': 715,\n",
       " '÷': 184,\n",
       " 'CSCCOC': 746,\n",
       " 'ccno': 511,\n",
       " 'Ĩ': 233,\n",
       " '42': 543,\n",
       " 'OCCCOc': 624,\n",
       " '³': 116,\n",
       " 'ĕ': 214,\n",
       " 't': 88,\n",
       " '+])([': 522,\n",
       " 'CCCNc': 453,\n",
       " 'o': 83,\n",
       " '¢': 100,\n",
       " 'nH': 290,\n",
       " 'ü': 189,\n",
       " 'b': 70,\n",
       " '¬': 110,\n",
       " 'NCCCc': 449,\n",
       " 'ccon': 451,\n",
       " '\\\\[': 493,\n",
       " 'Ď': 207,\n",
       " 'CCNCC': 527,\n",
       " 'noc': 338,\n",
       " 'y': 93,\n",
       " '¶': 119,\n",
       " 'COC': 307,\n",
       " 'SCCc': 483,\n",
       " 'COCCCNC': 482,\n",
       " ')\\\\': 551,\n",
       " 'SCN': 664,\n",
       " 'Ĥ': 229,\n",
       " 'CCCO': 325,\n",
       " '+](-': 701,\n",
       " '§': 105,\n",
       " 'K': 47,\n",
       " 'CCS': 317,\n",
       " 'CCCNCc': 730,\n",
       " 'Q': 53,\n",
       " 'OS': 474,\n",
       " 'CCCCCOc': 752,\n",
       " '8': 28,\n",
       " 'OCc': 349,\n",
       " 'ns': 440,\n",
       " 'CNN': 586,\n",
       " '?': 35,\n",
       " 'Ö': 151,\n",
       " '(#': 712,\n",
       " '!': 5,\n",
       " 'n': 82,\n",
       " 'Ğ': 223,\n",
       " 'į': 240,\n",
       " 'no': 336,\n",
       " 'ncn': 371,\n",
       " 'occc': 423,\n",
       " 'onc': 424,\n",
       " 'cnnc': 406,\n",
       " 'C': 39,\n",
       " 'CCOCc': 473,\n",
       " 'CCCCCO': 604,\n",
       " 'SCCn': 645,\n",
       " 'NOCc': 549,\n",
       " 'NCCCOCC': 675,\n",
       " 'j': 78,\n",
       " 'É': 138,\n",
       " ']([': 318,\n",
       " 'nnc': 301,\n",
       " 'CCCCn': 444,\n",
       " 'CS': 297,\n",
       " 'nccs': 373,\n",
       " 'ocnc': 470,\n",
       " '´': 117,\n",
       " 'ccccc': 269,\n",
       " 'CCCc': 344,\n",
       " 'OCCCO': 420,\n",
       " ':': 30,\n",
       " 'Ĉ': 201,\n",
       " 'cncn': 380,\n",
       " 'cnns': 621,\n",
       " 'oncc': 646,\n",
       " '#': 7,\n",
       " 'ß': 160,\n",
       " 'é': 170,\n",
       " 'CCCCCCS': 695,\n",
       " '21': 309}"
      ]
     },
     "execution_count": 3,
     "metadata": {},
     "output_type": "execute_result"
    }
   ],
   "source": [
    "tokenizer.vocab"
   ]
  },
  {
   "cell_type": "code",
   "execution_count": 4,
   "metadata": {},
   "outputs": [],
   "source": [
    "from tqdm import tqdm\n",
    "\n",
    "def get_features(file):\n",
    "\n",
    "    smilies=[]\n",
    "    labels=[]\n",
    "    with open(file, 'r') as f:\n",
    "       \n",
    "        lines = f.readlines()\n",
    "        for line in lines:\n",
    "            line=line.strip()\n",
    "            line = line.split('\\t')\n",
    "            smilies.append(line[0])\n",
    "            labels.append(line[2])\n",
    "\n",
    "    #convert labels to int\n",
    "    labels = [int(i) for i in labels]\n",
    "\n",
    "    embeddings_list = []\n",
    "    for smiles_list in tqdm(smilies):\n",
    "        # Tokenize SMILES\n",
    "        inputs = tokenizer(smiles_list, padding=True, truncation=True, return_tensors=\"pt\")\n",
    "\n",
    "        # Move inputs to the same device as model\n",
    "        inputs = {k: v.to(model.device) for k, v in inputs.items()}\n",
    "\n",
    "        # Extract embeddings\n",
    "        with torch.no_grad():\n",
    "            outputs = model(**inputs)\n",
    "\n",
    "        # The output embeddings can be accessed with outputs.last_hidden_state or outputs.pooler_output\n",
    "        # depending on what we consider as the embedding.\n",
    "\n",
    "        # For instance, to get the embeddings for the entire sequence, we might average the last hidden states\n",
    "        embeddings = outputs.last_hidden_state.mean(dim=1)\n",
    "        embeddings_list.append(embeddings)\n",
    "\n",
    "    import numpy as np\n",
    "    from sklearn.utils import resample\n",
    "\n",
    "    # Assuming data_list is our list of graph objects and labels_array is a NumPy array of labels\n",
    "    data_list = embeddings_list # our list of graph objects\n",
    "    labels_array = np.array(labels)  # our NumPy array of labels\n",
    "\n",
    "    # Identify indices of majority and minority classes\n",
    "    majority_indices = np.where(labels_array == 0)[0]\n",
    "    minority_indices = np.where(labels_array == 1)[0]\n",
    "\n",
    "    # Perform undersampling\n",
    "    # Here, we'll downsample the majority class to match the number of samples in the minority class\n",
    "    undersampled_majority_indices = resample(majority_indices,\n",
    "                                            replace=False,  # no replacement\n",
    "                                            n_samples=len(minority_indices),  # match minority class size\n",
    "                                            random_state=123)  # reproducible results\n",
    "\n",
    "    # Combine the undersampled majority indices with the minority indices\n",
    "    undersampled_indices = np.concatenate([undersampled_majority_indices, minority_indices])\n",
    "\n",
    "    # Use these indices to create our new balanced dataset\n",
    "    undersampled_data_list = [data_list[i] for i in undersampled_indices]\n",
    "    undersampled_labels_array = labels_array[undersampled_indices]\n",
    "\n",
    "    # Now, undersampled_data_list and undersampled_labels_array are our balanced dataset\n",
    "\n",
    "    #create a folder to save the features and labels\n",
    "    import os\n",
    "    if not os.path.exists(file.split('/')[-1].split('.')[0]):\n",
    "        os.makedirs(file.split('/')[-1].split('.')[0])\n",
    "    \n",
    "    #save the features and labels\n",
    "    torch.save(undersampled_data_list, file.split('/')[-1].split('.')[0]+'/train_feature_bert.pt')\n",
    "    torch.save(undersampled_labels_array, file.split('/')[-1].split('.')[0]+'/train_labels_bert.pt')\n",
    "    print('saved features and labels for', file.split('/')[-1].split('.')[0])\n"
   ]
  },
  {
   "cell_type": "code",
   "execution_count": 51,
   "metadata": {},
   "outputs": [
    {
     "name": "stderr",
     "output_type": "stream",
     "text": [
      "100%|██████████| 8169/8169 [00:39<00:00, 207.56it/s]\n"
     ]
    },
    {
     "name": "stdout",
     "output_type": "stream",
     "text": [
      "saved features and labels for Seperated_dataset\\nr-ahr\n",
      "done for ./dataset/Seperated_dataset\\nr-ahr.smiles\n"
     ]
    },
    {
     "name": "stderr",
     "output_type": "stream",
     "text": [
      "100%|██████████| 8599/8599 [00:40<00:00, 210.43it/s]\n"
     ]
    },
    {
     "name": "stdout",
     "output_type": "stream",
     "text": [
      "saved features and labels for Seperated_dataset\\nr-ar-lbd\n",
      "done for ./dataset/Seperated_dataset\\nr-ar-lbd.smiles\n"
     ]
    },
    {
     "name": "stderr",
     "output_type": "stream",
     "text": [
      "100%|██████████| 9362/9362 [00:44<00:00, 208.09it/s]\n"
     ]
    },
    {
     "name": "stdout",
     "output_type": "stream",
     "text": [
      "saved features and labels for Seperated_dataset\\nr-ar\n",
      "done for ./dataset/Seperated_dataset\\nr-ar.smiles\n"
     ]
    },
    {
     "name": "stderr",
     "output_type": "stream",
     "text": [
      "100%|██████████| 7226/7226 [00:34<00:00, 207.08it/s]\n"
     ]
    },
    {
     "name": "stdout",
     "output_type": "stream",
     "text": [
      "saved features and labels for Seperated_dataset\\nr-aromatase\n",
      "done for ./dataset/Seperated_dataset\\nr-aromatase.smiles\n"
     ]
    },
    {
     "name": "stderr",
     "output_type": "stream",
     "text": [
      "100%|██████████| 8753/8753 [00:41<00:00, 209.60it/s]\n"
     ]
    },
    {
     "name": "stdout",
     "output_type": "stream",
     "text": [
      "saved features and labels for Seperated_dataset\\nr-er-lbd\n",
      "done for ./dataset/Seperated_dataset\\nr-er-lbd.smiles\n"
     ]
    },
    {
     "name": "stderr",
     "output_type": "stream",
     "text": [
      "100%|██████████| 7697/7697 [00:36<00:00, 208.30it/s]\n"
     ]
    },
    {
     "name": "stdout",
     "output_type": "stream",
     "text": [
      "saved features and labels for Seperated_dataset\\nr-er\n",
      "done for ./dataset/Seperated_dataset\\nr-er.smiles\n"
     ]
    },
    {
     "name": "stderr",
     "output_type": "stream",
     "text": [
      "100%|██████████| 8184/8184 [00:38<00:00, 211.08it/s]\n"
     ]
    },
    {
     "name": "stdout",
     "output_type": "stream",
     "text": [
      "saved features and labels for Seperated_dataset\\nr-ppar-gamma\n",
      "done for ./dataset/Seperated_dataset\\nr-ppar-gamma.smiles\n"
     ]
    },
    {
     "name": "stderr",
     "output_type": "stream",
     "text": [
      "100%|██████████| 7167/7167 [00:34<00:00, 208.60it/s]\n"
     ]
    },
    {
     "name": "stdout",
     "output_type": "stream",
     "text": [
      "saved features and labels for Seperated_dataset\\sr-are\n",
      "done for ./dataset/Seperated_dataset\\sr-are.smiles\n"
     ]
    },
    {
     "name": "stderr",
     "output_type": "stream",
     "text": [
      "100%|██████████| 9091/9091 [00:43<00:00, 209.20it/s]\n"
     ]
    },
    {
     "name": "stdout",
     "output_type": "stream",
     "text": [
      "saved features and labels for Seperated_dataset\\sr-atad5\n",
      "done for ./dataset/Seperated_dataset\\sr-atad5.smiles\n"
     ]
    },
    {
     "name": "stderr",
     "output_type": "stream",
     "text": [
      "100%|██████████| 8150/8150 [00:39<00:00, 207.44it/s]\n"
     ]
    },
    {
     "name": "stdout",
     "output_type": "stream",
     "text": [
      "saved features and labels for Seperated_dataset\\sr-hse\n",
      "done for ./dataset/Seperated_dataset\\sr-hse.smiles\n"
     ]
    },
    {
     "name": "stderr",
     "output_type": "stream",
     "text": [
      "100%|██████████| 7320/7320 [00:35<00:00, 207.39it/s]\n"
     ]
    },
    {
     "name": "stdout",
     "output_type": "stream",
     "text": [
      "saved features and labels for Seperated_dataset\\sr-mmp\n",
      "done for ./dataset/Seperated_dataset\\sr-mmp.smiles\n"
     ]
    },
    {
     "name": "stderr",
     "output_type": "stream",
     "text": [
      "100%|██████████| 8634/8634 [00:41<00:00, 209.39it/s]"
     ]
    },
    {
     "name": "stdout",
     "output_type": "stream",
     "text": [
      "saved features and labels for Seperated_dataset\\sr-p53\n",
      "done for ./dataset/Seperated_dataset\\sr-p53.smiles\n"
     ]
    },
    {
     "name": "stderr",
     "output_type": "stream",
     "text": [
      "\n"
     ]
    }
   ],
   "source": [
    "import glob \n",
    "from tqdm import tqdm\n",
    "\n",
    "\n",
    "files=glob.glob(\"./dataset/Seperated_dataset/*\")\n",
    "\n",
    "\n",
    "for file in files:\n",
    "    get_features(file)\n",
    "    print('done for', file)"
   ]
  },
  {
   "cell_type": "code",
   "execution_count": 20,
   "metadata": {},
   "outputs": [
    {
     "name": "stdout",
     "output_type": "stream",
     "text": [
      "./dataset/Seperated_dataset\\nr-ahr.smiles\n"
     ]
    },
    {
     "name": "stderr",
     "output_type": "stream",
     "text": [
      "  0%|          | 0/8169 [00:00<?, ?it/s]"
     ]
    },
    {
     "name": "stderr",
     "output_type": "stream",
     "text": [
      "100%|██████████| 8169/8169 [00:31<00:00, 259.53it/s]\n"
     ]
    },
    {
     "name": "stdout",
     "output_type": "stream",
     "text": [
      "./dataset/Seperated_dataset\\nr-ar-lbd.smiles\n"
     ]
    },
    {
     "name": "stderr",
     "output_type": "stream",
     "text": [
      "100%|██████████| 8599/8599 [00:32<00:00, 264.04it/s]\n"
     ]
    },
    {
     "name": "stdout",
     "output_type": "stream",
     "text": [
      "./dataset/Seperated_dataset\\nr-ar.smiles\n"
     ]
    },
    {
     "name": "stderr",
     "output_type": "stream",
     "text": [
      "100%|██████████| 9362/9362 [00:35<00:00, 260.19it/s]\n"
     ]
    },
    {
     "name": "stdout",
     "output_type": "stream",
     "text": [
      "./dataset/Seperated_dataset\\nr-aromatase.smiles\n"
     ]
    },
    {
     "name": "stderr",
     "output_type": "stream",
     "text": [
      "100%|██████████| 7226/7226 [00:30<00:00, 240.10it/s]\n"
     ]
    },
    {
     "name": "stdout",
     "output_type": "stream",
     "text": [
      "./dataset/Seperated_dataset\\nr-er-lbd.smiles\n"
     ]
    },
    {
     "name": "stderr",
     "output_type": "stream",
     "text": [
      "100%|██████████| 8753/8753 [00:38<00:00, 227.36it/s]\n"
     ]
    },
    {
     "name": "stdout",
     "output_type": "stream",
     "text": [
      "./dataset/Seperated_dataset\\nr-er.smiles\n"
     ]
    },
    {
     "name": "stderr",
     "output_type": "stream",
     "text": [
      "100%|██████████| 7697/7697 [00:32<00:00, 235.42it/s]\n"
     ]
    },
    {
     "name": "stdout",
     "output_type": "stream",
     "text": [
      "./dataset/Seperated_dataset\\nr-ppar-gamma.smiles\n"
     ]
    },
    {
     "name": "stderr",
     "output_type": "stream",
     "text": [
      "100%|██████████| 8184/8184 [00:34<00:00, 235.29it/s]\n"
     ]
    },
    {
     "name": "stdout",
     "output_type": "stream",
     "text": [
      "./dataset/Seperated_dataset\\sr-are.smiles\n"
     ]
    },
    {
     "name": "stderr",
     "output_type": "stream",
     "text": [
      "100%|██████████| 7167/7167 [00:30<00:00, 237.08it/s]\n"
     ]
    },
    {
     "name": "stdout",
     "output_type": "stream",
     "text": [
      "./dataset/Seperated_dataset\\sr-atad5.smiles\n"
     ]
    },
    {
     "name": "stderr",
     "output_type": "stream",
     "text": [
      "100%|██████████| 9091/9091 [00:38<00:00, 236.70it/s]\n"
     ]
    },
    {
     "name": "stdout",
     "output_type": "stream",
     "text": [
      "./dataset/Seperated_dataset\\sr-hse.smiles\n"
     ]
    },
    {
     "name": "stderr",
     "output_type": "stream",
     "text": [
      "100%|██████████| 8150/8150 [00:34<00:00, 238.77it/s]\n"
     ]
    },
    {
     "name": "stdout",
     "output_type": "stream",
     "text": [
      "./dataset/Seperated_dataset\\sr-mmp.smiles\n"
     ]
    },
    {
     "name": "stderr",
     "output_type": "stream",
     "text": [
      "100%|██████████| 7320/7320 [00:31<00:00, 235.09it/s]\n"
     ]
    },
    {
     "name": "stdout",
     "output_type": "stream",
     "text": [
      "./dataset/Seperated_dataset\\sr-p53.smiles\n"
     ]
    },
    {
     "name": "stderr",
     "output_type": "stream",
     "text": [
      "100%|██████████| 8634/8634 [00:36<00:00, 234.14it/s]\n"
     ]
    }
   ],
   "source": []
  },
  {
   "cell_type": "code",
   "execution_count": 16,
   "metadata": {},
   "outputs": [],
   "source": [
    "dataset_name=\"nr-ahr\"\n",
    "embeddings=torch.load(f'./Seperated_dataset/{dataset_name}/train_feature_bert.pt')\n",
    "labels=torch.load(f'./Seperated_dataset/{dataset_name}/train_labels_bert.pt')\n",
    "\n",
    "\n",
    "embeddings_test=torch.load(f'./Seperated_dataset/{dataset_name}/test_feature_bert.pt')   \n",
    "labels_test=torch.load(f'./Seperated_dataset/{dataset_name}/test_labels_bert.pt')\n",
    "\n",
    "\n",
    "# squish the embeddings\n",
    "# embeddings = [i.squeeze() for i in embeddings]"
   ]
  },
  {
   "cell_type": "code",
   "execution_count": 11,
   "metadata": {},
   "outputs": [
    {
     "data": {
      "text/plain": [
       "(1, 768)"
      ]
     },
     "execution_count": 11,
     "metadata": {},
     "output_type": "execute_result"
    }
   ],
   "source": [
    "sampled_embeddings[0].shape"
   ]
  },
  {
   "cell_type": "code",
   "execution_count": 15,
   "metadata": {},
   "outputs": [
    {
     "data": {
      "text/plain": [
       "1900"
      ]
     },
     "execution_count": 15,
     "metadata": {},
     "output_type": "execute_result"
    }
   ],
   "source": [
    "len(embeddings)"
   ]
  },
  {
   "cell_type": "code",
   "execution_count": 13,
   "metadata": {},
   "outputs": [
    {
     "data": {
      "image/png": "[encoded data removed]",
      "text/plain": [
       "<Figure size 640x480 with 1 Axes>"
      ]
     },
     "metadata": {},
     "output_type": "display_data"
    }
   ],
   "source": [
    "sampled_embeddings = embeddings[:1000]\n",
    "sampled_labels = labels[:1000]\n",
    "\n",
    "#perform tsn-e and plot\n",
    "\n",
    "from sklearn.manifold import TSNE\n",
    "import numpy as np\n",
    "import matplotlib.pyplot as plt\n",
    "\n",
    "tsne = TSNE(n_components=2, random_state=0)\n",
    "\n",
    "sampled_embeddings = np.array([i[0].cpu().numpy() for i in sampled_embeddings])\n",
    "\n",
    "# Perform t-SNE on the sampled embeddings\n",
    "embeddings_2d = tsne.fit_transform(sampled_embeddings)\n",
    "\n",
    "# Visualize the 2D embeddings\n",
    "\n",
    "# Create a scatter plot\n",
    "\n",
    "plt.scatter(embeddings_2d[:, 0], embeddings_2d[:, 1], c=sampled_labels)\n",
    "plt.title('t-SNE visualization of ChemBERTa embeddings')\n",
    "\n",
    "plt.show()\n"
   ]
  },
  {
   "cell_type": "code",
   "execution_count": 17,
   "metadata": {},
   "outputs": [
    {
     "name": "stderr",
     "output_type": "stream",
     "text": [
      "c:\\Users\\Lenovo\\anaconda3\\envs\\thesis\\Lib\\site-packages\\torch_geometric\\typing.py:63: UserWarning: An issue occurred while importing 'torch-scatter'. Disabling its usage. Stacktrace: [WinError 127] The specified procedure could not be found\n",
      "  warnings.warn(f\"An issue occurred while importing 'torch-scatter'. \"\n",
      "c:\\Users\\Lenovo\\anaconda3\\envs\\thesis\\Lib\\site-packages\\torch_geometric\\typing.py:90: UserWarning: An issue occurred while importing 'torch-spline-conv'. Disabling its usage. Stacktrace: [WinError 127] The specified procedure could not be found\n",
      "  warnings.warn(\n",
      "c:\\Users\\Lenovo\\anaconda3\\envs\\thesis\\Lib\\site-packages\\torch_geometric\\typing.py:101: UserWarning: An issue occurred while importing 'torch-sparse'. Disabling its usage. Stacktrace: [WinError 127] The specified procedure could not be found\n",
      "  warnings.warn(f\"An issue occurred while importing 'torch-sparse'. \"\n"
     ]
    }
   ],
   "source": [
    "from typing import Callable, Optional\n",
    "import torch\n",
    "from torch import nn\n",
    "import torch.nn.functional as F\n",
    "from torch_geometric.data import DataLoader, Dataset\n",
    "from torch_geometric.nn import VGAE, GATConv, GCNConv, GAE\n",
    "from torch_geometric.utils import train_test_split_edges\n",
    "from typing import Any, List\n",
    "import os\n",
    "import os.path as osp\n",
    "from copy import copy\n",
    "from tqdm import tqdm\n",
    "import warnings\n",
    "warnings.filterwarnings(\"ignore\")\n",
    "import pickle\n",
    "\n",
    "import numpy as np\n",
    "\n",
    "#empty cuda cache\n",
    "torch.cuda.empty_cache()\n",
    "#create a dataloader for the encoded data\n",
    "class encoded_dataset(Dataset):\n",
    "    def __init__(self, \n",
    "                 data: List[torch.Tensor],\n",
    "                 labels: List[int],\n",
    "                 root: str | None = None, \n",
    "                 transform: Callable[..., Any] | None = None, \n",
    "                 pre_transform: Callable[..., Any] | None = None, \n",
    "                 pre_filter: Callable[..., Any] | None = None, \n",
    "                 log: bool = True):\n",
    "        super().__init__(root, transform, pre_transform, pre_filter, log)\n",
    "        self.data = data\n",
    "        self.labels = labels\n",
    "        \n",
    "    def len(self):\n",
    "        return len(self.data)\n",
    "\n",
    "    def get(self, idx):\n",
    "        # Ensure that data and labels are torch.Tensors\n",
    "        data_tensor = torch.Tensor(self.data[idx]) if isinstance(self.data[idx], np.ndarray) else self.data[idx]\n",
    "        label_tensor = torch.tensor(self.labels[idx], dtype=torch.long) \n",
    "        # print(data_tensor)\n",
    "        # print(label_tensor)\n",
    "        return data_tensor, label_tensor\n"
   ]
  },
  {
   "cell_type": "code",
   "execution_count": 18,
   "metadata": {},
   "outputs": [],
   "source": [
    "\n",
    "#split the data into train and valid\n",
    "    \n",
    "from sklearn.model_selection import train_test_split\n",
    "X_train, X_test, y_train, y_test = train_test_split(embeddings,labels, test_size=0.1, random_state=42)\n",
    "\n",
    "train_dataset=encoded_dataset(X_train,y_train)\n",
    "test_dataset=encoded_dataset(X_test,y_test)\n",
    "\n",
    "train_loader = DataLoader(train_dataset, batch_size=32, shuffle=True)\n",
    "\n",
    "test_loader = DataLoader(test_dataset, batch_size=32, shuffle=True)\n",
    "\n",
    "\n",
    "\n",
    "test_final_dataset=encoded_dataset(embeddings_test,labels_test)\n",
    "test_final_loader = DataLoader(test_final_dataset, batch_size=32, shuffle=True)\n"
   ]
  },
  {
   "cell_type": "code",
   "execution_count": 26,
   "metadata": {},
   "outputs": [
    {
     "data": {
      "text/plain": [
       "(610, 610)"
      ]
     },
     "execution_count": 26,
     "metadata": {},
     "output_type": "execute_result"
    }
   ],
   "source": [
    "len(embeddings_test),len(labels_test)"
   ]
  },
  {
   "cell_type": "code",
   "execution_count": 30,
   "metadata": {},
   "outputs": [
    {
     "data": {
      "text/plain": [
       "array([0, 0, 1, 0, 1, 0, 0, 1, 1, 0, 0, 1, 1, 0, 0, 0, 0, 1, 0, 0, 0, 0,\n",
       "       0, 0, 0, 0, 0, 0, 0, 0, 0, 0, 0, 0, 0, 0, 0, 0, 0, 0, 0, 0, 1, 1,\n",
       "       0, 0, 0, 0, 0, 1, 1, 0, 0, 0, 0, 0, 0, 0, 0, 0, 0, 1, 1, 0, 0, 0,\n",
       "       0, 0, 0, 0, 0, 0, 0, 0, 0, 0, 0, 0, 0, 0, 1, 0, 0, 0, 0, 1, 0, 0,\n",
       "       0, 0, 0, 0, 0, 0, 0, 1, 1, 0, 0, 0, 0, 1, 0, 0, 0, 1, 0, 0, 0, 0,\n",
       "       0, 0, 0, 0, 0, 0, 1, 0, 0, 0, 0, 0, 1, 0, 1, 0, 0, 0, 0, 0, 0, 1,\n",
       "       0, 0, 0, 1, 0, 1, 1, 1, 0, 1, 0, 0, 0, 0, 0, 0, 0, 0, 0, 0, 0, 0,\n",
       "       0, 0, 1, 0, 0, 0, 0, 0, 0, 0, 0, 0, 0, 1, 1, 0, 0, 0, 0, 0, 0, 0,\n",
       "       1, 0, 0, 0, 0, 0, 0, 0, 0, 0, 0, 0, 0, 0, 0, 0, 0, 0, 0, 0, 0, 0,\n",
       "       0, 0, 0, 0, 0, 0, 0, 1, 1, 1, 0, 0, 0, 0, 0, 0, 0, 0, 0, 0, 0, 0,\n",
       "       0, 0, 0, 0, 0, 0, 1, 0, 0, 0, 0, 0, 0, 1, 1, 0, 0, 0, 0, 0, 0, 0,\n",
       "       1, 0, 0, 0, 0, 0, 0, 0, 0, 0, 0, 0, 0, 0, 0, 0, 0, 0, 1, 0, 0, 0,\n",
       "       0, 0, 0, 0, 0, 0, 0, 0, 0, 0, 0, 0, 0, 0, 0, 0, 0, 0, 0, 0, 0, 0,\n",
       "       0, 0, 0, 0, 0, 0, 0, 0, 0, 0, 1, 0, 0, 0, 0, 0, 0, 1, 0, 0, 1, 0,\n",
       "       0, 0, 0, 0, 0, 0, 0, 0, 0, 0, 0, 0, 0, 0, 0, 0, 0, 0, 0, 0, 0, 0,\n",
       "       0, 0, 0, 0, 0, 0, 0, 0, 0, 0, 0, 0, 0, 0, 1, 0, 0, 0, 1, 0, 0, 0,\n",
       "       0, 0, 0, 0, 0, 1, 0, 0, 0, 0, 0, 0, 1, 0, 0, 0, 0, 0, 0, 0, 0, 0,\n",
       "       0, 0, 0, 0, 0, 0, 0, 0, 0, 0, 0, 0, 0, 0, 0, 0, 0, 0, 0, 0, 0, 0,\n",
       "       0, 0, 0, 0, 1, 0, 0, 0, 0, 0, 0, 1, 0, 0, 0, 0, 0, 0, 0, 0, 0, 0,\n",
       "       1, 0, 0, 0, 0, 0, 0, 1, 0, 0, 0, 0, 0, 0, 0, 0, 0, 0, 0, 0, 0, 0,\n",
       "       0, 1, 0, 0, 1, 0, 0, 0, 0, 0, 0, 0, 0, 0, 0, 0, 0, 0, 0, 0, 0, 0,\n",
       "       0, 0, 0, 0, 0, 0, 0, 0, 0, 0, 1, 0, 0, 0, 0, 0, 0, 0, 0, 1, 0, 0,\n",
       "       1, 0, 0, 0, 0, 0, 0, 0, 0, 0, 0, 0, 0, 0, 0, 0, 0, 0, 1, 0, 0, 1,\n",
       "       0, 1, 0, 0, 0, 1, 0, 0, 0, 0, 0, 0, 0, 0, 1, 0, 0, 1, 1, 0, 0, 0,\n",
       "       0, 0, 0, 0, 0, 0, 1, 0, 0, 0, 0, 0, 0, 1, 0, 0, 0, 0, 0, 0, 0, 0,\n",
       "       0, 0, 0, 0, 0, 0, 0, 0, 0, 0, 0, 0, 0, 0, 0, 0, 0, 0, 1, 0, 0, 1,\n",
       "       0, 1, 0, 1, 0, 0, 0, 0, 0, 0, 0, 0, 0, 0, 0, 0, 0, 0, 1, 0, 1, 0,\n",
       "       0, 0, 0, 0, 0, 1, 0, 0, 1, 0, 0, 0, 0, 0, 0, 0])"
      ]
     },
     "execution_count": 30,
     "metadata": {},
     "output_type": "execute_result"
    }
   ],
   "source": [
    "labels_test"
   ]
  },
  {
   "cell_type": "code",
   "execution_count": 23,
   "metadata": {},
   "outputs": [
    {
     "name": "stdout",
     "output_type": "stream",
     "text": [
      "Saving best model with AUC: 0.8376316930690544\n",
      "Saving best model with AUC: 0.8385500369888523\n",
      "Saving best model with AUC: 0.8456672023672867\n",
      "Saving best model with AUC: 0.8510242085661079\n",
      "Saving best model with AUC: 0.8542129027320732\n",
      "Saving best model with AUC: 0.8549016606719215\n",
      "Saving best model with AUC: 0.8661003545827913\n"
     ]
    }
   ],
   "source": [
    "\n",
    "\n",
    "\n",
    "import torch\n",
    "import torch.nn as nn\n",
    "import torch.nn.functional as F\n",
    "\n",
    "# class ComplexEncodedClassifier(nn.Module):\n",
    "#     def __init__(self, in_features, out_features):\n",
    "#         super(ComplexEncodedClassifier, self).__init__()\n",
    "        \n",
    "#         # Assuming the input shape is (batch_size, 1, 768) where 1 is the number of channels\n",
    "#         self.conv1 = nn.Conv1d(1, 128, kernel_size=3, padding=1)  # Adjusted in_channels to 1\n",
    "#         self.bn1 = nn.BatchNorm1d(128)\n",
    "#         self.conv2 = nn.Conv1d(128, 256, kernel_size=3, padding=1)\n",
    "#         self.bn2 = nn.BatchNorm1d(256)\n",
    "#         self.pool = nn.MaxPool1d(2)  # Downsample\n",
    "        \n",
    "#         # Adjust the input features for the first linear layer according to the output of conv and pool layers\n",
    "#         self.fc1 = nn.Linear(256 * 192, 512)  # Adjusted the size\n",
    "#         self.dropout = nn.Dropout(0.5)\n",
    "#         self.fc2 = nn.Linear(512, 128)\n",
    "#         self.fc3 = nn.Linear(128, out_features)\n",
    "        \n",
    "#     def forward(self, x):\n",
    "#         # Assuming x is of shape (batch_size, 1, 768)\n",
    "#         x = F.relu(self.bn1(self.conv1(x)))\n",
    "#         x = self.pool(x)  # Adjust the shape in comments accordingly\n",
    "#         x = F.relu(self.bn2(self.conv2(x)))\n",
    "#         x = self.pool(x)  # Further adjust the shape in comments\n",
    "        \n",
    "#         # Flatten before passing to the dense layer\n",
    "#         x = x.view(x.size(0), -1)\n",
    "        \n",
    "#         x = F.relu(self.fc1(x))\n",
    "#         x = self.dropout(x)\n",
    "#         x = F.relu(self.fc2(x))\n",
    "#         x = self.fc3(x)  # No activation, assuming we're using BCEWithLogitsLoss or similar\n",
    "        \n",
    "#         return x\n",
    "\n",
    "class EncodedClassifier(nn.Module):\n",
    "    def __init__(self, in_features, out_features):\n",
    "        super(EncodedClassifier, self).__init__()\n",
    "\n",
    "        # Define the MLP architecture with 5 layers as an example\n",
    "        self.fc1 = nn.Linear(in_features, 1024)  # First layer\n",
    "        self.fc2 = nn.Linear(1024,768)          # Second layer\n",
    "        self.fc3 = nn.Linear(768,512)          # Third layer\n",
    "        self.fc4 = nn.Linear(512,256)           # Fourth layer\n",
    "        self.fc5 = nn.Linear(256,64)            # Fifth layer\n",
    "        self.fc6 = nn.Linear(64, out_features)  # Output layer\n",
    "        \n",
    "        self.dropout = nn.Dropout(0.15)  # Dropout layer to prevent overfitting\n",
    "        \n",
    "    def forward(self, x):\n",
    "        # Flatten the input in case it's not already flat\n",
    "        x = x.view(x.size(0), -1)\n",
    "        \n",
    "        # Forward pass through the network\n",
    "        x = F.relu(self.fc1(x))\n",
    "        x = self.dropout(x)\n",
    "        x = F.relu(self.fc2(x))\n",
    "        x = self.dropout(x)\n",
    "        x = F.relu(self.fc3(x))\n",
    "        x = self.dropout(x)\n",
    "        x = F.relu(self.fc4(x))\n",
    "        x = self.dropout(x)\n",
    "        x = F.relu(self.fc5(x))\n",
    "        x = self.fc6(x)  # No activation here, assuming we're using BCEWithLogitsLoss or similar\n",
    "        \n",
    "        return x\n",
    "\n",
    "\n",
    "\n",
    "\n",
    "\n",
    "\n",
    "#train the classifier\n",
    "\n",
    "classifier =EncodedClassifier(768, 1).to(DEVICE)\n",
    "\n",
    "optimizer = torch.optim.Adam(classifier.parameters(), lr=1e-4)\n",
    "criterion = nn.BCEWithLogitsLoss()\n",
    "\n",
    "epochs = 100\n",
    "\n",
    "#calculate the accuracy and roc_auc_score for each epoch. Save the best model based on the roc_auc_score\n",
    "\n",
    "from sklearn.metrics import accuracy_score, roc_auc_score\n",
    "\n",
    "best_auc = 0\n",
    "\n",
    "for epoch in range(epochs):\n",
    "    classifier.train()\n",
    "    train_loss = 0.0\n",
    "    for data, target in train_loader:\n",
    "        data, target = data.to(DEVICE), target.to(DEVICE)\n",
    "        optimizer.zero_grad()\n",
    "        output = classifier(data)\n",
    "        loss = criterion(output, target.unsqueeze(1).float())\n",
    "        loss.backward()\n",
    "        optimizer.step()\n",
    "        train_loss += loss.item() * data.size(0)\n",
    "    train_loss = train_loss / len(train_loader.dataset)\n",
    "    # print(f\"Epoch {epoch} - Train Loss: {train_loss}\")\n",
    "    \n",
    "    classifier.eval()\n",
    "    test_loss = 0.0\n",
    "    y_true = []\n",
    "    y_pred = []\n",
    "    with torch.no_grad():\n",
    "        for data, target in test_final_loader:\n",
    "            data, target = data.to(DEVICE), target.to(DEVICE)\n",
    "            output = classifier(data)\n",
    "            loss = criterion(output, target.unsqueeze(1).float())\n",
    "            test_loss += loss.item() * data.size(0)\n",
    "            y_true += target.cpu().numpy().tolist()\n",
    "            y_pred += torch.sigmoid(output).cpu().numpy().tolist()\n",
    "    test_loss = test_loss / len(test_final_loader.dataset)\n",
    "    y_pred = [i[0] for i in y_pred]\n",
    "    auc = roc_auc_score(y_true, y_pred)\n",
    "    accuracy = accuracy_score(y_true, [1 if i > 0.5 else 0 for i in y_pred])\n",
    "    # print(f\"Epoch {epoch} - Test Loss: {test_loss} - AUC: {auc} - Accuracy: {accuracy}\")\n",
    "    if auc > best_auc:\n",
    "        print(f\"Saving best model with AUC: {auc}\")\n",
    "        torch.save(\n",
    "            classifier.state_dict(),\n",
    "            \"./Seperated_dataset/nr-ahr/best_classifier_bert.pt\"\n",
    "        )\n",
    "        best_auc = auc\n",
    "\n",
    "#load the best classifier"
   ]
  },
  {
   "cell_type": "code",
   "execution_count": 24,
   "metadata": {},
   "outputs": [
    {
     "name": "stdout",
     "output_type": "stream",
     "text": [
      "AUC: 0.8661003545827913 - Accuracy: 0.8098360655737705 - Precision: 0.35947712418300654 - Recall: 0.7534246575342466\n"
     ]
    }
   ],
   "source": [
    "\n",
    "#import precision_score\n",
    "from sklearn.metrics import precision_score\n",
    "from sklearn.metrics import recall_score\n",
    "\n",
    "#load the best classifier\n",
    "classifier = EncodedClassifier(768, 1).to(DEVICE)\n",
    "classifier.load_state_dict(torch.load(\"./Seperated_dataset/nr-ahr/best_classifier_bert.pt\"))\n",
    "\n",
    "\n",
    "\n",
    "classifier.eval()\n",
    "y_true = []\n",
    "y_pred = []\n",
    "with torch.no_grad():\n",
    "    for data, target in test_final_loader:\n",
    "        data, target = data.to(DEVICE), target.to(DEVICE)\n",
    "        output = classifier(data)\n",
    "        y_true += target.cpu().numpy().tolist()\n",
    "        y_pred += torch.sigmoid(output).cpu().numpy().tolist()\n",
    "\n",
    "y_pred = [i[0] for i in y_pred]\n",
    "auc = roc_auc_score(y_true, y_pred)\n",
    "accuracy = accuracy_score(y_true, [1 if i > 0.5 else 0 for i in y_pred])\n",
    "precision = precision_score(y_true, [1 if i > 0.5 else 0 for i in y_pred])\n",
    "recall = recall_score(y_true, [1 if i > 0.5 else 0 for i in y_pred])\n",
    "\n",
    "\n",
    "print(f\"AUC: {auc} - Accuracy: {accuracy} - Precision: {precision} - Recall: {recall}\")"
   ]
  },
  {
   "cell_type": "code",
   "execution_count": 62,
   "metadata": {},
   "outputs": [],
   "source": [
    "y_pred_gae=np.load('./Seperated_dataset/nr-ahr/pred_gae.npy')"
   ]
  },
  {
   "cell_type": "code",
   "execution_count": 63,
   "metadata": {},
   "outputs": [
    {
     "name": "stdout",
     "output_type": "stream",
     "text": [
      "AUC: 0.8338888888888889 - Accuracy: 0.7684210526315789 - Precision: 0.85 - Recall: 0.68\n"
     ]
    }
   ],
   "source": [
    "# average the predictions\n",
    "\n",
    "y_pred_avg = [(y_pred[i]+y_pred_gae[i])/2 for i in range(len(y_pred))]\n",
    "auc = roc_auc_score(y_true, y_pred_avg)\n",
    "accuracy = accuracy_score(y_true, [1 if i > 0.5 else 0 for i in y_pred_avg])\n",
    "precision = precision_score(y_true, [1 if i > 0.5 else 0 for i in y_pred_avg])\n",
    "recall = recall_score(y_true, [1 if i > 0.5 else 0 for i in y_pred_avg])\n",
    "\n",
    "print(f\"AUC: {auc} - Accuracy: {accuracy} - Precision: {precision} - Recall: {recall}\")"
   ]
  },
  {
   "cell_type": "code",
   "execution_count": 66,
   "metadata": {},
   "outputs": [
    {
     "data": {
      "image/png": "[encoded data removed]",
      "text/plain": [
       "<Figure size 640x480 with 1 Axes>"
      ]
     },
     "metadata": {},
     "output_type": "display_data"
    }
   ],
   "source": [
    "Performances=[0.881,0.847,0.71,0.89]\n",
    "method_names=['BERT','GAE','GNN','SOTA']\n",
    "\n",
    "\n",
    "import matplotlib.pyplot as plt\n",
    "import numpy as np\n",
    "\n",
    "fig = plt.figure()\n",
    "\n",
    "ax = fig.add_axes([0,0,1,1])\n",
    "\n",
    "#give headings to each of the plots\n",
    "ax.set_ylabel('Performance')\n",
    "ax.set_xlabel('Method')\n",
    "ax.set_title('Performance of different methods')\n",
    "\n",
    "#plot the bar chart\n",
    "\n",
    "ax.bar(method_names,Performances)\n",
    "\n",
    "#display the plot\n",
    "\n",
    "\n",
    "\n",
    "\n",
    "plt.show()\n"
   ]
  }
 ],
 "metadata": {
  "kernelspec": {
   "display_name": "thesis",
   "language": "python",
   "name": "python3"
  },
  "language_info": {
   "codemirror_mode": {
    "name": "ipython",
    "version": 3
   },
   "file_extension": ".py",
   "mimetype": "text/x-python",
   "name": "python",
   "nbconvert_exporter": "python",
   "pygments_lexer": "ipython3",
   "version": "3.11.5"
  }
 },
 "nbformat": 4,
 "nbformat_minor": 2
}
